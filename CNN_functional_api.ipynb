{
 "cells": [
  {
   "cell_type": "code",
   "execution_count": 1,
   "metadata": {},
   "outputs": [],
   "source": [
    "%config Completer.use_jedi = False"
   ]
  },
  {
   "cell_type": "code",
   "execution_count": 2,
   "metadata": {},
   "outputs": [],
   "source": [
    "import tensorflow as tf\n",
    "from tensorflow import keras\n",
    "from tensorflow.keras.models import Sequential\n",
    "from tensorflow.keras.layers import Dense, MaxPooling2D, Conv2D, Flatten, InputLayer, BatchNormalization, Dropout\n",
    "from tensorflow.keras import regularizers\n",
    "from tensorflow.keras.datasets import cifar10\n",
    "from sklearn.metrics import confusion_matrix\n",
    "\n",
    "import matplotlib.pyplot as plt\n",
    "import numpy as np"
   ]
  },
  {
   "cell_type": "code",
   "execution_count": 3,
   "metadata": {},
   "outputs": [],
   "source": [
    "(x_train, y_train), (x_test, y_test) = cifar10.load_data()"
   ]
  },
  {
   "cell_type": "markdown",
   "metadata": {},
   "source": [
    "### CIFAR 10 classes     airplane : 0 ,    automobile : 1  ,   bird : 2  ,   cat : 3  ,   deer : 4  ,   dog : 5  ,  frog : 6   ,  horse : 7  ,   ship : 8   ,  truck : 9"
   ]
  },
  {
   "cell_type": "code",
   "execution_count": 4,
   "metadata": {},
   "outputs": [
    {
     "name": "stdout",
     "output_type": "stream",
     "text": [
      "(50000, 32, 32, 3)\n",
      "(50000, 1)\n",
      "(10000, 32, 32, 3)\n",
      "(10000, 1)\n"
     ]
    }
   ],
   "source": [
    "print(x_train.shape)\n",
    "print(y_train.shape)\n",
    "print(x_test.shape)\n",
    "print(y_test.shape)"
   ]
  },
  {
   "cell_type": "code",
   "execution_count": 5,
   "metadata": {},
   "outputs": [],
   "source": [
    "x_train = x_train.astype(\"float32\") / 255.0\n",
    "x_test = x_test.astype(\"float32\") / 255.0"
   ]
  },
  {
   "cell_type": "markdown",
   "metadata": {},
   "source": [
    "## As we are using CNN, we don't need to flatten the input images before giving into the model"
   ]
  },
  {
   "cell_type": "code",
   "execution_count": 6,
   "metadata": {},
   "outputs": [
    {
     "name": "stdout",
     "output_type": "stream",
     "text": [
      "(50000, 32, 32, 3)\n",
      "(10000, 32, 32, 3)\n"
     ]
    }
   ],
   "source": [
    "print(x_train.shape)\n",
    "print(x_test.shape)"
   ]
  },
  {
   "cell_type": "code",
   "execution_count": 7,
   "metadata": {},
   "outputs": [],
   "source": [
    "def my_model():\n",
    "    inputs = keras.Input(shape=(32, 32, 3))\n",
    "    x = Conv2D(32, 3)(inputs)\n",
    "    x = BatchNormalization()(x)\n",
    "    x = keras.activations.relu(x)\n",
    "    x = MaxPooling2D()(x)\n",
    "    x = Conv2D(64, 3)(x)\n",
    "    x = BatchNormalization()(x)\n",
    "    x = keras.activations.relu(x)\n",
    "    x = MaxPooling2D()(x)\n",
    "    x = Conv2D(128, 3)(x)\n",
    "    x = BatchNormalization()(x)\n",
    "    x = keras.activations.relu(x)\n",
    "    x = Flatten()(x)\n",
    "    x = Dense(64, activation=\"relu\")(x)\n",
    "    outputs = Dense(10)(x)\n",
    "    model = keras.Model(inputs=inputs, outputs=outputs)\n",
    "    return model"
   ]
  },
  {
   "cell_type": "code",
   "execution_count": 8,
   "metadata": {},
   "outputs": [],
   "source": [
    "model = my_model()"
   ]
  },
  {
   "cell_type": "code",
   "execution_count": 9,
   "metadata": {},
   "outputs": [
    {
     "name": "stdout",
     "output_type": "stream",
     "text": [
      "Model: \"model\"\n",
      "_________________________________________________________________\n",
      "Layer (type)                 Output Shape              Param #   \n",
      "=================================================================\n",
      "input_1 (InputLayer)         [(None, 32, 32, 3)]       0         \n",
      "_________________________________________________________________\n",
      "conv2d (Conv2D)              (None, 30, 30, 32)        896       \n",
      "_________________________________________________________________\n",
      "batch_normalization (BatchNo (None, 30, 30, 32)        128       \n",
      "_________________________________________________________________\n",
      "tf.nn.relu (TFOpLambda)      (None, 30, 30, 32)        0         \n",
      "_________________________________________________________________\n",
      "max_pooling2d (MaxPooling2D) (None, 15, 15, 32)        0         \n",
      "_________________________________________________________________\n",
      "conv2d_1 (Conv2D)            (None, 13, 13, 64)        18496     \n",
      "_________________________________________________________________\n",
      "batch_normalization_1 (Batch (None, 13, 13, 64)        256       \n",
      "_________________________________________________________________\n",
      "tf.nn.relu_1 (TFOpLambda)    (None, 13, 13, 64)        0         \n",
      "_________________________________________________________________\n",
      "max_pooling2d_1 (MaxPooling2 (None, 6, 6, 64)          0         \n",
      "_________________________________________________________________\n",
      "conv2d_2 (Conv2D)            (None, 4, 4, 128)         73856     \n",
      "_________________________________________________________________\n",
      "batch_normalization_2 (Batch (None, 4, 4, 128)         512       \n",
      "_________________________________________________________________\n",
      "tf.nn.relu_2 (TFOpLambda)    (None, 4, 4, 128)         0         \n",
      "_________________________________________________________________\n",
      "flatten (Flatten)            (None, 2048)              0         \n",
      "_________________________________________________________________\n",
      "dense (Dense)                (None, 64)                131136    \n",
      "_________________________________________________________________\n",
      "dense_1 (Dense)              (None, 10)                650       \n",
      "=================================================================\n",
      "Total params: 225,930\n",
      "Trainable params: 225,482\n",
      "Non-trainable params: 448\n",
      "_________________________________________________________________\n"
     ]
    }
   ],
   "source": [
    "model.summary()"
   ]
  },
  {
   "cell_type": "markdown",
   "metadata": {},
   "source": [
    "### Keras Model Traiing APIs - https://keras.io/api/models/model_training_apis/"
   ]
  },
  {
   "cell_type": "code",
   "execution_count": 10,
   "metadata": {},
   "outputs": [],
   "source": [
    "model.compile(\n",
    "    loss = keras.losses.SparseCategoricalCrossentropy(from_logits=True),\n",
    "    optimizer = keras.optimizers.Adam(),\n",
    "    metrics= ['accuracy']\n",
    ")"
   ]
  },
  {
   "cell_type": "code",
   "execution_count": 17,
   "metadata": {},
   "outputs": [],
   "source": [
    "EPOCHS = 100"
   ]
  },
  {
   "cell_type": "code",
   "execution_count": 18,
   "metadata": {},
   "outputs": [
    {
     "name": "stdout",
     "output_type": "stream",
     "text": [
      "Epoch 1/100\n",
      "782/782 - 4s - loss: 0.0499 - accuracy: 0.9830\n",
      "Epoch 2/100\n",
      "782/782 - 4s - loss: 0.0410 - accuracy: 0.9854\n",
      "Epoch 3/100\n",
      "782/782 - 3s - loss: 0.0375 - accuracy: 0.9871\n",
      "Epoch 4/100\n",
      "782/782 - 3s - loss: 0.0463 - accuracy: 0.9846\n",
      "Epoch 5/100\n",
      "782/782 - 3s - loss: 0.0431 - accuracy: 0.9851\n",
      "Epoch 6/100\n",
      "782/782 - 3s - loss: 0.0392 - accuracy: 0.9868\n",
      "Epoch 7/100\n",
      "782/782 - 3s - loss: 0.0416 - accuracy: 0.9854\n",
      "Epoch 8/100\n",
      "782/782 - 4s - loss: 0.0367 - accuracy: 0.9875\n",
      "Epoch 9/100\n",
      "782/782 - 3s - loss: 0.0379 - accuracy: 0.9865\n",
      "Epoch 10/100\n",
      "782/782 - 4s - loss: 0.0401 - accuracy: 0.9866\n",
      "Epoch 11/100\n",
      "782/782 - 3s - loss: 0.0320 - accuracy: 0.9896\n",
      "Epoch 12/100\n",
      "782/782 - 4s - loss: 0.0342 - accuracy: 0.9884\n",
      "Epoch 13/100\n",
      "782/782 - 4s - loss: 0.0409 - accuracy: 0.9861\n",
      "Epoch 14/100\n",
      "782/782 - 4s - loss: 0.0299 - accuracy: 0.9899\n",
      "Epoch 15/100\n",
      "782/782 - 4s - loss: 0.0353 - accuracy: 0.9880\n",
      "Epoch 16/100\n",
      "782/782 - 4s - loss: 0.0338 - accuracy: 0.9882\n",
      "Epoch 17/100\n",
      "782/782 - 4s - loss: 0.0363 - accuracy: 0.9883\n",
      "Epoch 18/100\n",
      "782/782 - 4s - loss: 0.0385 - accuracy: 0.9869\n",
      "Epoch 19/100\n",
      "782/782 - 4s - loss: 0.0274 - accuracy: 0.9907\n",
      "Epoch 20/100\n",
      "782/782 - 4s - loss: 0.0345 - accuracy: 0.9875\n",
      "Epoch 21/100\n",
      "782/782 - 4s - loss: 0.0301 - accuracy: 0.9893\n",
      "Epoch 22/100\n",
      "782/782 - 4s - loss: 0.0302 - accuracy: 0.9896\n",
      "Epoch 23/100\n",
      "782/782 - 4s - loss: 0.0332 - accuracy: 0.9884\n",
      "Epoch 24/100\n",
      "782/782 - 4s - loss: 0.0291 - accuracy: 0.9903\n",
      "Epoch 25/100\n",
      "782/782 - 4s - loss: 0.0303 - accuracy: 0.9896\n",
      "Epoch 26/100\n",
      "782/782 - 4s - loss: 0.0275 - accuracy: 0.9906\n",
      "Epoch 27/100\n",
      "782/782 - 4s - loss: 0.0419 - accuracy: 0.9865\n",
      "Epoch 28/100\n",
      "782/782 - 4s - loss: 0.0235 - accuracy: 0.9919\n",
      "Epoch 29/100\n",
      "782/782 - 4s - loss: 0.0232 - accuracy: 0.9916\n",
      "Epoch 30/100\n",
      "782/782 - 4s - loss: 0.0269 - accuracy: 0.9906\n",
      "Epoch 31/100\n",
      "782/782 - 4s - loss: 0.0317 - accuracy: 0.9897\n",
      "Epoch 32/100\n",
      "782/782 - 4s - loss: 0.0287 - accuracy: 0.9901\n",
      "Epoch 33/100\n",
      "782/782 - 4s - loss: 0.0277 - accuracy: 0.9902\n",
      "Epoch 34/100\n",
      "782/782 - 4s - loss: 0.0279 - accuracy: 0.9908\n",
      "Epoch 35/100\n",
      "782/782 - 4s - loss: 0.0263 - accuracy: 0.9906\n",
      "Epoch 36/100\n",
      "782/782 - 4s - loss: 0.0178 - accuracy: 0.9936\n",
      "Epoch 37/100\n",
      "782/782 - 4s - loss: 0.0368 - accuracy: 0.9877\n",
      "Epoch 38/100\n",
      "782/782 - 4s - loss: 0.0223 - accuracy: 0.9928\n",
      "Epoch 39/100\n",
      "782/782 - 4s - loss: 0.0224 - accuracy: 0.9920\n",
      "Epoch 40/100\n",
      "782/782 - 4s - loss: 0.0254 - accuracy: 0.9914\n",
      "Epoch 41/100\n",
      "782/782 - 4s - loss: 0.0254 - accuracy: 0.9917\n",
      "Epoch 42/100\n",
      "782/782 - 4s - loss: 0.0234 - accuracy: 0.9919\n",
      "Epoch 43/100\n",
      "782/782 - 4s - loss: 0.0281 - accuracy: 0.9908\n",
      "Epoch 44/100\n",
      "782/782 - 4s - loss: 0.0202 - accuracy: 0.9929\n",
      "Epoch 45/100\n",
      "782/782 - 4s - loss: 0.0229 - accuracy: 0.9924\n",
      "Epoch 46/100\n",
      "782/782 - 4s - loss: 0.0302 - accuracy: 0.9902\n",
      "Epoch 47/100\n",
      "782/782 - 4s - loss: 0.0248 - accuracy: 0.9913\n",
      "Epoch 48/100\n",
      "782/782 - 4s - loss: 0.0183 - accuracy: 0.9940\n",
      "Epoch 49/100\n",
      "782/782 - 4s - loss: 0.0220 - accuracy: 0.9929\n",
      "Epoch 50/100\n",
      "782/782 - 4s - loss: 0.0233 - accuracy: 0.9917\n",
      "Epoch 51/100\n",
      "782/782 - 4s - loss: 0.0223 - accuracy: 0.9927\n",
      "Epoch 52/100\n",
      "782/782 - 4s - loss: 0.0176 - accuracy: 0.9942\n",
      "Epoch 53/100\n",
      "782/782 - 4s - loss: 0.0261 - accuracy: 0.9914\n",
      "Epoch 54/100\n",
      "782/782 - 3s - loss: 0.0207 - accuracy: 0.9934\n",
      "Epoch 55/100\n",
      "782/782 - 4s - loss: 0.0259 - accuracy: 0.9911\n",
      "Epoch 56/100\n",
      "782/782 - 4s - loss: 0.0222 - accuracy: 0.9929\n",
      "Epoch 57/100\n",
      "782/782 - 4s - loss: 0.0199 - accuracy: 0.9932\n",
      "Epoch 58/100\n",
      "782/782 - 4s - loss: 0.0224 - accuracy: 0.9924\n",
      "Epoch 59/100\n",
      "782/782 - 4s - loss: 0.0233 - accuracy: 0.9923\n",
      "Epoch 60/100\n",
      "782/782 - 4s - loss: 0.0182 - accuracy: 0.9945\n",
      "Epoch 61/100\n",
      "782/782 - 4s - loss: 0.0197 - accuracy: 0.9933\n",
      "Epoch 62/100\n",
      "782/782 - 4s - loss: 0.0200 - accuracy: 0.9933\n",
      "Epoch 63/100\n",
      "782/782 - 4s - loss: 0.0247 - accuracy: 0.9919\n",
      "Epoch 64/100\n",
      "782/782 - 4s - loss: 0.0168 - accuracy: 0.9944\n",
      "Epoch 65/100\n",
      "782/782 - 4s - loss: 0.0210 - accuracy: 0.9926\n",
      "Epoch 66/100\n",
      "782/782 - 4s - loss: 0.0244 - accuracy: 0.9919\n",
      "Epoch 67/100\n",
      "782/782 - 4s - loss: 0.0205 - accuracy: 0.9928\n",
      "Epoch 68/100\n",
      "782/782 - 4s - loss: 0.0160 - accuracy: 0.9945\n",
      "Epoch 69/100\n",
      "782/782 - 4s - loss: 0.0206 - accuracy: 0.9933\n",
      "Epoch 70/100\n",
      "782/782 - 4s - loss: 0.0184 - accuracy: 0.9935\n",
      "Epoch 71/100\n",
      "782/782 - 4s - loss: 0.0164 - accuracy: 0.9941\n",
      "Epoch 72/100\n",
      "782/782 - 4s - loss: 0.0190 - accuracy: 0.9938\n",
      "Epoch 73/100\n",
      "782/782 - 4s - loss: 0.0199 - accuracy: 0.9935\n",
      "Epoch 74/100\n",
      "782/782 - 4s - loss: 0.0241 - accuracy: 0.9922\n",
      "Epoch 75/100\n",
      "782/782 - 4s - loss: 0.0130 - accuracy: 0.9958\n",
      "Epoch 76/100\n",
      "782/782 - 4s - loss: 0.0205 - accuracy: 0.9938\n",
      "Epoch 77/100\n",
      "782/782 - 3s - loss: 0.0215 - accuracy: 0.9933\n",
      "Epoch 78/100\n",
      "782/782 - 4s - loss: 0.0151 - accuracy: 0.9949\n",
      "Epoch 79/100\n",
      "782/782 - 4s - loss: 0.0170 - accuracy: 0.9945\n",
      "Epoch 80/100\n",
      "782/782 - 4s - loss: 0.0179 - accuracy: 0.9940\n",
      "Epoch 81/100\n",
      "782/782 - 4s - loss: 0.0160 - accuracy: 0.9949\n",
      "Epoch 82/100\n",
      "782/782 - 4s - loss: 0.0162 - accuracy: 0.9947\n",
      "Epoch 83/100\n",
      "782/782 - 4s - loss: 0.0214 - accuracy: 0.9933\n",
      "Epoch 84/100\n",
      "782/782 - 4s - loss: 0.0126 - accuracy: 0.9958\n",
      "Epoch 85/100\n",
      "782/782 - 4s - loss: 0.0181 - accuracy: 0.9939\n",
      "Epoch 86/100\n",
      "782/782 - 4s - loss: 0.0165 - accuracy: 0.9944\n",
      "Epoch 87/100\n",
      "782/782 - 4s - loss: 0.0186 - accuracy: 0.9942\n",
      "Epoch 88/100\n",
      "782/782 - 4s - loss: 0.0176 - accuracy: 0.9942\n",
      "Epoch 89/100\n",
      "782/782 - 4s - loss: 0.0175 - accuracy: 0.9944\n",
      "Epoch 90/100\n",
      "782/782 - 4s - loss: 0.0144 - accuracy: 0.9950\n",
      "Epoch 91/100\n",
      "782/782 - 4s - loss: 0.0194 - accuracy: 0.9936\n",
      "Epoch 92/100\n",
      "782/782 - 4s - loss: 0.0201 - accuracy: 0.9936\n",
      "Epoch 93/100\n",
      "782/782 - 4s - loss: 0.0119 - accuracy: 0.9958\n",
      "Epoch 94/100\n",
      "782/782 - 4s - loss: 0.0149 - accuracy: 0.9947\n",
      "Epoch 95/100\n",
      "782/782 - 4s - loss: 0.0165 - accuracy: 0.9946\n",
      "Epoch 96/100\n",
      "782/782 - 4s - loss: 0.0158 - accuracy: 0.9948\n",
      "Epoch 97/100\n",
      "782/782 - 4s - loss: 0.0162 - accuracy: 0.9947\n",
      "Epoch 98/100\n",
      "782/782 - 4s - loss: 0.0191 - accuracy: 0.9935\n",
      "Epoch 99/100\n",
      "782/782 - 4s - loss: 0.0125 - accuracy: 0.9959\n",
      "Epoch 100/100\n",
      "782/782 - 4s - loss: 0.0192 - accuracy: 0.9940\n"
     ]
    }
   ],
   "source": [
    "history = model.fit(x_train, y_train, batch_size=64, epochs=EPOCHS, verbose=2)"
   ]
  },
  {
   "cell_type": "code",
   "execution_count": 19,
   "metadata": {},
   "outputs": [
    {
     "name": "stdout",
     "output_type": "stream",
     "text": [
      "[0.9829599857330322, 0.9853600263595581, 0.9871399998664856, 0.9846000075340271, 0.9850800037384033, 0.9867799878120422, 0.9853799939155579, 0.9874600172042847, 0.9864599704742432, 0.9865999817848206, 0.9896399974822998, 0.9883800148963928, 0.9861199855804443, 0.9898599982261658, 0.9879800081253052, 0.9881600141525269, 0.988319993019104, 0.9868999719619751, 0.9906799793243408, 0.9875400066375732, 0.9892799854278564, 0.989579975605011, 0.9883599877357483, 0.9902999997138977, 0.9895600080490112, 0.990559995174408, 0.9865400195121765, 0.9919000267982483, 0.991599977016449, 0.990559995174408, 0.9897000193595886, 0.9901000261306763, 0.9901800155639648, 0.9908400177955627, 0.990559995174408, 0.9935799837112427, 0.9877200126647949, 0.9927999973297119, 0.9920200109481812, 0.991379976272583, 0.9917200207710266, 0.991919994354248, 0.9908000230789185, 0.992900013923645, 0.99235999584198, 0.9901800155639648, 0.9913399815559387, 0.9940000176429749, 0.9928600192070007, 0.9916599988937378, 0.9926999807357788, 0.9942200183868408, 0.9914000034332275, 0.9933800101280212, 0.9911199808120728, 0.9929199814796448, 0.993179976940155, 0.9924399852752686, 0.9922599792480469, 0.9945399761199951, 0.993340015411377, 0.9933199882507324, 0.9919400215148926, 0.9944000244140625, 0.9926400184631348, 0.9918799996376038, 0.9927800297737122, 0.9944599866867065, 0.9933199882507324, 0.9934999942779541, 0.9941200017929077, 0.9938399791717529, 0.9935200214385986, 0.9922000169754028, 0.9958199858665466, 0.9938399791717529, 0.9933199882507324, 0.9948800206184387, 0.9944999814033508, 0.9940000176429749, 0.9948800206184387, 0.9946600198745728, 0.9932799935340881, 0.9957799911499023, 0.9939000010490417, 0.9943600296974182, 0.994159996509552, 0.9941999912261963, 0.9944000244140625, 0.9950399994850159, 0.9936400055885315, 0.993619978427887, 0.9958400130271912, 0.9947199821472168, 0.9946200251579285, 0.9947999715805054, 0.9947199821472168, 0.9934999942779541, 0.9958999752998352, 0.9939799904823303]\n",
      "[0.0499192513525486, 0.04103068262338638, 0.037451259791851044, 0.04634268581867218, 0.04314665496349335, 0.03924688324332237, 0.04162019491195679, 0.03665822371840477, 0.037947624921798706, 0.04010843485593796, 0.0319550558924675, 0.034193746745586395, 0.04090041294693947, 0.02992386184632778, 0.03527815639972687, 0.033788517117500305, 0.036331646144390106, 0.03847498446702957, 0.027421938255429268, 0.03452710062265396, 0.03012077882885933, 0.030158083885908127, 0.03317492455244064, 0.02911454625427723, 0.030257346108555794, 0.0274810791015625, 0.04185022786259651, 0.023499373346567154, 0.023214776068925858, 0.026891350746154785, 0.03169698640704155, 0.028696218505501747, 0.02774665132164955, 0.02790653333067894, 0.026267865672707558, 0.01778295449912548, 0.03678819537162781, 0.022260768339037895, 0.022408485412597656, 0.02544749528169632, 0.025354130193591118, 0.02335042878985405, 0.028086408972740173, 0.020232634618878365, 0.022868404164910316, 0.030172323808073997, 0.024779167026281357, 0.01828773505985737, 0.02203032188117504, 0.023266032338142395, 0.022307267412543297, 0.017560146749019623, 0.02607789821922779, 0.020685086026787758, 0.02589704841375351, 0.022175606340169907, 0.019920513033866882, 0.02236471138894558, 0.023291129618883133, 0.018249090760946274, 0.019651487469673157, 0.0199921652674675, 0.024683037772774696, 0.016799351200461388, 0.02099139802157879, 0.024409402161836624, 0.020480388775467873, 0.016006626188755035, 0.020581984892487526, 0.01843593455851078, 0.016385236755013466, 0.019012684002518654, 0.019913554191589355, 0.024085117504000664, 0.01297016628086567, 0.02046789415180683, 0.021459292620420456, 0.015091783367097378, 0.017004260793328285, 0.017862560227513313, 0.015960460528731346, 0.016240959987044334, 0.021358488127589226, 0.012624112889170647, 0.01813243143260479, 0.01647006720304489, 0.018591154366731644, 0.0176220815628767, 0.017534978687763214, 0.014422789216041565, 0.019411426037549973, 0.02005554735660553, 0.011868977919220924, 0.014943127520382404, 0.016461027786135674, 0.015827614814043045, 0.016202455386519432, 0.019133135676383972, 0.012539233081042767, 0.01918521337211132]\n"
     ]
    }
   ],
   "source": [
    "acc = history.history['accuracy']\n",
    "loss=history.history['loss']\n",
    "print(acc)\n",
    "print(loss)"
   ]
  },
  {
   "cell_type": "code",
   "execution_count": 20,
   "metadata": {},
   "outputs": [
    {
     "data": {
      "text/plain": [
       "Text(0.5, 1.0, 'Training Accuracy and Loss')"
      ]
     },
     "execution_count": 20,
     "metadata": {},
     "output_type": "execute_result"
    },
    {
     "data": {
      "image/png": "[encoded data removed]",
      "text/plain": [
       "<Figure size 576x576 with 1 Axes>"
      ]
     },
     "metadata": {
      "needs_background": "light"
     },
     "output_type": "display_data"
    }
   ],
   "source": [
    "epochs_range = range(EPOCHS)\n",
    "\n",
    "plt.figure(figsize=(8, 8))\n",
    "plt.plot(epochs_range, acc, label='Training Accuracy')\n",
    "plt.plot(epochs_range, loss, label='Loss')\n",
    "plt.legend(loc='center right')\n",
    "plt.title('Training Accuracy and Loss')"
   ]
  },
  {
   "cell_type": "code",
   "execution_count": 21,
   "metadata": {},
   "outputs": [
    {
     "name": "stdout",
     "output_type": "stream",
     "text": [
      "313/313 - 1s - loss: 3.0558 - accuracy: 0.7226\n"
     ]
    },
    {
     "data": {
      "text/plain": [
       "[3.0557825565338135, 0.722599983215332]"
      ]
     },
     "execution_count": 21,
     "metadata": {},
     "output_type": "execute_result"
    }
   ],
   "source": [
    "model.evaluate(x_test, y_test, batch_size=32, verbose=2)"
   ]
  },
  {
   "cell_type": "code",
   "execution_count": 22,
   "metadata": {},
   "outputs": [],
   "source": [
    "y_pred = model.predict(x_test)"
   ]
  },
  {
   "cell_type": "code",
   "execution_count": 23,
   "metadata": {},
   "outputs": [
    {
     "data": {
      "text/plain": [
       "array([[-13.96734   , -20.820261  , -12.712331  , ..., -31.296549  ,\n",
       "          5.9629674 , -11.16504   ],\n",
       "       [ -9.668589  ,  24.948889  , -21.386162  , ..., -36.931786  ,\n",
       "         28.680676  ,   1.8413593 ],\n",
       "       [  1.410132  ,   4.760665  , -14.186289  , ..., -16.214512  ,\n",
       "         16.232334  ,  -0.47638738],\n",
       "       ...,\n",
       "       [-17.219072  , -35.145912  ,  -1.8136547 , ...,   0.73660964,\n",
       "        -15.462001  , -20.743279  ],\n",
       "       [  9.187007  ,  17.22676   , -28.133339  , ..., -38.249496  ,\n",
       "        -35.436375  ,  -1.5484008 ],\n",
       "       [-22.32392   , -17.459713  ,  -6.2615714 , ...,  27.505043  ,\n",
       "        -20.939371  , -16.639149  ]], dtype=float32)"
      ]
     },
     "execution_count": 23,
     "metadata": {},
     "output_type": "execute_result"
    }
   ],
   "source": [
    "y_pred"
   ]
  },
  {
   "cell_type": "code",
   "execution_count": 24,
   "metadata": {},
   "outputs": [],
   "source": [
    "model.save('saved_models/cnn_functional_api_model.h5')"
   ]
  }
 ],
 "metadata": {
  "kernelspec": {
   "display_name": "tfgpu",
   "language": "python",
   "name": "tfgpu"
  },
  "language_info": {
   "codemirror_mode": {
    "name": "ipython",
    "version": 3
   },
   "file_extension": ".py",
   "mimetype": "text/x-python",
   "name": "python",
   "nbconvert_exporter": "python",
   "pygments_lexer": "ipython3",
   "version": "3.7.11"
  }
 },
 "nbformat": 4,
 "nbformat_minor": 4
}
