{
 "cells": [
  {
   "cell_type": "code",
   "execution_count": 1,
   "metadata": {},
   "outputs": [],
   "source": [
    "%config Completer.use_jedi = False"
   ]
  },
  {
   "cell_type": "code",
   "execution_count": 2,
   "metadata": {},
   "outputs": [],
   "source": [
    "import tensorflow as tf\n",
    "from tensorflow import keras\n",
    "from tensorflow.keras.models import Sequential\n",
    "from tensorflow.keras.layers import Dense, MaxPooling2D, Conv2D, Flatten, InputLayer, BatchNormalization, Dropout\n",
    "from tensorflow.keras import regularizers\n",
    "from tensorflow.keras.datasets import cifar10\n",
    "from sklearn.metrics import confusion_matrix\n",
    "\n",
    "import matplotlib.pyplot as plt\n",
    "import numpy as np"
   ]
  },
  {
   "cell_type": "code",
   "execution_count": 3,
   "metadata": {},
   "outputs": [],
   "source": [
    "(x_train, y_train), (x_test, y_test) = cifar10.load_data()"
   ]
  },
  {
   "cell_type": "markdown",
   "metadata": {},
   "source": [
    "### CIFAR 10 classes     airplane : 0 ,    automobile : 1  ,   bird : 2  ,   cat : 3  ,   deer : 4  ,   dog : 5  ,  frog : 6   ,  horse : 7  ,   ship : 8   ,  truck : 9"
   ]
  },
  {
   "cell_type": "code",
   "execution_count": 4,
   "metadata": {},
   "outputs": [
    {
     "name": "stdout",
     "output_type": "stream",
     "text": [
      "(50000, 32, 32, 3)\n",
      "(50000, 1)\n",
      "(10000, 32, 32, 3)\n",
      "(10000, 1)\n"
     ]
    }
   ],
   "source": [
    "print(x_train.shape)\n",
    "print(y_train.shape)\n",
    "print(x_test.shape)\n",
    "print(y_test.shape)"
   ]
  },
  {
   "cell_type": "code",
   "execution_count": 5,
   "metadata": {},
   "outputs": [],
   "source": [
    "x_train = x_train.astype(\"float32\") / 255.0\n",
    "x_test = x_test.astype(\"float32\") / 255.0"
   ]
  },
  {
   "cell_type": "markdown",
   "metadata": {},
   "source": [
    "## As we are using CNN, we don't need to flatten the input images before giving into the model"
   ]
  },
  {
   "cell_type": "code",
   "execution_count": 6,
   "metadata": {},
   "outputs": [
    {
     "name": "stdout",
     "output_type": "stream",
     "text": [
      "(50000, 32, 32, 3)\n",
      "(10000, 32, 32, 3)\n"
     ]
    }
   ],
   "source": [
    "print(x_train.shape)\n",
    "print(x_test.shape)"
   ]
  },
  {
   "cell_type": "code",
   "execution_count": 9,
   "metadata": {},
   "outputs": [],
   "source": [
    "def my_model():\n",
    "    inputs = InputLayer(input_shape=(32, 32, 3))\n",
    "    x = Conv2D(32, 3)(inputs)\n",
    "    x = BatchNormalization()(x)\n",
    "    x = keras.activations.relu(x)\n",
    "    x = MaxPooling2D()(x)\n",
    "    x = Conv2D(64, 3)(x)\n",
    "    x = BatchNormalization()(x)\n",
    "    x = keras.activations.relu(x)\n",
    "    x = MaxPooling2D()(x)\n",
    "    x = Conv2D(128, 3)(x)\n",
    "    x = BatchNormalization()(x)\n",
    "    x = keras.activations.relu(x)\n",
    "    x = Flatten()(x)\n",
    "    x = Dense(64, activation=\"relu\")(x)\n",
    "    outputs = Dense(10)(x)\n",
    "    model = keras.Model(inputs=inputs, outputs=outputs)\n",
    "    return "
   ]
  },
  {
   "cell_type": "code",
   "execution_count": 10,
   "metadata": {},
   "outputs": [
    {
     "ename": "TypeError",
     "evalue": "Inputs to a layer should be tensors. Got: <tensorflow.python.keras.engine.input_layer.InputLayer object at 0x00000185057A2B48>",
     "output_type": "error",
     "traceback": [
      "\u001b[1;31m---------------------------------------------------------------------------\u001b[0m",
      "\u001b[1;31mTypeError\u001b[0m                                 Traceback (most recent call last)",
      "\u001b[1;32m<ipython-input-10-9da8149bd1d6>\u001b[0m in \u001b[0;36m<module>\u001b[1;34m\u001b[0m\n\u001b[1;32m----> 1\u001b[1;33m \u001b[0mmodel\u001b[0m \u001b[1;33m=\u001b[0m \u001b[0mmy_model\u001b[0m\u001b[1;33m(\u001b[0m\u001b[1;33m)\u001b[0m\u001b[1;33m\u001b[0m\u001b[1;33m\u001b[0m\u001b[0m\n\u001b[0m",
      "\u001b[1;32m<ipython-input-9-2c873f2464af>\u001b[0m in \u001b[0;36mmy_model\u001b[1;34m()\u001b[0m\n\u001b[0;32m      1\u001b[0m \u001b[1;32mdef\u001b[0m \u001b[0mmy_model\u001b[0m\u001b[1;33m(\u001b[0m\u001b[1;33m)\u001b[0m\u001b[1;33m:\u001b[0m\u001b[1;33m\u001b[0m\u001b[1;33m\u001b[0m\u001b[0m\n\u001b[0;32m      2\u001b[0m     \u001b[0minputs\u001b[0m \u001b[1;33m=\u001b[0m \u001b[0mInputLayer\u001b[0m\u001b[1;33m(\u001b[0m\u001b[0minput_shape\u001b[0m\u001b[1;33m=\u001b[0m\u001b[1;33m(\u001b[0m\u001b[1;36m32\u001b[0m\u001b[1;33m,\u001b[0m \u001b[1;36m32\u001b[0m\u001b[1;33m,\u001b[0m \u001b[1;36m3\u001b[0m\u001b[1;33m)\u001b[0m\u001b[1;33m)\u001b[0m\u001b[1;33m\u001b[0m\u001b[1;33m\u001b[0m\u001b[0m\n\u001b[1;32m----> 3\u001b[1;33m     \u001b[0mx\u001b[0m \u001b[1;33m=\u001b[0m \u001b[0mConv2D\u001b[0m\u001b[1;33m(\u001b[0m\u001b[1;36m32\u001b[0m\u001b[1;33m,\u001b[0m \u001b[1;36m3\u001b[0m\u001b[1;33m)\u001b[0m\u001b[1;33m(\u001b[0m\u001b[0minputs\u001b[0m\u001b[1;33m)\u001b[0m\u001b[1;33m\u001b[0m\u001b[1;33m\u001b[0m\u001b[0m\n\u001b[0m\u001b[0;32m      4\u001b[0m     \u001b[0mx\u001b[0m \u001b[1;33m=\u001b[0m \u001b[0mBatchNormalization\u001b[0m\u001b[1;33m(\u001b[0m\u001b[1;33m)\u001b[0m\u001b[1;33m(\u001b[0m\u001b[0mx\u001b[0m\u001b[1;33m)\u001b[0m\u001b[1;33m\u001b[0m\u001b[1;33m\u001b[0m\u001b[0m\n\u001b[0;32m      5\u001b[0m     \u001b[0mx\u001b[0m \u001b[1;33m=\u001b[0m \u001b[0mkeras\u001b[0m\u001b[1;33m.\u001b[0m\u001b[0mactivations\u001b[0m\u001b[1;33m.\u001b[0m\u001b[0mrelu\u001b[0m\u001b[1;33m(\u001b[0m\u001b[0mx\u001b[0m\u001b[1;33m)\u001b[0m\u001b[1;33m\u001b[0m\u001b[1;33m\u001b[0m\u001b[0m\n",
      "\u001b[1;32m~\\.conda\\envs\\tfgpu\\lib\\site-packages\\tensorflow\\python\\keras\\engine\\base_layer.py\u001b[0m in \u001b[0;36m__call__\u001b[1;34m(self, *args, **kwargs)\u001b[0m\n\u001b[0;32m   1011\u001b[0m         training=training_mode):\n\u001b[0;32m   1012\u001b[0m \u001b[1;33m\u001b[0m\u001b[0m\n\u001b[1;32m-> 1013\u001b[1;33m       \u001b[0minput_spec\u001b[0m\u001b[1;33m.\u001b[0m\u001b[0massert_input_compatibility\u001b[0m\u001b[1;33m(\u001b[0m\u001b[0mself\u001b[0m\u001b[1;33m.\u001b[0m\u001b[0minput_spec\u001b[0m\u001b[1;33m,\u001b[0m \u001b[0minputs\u001b[0m\u001b[1;33m,\u001b[0m \u001b[0mself\u001b[0m\u001b[1;33m.\u001b[0m\u001b[0mname\u001b[0m\u001b[1;33m)\u001b[0m\u001b[1;33m\u001b[0m\u001b[1;33m\u001b[0m\u001b[0m\n\u001b[0m\u001b[0;32m   1014\u001b[0m       \u001b[1;32mif\u001b[0m \u001b[0meager\u001b[0m\u001b[1;33m:\u001b[0m\u001b[1;33m\u001b[0m\u001b[1;33m\u001b[0m\u001b[0m\n\u001b[0;32m   1015\u001b[0m         \u001b[0mcall_fn\u001b[0m \u001b[1;33m=\u001b[0m \u001b[0mself\u001b[0m\u001b[1;33m.\u001b[0m\u001b[0mcall\u001b[0m\u001b[1;33m\u001b[0m\u001b[1;33m\u001b[0m\u001b[0m\n",
      "\u001b[1;32m~\\.conda\\envs\\tfgpu\\lib\\site-packages\\tensorflow\\python\\keras\\engine\\input_spec.py\u001b[0m in \u001b[0;36massert_input_compatibility\u001b[1;34m(input_spec, inputs, layer_name)\u001b[0m\n\u001b[0;32m    195\u001b[0m     \u001b[1;31m# have a `shape` attribute.\u001b[0m\u001b[1;33m\u001b[0m\u001b[1;33m\u001b[0m\u001b[1;33m\u001b[0m\u001b[0m\n\u001b[0;32m    196\u001b[0m     \u001b[1;32mif\u001b[0m \u001b[1;32mnot\u001b[0m \u001b[0mhasattr\u001b[0m\u001b[1;33m(\u001b[0m\u001b[0mx\u001b[0m\u001b[1;33m,\u001b[0m \u001b[1;34m'shape'\u001b[0m\u001b[1;33m)\u001b[0m\u001b[1;33m:\u001b[0m\u001b[1;33m\u001b[0m\u001b[1;33m\u001b[0m\u001b[0m\n\u001b[1;32m--> 197\u001b[1;33m       \u001b[1;32mraise\u001b[0m \u001b[0mTypeError\u001b[0m\u001b[1;33m(\u001b[0m\u001b[1;34m'Inputs to a layer should be tensors. Got: %s'\u001b[0m \u001b[1;33m%\u001b[0m \u001b[1;33m(\u001b[0m\u001b[0mx\u001b[0m\u001b[1;33m,\u001b[0m\u001b[1;33m)\u001b[0m\u001b[1;33m)\u001b[0m\u001b[1;33m\u001b[0m\u001b[1;33m\u001b[0m\u001b[0m\n\u001b[0m\u001b[0;32m    198\u001b[0m \u001b[1;33m\u001b[0m\u001b[0m\n\u001b[0;32m    199\u001b[0m   \u001b[1;32mif\u001b[0m \u001b[0mlen\u001b[0m\u001b[1;33m(\u001b[0m\u001b[0minputs\u001b[0m\u001b[1;33m)\u001b[0m \u001b[1;33m!=\u001b[0m \u001b[0mlen\u001b[0m\u001b[1;33m(\u001b[0m\u001b[0minput_spec\u001b[0m\u001b[1;33m)\u001b[0m\u001b[1;33m:\u001b[0m\u001b[1;33m\u001b[0m\u001b[1;33m\u001b[0m\u001b[0m\n",
      "\u001b[1;31mTypeError\u001b[0m: Inputs to a layer should be tensors. Got: <tensorflow.python.keras.engine.input_layer.InputLayer object at 0x00000185057A2B48>"
     ]
    }
   ],
   "source": [
    "model = my_model()"
   ]
  },
  {
   "cell_type": "code",
   "execution_count": 28,
   "metadata": {},
   "outputs": [
    {
     "name": "stdout",
     "output_type": "stream",
     "text": [
      "Model: \"sequential_3\"\n",
      "_________________________________________________________________\n",
      "Layer (type)                 Output Shape              Param #   \n",
      "=================================================================\n",
      "conv2d_9 (Conv2D)            (None, 32, 32, 32)        896       \n",
      "_________________________________________________________________\n",
      "batch_normalization_6 (Batch (None, 32, 32, 32)        128       \n",
      "_________________________________________________________________\n",
      "max_pooling2d_6 (MaxPooling2 (None, 16, 16, 32)        0         \n",
      "_________________________________________________________________\n",
      "conv2d_10 (Conv2D)           (None, 16, 16, 64)        51264     \n",
      "_________________________________________________________________\n",
      "batch_normalization_7 (Batch (None, 16, 16, 64)        256       \n",
      "_________________________________________________________________\n",
      "max_pooling2d_7 (MaxPooling2 (None, 8, 8, 64)          0         \n",
      "_________________________________________________________________\n",
      "conv2d_11 (Conv2D)           (None, 8, 8, 128)         73856     \n",
      "_________________________________________________________________\n",
      "batch_normalization_8 (Batch (None, 8, 8, 128)         512       \n",
      "_________________________________________________________________\n",
      "flatten_3 (Flatten)          (None, 8192)              0         \n",
      "_________________________________________________________________\n",
      "dense_4 (Dense)              (None, 64)                524352    \n",
      "_________________________________________________________________\n",
      "dropout (Dropout)            (None, 64)                0         \n",
      "_________________________________________________________________\n",
      "dense_5 (Dense)              (None, 10)                650       \n",
      "=================================================================\n",
      "Total params: 651,914\n",
      "Trainable params: 651,466\n",
      "Non-trainable params: 448\n",
      "_________________________________________________________________\n"
     ]
    }
   ],
   "source": [
    "model.summary()"
   ]
  },
  {
   "cell_type": "markdown",
   "metadata": {},
   "source": [
    "### Keras Model Traiing APIs - https://keras.io/api/models/model_training_apis/"
   ]
  },
  {
   "cell_type": "code",
   "execution_count": 29,
   "metadata": {},
   "outputs": [],
   "source": [
    "model.compile(\n",
    "    loss = keras.losses.SparseCategoricalCrossentropy(from_logits=True),\n",
    "    optimizer = keras.optimizers.Adam(),\n",
    "    metrics= ['accuracy']\n",
    ")"
   ]
  },
  {
   "cell_type": "code",
   "execution_count": 32,
   "metadata": {},
   "outputs": [],
   "source": [
    "EPOCHS = 20"
   ]
  },
  {
   "cell_type": "code",
   "execution_count": null,
   "metadata": {},
   "outputs": [],
   "source": [
    "history = model.fit(x_train, y_train, batch_size=64, epochs=EPOCHS, verbose=2)"
   ]
  },
  {
   "cell_type": "code",
   "execution_count": 38,
   "metadata": {},
   "outputs": [
    {
     "name": "stdout",
     "output_type": "stream",
     "text": [
      "[0.6908000111579895, 0.6926400065422058, 0.6980999708175659, 0.700659990310669, 0.7021200060844421, 0.7035999894142151, 0.7045800089836121, 0.7052599787712097, 0.7083600163459778, 0.7125800251960754, 0.7090399861335754, 0.7141799926757812, 0.7150599956512451, 0.7102599740028381, 0.7147600054740906, 0.7140399813652039, 0.7172399759292603, 0.7193800210952759, 0.7151600122451782, 0.7158600091934204, 0.7200800180435181, 0.7157999873161316, 0.7188599705696106, 0.7184600234031677, 0.718559980392456, 0.7181800007820129, 0.719760000705719, 0.7174800038337708, 0.7184600234031677, 0.7200999855995178, 0.7196000218391418, 0.718500018119812, 0.7187399864196777, 0.7205399870872498, 0.7177799940109253, 0.7199599742889404, 0.7192599773406982, 0.7183200120925903, 0.7210400104522705, 0.7191600203514099, 0.7203199863433838, 0.720579981803894, 0.7209200263023376, 0.7221599817276001, 0.7230600118637085, 0.7215999960899353, 0.7222200036048889, 0.7216200232505798, 0.7206199765205383, 0.7222599983215332, 0.7234200239181519, 0.7230600118637085, 0.7218800187110901, 0.7237399816513062, 0.7231600284576416, 0.7218199968338013, 0.7234200239181519, 0.7228800058364868, 0.724399983882904, 0.7232400178909302, 0.7227799892425537, 0.7256399989128113, 0.721560001373291, 0.7234399914741516, 0.7241399884223938, 0.7238799929618835, 0.7235999703407288, 0.7224400043487549, 0.7255600094795227, 0.7256600260734558, 0.7227200269699097, 0.7242000102996826, 0.7239400148391724, 0.7216399908065796, 0.7229999899864197, 0.7236999869346619, 0.7239000201225281, 0.7250999808311462, 0.7247400283813477, 0.7225199937820435, 0.7251999974250793, 0.7248799800872803, 0.722540020942688, 0.7227200269699097, 0.7249199748039246, 0.724399983882904, 0.7239400148391724, 0.7231400012969971, 0.7254999876022339, 0.720579981803894, 0.7260400056838989, 0.7254800200462341, 0.7249400019645691, 0.7260599732398987, 0.7251999974250793, 0.7261000275611877, 0.7262600064277649, 0.7246599793434143, 0.722100019454956, 0.7240599989891052, 0.7249400019645691, 0.7252799868583679, 0.7275400161743164, 0.7244600057601929, 0.7246400117874146, 0.7245000004768372, 0.722599983215332, 0.7246599793434143, 0.7259200215339661, 0.7236800193786621, 0.7235400080680847, 0.7263000011444092, 0.7244600057601929, 0.7236199975013733, 0.7241799831390381, 0.7239400148391724, 0.7254599928855896, 0.7243800163269043, 0.7290599942207336, 0.7257999777793884, 0.723800003528595, 0.7249600291252136, 0.7273200154304504, 0.7252600193023682, 0.7253400087356567, 0.7274399995803833, 0.7271999716758728, 0.7231199741363525, 0.7251999974250793, 0.7252200245857239, 0.7242799997329712, 0.7265999913215637, 0.7276399731636047, 0.7251999974250793, 0.7249000072479248, 0.7238399982452393, 0.7254800200462341, 0.7252200245857239, 0.7230200171470642, 0.7243000268936157, 0.7241799831390381, 0.7233800292015076, 0.7247200012207031, 0.72434002161026, 0.7246999740600586, 0.7237399816513062, 0.7250199913978577, 0.7232000231742859, 0.7257599830627441, 0.725600004196167]\n",
      "[1.4448223114013672, 1.4365323781967163, 1.4114142656326294, 1.3990709781646729, 1.3984425067901611, 1.3930866718292236, 1.3820799589157104, 1.3792009353637695, 1.3714768886566162, 1.3589688539505005, 1.365300178527832, 1.3468862771987915, 1.3452736139297485, 1.3527798652648926, 1.3350038528442383, 1.3441202640533447, 1.335132360458374, 1.3228946924209595, 1.3424561023712158, 1.333009958267212, 1.3181779384613037, 1.3294061422348022, 1.3173084259033203, 1.3142362833023071, 1.3120898008346558, 1.3144673109054565, 1.3018029928207397, 1.3109509944915771, 1.3109201192855835, 1.3009657859802246, 1.2964205741882324, 1.2917696237564087, 1.2983311414718628, 1.2906172275543213, 1.2958999872207642, 1.2921161651611328, 1.2848342657089233, 1.2834712266921997, 1.2849502563476562, 1.287733554840088, 1.2806068658828735, 1.2831898927688599, 1.2854737043380737, 1.2737157344818115, 1.2745835781097412, 1.2792052030563354, 1.2725423574447632, 1.2692575454711914, 1.2699834108352661, 1.2681740522384644, 1.2655106782913208, 1.265364646911621, 1.2735636234283447, 1.2688648700714111, 1.2642422914505005, 1.266027569770813, 1.253793478012085, 1.268025517463684, 1.264041543006897, 1.262894630432129, 1.267018437385559, 1.2604886293411255, 1.2665435075759888, 1.264535665512085, 1.2672096490859985, 1.2553850412368774, 1.263587474822998, 1.267561674118042, 1.256689429283142, 1.2589408159255981, 1.266748309135437, 1.2583249807357788, 1.2570112943649292, 1.2600196599960327, 1.2575111389160156, 1.2569831609725952, 1.2643247842788696, 1.258121132850647, 1.2611849308013916, 1.2626416683197021, 1.2550894021987915, 1.260772705078125, 1.2592532634735107, 1.2581599950790405, 1.2594223022460938, 1.2578305006027222, 1.2572877407073975, 1.2597897052764893, 1.2538148164749146, 1.2664746046066284, 1.2474476099014282, 1.2526668310165405, 1.2576504945755005, 1.2494233846664429, 1.2561074495315552, 1.2568284273147583, 1.2506158351898193, 1.2527873516082764, 1.2630462646484375, 1.260385513305664, 1.2467448711395264, 1.2519677877426147, 1.2511115074157715, 1.2487452030181885, 1.2484045028686523, 1.253208041191101, 1.2539496421813965, 1.257168173789978, 1.246077537536621, 1.2485979795455933, 1.2555729150772095, 1.248741865158081, 1.2534520626068115, 1.2500661611557007, 1.251442790031433, 1.2495379447937012, 1.246407151222229, 1.2476277351379395, 1.2436840534210205, 1.2494059801101685, 1.2524102926254272, 1.247380018234253, 1.2461590766906738, 1.252768635749817, 1.2441459894180298, 1.2386109828948975, 1.2487460374832153, 1.2440967559814453, 1.2454255819320679, 1.2491568326950073, 1.246832251548767, 1.2426104545593262, 1.2478327751159668, 1.2452670335769653, 1.2508907318115234, 1.2460427284240723, 1.245612621307373, 1.2510159015655518, 1.2572351694107056, 1.2476768493652344, 1.254312515258789, 1.2536935806274414, 1.2461202144622803, 1.2525204420089722, 1.2419874668121338, 1.244337797164917, 1.2458499670028687, 1.2520146369934082, 1.2496641874313354, 1.2404519319534302]\n"
     ]
    }
   ],
   "source": [
    "acc = history.history['accuracy']\n",
    "loss=history.history['loss']\n",
    "print(acc)\n",
    "print(loss)"
   ]
  },
  {
   "cell_type": "code",
   "execution_count": 41,
   "metadata": {},
   "outputs": [
    {
     "data": {
      "text/plain": [
       "Text(0.5, 1.0, 'Training Accuracy and Loss')"
      ]
     },
     "execution_count": 41,
     "metadata": {},
     "output_type": "execute_result"
    },
    {
     "data": {
      "image/png": "[encoded data removed]",
      "text/plain": [
       "<Figure size 576x576 with 1 Axes>"
      ]
     },
     "metadata": {
      "needs_background": "light"
     },
     "output_type": "display_data"
    }
   ],
   "source": [
    "epochs_range = range(EPOCHS)\n",
    "\n",
    "plt.figure(figsize=(8, 8))\n",
    "plt.plot(epochs_range, acc, label='Training Accuracy')\n",
    "plt.plot(epochs_range, loss, label='Loss')\n",
    "plt.legend(loc='center right')\n",
    "plt.title('Training Accuracy and Loss')"
   ]
  },
  {
   "cell_type": "code",
   "execution_count": 35,
   "metadata": {},
   "outputs": [
    {
     "name": "stdout",
     "output_type": "stream",
     "text": [
      "313/313 - 3s - loss: 1.3939 - accuracy: 0.6737\n"
     ]
    },
    {
     "data": {
      "text/plain": [
       "[1.3939411640167236, 0.6736999750137329]"
      ]
     },
     "execution_count": 35,
     "metadata": {},
     "output_type": "execute_result"
    }
   ],
   "source": [
    "model.evaluate(x_test, y_test, batch_size=32, verbose=2)"
   ]
  },
  {
   "cell_type": "code",
   "execution_count": 36,
   "metadata": {},
   "outputs": [],
   "source": [
    "y_pred = model.predict(x_test)"
   ]
  },
  {
   "cell_type": "code",
   "execution_count": 37,
   "metadata": {},
   "outputs": [
    {
     "data": {
      "text/plain": [
       "array([[ -1.9200869 ,  -2.5995533 ,  -1.3146628 , ...,  -1.9381208 ,\n",
       "         -1.107051  ,  -1.5714229 ],\n",
       "       [  1.8000373 ,   4.689947  ,  -7.15194   , ..., -11.744177  ,\n",
       "          6.4093304 ,   2.1904109 ],\n",
       "       [ -0.5301312 ,   0.90670145,  -5.2943206 , ...,  -6.0055523 ,\n",
       "          3.3065205 ,   2.9092138 ],\n",
       "       ...,\n",
       "       [ -6.5638847 ,  -7.8348904 ,  -1.3241173 , ...,  -0.22247437,\n",
       "         -8.012566  ,  -5.4517984 ],\n",
       "       [ -1.2321833 ,   1.1513953 ,  -1.4683433 , ...,  -3.381137  ,\n",
       "         -2.1607597 ,  -1.6687024 ],\n",
       "       [ -4.4135513 , -11.189379  ,  -1.8742888 , ...,   7.412634  ,\n",
       "        -11.303839  ,  -8.092885  ]], dtype=float32)"
      ]
     },
     "execution_count": 37,
     "metadata": {},
     "output_type": "execute_result"
    }
   ],
   "source": [
    "y_pred"
   ]
  },
  {
   "cell_type": "code",
   "execution_count": 42,
   "metadata": {},
   "outputs": [],
   "source": [
    "model.save('saved_models/cnn_model.h5')"
   ]
  },
  {
   "cell_type": "code",
   "execution_count": null,
   "metadata": {},
   "outputs": [],
   "source": []
  }
 ],
 "metadata": {
  "kernelspec": {
   "display_name": "tfgpu",
   "language": "python",
   "name": "tfgpu"
  },
  "language_info": {
   "codemirror_mode": {
    "name": "ipython",
    "version": 3
   },
   "file_extension": ".py",
   "mimetype": "text/x-python",
   "name": "python",
   "nbconvert_exporter": "python",
   "pygments_lexer": "ipython3",
   "version": "3.7.11"
  }
 },
 "nbformat": 4,
 "nbformat_minor": 4
}
