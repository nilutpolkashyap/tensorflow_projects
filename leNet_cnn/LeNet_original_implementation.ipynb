{
 "cells": [
  {
   "cell_type": "code",
   "execution_count": 1,
   "metadata": {},
   "outputs": [],
   "source": [
    "%config Completer.use_jedi = False"
   ]
  },
  {
   "cell_type": "code",
   "execution_count": 2,
   "metadata": {},
   "outputs": [],
   "source": [
    "from tensorflow.keras.models import Sequential\n",
    "from tensorflow.keras.layers import Conv2D, MaxPooling2D, Activation, Flatten, Dense, AveragePooling2D\n",
    "import tensorflow as tf\n",
    "from tensorflow.keras.datasets import mnist\n",
    "from tensorflow import keras\n",
    "from sklearn.model_selection import train_test_split\n",
    "\n",
    "import matplotlib.pyplot as plt\n",
    "import numpy as np"
   ]
  },
  {
   "cell_type": "code",
   "execution_count": 3,
   "metadata": {},
   "outputs": [],
   "source": [
    "(train_X, train_y), (testData, testLabels) = mnist.load_data()"
   ]
  },
  {
   "cell_type": "code",
   "execution_count": 4,
   "metadata": {},
   "outputs": [
    {
     "name": "stdout",
     "output_type": "stream",
     "text": [
      "Train Data shape :  (60000, 28, 28)\n",
      "Train Labels shape :  (60000,)\n",
      "Test Data shape :  (10000, 28, 28)\n",
      "Test Labels shape :  (10000,)\n"
     ]
    }
   ],
   "source": [
    "print(\"Train Data shape : \", train_X.shape)\n",
    "print(\"Train Labels shape : \", train_y.shape)\n",
    "print(\"Test Data shape : \", testData.shape)\n",
    "print(\"Test Labels shape : \", testLabels.shape)"
   ]
  },
  {
   "cell_type": "code",
   "execution_count": 5,
   "metadata": {},
   "outputs": [],
   "source": [
    "trainData, valData, trainLabels, valLabels = train_test_split(train_X, train_y, test_size=0.10, random_state=42)"
   ]
  },
  {
   "cell_type": "code",
   "execution_count": 6,
   "metadata": {},
   "outputs": [],
   "source": [
    "# reshape image dimensions\n",
    "trainData = trainData.reshape(trainData.shape[0], 28, 28, 1)\n",
    "valData = valData.reshape(valData.shape[0], 28, 28, 1)\n",
    "testData = testData.reshape(testData.shape[0], 28, 28, 1)"
   ]
  },
  {
   "cell_type": "code",
   "execution_count": 7,
   "metadata": {},
   "outputs": [
    {
     "name": "stdout",
     "output_type": "stream",
     "text": [
      "Train Data shape :  (54000, 28, 28, 1)\n",
      "Validation Data shape :  (6000, 28, 28, 1)\n",
      "Test Data shape :  (10000, 28, 28, 1)\n"
     ]
    }
   ],
   "source": [
    "print(\"Train Data shape : \", trainData.shape)\n",
    "print(\"Validation Data shape : \", valData.shape)\n",
    "print(\"Test Data shape : \", testData.shape)"
   ]
  },
  {
   "cell_type": "code",
   "execution_count": 8,
   "metadata": {},
   "outputs": [],
   "source": [
    "# Normalization\n",
    "trainData = tf.keras.utils.normalize(trainData, axis=1)\n",
    "valData = tf.keras.utils.normalize(valData, axis=1)\n",
    "testData = tf.keras.utils.normalize(testData, axis=1)"
   ]
  },
  {
   "cell_type": "code",
   "execution_count": 9,
   "metadata": {},
   "outputs": [
    {
     "data": {
      "text/plain": [
       "(28, 28, 1)"
      ]
     },
     "execution_count": 9,
     "metadata": {},
     "output_type": "execute_result"
    }
   ],
   "source": [
    "trainData[0].shape"
   ]
  },
  {
   "cell_type": "code",
   "execution_count": 10,
   "metadata": {},
   "outputs": [],
   "source": [
    "# Le-net 5 model building\n",
    "leNet_model = Sequential()\n",
    "leNet_model.add(Conv2D(filters=6, kernel_size=5, strides=1, activation='tanh', input_shape=trainData[0].shape, padding='valid'))\n",
    "leNet_model.add(AveragePooling2D())\n",
    "leNet_model.add(Conv2D(filters=16, kernel_size=5, strides=1, activation='tanh', padding='valid'))\n",
    "leNet_model.add(AveragePooling2D())\n",
    "leNet_model.add(Flatten())\n",
    "leNet_model.add(Dense(120, activation='tanh'))\n",
    "leNet_model.add(Dense(84, activation='tanh'))\n",
    "leNet_model.add(Dense(10, activation='softmax'))"
   ]
  },
  {
   "cell_type": "code",
   "execution_count": 11,
   "metadata": {},
   "outputs": [
    {
     "name": "stdout",
     "output_type": "stream",
     "text": [
      "Model: \"sequential\"\n",
      "_________________________________________________________________\n",
      "Layer (type)                 Output Shape              Param #   \n",
      "=================================================================\n",
      "conv2d (Conv2D)              (None, 24, 24, 6)         156       \n",
      "_________________________________________________________________\n",
      "average_pooling2d (AveragePo (None, 12, 12, 6)         0         \n",
      "_________________________________________________________________\n",
      "conv2d_1 (Conv2D)            (None, 8, 8, 16)          2416      \n",
      "_________________________________________________________________\n",
      "average_pooling2d_1 (Average (None, 4, 4, 16)          0         \n",
      "_________________________________________________________________\n",
      "flatten (Flatten)            (None, 256)               0         \n",
      "_________________________________________________________________\n",
      "dense (Dense)                (None, 120)               30840     \n",
      "_________________________________________________________________\n",
      "dense_1 (Dense)              (None, 84)                10164     \n",
      "_________________________________________________________________\n",
      "dense_2 (Dense)              (None, 10)                850       \n",
      "=================================================================\n",
      "Total params: 44,426\n",
      "Trainable params: 44,426\n",
      "Non-trainable params: 0\n",
      "_________________________________________________________________\n"
     ]
    }
   ],
   "source": [
    "leNet_model.summary()"
   ]
  },
  {
   "cell_type": "code",
   "execution_count": 12,
   "metadata": {},
   "outputs": [],
   "source": [
    "leNet_model.compile(loss=keras.losses.sparse_categorical_crossentropy, optimizer=keras.optimizers.Adam(), metrics=['accuracy'])"
   ]
  },
  {
   "cell_type": "code",
   "execution_count": 13,
   "metadata": {},
   "outputs": [
    {
     "name": "stdout",
     "output_type": "stream",
     "text": [
      "Epoch 1/20\n",
      "1688/1688 [==============================] - 18s 5ms/step - loss: 0.2993 - accuracy: 0.9112 - val_loss: 0.1552 - val_accuracy: 0.9543\n",
      "Epoch 2/20\n",
      "1688/1688 [==============================] - 8s 4ms/step - loss: 0.1238 - accuracy: 0.9623 - val_loss: 0.1057 - val_accuracy: 0.9645\n",
      "Epoch 3/20\n",
      "1688/1688 [==============================] - 8s 5ms/step - loss: 0.0835 - accuracy: 0.9745 - val_loss: 0.0884 - val_accuracy: 0.9715\n",
      "Epoch 4/20\n",
      "1688/1688 [==============================] - 8s 5ms/step - loss: 0.0620 - accuracy: 0.9811 - val_loss: 0.0777 - val_accuracy: 0.9763\n",
      "Epoch 5/20\n",
      "1688/1688 [==============================] - 8s 5ms/step - loss: 0.0503 - accuracy: 0.9843 - val_loss: 0.0669 - val_accuracy: 0.9788\n",
      "Epoch 6/20\n",
      "1688/1688 [==============================] - 8s 5ms/step - loss: 0.0402 - accuracy: 0.9873 - val_loss: 0.0671 - val_accuracy: 0.9793\n",
      "Epoch 7/20\n",
      "1688/1688 [==============================] - 8s 5ms/step - loss: 0.0338 - accuracy: 0.9888 - val_loss: 0.0611 - val_accuracy: 0.9822\n",
      "Epoch 8/20\n",
      "1688/1688 [==============================] - 9s 5ms/step - loss: 0.0295 - accuracy: 0.9901 - val_loss: 0.0612 - val_accuracy: 0.9803\n",
      "Epoch 9/20\n",
      "1688/1688 [==============================] - 9s 5ms/step - loss: 0.0243 - accuracy: 0.9922 - val_loss: 0.0636 - val_accuracy: 0.9808\n",
      "Epoch 10/20\n",
      "1688/1688 [==============================] - 8s 5ms/step - loss: 0.0206 - accuracy: 0.9932 - val_loss: 0.0627 - val_accuracy: 0.9813\n",
      "Epoch 11/20\n",
      "1688/1688 [==============================] - 8s 5ms/step - loss: 0.0171 - accuracy: 0.9948 - val_loss: 0.0648 - val_accuracy: 0.9830\n",
      "Epoch 12/20\n",
      "1688/1688 [==============================] - 8s 5ms/step - loss: 0.0170 - accuracy: 0.9945 - val_loss: 0.0586 - val_accuracy: 0.9827\n",
      "Epoch 13/20\n",
      "1688/1688 [==============================] - 8s 4ms/step - loss: 0.0149 - accuracy: 0.9951 - val_loss: 0.0690 - val_accuracy: 0.9820\n",
      "Epoch 14/20\n",
      "1688/1688 [==============================] - 8s 5ms/step - loss: 0.0130 - accuracy: 0.9956 - val_loss: 0.0660 - val_accuracy: 0.9823\n",
      "Epoch 15/20\n",
      "1688/1688 [==============================] - 76s 45ms/step - loss: 0.0116 - accuracy: 0.9965 - val_loss: 0.0691 - val_accuracy: 0.9815\n",
      "Epoch 16/20\n",
      "1688/1688 [==============================] - 7s 4ms/step - loss: 0.0115 - accuracy: 0.9961 - val_loss: 0.0778 - val_accuracy: 0.9797\n",
      "Epoch 17/20\n",
      "1688/1688 [==============================] - 7s 4ms/step - loss: 0.0106 - accuracy: 0.9962 - val_loss: 0.0718 - val_accuracy: 0.9803\n",
      "Epoch 18/20\n",
      "1688/1688 [==============================] - 7s 4ms/step - loss: 0.0105 - accuracy: 0.9965 - val_loss: 0.0684 - val_accuracy: 0.9827\n",
      "Epoch 19/20\n",
      "1688/1688 [==============================] - 7s 4ms/step - loss: 0.0077 - accuracy: 0.9976 - val_loss: 0.0853 - val_accuracy: 0.9810\n",
      "Epoch 20/20\n",
      "1688/1688 [==============================] - 7s 4ms/step - loss: 0.0080 - accuracy: 0.9974 - val_loss: 0.0700 - val_accuracy: 0.9828\n"
     ]
    },
    {
     "data": {
      "text/plain": [
       "<tensorflow.python.keras.callbacks.History at 0x196cb0a3308>"
      ]
     },
     "execution_count": 13,
     "metadata": {},
     "output_type": "execute_result"
    }
   ],
   "source": [
    "leNet_model.fit(trainData, trainLabels, epochs=20, validation_data=(valData, valLabels))"
   ]
  },
  {
   "cell_type": "code",
   "execution_count": 14,
   "metadata": {},
   "outputs": [],
   "source": [
    "predictions = leNet_model.predict(testData)"
   ]
  },
  {
   "cell_type": "code",
   "execution_count": 15,
   "metadata": {},
   "outputs": [
    {
     "data": {
      "text/plain": [
       "array([[3.1413783e-10, 1.7321423e-10, 1.7648553e-09, ..., 1.0000000e+00,\n",
       "        1.1271797e-11, 2.6377860e-08],\n",
       "       [4.5325072e-07, 1.7737767e-06, 9.9982798e-01, ..., 2.2952524e-11,\n",
       "        1.6663519e-04, 2.7868188e-10],\n",
       "       [1.0670389e-12, 9.9999976e-01, 4.9654841e-10, ..., 5.0112586e-10,\n",
       "        2.4474770e-07, 6.0192677e-11],\n",
       "       ...,\n",
       "       [1.8703439e-13, 1.6395212e-10, 1.3257401e-11, ..., 5.6091814e-08,\n",
       "        1.2083430e-07, 1.2439435e-07],\n",
       "       [8.1436455e-11, 1.5543168e-10, 5.7920587e-12, ..., 3.4488583e-09,\n",
       "        2.6257699e-06, 3.4405302e-11],\n",
       "       [8.6808355e-10, 3.1768383e-09, 4.5228146e-10, ..., 7.4440318e-13,\n",
       "        1.0878789e-08, 6.0387789e-12]], dtype=float32)"
      ]
     },
     "execution_count": 15,
     "metadata": {},
     "output_type": "execute_result"
    }
   ],
   "source": [
    "predictions"
   ]
  },
  {
   "cell_type": "code",
   "execution_count": 16,
   "metadata": {},
   "outputs": [
    {
     "name": "stdout",
     "output_type": "stream",
     "text": [
      "7\n"
     ]
    }
   ],
   "source": [
    "print(np.argmax(predictions[0]))"
   ]
  },
  {
   "cell_type": "code",
   "execution_count": 17,
   "metadata": {},
   "outputs": [
    {
     "name": "stdout",
     "output_type": "stream",
     "text": [
      "313/313 [==============================] - 1s 3ms/step - loss: 0.0731 - accuracy: 0.9820\n"
     ]
    }
   ],
   "source": [
    "score = leNet_model.evaluate(testData, testLabels)"
   ]
  },
  {
   "cell_type": "code",
   "execution_count": 19,
   "metadata": {},
   "outputs": [
    {
     "name": "stdout",
     "output_type": "stream",
     "text": [
      "Test loss: 7.313 %\n",
      "Test accuracy: 98.200 %\n"
     ]
    }
   ],
   "source": [
    "print('Test loss: {:.3f} %'.format(score[0] * 100))\n",
    "print('Test accuracy: {:.3f} %'.format(score[1] * 100))"
   ]
  },
  {
   "cell_type": "code",
   "execution_count": null,
   "metadata": {},
   "outputs": [],
   "source": []
  }
 ],
 "metadata": {
  "kernelspec": {
   "display_name": "tfgpu",
   "language": "python",
   "name": "tfgpu"
  },
  "language_info": {
   "codemirror_mode": {
    "name": "ipython",
    "version": 3
   },
   "file_extension": ".py",
   "mimetype": "text/x-python",
   "name": "python",
   "nbconvert_exporter": "python",
   "pygments_lexer": "ipython3",
   "version": "3.7.11"
  }
 },
 "nbformat": 4,
 "nbformat_minor": 4
}
