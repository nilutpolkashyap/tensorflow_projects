{
 "cells": [
  {
   "cell_type": "code",
   "execution_count": 1,
   "metadata": {},
   "outputs": [],
   "source": [
    "%config Completer.use_jedi = False"
   ]
  },
  {
   "cell_type": "code",
   "execution_count": 80,
   "metadata": {},
   "outputs": [],
   "source": [
    "from tensorflow.keras.models import Sequential\n",
    "from tensorflow.keras.layers import Conv2D, MaxPooling2D, Activation, Flatten, Dense, AveragePooling2D\n",
    "import tensorflow as tf\n",
    "from tensorflow.keras.datasets import mnist\n",
    "from tensorflow import keras\n",
    "from sklearn.model_selection import train_test_split\n",
    "\n",
    "import matplotlib.pyplot as plt\n",
    "import numpy as np"
   ]
  },
  {
   "cell_type": "code",
   "execution_count": 47,
   "metadata": {},
   "outputs": [],
   "source": [
    "(train_X, train_y), (testData, testLabels) = mnist.load_data()"
   ]
  },
  {
   "cell_type": "code",
   "execution_count": 48,
   "metadata": {},
   "outputs": [
    {
     "name": "stdout",
     "output_type": "stream",
     "text": [
      "Train Data shape :  (60000, 28, 28)\n",
      "Train Labels shape :  (60000,)\n",
      "Test Data shape :  (10000, 28, 28)\n",
      "Test Labels shape :  (10000,)\n"
     ]
    }
   ],
   "source": [
    "print(\"Train Data shape : \", train_X.shape)\n",
    "print(\"Train Labels shape : \", train_y.shape)\n",
    "print(\"Test Data shape : \", testData.shape)\n",
    "print(\"Test Labels shape : \", testLabels.shape)"
   ]
  },
  {
   "cell_type": "code",
   "execution_count": 49,
   "metadata": {},
   "outputs": [],
   "source": [
    "train_x = tf.expand_dims(train_X, 3)"
   ]
  },
  {
   "cell_type": "code",
   "execution_count": 50,
   "metadata": {},
   "outputs": [
    {
     "data": {
      "text/plain": [
       "TensorShape([60000, 28, 28, 1])"
      ]
     },
     "execution_count": 50,
     "metadata": {},
     "output_type": "execute_result"
    }
   ],
   "source": [
    "train_x.shape"
   ]
  },
  {
   "cell_type": "code",
   "execution_count": 67,
   "metadata": {},
   "outputs": [],
   "source": [
    "trainData, valData, trainLabels, valLabels = train_test_split(train_X, train_y, test_size=0.10, random_state=42)"
   ]
  },
  {
   "cell_type": "code",
   "execution_count": 68,
   "metadata": {},
   "outputs": [],
   "source": [
    "# reshape image dimensions\n",
    "trainData = trainData.reshape(trainData.shape[0], 28, 28, 1)\n",
    "valData = valData.reshape(valData.shape[0], 28, 28, 1)\n",
    "testData = testData.reshape(testData.shape[0], 28, 28, 1)"
   ]
  },
  {
   "cell_type": "code",
   "execution_count": 69,
   "metadata": {},
   "outputs": [
    {
     "name": "stdout",
     "output_type": "stream",
     "text": [
      "Train Data shape :  (54000, 28, 28, 1)\n",
      "Validation Data shape :  (6000, 28, 28, 1)\n",
      "Test Data shape :  (10000, 28, 28, 1)\n"
     ]
    }
   ],
   "source": [
    "print(\"Train Data shape : \", trainData.shape)\n",
    "print(\"Validation Data shape : \", valData.shape)\n",
    "print(\"Test Data shape : \", testData.shape)"
   ]
  },
  {
   "cell_type": "code",
   "execution_count": 70,
   "metadata": {},
   "outputs": [],
   "source": [
    "# Normalization\n",
    "trainData = tf.keras.utils.normalize(trainData, axis=1)\n",
    "valData = tf.keras.utils.normalize(valData, axis=1)\n",
    "testData = tf.keras.utils.normalize(testData, axis=1)"
   ]
  },
  {
   "cell_type": "code",
   "execution_count": 71,
   "metadata": {},
   "outputs": [
    {
     "data": {
      "text/plain": [
       "(28, 28, 1)"
      ]
     },
     "execution_count": 71,
     "metadata": {},
     "output_type": "execute_result"
    }
   ],
   "source": [
    "trainData[0].shape"
   ]
  },
  {
   "cell_type": "code",
   "execution_count": 72,
   "metadata": {},
   "outputs": [],
   "source": [
    "# Le-net 5 model building\n",
    "leNet_model = Sequential()\n",
    "leNet_model.add(Conv2D(filters=6, kernel_size=5, strides=1, activation='tanh', input_shape=trainData[0].shape, padding='valid'))\n",
    "leNet_model.add(AveragePooling2D())\n",
    "leNet_model.add(Conv2D(filters=16, kernel_size=5, strides=1, activation='tanh', padding='valid'))\n",
    "leNet_model.add(AveragePooling2D())\n",
    "leNet_model.add(Flatten())\n",
    "leNet_model.add(Dense(120, activation='tanh'))\n",
    "leNet_model.add(Dense(84, activation='tanh'))\n",
    "leNet_model.add(Dense(10, activation='softmax'))"
   ]
  },
  {
   "cell_type": "code",
   "execution_count": 73,
   "metadata": {},
   "outputs": [
    {
     "name": "stdout",
     "output_type": "stream",
     "text": [
      "Model: \"sequential_5\"\n",
      "_________________________________________________________________\n",
      "Layer (type)                 Output Shape              Param #   \n",
      "=================================================================\n",
      "conv2d_7 (Conv2D)            (None, 24, 24, 6)         156       \n",
      "_________________________________________________________________\n",
      "average_pooling2d_4 (Average (None, 12, 12, 6)         0         \n",
      "_________________________________________________________________\n",
      "conv2d_8 (Conv2D)            (None, 8, 8, 16)          2416      \n",
      "_________________________________________________________________\n",
      "average_pooling2d_5 (Average (None, 4, 4, 16)          0         \n",
      "_________________________________________________________________\n",
      "flatten_2 (Flatten)          (None, 256)               0         \n",
      "_________________________________________________________________\n",
      "dense_6 (Dense)              (None, 120)               30840     \n",
      "_________________________________________________________________\n",
      "dense_7 (Dense)              (None, 84)                10164     \n",
      "_________________________________________________________________\n",
      "dense_8 (Dense)              (None, 10)                850       \n",
      "=================================================================\n",
      "Total params: 44,426\n",
      "Trainable params: 44,426\n",
      "Non-trainable params: 0\n",
      "_________________________________________________________________\n"
     ]
    }
   ],
   "source": [
    "leNet_model.summary()"
   ]
  },
  {
   "cell_type": "code",
   "execution_count": 74,
   "metadata": {},
   "outputs": [],
   "source": [
    "leNet_model.compile(loss=keras.losses.sparse_categorical_crossentropy, optimizer=keras.optimizers.Adam(), metrics=['accuracy'])"
   ]
  },
  {
   "cell_type": "code",
   "execution_count": 90,
   "metadata": {},
   "outputs": [
    {
     "name": "stdout",
     "output_type": "stream",
     "text": [
      "Epoch 1/20\n",
      "1688/1688 [==============================] - 14s 8ms/step - loss: 0.0167 - accuracy: 0.9944 - val_loss: 0.0664 - val_accuracy: 0.9833\n",
      "Epoch 2/20\n",
      "1688/1688 [==============================] - 13s 8ms/step - loss: 0.0162 - accuracy: 0.9947 - val_loss: 0.0632 - val_accuracy: 0.9838\n",
      "Epoch 3/20\n",
      "1688/1688 [==============================] - 8s 5ms/step - loss: 0.0148 - accuracy: 0.9952 - val_loss: 0.0609 - val_accuracy: 0.9857\n",
      "Epoch 4/20\n",
      "1688/1688 [==============================] - 6s 4ms/step - loss: 0.0112 - accuracy: 0.9966 - val_loss: 0.0693 - val_accuracy: 0.9823\n",
      "Epoch 5/20\n",
      "1688/1688 [==============================] - 7s 4ms/step - loss: 0.0136 - accuracy: 0.9954 - val_loss: 0.0594 - val_accuracy: 0.9852\n",
      "Epoch 6/20\n",
      "1688/1688 [==============================] - 7s 4ms/step - loss: 0.0098 - accuracy: 0.9967 - val_loss: 0.0684 - val_accuracy: 0.9858\n",
      "Epoch 7/20\n",
      "1688/1688 [==============================] - 6s 4ms/step - loss: 0.0102 - accuracy: 0.9968 - val_loss: 0.0689 - val_accuracy: 0.9837\n",
      "Epoch 8/20\n",
      "1688/1688 [==============================] - 7s 4ms/step - loss: 0.0103 - accuracy: 0.9966 - val_loss: 0.0659 - val_accuracy: 0.9842\n",
      "Epoch 9/20\n",
      "1688/1688 [==============================] - 6s 4ms/step - loss: 0.0089 - accuracy: 0.9972 - val_loss: 0.0735 - val_accuracy: 0.9822\n",
      "Epoch 10/20\n",
      "1688/1688 [==============================] - 7s 4ms/step - loss: 0.0083 - accuracy: 0.9973 - val_loss: 0.0626 - val_accuracy: 0.9850\n",
      "Epoch 11/20\n",
      "1688/1688 [==============================] - 7s 4ms/step - loss: 0.0083 - accuracy: 0.9969 - val_loss: 0.0743 - val_accuracy: 0.9830\n",
      "Epoch 12/20\n",
      "1688/1688 [==============================] - 7s 4ms/step - loss: 0.0089 - accuracy: 0.9970 - val_loss: 0.0691 - val_accuracy: 0.9843\n",
      "Epoch 13/20\n",
      "1688/1688 [==============================] - 7s 4ms/step - loss: 0.0060 - accuracy: 0.9981 - val_loss: 0.0728 - val_accuracy: 0.9833\n",
      "Epoch 14/20\n",
      "1688/1688 [==============================] - 7s 4ms/step - loss: 0.0077 - accuracy: 0.9975 - val_loss: 0.0775 - val_accuracy: 0.9828\n",
      "Epoch 15/20\n",
      "1688/1688 [==============================] - 7s 4ms/step - loss: 0.0071 - accuracy: 0.9976 - val_loss: 0.0692 - val_accuracy: 0.9863\n",
      "Epoch 16/20\n",
      "1688/1688 [==============================] - 6s 4ms/step - loss: 0.0056 - accuracy: 0.9982 - val_loss: 0.0651 - val_accuracy: 0.9842\n",
      "Epoch 17/20\n",
      "1688/1688 [==============================] - 7s 4ms/step - loss: 0.0055 - accuracy: 0.9982 - val_loss: 0.0623 - val_accuracy: 0.9857\n",
      "Epoch 18/20\n",
      "1688/1688 [==============================] - 6s 4ms/step - loss: 0.0065 - accuracy: 0.9980 - val_loss: 0.0726 - val_accuracy: 0.9838\n",
      "Epoch 19/20\n",
      "1688/1688 [==============================] - 7s 4ms/step - loss: 0.0062 - accuracy: 0.9979 - val_loss: 0.0865 - val_accuracy: 0.9833\n",
      "Epoch 20/20\n",
      "1688/1688 [==============================] - 7s 4ms/step - loss: 0.0052 - accuracy: 0.9982 - val_loss: 0.0715 - val_accuracy: 0.9853\n"
     ]
    },
    {
     "data": {
      "text/plain": [
       "<tensorflow.python.keras.callbacks.History at 0x2525d166348>"
      ]
     },
     "execution_count": 90,
     "metadata": {},
     "output_type": "execute_result"
    }
   ],
   "source": [
    "leNet_model.fit(trainData, trainLabels, epochs=20, validation_data=(valData, valLabels))"
   ]
  },
  {
   "cell_type": "code",
   "execution_count": 91,
   "metadata": {},
   "outputs": [],
   "source": [
    "predictions = leNet_model.predict(testData)"
   ]
  },
  {
   "cell_type": "code",
   "execution_count": 92,
   "metadata": {},
   "outputs": [
    {
     "data": {
      "text/plain": [
       "array([[6.66690824e-14, 2.59623540e-13, 2.54668300e-11, ...,\n",
       "        1.00000000e+00, 6.88293931e-13, 2.32359154e-09],\n",
       "       [1.16199905e-09, 5.94305549e-10, 1.00000000e+00, ...,\n",
       "        4.86174518e-16, 3.53567553e-09, 4.09893083e-12],\n",
       "       [7.24681003e-13, 1.00000000e+00, 4.62538905e-12, ...,\n",
       "        1.26350458e-10, 8.99065961e-11, 7.19073984e-14],\n",
       "       ...,\n",
       "       [5.33789406e-15, 3.53671016e-11, 9.35502110e-13, ...,\n",
       "        3.05012023e-11, 2.66721378e-09, 1.13646024e-07],\n",
       "       [1.05468956e-09, 1.43162477e-08, 4.06732482e-13, ...,\n",
       "        9.10932857e-11, 3.84049694e-04, 4.37993357e-11],\n",
       "       [1.99898651e-07, 2.00905603e-13, 2.03639588e-11, ...,\n",
       "        6.65820836e-16, 6.51076111e-12, 1.86876513e-12]], dtype=float32)"
      ]
     },
     "execution_count": 92,
     "metadata": {},
     "output_type": "execute_result"
    }
   ],
   "source": [
    "predictions"
   ]
  },
  {
   "cell_type": "code",
   "execution_count": 93,
   "metadata": {},
   "outputs": [
    {
     "name": "stdout",
     "output_type": "stream",
     "text": [
      "7\n"
     ]
    }
   ],
   "source": [
    "print(np.argmax(predictions[0]))"
   ]
  },
  {
   "cell_type": "code",
   "execution_count": 94,
   "metadata": {},
   "outputs": [
    {
     "name": "stdout",
     "output_type": "stream",
     "text": [
      "313/313 [==============================] - 2s 5ms/step - loss: 0.0696 - accuracy: 0.9845\n"
     ]
    }
   ],
   "source": [
    "score = leNet_model.evaluate(testData, testLabels)"
   ]
  },
  {
   "cell_type": "code",
   "execution_count": 96,
   "metadata": {},
   "outputs": [
    {
     "name": "stdout",
     "output_type": "stream",
     "text": [
      "Test loss: 6.960 %\n",
      "Test accuracy: 98.450 %\n"
     ]
    }
   ],
   "source": [
    "print('Test loss: {:.3f} %'.format(score[0] * 100))\n",
    "print('Test accuracy: {:.3f} %'.format(score[1] * 100))"
   ]
  },
  {
   "cell_type": "code",
   "execution_count": null,
   "metadata": {},
   "outputs": [],
   "source": []
  }
 ],
 "metadata": {
  "kernelspec": {
   "display_name": "tfgpu",
   "language": "python",
   "name": "tfgpu"
  },
  "language_info": {
   "codemirror_mode": {
    "name": "ipython",
    "version": 3
   },
   "file_extension": ".py",
   "mimetype": "text/x-python",
   "name": "python",
   "nbconvert_exporter": "python",
   "pygments_lexer": "ipython3",
   "version": "3.7.11"
  }
 },
 "nbformat": 4,
 "nbformat_minor": 4
}
