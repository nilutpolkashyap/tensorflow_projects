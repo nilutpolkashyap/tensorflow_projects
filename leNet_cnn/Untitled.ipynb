{
 "cells": [
  {
   "cell_type": "code",
   "execution_count": 1,
   "metadata": {},
   "outputs": [],
   "source": [
    "%config Completer.use_jedi = False"
   ]
  },
  {
   "cell_type": "code",
   "execution_count": 34,
   "metadata": {},
   "outputs": [],
   "source": [
    "from tensorflow.keras.models import Sequential\n",
    "from tensorflow.keras.layers import Conv2D, MaxPooling2D, Activation, Flatten, Dense, AveragePooling2D\n",
    "import tensorflow as tf\n",
    "from tensorflow.keras.datasets import mnist\n",
    "from tensorflow import keras\n",
    "from sklearn.model_selection import train_test_split"
   ]
  },
  {
   "cell_type": "code",
   "execution_count": 47,
   "metadata": {},
   "outputs": [],
   "source": [
    "(train_X, train_y), (testData, testLabels) = mnist.load_data()"
   ]
  },
  {
   "cell_type": "code",
   "execution_count": 48,
   "metadata": {},
   "outputs": [
    {
     "name": "stdout",
     "output_type": "stream",
     "text": [
      "Train Data shape :  (60000, 28, 28)\n",
      "Train Labels shape :  (60000,)\n",
      "Test Data shape :  (10000, 28, 28)\n",
      "Test Labels shape :  (10000,)\n"
     ]
    }
   ],
   "source": [
    "print(\"Train Data shape : \", train_X.shape)\n",
    "print(\"Train Labels shape : \", train_y.shape)\n",
    "print(\"Test Data shape : \", testData.shape)\n",
    "print(\"Test Labels shape : \", testLabels.shape)"
   ]
  },
  {
   "cell_type": "code",
   "execution_count": 49,
   "metadata": {},
   "outputs": [],
   "source": [
    "train_x = tf.expand_dims(train_X, 3)"
   ]
  },
  {
   "cell_type": "code",
   "execution_count": 50,
   "metadata": {},
   "outputs": [
    {
     "data": {
      "text/plain": [
       "TensorShape([60000, 28, 28, 1])"
      ]
     },
     "execution_count": 50,
     "metadata": {},
     "output_type": "execute_result"
    }
   ],
   "source": [
    "train_x.shape"
   ]
  },
  {
   "cell_type": "code",
   "execution_count": 67,
   "metadata": {},
   "outputs": [],
   "source": [
    "trainData, valData, trainLabels, valLabels = train_test_split(train_X, train_y, test_size=0.10, random_state=42)"
   ]
  },
  {
   "cell_type": "code",
   "execution_count": 68,
   "metadata": {},
   "outputs": [],
   "source": [
    "# reshape image dimensions\n",
    "trainData = trainData.reshape(trainData.shape[0], 28, 28, 1)\n",
    "valData = valData.reshape(valData.shape[0], 28, 28, 1)\n",
    "testData = testData.reshape(testData.shape[0], 28, 28, 1)"
   ]
  },
  {
   "cell_type": "code",
   "execution_count": 69,
   "metadata": {},
   "outputs": [
    {
     "name": "stdout",
     "output_type": "stream",
     "text": [
      "Train Data shape :  (54000, 28, 28, 1)\n",
      "Validation Data shape :  (6000, 28, 28, 1)\n",
      "Test Data shape :  (10000, 28, 28, 1)\n"
     ]
    }
   ],
   "source": [
    "print(\"Train Data shape : \", trainData.shape)\n",
    "print(\"Validation Data shape : \", valData.shape)\n",
    "print(\"Test Data shape : \", testData.shape)"
   ]
  },
  {
   "cell_type": "code",
   "execution_count": 70,
   "metadata": {},
   "outputs": [],
   "source": [
    "# Normalization\n",
    "trainData = tf.keras.utils.normalize(trainData, axis=1)\n",
    "valData = tf.keras.utils.normalize(valData, axis=1)\n",
    "testData = tf.keras.utils.normalize(testData, axis=1)"
   ]
  },
  {
   "cell_type": "code",
   "execution_count": 71,
   "metadata": {},
   "outputs": [
    {
     "data": {
      "text/plain": [
       "(28, 28, 1)"
      ]
     },
     "execution_count": 71,
     "metadata": {},
     "output_type": "execute_result"
    }
   ],
   "source": [
    "trainData[0].shape"
   ]
  },
  {
   "cell_type": "code",
   "execution_count": 72,
   "metadata": {},
   "outputs": [],
   "source": [
    "# Le-net 5 model building\n",
    "leNet_model = Sequential()\n",
    "leNet_model.add(Conv2D(filters=6, kernel_size=5, strides=1, activation='tanh', input_shape=trainData[0].shape, padding='valid'))\n",
    "leNet_model.add(AveragePooling2D())\n",
    "leNet_model.add(Conv2D(filters=16, kernel_size=5, strides=1, activation='tanh', padding='valid'))\n",
    "leNet_model.add(AveragePooling2D())\n",
    "leNet_model.add(Flatten())\n",
    "leNet_model.add(Dense(120, activation='tanh'))\n",
    "leNet_model.add(Dense(84, activation='tanh'))\n",
    "leNet_model.add(Dense(10, activation='softmax'))"
   ]
  },
  {
   "cell_type": "code",
   "execution_count": 73,
   "metadata": {},
   "outputs": [
    {
     "name": "stdout",
     "output_type": "stream",
     "text": [
      "Model: \"sequential_5\"\n",
      "_________________________________________________________________\n",
      "Layer (type)                 Output Shape              Param #   \n",
      "=================================================================\n",
      "conv2d_7 (Conv2D)            (None, 24, 24, 6)         156       \n",
      "_________________________________________________________________\n",
      "average_pooling2d_4 (Average (None, 12, 12, 6)         0         \n",
      "_________________________________________________________________\n",
      "conv2d_8 (Conv2D)            (None, 8, 8, 16)          2416      \n",
      "_________________________________________________________________\n",
      "average_pooling2d_5 (Average (None, 4, 4, 16)          0         \n",
      "_________________________________________________________________\n",
      "flatten_2 (Flatten)          (None, 256)               0         \n",
      "_________________________________________________________________\n",
      "dense_6 (Dense)              (None, 120)               30840     \n",
      "_________________________________________________________________\n",
      "dense_7 (Dense)              (None, 84)                10164     \n",
      "_________________________________________________________________\n",
      "dense_8 (Dense)              (None, 10)                850       \n",
      "=================================================================\n",
      "Total params: 44,426\n",
      "Trainable params: 44,426\n",
      "Non-trainable params: 0\n",
      "_________________________________________________________________\n"
     ]
    }
   ],
   "source": [
    "leNet_model.summary()"
   ]
  },
  {
   "cell_type": "code",
   "execution_count": 74,
   "metadata": {},
   "outputs": [],
   "source": [
    "leNet_model.compile(loss=keras.losses.sparse_categorical_crossentropy, optimizer=keras.optimizers.Adam(), metrics=['accuracy'])"
   ]
  },
  {
   "cell_type": "code",
   "execution_count": null,
   "metadata": {},
   "outputs": [
    {
     "name": "stdout",
     "output_type": "stream",
     "text": [
      "Epoch 1/10\n",
      "1688/1688 [==============================] - 9s 5ms/step - loss: 0.2888 - accuracy: 0.9124 - val_loss: 0.1347 - val_accuracy: 0.9637\n",
      "Epoch 2/10\n",
      "1688/1688 [==============================] - 7s 4ms/step - loss: 0.1181 - accuracy: 0.9643 - val_loss: 0.0954 - val_accuracy: 0.9693\n",
      "Epoch 3/10\n",
      "1688/1688 [==============================] - 7s 4ms/step - loss: 0.0822 - accuracy: 0.9742 - val_loss: 0.0785 - val_accuracy: 0.9765\n",
      "Epoch 4/10\n",
      "1688/1688 [==============================] - 7s 4ms/step - loss: 0.0625 - accuracy: 0.9801 - val_loss: 0.0654 - val_accuracy: 0.9812\n",
      "Epoch 5/10\n",
      "1688/1688 [==============================] - 7s 4ms/step - loss: 0.0479 - accuracy: 0.9850 - val_loss: 0.0620 - val_accuracy: 0.9810\n",
      "Epoch 6/10\n",
      "1688/1688 [==============================] - 7s 4ms/step - loss: 0.0386 - accuracy: 0.9875 - val_loss: 0.0620 - val_accuracy: 0.9817\n",
      "Epoch 7/10\n",
      " 860/1688 [==============>...............] - ETA: 3s - loss: 0.0302 - accuracy: 0.9910"
     ]
    }
   ],
   "source": [
    "leNet_model.fit(trainData, trainLabels, epochs=10, validation_data=(valData, valLabels))"
   ]
  },
  {
   "cell_type": "code",
   "execution_count": null,
   "metadata": {},
   "outputs": [],
   "source": [
    "predictions = leNet_model.predict(testData)"
   ]
  },
  {
   "cell_type": "code",
   "execution_count": null,
   "metadata": {},
   "outputs": [],
   "source": []
  },
  {
   "cell_type": "code",
   "execution_count": null,
   "metadata": {},
   "outputs": [],
   "source": [
    "leNet_model.evaluate(testData, testLabels)"
   ]
  },
  {
   "cell_type": "code",
   "execution_count": null,
   "metadata": {},
   "outputs": [],
   "source": []
  }
 ],
 "metadata": {
  "kernelspec": {
   "display_name": "tfgpu",
   "language": "python",
   "name": "tfgpu"
  },
  "language_info": {
   "codemirror_mode": {
    "name": "ipython",
    "version": 3
   },
   "file_extension": ".py",
   "mimetype": "text/x-python",
   "name": "python",
   "nbconvert_exporter": "python",
   "pygments_lexer": "ipython3",
   "version": "3.7.11"
  }
 },
 "nbformat": 4,
 "nbformat_minor": 4
}
