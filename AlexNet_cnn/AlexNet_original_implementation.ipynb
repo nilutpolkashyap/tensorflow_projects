{
 "cells": [
  {
   "cell_type": "code",
   "execution_count": 1,
   "metadata": {},
   "outputs": [],
   "source": [
    "%config Completer.use_jedi = False"
   ]
  },
  {
   "cell_type": "markdown",
   "metadata": {},
   "source": [
    "## Import Modules"
   ]
  },
  {
   "cell_type": "code",
   "execution_count": 2,
   "metadata": {},
   "outputs": [],
   "source": [
    "import tensorflow as tf\n",
    "from tensorflow import keras\n",
    "from tensorflow.keras.models import Sequential\n",
    "from tensorflow.keras.layers import Conv2D, MaxPooling2D, Dense, Flatten, Dropout, BatchNormalization\n",
    "from tensorflow.keras.datasets import cifar10\n",
    "\n",
    "from sklearn.model_selection import train_test_split\n",
    "import matplotlib.pyplot as plt\n",
    "import numpy as np"
   ]
  },
  {
   "cell_type": "markdown",
   "metadata": {},
   "source": [
    "## Load Dataset - CIFAR 10"
   ]
  },
  {
   "cell_type": "code",
   "execution_count": 3,
   "metadata": {},
   "outputs": [],
   "source": [
    "(train_X, train_y), (testData, testLabels) = cifar10.load_data()"
   ]
  },
  {
   "cell_type": "code",
   "execution_count": 4,
   "metadata": {},
   "outputs": [],
   "source": [
    "CLASS_NAMES= ['airplane', 'automobile', 'bird', 'cat', 'deer', 'dog', 'frog', 'horse', 'ship', 'truck']"
   ]
  },
  {
   "cell_type": "code",
   "execution_count": 5,
   "metadata": {},
   "outputs": [
    {
     "name": "stdout",
     "output_type": "stream",
     "text": [
      "(50000, 32, 32, 3)\n",
      "(50000, 1)\n",
      "(10000, 32, 32, 3)\n",
      "(10000, 1)\n"
     ]
    }
   ],
   "source": [
    "print(train_X.shape)\n",
    "print(train_y.shape)\n",
    "print(testData.shape)\n",
    "print(testLabels.shape)"
   ]
  },
  {
   "cell_type": "code",
   "execution_count": 6,
   "metadata": {},
   "outputs": [],
   "source": [
    "trainData, valData, trainLabels, valLabels = train_test_split(train_X, train_y, test_size=0.10, random_state=42)"
   ]
  },
  {
   "cell_type": "code",
   "execution_count": 7,
   "metadata": {},
   "outputs": [
    {
     "name": "stdout",
     "output_type": "stream",
     "text": [
      "(45000, 32, 32, 3)\n",
      "(45000, 1)\n",
      "(5000, 32, 32, 3)\n",
      "(5000, 1)\n"
     ]
    }
   ],
   "source": [
    "print(trainData.shape)\n",
    "print(trainLabels.shape)\n",
    "print(valData.shape)\n",
    "print(valLabels.shape)"
   ]
  },
  {
   "cell_type": "code",
   "execution_count": 8,
   "metadata": {},
   "outputs": [],
   "source": [
    "train_ds = tf.data.Dataset.from_tensor_slices((trainData, trainLabels))\n",
    "test_ds = tf.data.Dataset.from_tensor_slices((testData, testLabels))\n",
    "val_ds = tf.data.Dataset.from_tensor_slices((valData, valLabels))"
   ]
  },
  {
   "cell_type": "code",
   "execution_count": 9,
   "metadata": {},
   "outputs": [
    {
     "data": {
      "text/plain": [
       "tensorflow.python.data.ops.dataset_ops.TensorSliceDataset"
      ]
     },
     "execution_count": 9,
     "metadata": {},
     "output_type": "execute_result"
    }
   ],
   "source": [
    "type(train_ds)"
   ]
  },
  {
   "cell_type": "code",
   "execution_count": 10,
   "metadata": {},
   "outputs": [
    {
     "data": {
      "text/plain": [
       "<TensorSliceDataset shapes: ((32, 32, 3), (1,)), types: (tf.uint8, tf.uint8)>"
      ]
     },
     "execution_count": 10,
     "metadata": {},
     "output_type": "execute_result"
    }
   ],
   "source": [
    "train_ds"
   ]
  },
  {
   "cell_type": "code",
   "execution_count": 11,
   "metadata": {},
   "outputs": [
    {
     "name": "stdout",
     "output_type": "stream",
     "text": [
      "Train images array shape: (4, 32, 32, 3)\n"
     ]
    },
    {
     "data": {
      "image/png": "[encoded data removed]",
      "text/plain": [
       "<Figure size 1440x1440 with 4 Axes>"
      ]
     },
     "metadata": {
      "needs_background": "light"
     },
     "output_type": "display_data"
    }
   ],
   "source": [
    "plt.figure(figsize=(20,20))\n",
    "images = trainData[0:4]\n",
    "\n",
    "print (\"Train images array shape: {}\".format(images.shape))\n",
    "\n",
    "for i, test_image in enumerate(images, start=1):\n",
    "    plt.subplot(5,5,i+1)\n",
    "    plt.axis('off')\n",
    "    plt.imshow(test_image, cmap=plt.get_cmap('gray'))\n",
    "\n",
    "plt.show()"
   ]
  },
  {
   "cell_type": "code",
   "execution_count": 12,
   "metadata": {},
   "outputs": [
    {
     "name": "stdout",
     "output_type": "stream",
     "text": [
      "Training data size: 45000\n",
      "Test data size: 10000\n",
      "Validation data size: 5000\n"
     ]
    }
   ],
   "source": [
    "train_ds_size = tf.data.experimental.cardinality(train_ds).numpy()\n",
    "test_ds_size = tf.data.experimental.cardinality(test_ds).numpy()\n",
    "val_ds_size = tf.data.experimental.cardinality(val_ds).numpy()\n",
    "print(\"Training data size:\", train_ds_size)\n",
    "print(\"Test data size:\", test_ds_size)\n",
    "print(\"Validation data size:\", val_ds_size)"
   ]
  },
  {
   "cell_type": "code",
   "execution_count": 13,
   "metadata": {},
   "outputs": [],
   "source": [
    "def process_images(image, label):\n",
    "    # Normalize images to have a mean of 0 and standard deviation of 1\n",
    "    image = tf.image.per_image_standardization(image)\n",
    "    # Resize images from 32x32 to 277x277\n",
    "    image = tf.image.resize(image, (128,128))\n",
    "    return image, label"
   ]
  },
  {
   "cell_type": "code",
   "execution_count": 14,
   "metadata": {},
   "outputs": [],
   "source": [
    "train_ds = (train_ds.map(process_images).shuffle(buffer_size=train_ds_size).batch(batch_size=32, drop_remainder=True))\n",
    "test_ds = (test_ds.map(process_images).shuffle(buffer_size=train_ds_size).batch(batch_size=32, drop_remainder=True))\n",
    "val_ds = (val_ds.map(process_images).shuffle(buffer_size=train_ds_size).batch(batch_size=32, drop_remainder=True))"
   ]
  },
  {
   "cell_type": "markdown",
   "metadata": {},
   "source": [
    "## Create AlexNet Model"
   ]
  },
  {
   "cell_type": "code",
   "execution_count": 15,
   "metadata": {},
   "outputs": [
    {
     "name": "stdout",
     "output_type": "stream",
     "text": [
      "(128, 128, 3)\n"
     ]
    }
   ],
   "source": [
    "input_shape = (128,128,3)\n",
    "print(input_shape)"
   ]
  },
  {
   "cell_type": "code",
   "execution_count": 16,
   "metadata": {},
   "outputs": [],
   "source": [
    "alexNet_model = Sequential()\n",
    "alexNet_model.add(Conv2D(filters=96, kernel_size=11, strides=4, activation='relu', input_shape=input_shape))\n",
    "alexNet_model.add(BatchNormalization())\n",
    "alexNet_model.add(MaxPooling2D(pool_size=3, strides=2))\n",
    "alexNet_model.add(Conv2D(filters=256, kernel_size=5, strides=1, activation='relu', padding='same'))\n",
    "alexNet_model.add(BatchNormalization())\n",
    "alexNet_model.add(MaxPooling2D(pool_size=3, strides=2))\n",
    "alexNet_model.add(Conv2D(filters=384, kernel_size=3, strides=1, activation='relu', padding='same'))\n",
    "alexNet_model.add(BatchNormalization())\n",
    "alexNet_model.add(Conv2D(filters=384, kernel_size=3, strides=1, activation='relu', padding='same'))\n",
    "alexNet_model.add(BatchNormalization())\n",
    "alexNet_model.add(Conv2D(filters=256, kernel_size=3, strides=1, activation='relu', padding='same'))\n",
    "alexNet_model.add(BatchNormalization())\n",
    "alexNet_model.add(MaxPooling2D(pool_size=(3,3), strides=2))\n",
    "alexNet_model.add(Flatten())\n",
    "alexNet_model.add(Dense(4096, activation='relu'))\n",
    "alexNet_model.add(Dense(4096, activation='relu'))\n",
    "alexNet_model.add(Dense(10, activation='softmax'))"
   ]
  },
  {
   "cell_type": "code",
   "execution_count": 17,
   "metadata": {},
   "outputs": [
    {
     "name": "stdout",
     "output_type": "stream",
     "text": [
      "Model: \"sequential\"\n",
      "_________________________________________________________________\n",
      "Layer (type)                 Output Shape              Param #   \n",
      "=================================================================\n",
      "conv2d (Conv2D)              (None, 30, 30, 96)        34944     \n",
      "_________________________________________________________________\n",
      "batch_normalization (BatchNo (None, 30, 30, 96)        384       \n",
      "_________________________________________________________________\n",
      "max_pooling2d (MaxPooling2D) (None, 14, 14, 96)        0         \n",
      "_________________________________________________________________\n",
      "conv2d_1 (Conv2D)            (None, 14, 14, 256)       614656    \n",
      "_________________________________________________________________\n",
      "batch_normalization_1 (Batch (None, 14, 14, 256)       1024      \n",
      "_________________________________________________________________\n",
      "max_pooling2d_1 (MaxPooling2 (None, 6, 6, 256)         0         \n",
      "_________________________________________________________________\n",
      "conv2d_2 (Conv2D)            (None, 6, 6, 384)         885120    \n",
      "_________________________________________________________________\n",
      "batch_normalization_2 (Batch (None, 6, 6, 384)         1536      \n",
      "_________________________________________________________________\n",
      "conv2d_3 (Conv2D)            (None, 6, 6, 384)         1327488   \n",
      "_________________________________________________________________\n",
      "batch_normalization_3 (Batch (None, 6, 6, 384)         1536      \n",
      "_________________________________________________________________\n",
      "conv2d_4 (Conv2D)            (None, 6, 6, 256)         884992    \n",
      "_________________________________________________________________\n",
      "batch_normalization_4 (Batch (None, 6, 6, 256)         1024      \n",
      "_________________________________________________________________\n",
      "max_pooling2d_2 (MaxPooling2 (None, 2, 2, 256)         0         \n",
      "_________________________________________________________________\n",
      "flatten (Flatten)            (None, 1024)              0         \n",
      "_________________________________________________________________\n",
      "dense (Dense)                (None, 4096)              4198400   \n",
      "_________________________________________________________________\n",
      "dense_1 (Dense)              (None, 4096)              16781312  \n",
      "_________________________________________________________________\n",
      "dense_2 (Dense)              (None, 10)                40970     \n",
      "=================================================================\n",
      "Total params: 24,773,386\n",
      "Trainable params: 24,770,634\n",
      "Non-trainable params: 2,752\n",
      "_________________________________________________________________\n"
     ]
    }
   ],
   "source": [
    "alexNet_model.summary()"
   ]
  },
  {
   "cell_type": "code",
   "execution_count": 18,
   "metadata": {},
   "outputs": [],
   "source": [
    "alexNet_model.compile(loss=keras.losses.sparse_categorical_crossentropy, optimizer=keras.optimizers.Adam(), metrics=['accuracy'])"
   ]
  },
  {
   "cell_type": "code",
   "execution_count": 19,
   "metadata": {},
   "outputs": [],
   "source": [
    "EPOCHS = 50"
   ]
  },
  {
   "cell_type": "code",
   "execution_count": 20,
   "metadata": {},
   "outputs": [
    {
     "name": "stdout",
     "output_type": "stream",
     "text": [
      "Epoch 1/50\n",
      "1406/1406 [==============================] - 56s 33ms/step - loss: 1.5782 - accuracy: 0.4555 - val_loss: 1.3852 - val_accuracy: 0.5152\n",
      "Epoch 2/50\n",
      "1406/1406 [==============================] - 55s 37ms/step - loss: 1.0599 - accuracy: 0.6331 - val_loss: 1.0108 - val_accuracy: 0.6398\n",
      "Epoch 3/50\n",
      "1406/1406 [==============================] - 65s 41ms/step - loss: 0.8235 - accuracy: 0.7165 - val_loss: 0.7742 - val_accuracy: 0.7362\n",
      "Epoch 4/50\n",
      "1406/1406 [==============================] - 59s 39ms/step - loss: 0.6754 - accuracy: 0.7667 - val_loss: 0.9541 - val_accuracy: 0.6957\n",
      "Epoch 5/50\n",
      "1406/1406 [==============================] - 57s 38ms/step - loss: 0.5588 - accuracy: 0.8093 - val_loss: 0.6799 - val_accuracy: 0.7752\n",
      "Epoch 6/50\n",
      "1406/1406 [==============================] - 60s 39ms/step - loss: 0.4620 - accuracy: 0.8425 - val_loss: 0.6212 - val_accuracy: 0.7961\n",
      "Epoch 7/50\n",
      "1406/1406 [==============================] - 67s 45ms/step - loss: 0.3804 - accuracy: 0.8707 - val_loss: 0.6287 - val_accuracy: 0.8013\n",
      "Epoch 8/50\n",
      "1406/1406 [==============================] - 65s 42ms/step - loss: 0.2967 - accuracy: 0.8996 - val_loss: 0.7041 - val_accuracy: 0.7987\n",
      "Epoch 9/50\n",
      "1406/1406 [==============================] - 129s 88ms/step - loss: 0.2418 - accuracy: 0.9175 - val_loss: 0.7176 - val_accuracy: 0.8065\n",
      "Epoch 10/50\n",
      "1406/1406 [==============================] - 203s 137ms/step - loss: 0.2012 - accuracy: 0.9314 - val_loss: 0.7671 - val_accuracy: 0.8009\n",
      "Epoch 11/50\n",
      "1406/1406 [==============================] - 193s 128ms/step - loss: 0.1660 - accuracy: 0.9443 - val_loss: 0.7557 - val_accuracy: 0.8043\n",
      "Epoch 12/50\n",
      "1406/1406 [==============================] - 86s 56ms/step - loss: 0.1370 - accuracy: 0.9537 - val_loss: 0.7751 - val_accuracy: 0.8089\n",
      "Epoch 13/50\n",
      "1406/1406 [==============================] - 75s 48ms/step - loss: 0.1229 - accuracy: 0.9600 - val_loss: 0.8353 - val_accuracy: 0.8123\n",
      "Epoch 14/50\n",
      "1406/1406 [==============================] - 70s 43ms/step - loss: 0.1132 - accuracy: 0.9634 - val_loss: 0.8228 - val_accuracy: 0.8133\n",
      "Epoch 15/50\n",
      "1406/1406 [==============================] - 66s 42ms/step - loss: 0.1019 - accuracy: 0.9664 - val_loss: 0.9341 - val_accuracy: 0.7945\n",
      "Epoch 16/50\n",
      "1406/1406 [==============================] - 67s 42ms/step - loss: 0.0907 - accuracy: 0.9701 - val_loss: 0.8850 - val_accuracy: 0.8087\n",
      "Epoch 17/50\n",
      "1406/1406 [==============================] - 74s 46ms/step - loss: 0.0849 - accuracy: 0.9720 - val_loss: 0.8000 - val_accuracy: 0.8101\n",
      "Epoch 18/50\n",
      "1406/1406 [==============================] - 70s 44ms/step - loss: 0.0825 - accuracy: 0.9734 - val_loss: 0.8905 - val_accuracy: 0.8187\n",
      "Epoch 19/50\n",
      "1406/1406 [==============================] - 73s 46ms/step - loss: 0.0762 - accuracy: 0.9746 - val_loss: 0.9683 - val_accuracy: 0.8019\n",
      "Epoch 20/50\n",
      "1406/1406 [==============================] - 80s 49ms/step - loss: 0.0699 - accuracy: 0.9777 - val_loss: 0.9175 - val_accuracy: 0.8153\n",
      "Epoch 21/50\n",
      "1406/1406 [==============================] - 74s 46ms/step - loss: 0.0693 - accuracy: 0.9779 - val_loss: 0.9242 - val_accuracy: 0.8215\n",
      "Epoch 22/50\n",
      "1406/1406 [==============================] - 80s 48ms/step - loss: 0.0619 - accuracy: 0.9802 - val_loss: 0.9120 - val_accuracy: 0.8147\n",
      "Epoch 23/50\n",
      "1406/1406 [==============================] - 85s 51ms/step - loss: 0.0604 - accuracy: 0.9808 - val_loss: 1.0073 - val_accuracy: 0.8133\n",
      "Epoch 24/50\n",
      "1406/1406 [==============================] - 81s 49ms/step - loss: 0.0592 - accuracy: 0.9813 - val_loss: 0.9940 - val_accuracy: 0.8225\n",
      "Epoch 25/50\n",
      "1406/1406 [==============================] - 83s 50ms/step - loss: 0.0584 - accuracy: 0.9813 - val_loss: 1.0152 - val_accuracy: 0.8053\n",
      "Epoch 26/50\n",
      "1406/1406 [==============================] - 83s 50ms/step - loss: 0.0541 - accuracy: 0.9830 - val_loss: 1.0857 - val_accuracy: 0.7889\n",
      "Epoch 27/50\n",
      "1406/1406 [==============================] - 89s 53ms/step - loss: 0.0543 - accuracy: 0.9832 - val_loss: 0.9896 - val_accuracy: 0.8127\n",
      "Epoch 28/50\n",
      "1406/1406 [==============================] - 91s 54ms/step - loss: 0.0511 - accuracy: 0.9841 - val_loss: 1.1591 - val_accuracy: 0.8089\n",
      "Epoch 29/50\n",
      "1406/1406 [==============================] - 97s 57ms/step - loss: 0.0580 - accuracy: 0.9828 - val_loss: 1.0455 - val_accuracy: 0.8049\n",
      "Epoch 30/50\n",
      "1406/1406 [==============================] - 95s 55ms/step - loss: 0.0432 - accuracy: 0.9866 - val_loss: 1.0258 - val_accuracy: 0.8179\n",
      "Epoch 31/50\n",
      "1406/1406 [==============================] - 102s 58ms/step - loss: 0.0443 - accuracy: 0.9858 - val_loss: 1.0422 - val_accuracy: 0.8263\n",
      "Epoch 32/50\n",
      "1406/1406 [==============================] - 97s 56ms/step - loss: 0.0473 - accuracy: 0.9855 - val_loss: 0.8448 - val_accuracy: 0.8265\n",
      "Epoch 33/50\n",
      "1406/1406 [==============================] - 104s 59ms/step - loss: 0.0433 - accuracy: 0.9863 - val_loss: 1.0098 - val_accuracy: 0.8203\n",
      "Epoch 34/50\n",
      "1406/1406 [==============================] - 100s 57ms/step - loss: 0.0396 - accuracy: 0.9870 - val_loss: 0.9751 - val_accuracy: 0.8123\n",
      "Epoch 35/50\n",
      "1406/1406 [==============================] - 100s 57ms/step - loss: 0.0394 - accuracy: 0.9873 - val_loss: 1.0645 - val_accuracy: 0.8207\n",
      "Epoch 36/50\n",
      "1406/1406 [==============================] - 107s 60ms/step - loss: 0.0326 - accuracy: 0.9895 - val_loss: 1.1450 - val_accuracy: 0.8123\n",
      "Epoch 37/50\n",
      "1406/1406 [==============================] - 110s 62ms/step - loss: 0.0428 - accuracy: 0.9864 - val_loss: 1.1674 - val_accuracy: 0.8223\n",
      "Epoch 38/50\n",
      "1406/1406 [==============================] - 117s 64ms/step - loss: 0.0317 - accuracy: 0.9902 - val_loss: 1.0666 - val_accuracy: 0.8215\n",
      "Epoch 39/50\n",
      "1406/1406 [==============================] - 110s 61ms/step - loss: 0.0364 - accuracy: 0.9889 - val_loss: 1.0369 - val_accuracy: 0.8243\n",
      "Epoch 40/50\n",
      "1406/1406 [==============================] - 117s 64ms/step - loss: 0.0354 - accuracy: 0.9894 - val_loss: 1.0206 - val_accuracy: 0.8047\n",
      "Epoch 41/50\n",
      "1406/1406 [==============================] - 116s 63ms/step - loss: 0.0340 - accuracy: 0.9893 - val_loss: 1.0911 - val_accuracy: 0.8149\n",
      "Epoch 42/50\n",
      "1406/1406 [==============================] - 131s 71ms/step - loss: 0.0331 - accuracy: 0.9897 - val_loss: 0.9688 - val_accuracy: 0.8201\n",
      "Epoch 43/50\n",
      "1406/1406 [==============================] - 125s 67ms/step - loss: 0.0311 - accuracy: 0.9904 - val_loss: 1.1031 - val_accuracy: 0.8177\n",
      "Epoch 44/50\n",
      "1406/1406 [==============================] - 129s 70ms/step - loss: 0.0329 - accuracy: 0.9892 - val_loss: 1.0165 - val_accuracy: 0.8193\n",
      "Epoch 45/50\n",
      "1406/1406 [==============================] - 149s 80ms/step - loss: 0.0342 - accuracy: 0.9894 - val_loss: 1.2874 - val_accuracy: 0.8145\n",
      "Epoch 46/50\n",
      "1406/1406 [==============================] - 155s 79ms/step - loss: 0.0287 - accuracy: 0.9913 - val_loss: 1.2813 - val_accuracy: 0.8115\n",
      "Epoch 47/50\n",
      "1406/1406 [==============================] - 124s 66ms/step - loss: 0.0258 - accuracy: 0.9922 - val_loss: 1.0407 - val_accuracy: 0.8329\n",
      "Epoch 48/50\n",
      "1406/1406 [==============================] - 133s 70ms/step - loss: 0.0270 - accuracy: 0.9917 - val_loss: 1.0983 - val_accuracy: 0.8283\n",
      "Epoch 49/50\n",
      "1406/1406 [==============================] - 144s 74ms/step - loss: 0.0308 - accuracy: 0.9906 - val_loss: 1.0517 - val_accuracy: 0.8275\n",
      "Epoch 50/50\n",
      "1406/1406 [==============================] - 128s 68ms/step - loss: 0.0284 - accuracy: 0.9908 - val_loss: 1.0910 - val_accuracy: 0.8243\n"
     ]
    }
   ],
   "source": [
    "history = alexNet_model.fit(train_ds, epochs=EPOCHS, validation_data=val_ds)"
   ]
  },
  {
   "cell_type": "code",
   "execution_count": 21,
   "metadata": {},
   "outputs": [
    {
     "name": "stdout",
     "output_type": "stream",
     "text": [
      "DONE\n"
     ]
    }
   ],
   "source": [
    "print(\"DONE\")"
   ]
  },
  {
   "cell_type": "code",
   "execution_count": 22,
   "metadata": {},
   "outputs": [],
   "source": [
    "acc = history.history['accuracy']\n",
    "loss=history.history['loss']"
   ]
  },
  {
   "cell_type": "code",
   "execution_count": 23,
   "metadata": {},
   "outputs": [
    {
     "data": {
      "text/plain": [
       "Text(0.5, 1.0, 'Training Accuracy and Loss')"
      ]
     },
     "execution_count": 23,
     "metadata": {},
     "output_type": "execute_result"
    },
    {
     "data": {
      "image/png": "[encoded data removed]",
      "text/plain": [
       "<Figure size 576x576 with 1 Axes>"
      ]
     },
     "metadata": {
      "needs_background": "light"
     },
     "output_type": "display_data"
    }
   ],
   "source": [
    "epochs_range = range(EPOCHS)\n",
    "\n",
    "plt.figure(figsize=(8, 8))\n",
    "plt.plot(epochs_range, acc, label='Training Accuracy')\n",
    "plt.plot(epochs_range, loss, label='Loss')\n",
    "plt.legend(loc='center right')\n",
    "plt.title('Training Accuracy and Loss')"
   ]
  },
  {
   "cell_type": "code",
   "execution_count": 31,
   "metadata": {},
   "outputs": [
    {
     "name": "stdout",
     "output_type": "stream",
     "text": [
      "312/312 [==============================] - 37s 89ms/step - loss: 1.1787 - accuracy: 0.81261s - loss: 1.1856 - accuracy: 0.81 - ETA: 1s - loss: 1.1854 - accuracy: 0.81 - ETA: 1s - l\n"
     ]
    }
   ],
   "source": [
    "score = alexNet_model.evaluate(test_ds)"
   ]
  },
  {
   "cell_type": "code",
   "execution_count": 34,
   "metadata": {},
   "outputs": [
    {
     "name": "stdout",
     "output_type": "stream",
     "text": [
      "Test loss: 1.1787457466125488\n",
      "Test accuracy: 0.8126001358032227\n"
     ]
    }
   ],
   "source": [
    "print('Test loss: {}'.format(score[0]))\n",
    "print('Test accuracy: {}'.format(score[1] ))"
   ]
  },
  {
   "cell_type": "code",
   "execution_count": 24,
   "metadata": {},
   "outputs": [],
   "source": [
    "alexNet_model.save('AlexNet_model.h5')"
   ]
  },
  {
   "cell_type": "code",
   "execution_count": 29,
   "metadata": {},
   "outputs": [
    {
     "name": "stdout",
     "output_type": "stream",
     "text": [
      "312/312 [==============================] - 45s 81ms/step - loss: 1.0991 - accuracy: 0.8220\n"
     ]
    }
   ],
   "source": [
    "score = alexNet_model.evaluate(test_ds)"
   ]
  },
  {
   "cell_type": "code",
   "execution_count": 31,
   "metadata": {},
   "outputs": [
    {
     "name": "stdout",
     "output_type": "stream",
     "text": [
      "Test loss: 1.0990537405014038 \n",
      "Test accuracy: 0.8220152258872986\n"
     ]
    }
   ],
   "source": [
    "print('Test loss: {} '.format(score[0] ))\n",
    "print('Test accuracy: {}'.format(score[1]))"
   ]
  },
  {
   "cell_type": "code",
   "execution_count": 30,
   "metadata": {},
   "outputs": [],
   "source": [
    "loaded_AlexNet_model = keras.models.load_model('AlexNet_model.h5')"
   ]
  },
  {
   "cell_type": "code",
   "execution_count": null,
   "metadata": {},
   "outputs": [],
   "source": [
    "# predictions = AlexNet_model.predict(testData)\n",
    "image = (testXData[0]).reshape(1, 32,32,3)\n",
    "predictions = np.argmax(alexNet_model.predict(image), axis=-1)"
   ]
  },
  {
   "cell_type": "code",
   "execution_count": 43,
   "metadata": {},
   "outputs": [],
   "source": [
    "# reshape image dimensions\n",
    "trainXData = trainData.reshape(trainData.shape[0], 32, 32, 3)\n",
    "valXData = valData.reshape(valData.shape[0], 32, 32, 3)\n",
    "testXData = testData.reshape(testData.shape[0], 32, 32, 3)"
   ]
  },
  {
   "cell_type": "code",
   "execution_count": 44,
   "metadata": {},
   "outputs": [],
   "source": [
    "# Normalization\n",
    "trainXData = tf.keras.utils.normalize(trainXData, axis=1)\n",
    "valXData = tf.keras.utils.normalize(valXData, axis=1)\n",
    "testXData = tf.keras.utils.normalize(testXData, axis=1)"
   ]
  },
  {
   "cell_type": "code",
   "execution_count": 47,
   "metadata": {},
   "outputs": [
    {
     "data": {
      "text/plain": [
       "(32, 32, 3)"
      ]
     },
     "execution_count": 47,
     "metadata": {},
     "output_type": "execute_result"
    }
   ],
   "source": [
    "testXData[0].shape"
   ]
  },
  {
   "cell_type": "code",
   "execution_count": null,
   "metadata": {},
   "outputs": [],
   "source": []
  }
 ],
 "metadata": {
  "kernelspec": {
   "display_name": "tfgpu",
   "language": "python",
   "name": "tfgpu"
  },
  "language_info": {
   "codemirror_mode": {
    "name": "ipython",
    "version": 3
   },
   "file_extension": ".py",
   "mimetype": "text/x-python",
   "name": "python",
   "nbconvert_exporter": "python",
   "pygments_lexer": "ipython3",
   "version": "3.7.11"
  }
 },
 "nbformat": 4,
 "nbformat_minor": 4
}
