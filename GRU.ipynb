{
 "cells": [
  {
   "cell_type": "code",
   "execution_count": 6,
   "metadata": {},
   "outputs": [],
   "source": [
    "%config Completer.use_jedi = False"
   ]
  },
  {
   "cell_type": "code",
   "execution_count": 13,
   "metadata": {},
   "outputs": [],
   "source": [
    "import tensorflow as tf\n",
    "from tensorflow import keras\n",
    "from tensorflow.keras.models import Sequential\n",
    "from tensorflow.keras.layers import SimpleRNN, GRU, LSTM, InputLayer, Bidirectional, Dense\n",
    "from tensorflow.keras.datasets import mnist\n",
    "\n",
    "import numpy as np\n",
    "import matplotlib.pyplot as plt"
   ]
  },
  {
   "cell_type": "code",
   "execution_count": 8,
   "metadata": {},
   "outputs": [],
   "source": [
    "(x_train, y_train), (x_test, y_test) = mnist.load_data()"
   ]
  },
  {
   "cell_type": "code",
   "execution_count": 9,
   "metadata": {},
   "outputs": [],
   "source": [
    "x_train = x_train.reshape([-1, 28, 28]).astype(\"float32\") / 255.0\n",
    "x_test = x_test.reshape([-1, 28, 28]).astype(\"float32\") / 255.0"
   ]
  },
  {
   "cell_type": "code",
   "execution_count": 22,
   "metadata": {},
   "outputs": [],
   "source": [
    "model = keras.Sequential()\n",
    "model.add(InputLayer(input_shape=(None, 28)))\n",
    "model.add(GRU(256, return_sequences=True, activation=\"tanh\", recurrent_activation = 'sigmoid', reset_after = True, use_bias = True, recurrent_dropout = 0, unroll = False))\n",
    "model.add(GRU(256, activation='tanh', recurrent_activation = 'sigmoid', reset_after = True, use_bias = True, recurrent_dropout = 0, unroll = False))\n",
    "model.add(Dense(10))"
   ]
  },
  {
   "cell_type": "code",
   "execution_count": 23,
   "metadata": {},
   "outputs": [
    {
     "name": "stdout",
     "output_type": "stream",
     "text": [
      "Model: \"sequential_4\"\n",
      "_________________________________________________________________\n",
      "Layer (type)                 Output Shape              Param #   \n",
      "=================================================================\n",
      "gru_8 (GRU)                  (None, None, 256)         219648    \n",
      "_________________________________________________________________\n",
      "gru_9 (GRU)                  (None, 256)               394752    \n",
      "_________________________________________________________________\n",
      "dense_4 (Dense)              (None, 10)                2570      \n",
      "=================================================================\n",
      "Total params: 616,970\n",
      "Trainable params: 616,970\n",
      "Non-trainable params: 0\n",
      "_________________________________________________________________\n"
     ]
    }
   ],
   "source": [
    "model.summary()"
   ]
  },
  {
   "cell_type": "code",
   "execution_count": 24,
   "metadata": {},
   "outputs": [],
   "source": [
    "model.compile(\n",
    "    loss=keras.losses.SparseCategoricalCrossentropy(from_logits=True),\n",
    "    optimizer=keras.optimizers.Adam(learning_rate=0.001),\n",
    "    metrics=[\"accuracy\"],\n",
    ")"
   ]
  },
  {
   "cell_type": "code",
   "execution_count": 25,
   "metadata": {},
   "outputs": [],
   "source": [
    "EPOCHS = 10"
   ]
  },
  {
   "cell_type": "code",
   "execution_count": 26,
   "metadata": {},
   "outputs": [
    {
     "name": "stdout",
     "output_type": "stream",
     "text": [
      "Epoch 1/10\n",
      "938/938 - 22s - loss: 0.2718 - accuracy: 0.9111\n",
      "Epoch 2/10\n",
      "938/938 - 20s - loss: 0.0661 - accuracy: 0.9797\n",
      "Epoch 3/10\n",
      "938/938 - 21s - loss: 0.0465 - accuracy: 0.9857\n",
      "Epoch 4/10\n",
      "938/938 - 23s - loss: 0.0329 - accuracy: 0.9899\n",
      "Epoch 5/10\n",
      "938/938 - 20s - loss: 0.0316 - accuracy: 0.9897\n",
      "Epoch 6/10\n",
      "938/938 - 21s - loss: 0.0236 - accuracy: 0.9926\n",
      "Epoch 7/10\n",
      "938/938 - 20s - loss: 0.0218 - accuracy: 0.9933\n",
      "Epoch 8/10\n",
      "938/938 - 19s - loss: 0.0197 - accuracy: 0.9936\n",
      "Epoch 9/10\n",
      "938/938 - 20s - loss: 0.0165 - accuracy: 0.9949\n",
      "Epoch 10/10\n",
      "938/938 - 21s - loss: 0.0131 - accuracy: 0.9960\n"
     ]
    }
   ],
   "source": [
    "history = model.fit(x_train, y_train, batch_size=64, epochs=EPOCHS, verbose=2)"
   ]
  },
  {
   "cell_type": "code",
   "execution_count": 27,
   "metadata": {},
   "outputs": [
    {
     "name": "stdout",
     "output_type": "stream",
     "text": [
      "[0.9110666513442993, 0.9796500205993652, 0.9857000112533569, 0.9898999929428101, 0.9897333383560181, 0.9925666451454163, 0.9932500123977661, 0.9936000108718872, 0.994866669178009, 0.9959666728973389]\n",
      "[0.271767795085907, 0.06607511639595032, 0.04650513082742691, 0.03285067155957222, 0.03161533549427986, 0.0236044991761446, 0.021834973245859146, 0.01966620422899723, 0.016494326293468475, 0.01309779193252325]\n"
     ]
    }
   ],
   "source": [
    "acc = history.history['accuracy']\n",
    "loss=history.history['loss']\n",
    "print(acc)\n",
    "print(loss)"
   ]
  },
  {
   "cell_type": "code",
   "execution_count": 28,
   "metadata": {},
   "outputs": [
    {
     "data": {
      "text/plain": [
       "Text(0.5, 1.0, 'Training Accuracy and Loss')"
      ]
     },
     "execution_count": 28,
     "metadata": {},
     "output_type": "execute_result"
    },
    {
     "data": {
      "image/png": "[encoded data removed]",
      "text/plain": [
       "<Figure size 576x576 with 1 Axes>"
      ]
     },
     "metadata": {
      "needs_background": "light"
     },
     "output_type": "display_data"
    }
   ],
   "source": [
    "epochs_range = range(EPOCHS)\n",
    "\n",
    "plt.figure(figsize=(8, 8))\n",
    "plt.plot(epochs_range, acc, label='Training Accuracy')\n",
    "plt.plot(epochs_range, loss, label='Loss')\n",
    "plt.legend(loc='center right')\n",
    "plt.title('Training Accuracy and Loss')"
   ]
  },
  {
   "cell_type": "code",
   "execution_count": 29,
   "metadata": {},
   "outputs": [
    {
     "name": "stdout",
     "output_type": "stream",
     "text": [
      "157/157 - 2s - loss: 0.0660 - accuracy: 0.9795\n"
     ]
    },
    {
     "data": {
      "text/plain": [
       "[0.06602592766284943, 0.9794999957084656]"
      ]
     },
     "execution_count": 29,
     "metadata": {},
     "output_type": "execute_result"
    }
   ],
   "source": [
    "model.evaluate(x_test, y_test, batch_size=64, verbose=2)"
   ]
  },
  {
   "cell_type": "code",
   "execution_count": 31,
   "metadata": {},
   "outputs": [],
   "source": [
    "model.save('saved_models/gru_model.h5')"
   ]
  },
  {
   "cell_type": "code",
   "execution_count": null,
   "metadata": {},
   "outputs": [],
   "source": []
  }
 ],
 "metadata": {
  "kernelspec": {
   "display_name": "tfgpu",
   "language": "python",
   "name": "tfgpu"
  },
  "language_info": {
   "codemirror_mode": {
    "name": "ipython",
    "version": 3
   },
   "file_extension": ".py",
   "mimetype": "text/x-python",
   "name": "python",
   "nbconvert_exporter": "python",
   "pygments_lexer": "ipython3",
   "version": "3.7.11"
  }
 },
 "nbformat": 4,
 "nbformat_minor": 4
}
