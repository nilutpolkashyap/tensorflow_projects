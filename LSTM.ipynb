{
 "cells": [
  {
   "cell_type": "code",
   "execution_count": 1,
   "metadata": {},
   "outputs": [],
   "source": [
    "%config Completer.use_jedi = False"
   ]
  },
  {
   "cell_type": "code",
   "execution_count": 14,
   "metadata": {},
   "outputs": [],
   "source": [
    "import tensorflow as tf\n",
    "from tensorflow import keras\n",
    "from tensorflow.keras.models import Sequential\n",
    "from tensorflow.keras.layers import SimpleRNN, GRU, LSTM, InputLayer, Bidirectional, Dense, LSTMCell\n",
    "from tensorflow.keras.datasets import mnist\n",
    "\n",
    "import numpy as np\n",
    "import matplotlib.pyplot as plt"
   ]
  },
  {
   "cell_type": "code",
   "execution_count": 3,
   "metadata": {},
   "outputs": [],
   "source": [
    "(x_train, y_train), (x_test, y_test) = mnist.load_data()"
   ]
  },
  {
   "cell_type": "code",
   "execution_count": 4,
   "metadata": {},
   "outputs": [],
   "source": [
    "x_train = x_train.reshape([-1, 28, 28]).astype(\"float32\") / 255.0\n",
    "x_test = x_test.reshape([-1, 28, 28]).astype(\"float32\") / 255.0"
   ]
  },
  {
   "cell_type": "code",
   "execution_count": 18,
   "metadata": {},
   "outputs": [],
   "source": [
    "model = keras.Sequential()\n",
    "model.add(InputLayer(input_shape=(None, 28)))\n",
    "model.add(LSTM(256, return_sequences=True, activation=\"tanh\", recurrent_activation = 'sigmoid', use_bias = True, recurrent_dropout = 0, unroll = False))\n",
    "model.add(LSTM(256, activation=\"tanh\", recurrent_activation = 'sigmoid', use_bias = True, recurrent_dropout = 0, unroll = False))\n",
    "model.add(Dense(10))"
   ]
  },
  {
   "cell_type": "code",
   "execution_count": 19,
   "metadata": {},
   "outputs": [
    {
     "name": "stdout",
     "output_type": "stream",
     "text": [
      "Model: \"sequential_4\"\n",
      "_________________________________________________________________\n",
      "Layer (type)                 Output Shape              Param #   \n",
      "=================================================================\n",
      "lstm_4 (LSTM)                (None, None, 256)         291840    \n",
      "_________________________________________________________________\n",
      "lstm_5 (LSTM)                (None, 256)               525312    \n",
      "_________________________________________________________________\n",
      "dense_2 (Dense)              (None, 10)                2570      \n",
      "=================================================================\n",
      "Total params: 819,722\n",
      "Trainable params: 819,722\n",
      "Non-trainable params: 0\n",
      "_________________________________________________________________\n"
     ]
    }
   ],
   "source": [
    "model.summary()"
   ]
  },
  {
   "cell_type": "code",
   "execution_count": 20,
   "metadata": {},
   "outputs": [],
   "source": [
    "model.compile(\n",
    "    loss=keras.losses.SparseCategoricalCrossentropy(from_logits=True),\n",
    "    optimizer=keras.optimizers.Adam(learning_rate=0.001),\n",
    "    metrics=[\"accuracy\"],\n",
    ")"
   ]
  },
  {
   "cell_type": "code",
   "execution_count": 21,
   "metadata": {},
   "outputs": [],
   "source": [
    "EPOCHS = 20"
   ]
  },
  {
   "cell_type": "code",
   "execution_count": 22,
   "metadata": {},
   "outputs": [
    {
     "name": "stdout",
     "output_type": "stream",
     "text": [
      "Epoch 1/20\n",
      "938/938 - 27s - loss: 0.2970 - accuracy: 0.9033\n",
      "Epoch 2/20\n",
      "938/938 - 27s - loss: 0.0867 - accuracy: 0.9729\n",
      "Epoch 3/20\n",
      "938/938 - 23s - loss: 0.0567 - accuracy: 0.9829\n",
      "Epoch 4/20\n",
      "938/938 - 28s - loss: 0.0460 - accuracy: 0.9857\n",
      "Epoch 5/20\n",
      "938/938 - 27s - loss: 0.0392 - accuracy: 0.9876\n",
      "Epoch 6/20\n",
      "938/938 - 27s - loss: 0.0324 - accuracy: 0.9901\n",
      "Epoch 7/20\n",
      "938/938 - 27s - loss: 0.0276 - accuracy: 0.9913\n",
      "Epoch 8/20\n",
      "938/938 - 25s - loss: 0.0230 - accuracy: 0.9930\n",
      "Epoch 9/20\n",
      "938/938 - 27s - loss: 0.0213 - accuracy: 0.9935\n",
      "Epoch 10/20\n",
      "938/938 - 29s - loss: 0.0180 - accuracy: 0.9942\n",
      "Epoch 11/20\n",
      "938/938 - 26s - loss: 0.0179 - accuracy: 0.9944\n",
      "Epoch 12/20\n",
      "938/938 - 29s - loss: 0.0145 - accuracy: 0.9951\n",
      "Epoch 13/20\n",
      "938/938 - 28s - loss: 0.0144 - accuracy: 0.9956\n",
      "Epoch 14/20\n",
      "938/938 - 29s - loss: 0.0119 - accuracy: 0.9961\n",
      "Epoch 15/20\n",
      "938/938 - 25s - loss: 0.0128 - accuracy: 0.9962\n",
      "Epoch 16/20\n",
      "938/938 - 28s - loss: 0.0111 - accuracy: 0.9968\n",
      "Epoch 17/20\n",
      "938/938 - 29s - loss: 0.0107 - accuracy: 0.9966\n",
      "Epoch 18/20\n",
      "938/938 - 29s - loss: 0.0098 - accuracy: 0.9969\n",
      "Epoch 19/20\n",
      "938/938 - 29s - loss: 0.0074 - accuracy: 0.9976\n",
      "Epoch 20/20\n",
      "938/938 - 27s - loss: 0.0090 - accuracy: 0.9973\n"
     ]
    }
   ],
   "source": [
    "history = model.fit(x_train, y_train, batch_size=64, epochs=EPOCHS, verbose=2)"
   ]
  },
  {
   "cell_type": "code",
   "execution_count": 23,
   "metadata": {},
   "outputs": [
    {
     "name": "stdout",
     "output_type": "stream",
     "text": [
      "[0.9033166766166687, 0.9729499816894531, 0.982866644859314, 0.9857333302497864, 0.987583339214325, 0.9900500178337097, 0.991349995136261, 0.992983341217041, 0.993483304977417, 0.9942499995231628, 0.9944166541099548, 0.9950833320617676, 0.9955666661262512, 0.9960500001907349, 0.996233344078064, 0.9967666864395142, 0.996649980545044, 0.9968833327293396, 0.9975833296775818, 0.9973499774932861]\n",
      "[0.29703351855278015, 0.08668271452188492, 0.056740421801805496, 0.04602989926934242, 0.03918980434536934, 0.03236222639679909, 0.02761256694793701, 0.02302369847893715, 0.021279146894812584, 0.017977561801671982, 0.017932917922735214, 0.014467381872236729, 0.014401223510503769, 0.011947053484618664, 0.012762466445565224, 0.011059789918363094, 0.010741589590907097, 0.009752432815730572, 0.007355252746492624, 0.008995008654892445]\n"
     ]
    }
   ],
   "source": [
    "acc = history.history['accuracy']\n",
    "loss=history.history['loss']\n",
    "print(acc)\n",
    "print(loss)"
   ]
  },
  {
   "cell_type": "code",
   "execution_count": 24,
   "metadata": {},
   "outputs": [
    {
     "data": {
      "text/plain": [
       "Text(0.5, 1.0, 'Training Accuracy and Loss')"
      ]
     },
     "execution_count": 24,
     "metadata": {},
     "output_type": "execute_result"
    },
    {
     "data": {
      "image/png": "[encoded data removed]",
      "text/plain": [
       "<Figure size 576x576 with 1 Axes>"
      ]
     },
     "metadata": {
      "needs_background": "light"
     },
     "output_type": "display_data"
    }
   ],
   "source": [
    "epochs_range = range(EPOCHS)\n",
    "\n",
    "plt.figure(figsize=(8, 8))\n",
    "plt.plot(epochs_range, acc, label='Training Accuracy')\n",
    "plt.plot(epochs_range, loss, label='Loss')\n",
    "plt.legend(loc='center right')\n",
    "plt.title('Training Accuracy and Loss')"
   ]
  },
  {
   "cell_type": "code",
   "execution_count": 25,
   "metadata": {},
   "outputs": [
    {
     "name": "stdout",
     "output_type": "stream",
     "text": [
      "157/157 - 2s - loss: 0.0348 - accuracy: 0.9912\n"
     ]
    },
    {
     "data": {
      "text/plain": [
       "[0.03484715148806572, 0.9911999702453613]"
      ]
     },
     "execution_count": 25,
     "metadata": {},
     "output_type": "execute_result"
    }
   ],
   "source": [
    "model.evaluate(x_test, y_test, batch_size=64, verbose=2)"
   ]
  },
  {
   "cell_type": "code",
   "execution_count": 28,
   "metadata": {},
   "outputs": [],
   "source": [
    "model.save('saved_models/lstm_model.h5')"
   ]
  },
  {
   "cell_type": "code",
   "execution_count": 29,
   "metadata": {},
   "outputs": [],
   "source": [
    "loaded_model = keras.models.load_model('saved_models/lstm_model.h5')"
   ]
  },
  {
   "cell_type": "code",
   "execution_count": 30,
   "metadata": {},
   "outputs": [
    {
     "name": "stdout",
     "output_type": "stream",
     "text": [
      "157/157 - 2s - loss: 0.0348 - accuracy: 0.9912\n"
     ]
    },
    {
     "data": {
      "text/plain": [
       "[0.03484715148806572, 0.9911999702453613]"
      ]
     },
     "execution_count": 30,
     "metadata": {},
     "output_type": "execute_result"
    }
   ],
   "source": [
    "loaded_model.evaluate(x_test, y_test, batch_size=64, verbose=2)"
   ]
  },
  {
   "cell_type": "code",
   "execution_count": null,
   "metadata": {},
   "outputs": [],
   "source": []
  }
 ],
 "metadata": {
  "kernelspec": {
   "display_name": "tfgpu",
   "language": "python",
   "name": "tfgpu"
  },
  "language_info": {
   "codemirror_mode": {
    "name": "ipython",
    "version": 3
   },
   "file_extension": ".py",
   "mimetype": "text/x-python",
   "name": "python",
   "nbconvert_exporter": "python",
   "pygments_lexer": "ipython3",
   "version": "3.7.11"
  }
 },
 "nbformat": 4,
 "nbformat_minor": 4
}
