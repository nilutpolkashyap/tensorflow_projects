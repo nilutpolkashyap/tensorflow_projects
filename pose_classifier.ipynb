{
 "cells": [
  {
   "cell_type": "code",
   "execution_count": 13,
   "metadata": {},
   "outputs": [],
   "source": [
    "import mediapipe as mp\n",
    "import cv2\n",
    "import csv\n",
    "import os\n",
    "import numpy as np\n",
    "import pandas as pd\n",
    "from sklearn.model_selection import train_test_split"
   ]
  },
  {
   "cell_type": "code",
   "execution_count": 14,
   "metadata": {},
   "outputs": [],
   "source": [
    "%config Completer.use_jedi = False"
   ]
  },
  {
   "cell_type": "code",
   "execution_count": 16,
   "metadata": {},
   "outputs": [],
   "source": [
    "mp_drawing = mp.solutions.drawing_utils \n",
    "mp_holistic = mp.solutions.holistic"
   ]
  },
  {
   "cell_type": "code",
   "execution_count": 4,
   "metadata": {},
   "outputs": [],
   "source": [
    "cap = cv2.VideoCapture(\"bicep_curls_1.mp4\")\n",
    "# Initiate holistic model\n",
    "with mp_holistic.Holistic(min_detection_confidence=0.5, min_tracking_confidence=0.5) as holistic:\n",
    "    \n",
    "    while cap.isOpened():\n",
    "        ret, frame = cap.read()\n",
    "        \n",
    "        # Recolor Feed\n",
    "        image = cv2.cvtColor(frame, cv2.COLOR_BGR2RGB)\n",
    "        image.flags.writeable = False        \n",
    "        \n",
    "        # Make Detections\n",
    "        results = holistic.process(image)\n",
    "        # print(results.face_landmarks)\n",
    "        \n",
    "        # face_landmarks, pose_landmarks, left_hand_landmarks, right_hand_landmarks\n",
    "        \n",
    "        # Recolor image back to BGR for rendering\n",
    "        image.flags.writeable = True   \n",
    "        image = cv2.cvtColor(image, cv2.COLOR_RGB2BGR)\n",
    "        \n",
    "        # 1. Draw face landmarks\n",
    "#         mp_drawing.draw_landmarks(image, results.face_landmarks, mp_holistic.FACEMESH_TESSELATION, \n",
    "#                                  mp_drawing.DrawingSpec(color=(80,110,10), thickness=1, circle_radius=1),\n",
    "#                                  mp_drawing.DrawingSpec(color=(80,256,121), thickness=1, circle_radius=1)\n",
    "#                                  )\n",
    "        \n",
    "        # 2. Right hand\n",
    "        mp_drawing.draw_landmarks(image, results.right_hand_landmarks, mp_holistic.HAND_CONNECTIONS, \n",
    "                                 mp_drawing.DrawingSpec(color=(80,22,10), thickness=2, circle_radius=4),\n",
    "                                 mp_drawing.DrawingSpec(color=(80,44,121), thickness=2, circle_radius=2)\n",
    "                                 )\n",
    "\n",
    "        # 3. Left Hand\n",
    "        mp_drawing.draw_landmarks(image, results.left_hand_landmarks, mp_holistic.HAND_CONNECTIONS, \n",
    "                                 mp_drawing.DrawingSpec(color=(121,22,76), thickness=2, circle_radius=4),\n",
    "                                 mp_drawing.DrawingSpec(color=(121,44,250), thickness=2, circle_radius=2)\n",
    "                                 )\n",
    "\n",
    "        # 4. Pose Detections\n",
    "        mp_drawing.draw_landmarks(image, results.pose_landmarks, mp_holistic.POSE_CONNECTIONS, \n",
    "                                 mp_drawing.DrawingSpec(color=(245,117,66), thickness=2, circle_radius=4),\n",
    "                                 mp_drawing.DrawingSpec(color=(245,66,230), thickness=2, circle_radius=2)\n",
    "                                 )\n",
    "                        \n",
    "        cv2.imshow('Raw Webcam Feed', image)\n",
    "\n",
    "        if cv2.waitKey(1) & 0xFF == ord('q'):\n",
    "            break\n",
    "\n",
    "cap.release()\n",
    "cv2.destroyAllWindows()"
   ]
  },
  {
   "cell_type": "code",
   "execution_count": 8,
   "metadata": {
    "scrolled": true
   },
   "outputs": [
    {
     "data": {
      "text/plain": [
       "x: 0.6415218710899353\n",
       "y: 0.4153119921684265\n",
       "z: 0.13361111283302307\n",
       "visibility: 0.5720322728157043"
      ]
     },
     "execution_count": 8,
     "metadata": {},
     "output_type": "execute_result"
    }
   ],
   "source": [
    "results.pose_landmarks.landmark[19]"
   ]
  },
  {
   "cell_type": "code",
   "execution_count": 9,
   "metadata": {},
   "outputs": [
    {
     "data": {
      "text/plain": [
       "33"
      ]
     },
     "execution_count": 9,
     "metadata": {},
     "output_type": "execute_result"
    }
   ],
   "source": [
    "num_coords = len(results.pose_landmarks.landmark)\n",
    "num_coords"
   ]
  },
  {
   "cell_type": "code",
   "execution_count": 10,
   "metadata": {},
   "outputs": [],
   "source": [
    "landmarks = ['class']\n",
    "for val in range(1, num_coords+1):\n",
    "    landmarks += ['x{}'.format(val), 'y{}'.format(val), 'z{}'.format(val), 'v{}'.format(val)]"
   ]
  },
  {
   "cell_type": "code",
   "execution_count": 11,
   "metadata": {
    "scrolled": true
   },
   "outputs": [
    {
     "data": {
      "text/plain": [
       "['class',\n",
       " 'x1',\n",
       " 'y1',\n",
       " 'z1',\n",
       " 'v1',\n",
       " 'x2',\n",
       " 'y2',\n",
       " 'z2',\n",
       " 'v2',\n",
       " 'x3',\n",
       " 'y3',\n",
       " 'z3',\n",
       " 'v3',\n",
       " 'x4',\n",
       " 'y4',\n",
       " 'z4',\n",
       " 'v4',\n",
       " 'x5',\n",
       " 'y5',\n",
       " 'z5',\n",
       " 'v5',\n",
       " 'x6',\n",
       " 'y6',\n",
       " 'z6',\n",
       " 'v6',\n",
       " 'x7',\n",
       " 'y7',\n",
       " 'z7',\n",
       " 'v7',\n",
       " 'x8',\n",
       " 'y8',\n",
       " 'z8',\n",
       " 'v8',\n",
       " 'x9',\n",
       " 'y9',\n",
       " 'z9',\n",
       " 'v9',\n",
       " 'x10',\n",
       " 'y10',\n",
       " 'z10',\n",
       " 'v10',\n",
       " 'x11',\n",
       " 'y11',\n",
       " 'z11',\n",
       " 'v11',\n",
       " 'x12',\n",
       " 'y12',\n",
       " 'z12',\n",
       " 'v12',\n",
       " 'x13',\n",
       " 'y13',\n",
       " 'z13',\n",
       " 'v13',\n",
       " 'x14',\n",
       " 'y14',\n",
       " 'z14',\n",
       " 'v14',\n",
       " 'x15',\n",
       " 'y15',\n",
       " 'z15',\n",
       " 'v15',\n",
       " 'x16',\n",
       " 'y16',\n",
       " 'z16',\n",
       " 'v16',\n",
       " 'x17',\n",
       " 'y17',\n",
       " 'z17',\n",
       " 'v17',\n",
       " 'x18',\n",
       " 'y18',\n",
       " 'z18',\n",
       " 'v18',\n",
       " 'x19',\n",
       " 'y19',\n",
       " 'z19',\n",
       " 'v19',\n",
       " 'x20',\n",
       " 'y20',\n",
       " 'z20',\n",
       " 'v20',\n",
       " 'x21',\n",
       " 'y21',\n",
       " 'z21',\n",
       " 'v21',\n",
       " 'x22',\n",
       " 'y22',\n",
       " 'z22',\n",
       " 'v22',\n",
       " 'x23',\n",
       " 'y23',\n",
       " 'z23',\n",
       " 'v23',\n",
       " 'x24',\n",
       " 'y24',\n",
       " 'z24',\n",
       " 'v24',\n",
       " 'x25',\n",
       " 'y25',\n",
       " 'z25',\n",
       " 'v25',\n",
       " 'x26',\n",
       " 'y26',\n",
       " 'z26',\n",
       " 'v26',\n",
       " 'x27',\n",
       " 'y27',\n",
       " 'z27',\n",
       " 'v27',\n",
       " 'x28',\n",
       " 'y28',\n",
       " 'z28',\n",
       " 'v28',\n",
       " 'x29',\n",
       " 'y29',\n",
       " 'z29',\n",
       " 'v29',\n",
       " 'x30',\n",
       " 'y30',\n",
       " 'z30',\n",
       " 'v30',\n",
       " 'x31',\n",
       " 'y31',\n",
       " 'z31',\n",
       " 'v31',\n",
       " 'x32',\n",
       " 'y32',\n",
       " 'z32',\n",
       " 'v32',\n",
       " 'x33',\n",
       " 'y33',\n",
       " 'z33',\n",
       " 'v33']"
      ]
     },
     "execution_count": 11,
     "metadata": {},
     "output_type": "execute_result"
    }
   ],
   "source": [
    "landmarks"
   ]
  },
  {
   "cell_type": "code",
   "execution_count": 12,
   "metadata": {},
   "outputs": [],
   "source": [
    "with open('coords.csv', mode='w', newline='') as f:\n",
    "    csv_writer = csv.writer(f, delimiter=',', quotechar='\"', quoting=csv.QUOTE_MINIMAL)\n",
    "    csv_writer.writerow(landmarks)"
   ]
  },
  {
   "cell_type": "code",
   "execution_count": 13,
   "metadata": {},
   "outputs": [],
   "source": [
    "# class_name = \"bicep_curls\"\n",
    "class_name = \"squat\""
   ]
  },
  {
   "cell_type": "code",
   "execution_count": 7,
   "metadata": {},
   "outputs": [],
   "source": [
    "cap = cv2.VideoCapture(\"squat_2.mp4\")\n",
    "# Initiate holistic model\n",
    "with mp_holistic.Holistic(min_detection_confidence=0.5, min_tracking_confidence=0.5) as holistic:\n",
    "    \n",
    "    while cap.isOpened():\n",
    "        ret, frame = cap.read()\n",
    "        \n",
    "        # Recolor Feed\n",
    "        image = cv2.cvtColor(frame, cv2.COLOR_BGR2RGB)\n",
    "        image.flags.writeable = False        \n",
    "        \n",
    "        # Make Detections\n",
    "        results = holistic.process(image)\n",
    "        # print(results.face_landmarks)\n",
    "        \n",
    "        # face_landmarks, pose_landmarks, left_hand_landmarks, right_hand_landmarks\n",
    "        \n",
    "        # Recolor image back to BGR for rendering\n",
    "        image.flags.writeable = True   \n",
    "        image = cv2.cvtColor(image, cv2.COLOR_RGB2BGR)\n",
    "        \n",
    "        # 1. Draw face landmarks\n",
    "#         mp_drawing.draw_landmarks(image, results.face_landmarks, mp_holistic.FACE_CONNECTIONS, \n",
    "#                                  mp_drawing.DrawingSpec(color=(80,110,10), thickness=1, circle_radius=1),\n",
    "#                                  mp_drawing.DrawingSpec(color=(80,256,121), thickness=1, circle_radius=1)\n",
    "#                                  )\n",
    "        \n",
    "        # 2. Right hand\n",
    "        mp_drawing.draw_landmarks(image, results.right_hand_landmarks, mp_holistic.HAND_CONNECTIONS, \n",
    "                                 mp_drawing.DrawingSpec(color=(80,22,10), thickness=2, circle_radius=4),\n",
    "                                 mp_drawing.DrawingSpec(color=(80,44,121), thickness=2, circle_radius=2)\n",
    "                                 )\n",
    "\n",
    "        # 3. Left Hand\n",
    "        mp_drawing.draw_landmarks(image, results.left_hand_landmarks, mp_holistic.HAND_CONNECTIONS, \n",
    "                                 mp_drawing.DrawingSpec(color=(121,22,76), thickness=2, circle_radius=4),\n",
    "                                 mp_drawing.DrawingSpec(color=(121,44,250), thickness=2, circle_radius=2)\n",
    "                                 )\n",
    "\n",
    "        # 4. Pose Detections\n",
    "        mp_drawing.draw_landmarks(image, results.pose_landmarks, mp_holistic.POSE_CONNECTIONS, \n",
    "                                 mp_drawing.DrawingSpec(color=(245,117,66), thickness=2, circle_radius=4),\n",
    "                                 mp_drawing.DrawingSpec(color=(245,66,230), thickness=2, circle_radius=2)\n",
    "                                 )\n",
    "        # Export coordinates\n",
    "        try:\n",
    "            # Extract Pose landmarks\n",
    "            pose = results.pose_landmarks.landmark\n",
    "            pose_row = list(np.array([[landmark.x, landmark.y, landmark.z, landmark.visibility] for landmark in pose]).flatten())\n",
    "            \n",
    "            # Extract Face landmarks\n",
    "#             face = results.face_landmarks.landmark\n",
    "#             face_row = list(np.array([[landmark.x, landmark.y, landmark.z, landmark.visibility] for landmark in face]).flatten())\n",
    "            \n",
    "            # Concate rows\n",
    "#             row = pose_row+face_row\n",
    "            row = pose_row\n",
    "            \n",
    "            # Append class name \n",
    "            row.insert(0, class_name)\n",
    "            \n",
    "            # Export to CSV\n",
    "            with open('coords.csv', mode='a', newline='') as f:\n",
    "                csv_writer = csv.writer(f, delimiter=',', quotechar='\"', quoting=csv.QUOTE_MINIMAL)\n",
    "                csv_writer.writerow(row) \n",
    "            \n",
    "        except:\n",
    "            pass\n",
    "                        \n",
    "        cv2.imshow('Raw Webcam Feed', image)\n",
    "\n",
    "        if cv2.waitKey(10) & 0xFF == ord('q'):\n",
    "            break\n",
    "\n",
    "cap.release()\n",
    "cv2.destroyAllWindows()"
   ]
  },
  {
   "cell_type": "code",
   "execution_count": 51,
   "metadata": {},
   "outputs": [],
   "source": [
    "cap.release()\n",
    "cv2.destroyAllWindows()"
   ]
  },
  {
   "cell_type": "code",
   "execution_count": 9,
   "metadata": {},
   "outputs": [],
   "source": [
    "df = pd.read_csv('coords.csv')"
   ]
  },
  {
   "cell_type": "code",
   "execution_count": 10,
   "metadata": {},
   "outputs": [
    {
     "data": {
      "text/plain": [
       "(9419, 133)"
      ]
     },
     "execution_count": 10,
     "metadata": {},
     "output_type": "execute_result"
    }
   ],
   "source": [
    "df.shape"
   ]
  },
  {
   "cell_type": "code",
   "execution_count": 11,
   "metadata": {},
   "outputs": [
    {
     "data": {
      "text/html": [
       "<div>\n",
       "<style scoped>\n",
       "    .dataframe tbody tr th:only-of-type {\n",
       "        vertical-align: middle;\n",
       "    }\n",
       "\n",
       "    .dataframe tbody tr th {\n",
       "        vertical-align: top;\n",
       "    }\n",
       "\n",
       "    .dataframe thead th {\n",
       "        text-align: right;\n",
       "    }\n",
       "</style>\n",
       "<table border=\"1\" class=\"dataframe\">\n",
       "  <thead>\n",
       "    <tr style=\"text-align: right;\">\n",
       "      <th></th>\n",
       "      <th>class</th>\n",
       "      <th>x1</th>\n",
       "      <th>y1</th>\n",
       "      <th>z1</th>\n",
       "      <th>v1</th>\n",
       "      <th>x2</th>\n",
       "      <th>y2</th>\n",
       "      <th>z2</th>\n",
       "      <th>v2</th>\n",
       "      <th>x3</th>\n",
       "      <th>...</th>\n",
       "      <th>z31</th>\n",
       "      <th>v31</th>\n",
       "      <th>x32</th>\n",
       "      <th>y32</th>\n",
       "      <th>z32</th>\n",
       "      <th>v32</th>\n",
       "      <th>x33</th>\n",
       "      <th>y33</th>\n",
       "      <th>z33</th>\n",
       "      <th>v33</th>\n",
       "    </tr>\n",
       "  </thead>\n",
       "  <tbody>\n",
       "    <tr>\n",
       "      <th>0</th>\n",
       "      <td>bicep_curls</td>\n",
       "      <td>0.531944</td>\n",
       "      <td>0.125997</td>\n",
       "      <td>-0.075084</td>\n",
       "      <td>0.999113</td>\n",
       "      <td>0.539291</td>\n",
       "      <td>0.106152</td>\n",
       "      <td>-0.100282</td>\n",
       "      <td>0.999099</td>\n",
       "      <td>0.540994</td>\n",
       "      <td>...</td>\n",
       "      <td>0.231629</td>\n",
       "      <td>0.336736</td>\n",
       "      <td>0.555624</td>\n",
       "      <td>1.062950</td>\n",
       "      <td>-0.100875</td>\n",
       "      <td>0.839879</td>\n",
       "      <td>0.562410</td>\n",
       "      <td>0.999148</td>\n",
       "      <td>0.162058</td>\n",
       "      <td>0.351249</td>\n",
       "    </tr>\n",
       "    <tr>\n",
       "      <th>1</th>\n",
       "      <td>bicep_curls</td>\n",
       "      <td>0.531942</td>\n",
       "      <td>0.127324</td>\n",
       "      <td>-0.069072</td>\n",
       "      <td>0.999107</td>\n",
       "      <td>0.539384</td>\n",
       "      <td>0.106232</td>\n",
       "      <td>-0.094050</td>\n",
       "      <td>0.999098</td>\n",
       "      <td>0.541070</td>\n",
       "      <td>...</td>\n",
       "      <td>0.228998</td>\n",
       "      <td>0.331719</td>\n",
       "      <td>0.556238</td>\n",
       "      <td>1.062967</td>\n",
       "      <td>-0.107316</td>\n",
       "      <td>0.833396</td>\n",
       "      <td>0.563534</td>\n",
       "      <td>0.997856</td>\n",
       "      <td>0.159757</td>\n",
       "      <td>0.344081</td>\n",
       "    </tr>\n",
       "    <tr>\n",
       "      <th>2</th>\n",
       "      <td>bicep_curls</td>\n",
       "      <td>0.532045</td>\n",
       "      <td>0.129340</td>\n",
       "      <td>-0.062649</td>\n",
       "      <td>0.999102</td>\n",
       "      <td>0.539496</td>\n",
       "      <td>0.107094</td>\n",
       "      <td>-0.087738</td>\n",
       "      <td>0.999099</td>\n",
       "      <td>0.541156</td>\n",
       "      <td>...</td>\n",
       "      <td>0.234676</td>\n",
       "      <td>0.327468</td>\n",
       "      <td>0.556067</td>\n",
       "      <td>1.062968</td>\n",
       "      <td>-0.110903</td>\n",
       "      <td>0.830550</td>\n",
       "      <td>0.562726</td>\n",
       "      <td>0.994263</td>\n",
       "      <td>0.168267</td>\n",
       "      <td>0.339542</td>\n",
       "    </tr>\n",
       "    <tr>\n",
       "      <th>3</th>\n",
       "      <td>bicep_curls</td>\n",
       "      <td>0.532381</td>\n",
       "      <td>0.129789</td>\n",
       "      <td>-0.061804</td>\n",
       "      <td>0.999110</td>\n",
       "      <td>0.539887</td>\n",
       "      <td>0.107451</td>\n",
       "      <td>-0.086761</td>\n",
       "      <td>0.999110</td>\n",
       "      <td>0.541492</td>\n",
       "      <td>...</td>\n",
       "      <td>0.234491</td>\n",
       "      <td>0.324001</td>\n",
       "      <td>0.555966</td>\n",
       "      <td>1.063935</td>\n",
       "      <td>-0.117595</td>\n",
       "      <td>0.828661</td>\n",
       "      <td>0.563496</td>\n",
       "      <td>0.993672</td>\n",
       "      <td>0.167972</td>\n",
       "      <td>0.336445</td>\n",
       "    </tr>\n",
       "    <tr>\n",
       "      <th>4</th>\n",
       "      <td>bicep_curls</td>\n",
       "      <td>0.532451</td>\n",
       "      <td>0.130791</td>\n",
       "      <td>-0.061895</td>\n",
       "      <td>0.999114</td>\n",
       "      <td>0.540039</td>\n",
       "      <td>0.108215</td>\n",
       "      <td>-0.086857</td>\n",
       "      <td>0.999119</td>\n",
       "      <td>0.541633</td>\n",
       "      <td>...</td>\n",
       "      <td>0.234487</td>\n",
       "      <td>0.317461</td>\n",
       "      <td>0.556003</td>\n",
       "      <td>1.064939</td>\n",
       "      <td>-0.116803</td>\n",
       "      <td>0.822463</td>\n",
       "      <td>0.563262</td>\n",
       "      <td>0.992912</td>\n",
       "      <td>0.167536</td>\n",
       "      <td>0.328649</td>\n",
       "    </tr>\n",
       "  </tbody>\n",
       "</table>\n",
       "<p>5 rows × 133 columns</p>\n",
       "</div>"
      ],
      "text/plain": [
       "         class        x1        y1        z1        v1        x2        y2  \\\n",
       "0  bicep_curls  0.531944  0.125997 -0.075084  0.999113  0.539291  0.106152   \n",
       "1  bicep_curls  0.531942  0.127324 -0.069072  0.999107  0.539384  0.106232   \n",
       "2  bicep_curls  0.532045  0.129340 -0.062649  0.999102  0.539496  0.107094   \n",
       "3  bicep_curls  0.532381  0.129789 -0.061804  0.999110  0.539887  0.107451   \n",
       "4  bicep_curls  0.532451  0.130791 -0.061895  0.999114  0.540039  0.108215   \n",
       "\n",
       "         z2        v2        x3  ...       z31       v31       x32       y32  \\\n",
       "0 -0.100282  0.999099  0.540994  ...  0.231629  0.336736  0.555624  1.062950   \n",
       "1 -0.094050  0.999098  0.541070  ...  0.228998  0.331719  0.556238  1.062967   \n",
       "2 -0.087738  0.999099  0.541156  ...  0.234676  0.327468  0.556067  1.062968   \n",
       "3 -0.086761  0.999110  0.541492  ...  0.234491  0.324001  0.555966  1.063935   \n",
       "4 -0.086857  0.999119  0.541633  ...  0.234487  0.317461  0.556003  1.064939   \n",
       "\n",
       "        z32       v32       x33       y33       z33       v33  \n",
       "0 -0.100875  0.839879  0.562410  0.999148  0.162058  0.351249  \n",
       "1 -0.107316  0.833396  0.563534  0.997856  0.159757  0.344081  \n",
       "2 -0.110903  0.830550  0.562726  0.994263  0.168267  0.339542  \n",
       "3 -0.117595  0.828661  0.563496  0.993672  0.167972  0.336445  \n",
       "4 -0.116803  0.822463  0.563262  0.992912  0.167536  0.328649  \n",
       "\n",
       "[5 rows x 133 columns]"
      ]
     },
     "execution_count": 11,
     "metadata": {},
     "output_type": "execute_result"
    }
   ],
   "source": [
    "df.head()"
   ]
  },
  {
   "cell_type": "code",
   "execution_count": 12,
   "metadata": {},
   "outputs": [
    {
     "data": {
      "text/html": [
       "<div>\n",
       "<style scoped>\n",
       "    .dataframe tbody tr th:only-of-type {\n",
       "        vertical-align: middle;\n",
       "    }\n",
       "\n",
       "    .dataframe tbody tr th {\n",
       "        vertical-align: top;\n",
       "    }\n",
       "\n",
       "    .dataframe thead th {\n",
       "        text-align: right;\n",
       "    }\n",
       "</style>\n",
       "<table border=\"1\" class=\"dataframe\">\n",
       "  <thead>\n",
       "    <tr style=\"text-align: right;\">\n",
       "      <th></th>\n",
       "      <th>class</th>\n",
       "      <th>x1</th>\n",
       "      <th>y1</th>\n",
       "      <th>z1</th>\n",
       "      <th>v1</th>\n",
       "      <th>x2</th>\n",
       "      <th>y2</th>\n",
       "      <th>z2</th>\n",
       "      <th>v2</th>\n",
       "      <th>x3</th>\n",
       "      <th>...</th>\n",
       "      <th>z31</th>\n",
       "      <th>v31</th>\n",
       "      <th>x32</th>\n",
       "      <th>y32</th>\n",
       "      <th>z32</th>\n",
       "      <th>v32</th>\n",
       "      <th>x33</th>\n",
       "      <th>y33</th>\n",
       "      <th>z33</th>\n",
       "      <th>v33</th>\n",
       "    </tr>\n",
       "  </thead>\n",
       "  <tbody>\n",
       "    <tr>\n",
       "      <th>9414</th>\n",
       "      <td>squat</td>\n",
       "      <td>0.484263</td>\n",
       "      <td>0.134142</td>\n",
       "      <td>-0.267725</td>\n",
       "      <td>0.999929</td>\n",
       "      <td>0.492492</td>\n",
       "      <td>0.119302</td>\n",
       "      <td>-0.270357</td>\n",
       "      <td>0.999837</td>\n",
       "      <td>0.495813</td>\n",
       "      <td>...</td>\n",
       "      <td>0.193261</td>\n",
       "      <td>0.941917</td>\n",
       "      <td>0.547676</td>\n",
       "      <td>0.934216</td>\n",
       "      <td>-0.236308</td>\n",
       "      <td>0.992747</td>\n",
       "      <td>0.423085</td>\n",
       "      <td>0.887734</td>\n",
       "      <td>0.100183</td>\n",
       "      <td>0.974383</td>\n",
       "    </tr>\n",
       "    <tr>\n",
       "      <th>9415</th>\n",
       "      <td>squat</td>\n",
       "      <td>0.486561</td>\n",
       "      <td>0.131424</td>\n",
       "      <td>-0.271525</td>\n",
       "      <td>0.999934</td>\n",
       "      <td>0.494658</td>\n",
       "      <td>0.117039</td>\n",
       "      <td>-0.271262</td>\n",
       "      <td>0.999848</td>\n",
       "      <td>0.498008</td>\n",
       "      <td>...</td>\n",
       "      <td>0.183208</td>\n",
       "      <td>0.937746</td>\n",
       "      <td>0.547648</td>\n",
       "      <td>0.934011</td>\n",
       "      <td>-0.233236</td>\n",
       "      <td>0.992862</td>\n",
       "      <td>0.424354</td>\n",
       "      <td>0.887136</td>\n",
       "      <td>0.099632</td>\n",
       "      <td>0.974552</td>\n",
       "    </tr>\n",
       "    <tr>\n",
       "      <th>9416</th>\n",
       "      <td>squat</td>\n",
       "      <td>0.489692</td>\n",
       "      <td>0.130711</td>\n",
       "      <td>-0.326974</td>\n",
       "      <td>0.999939</td>\n",
       "      <td>0.497350</td>\n",
       "      <td>0.116032</td>\n",
       "      <td>-0.321205</td>\n",
       "      <td>0.999859</td>\n",
       "      <td>0.500906</td>\n",
       "      <td>...</td>\n",
       "      <td>0.158314</td>\n",
       "      <td>0.935796</td>\n",
       "      <td>0.547650</td>\n",
       "      <td>0.933598</td>\n",
       "      <td>-0.195825</td>\n",
       "      <td>0.992919</td>\n",
       "      <td>0.424372</td>\n",
       "      <td>0.886400</td>\n",
       "      <td>0.058513</td>\n",
       "      <td>0.975038</td>\n",
       "    </tr>\n",
       "    <tr>\n",
       "      <th>9417</th>\n",
       "      <td>squat</td>\n",
       "      <td>0.488509</td>\n",
       "      <td>0.131958</td>\n",
       "      <td>-0.315530</td>\n",
       "      <td>0.999943</td>\n",
       "      <td>0.496101</td>\n",
       "      <td>0.116450</td>\n",
       "      <td>-0.312980</td>\n",
       "      <td>0.999869</td>\n",
       "      <td>0.499660</td>\n",
       "      <td>...</td>\n",
       "      <td>0.149470</td>\n",
       "      <td>0.933716</td>\n",
       "      <td>0.546907</td>\n",
       "      <td>0.932947</td>\n",
       "      <td>-0.192336</td>\n",
       "      <td>0.992985</td>\n",
       "      <td>0.424386</td>\n",
       "      <td>0.886316</td>\n",
       "      <td>0.051016</td>\n",
       "      <td>0.975375</td>\n",
       "    </tr>\n",
       "    <tr>\n",
       "      <th>9418</th>\n",
       "      <td>squat</td>\n",
       "      <td>0.487670</td>\n",
       "      <td>0.133347</td>\n",
       "      <td>-0.318573</td>\n",
       "      <td>0.999946</td>\n",
       "      <td>0.495169</td>\n",
       "      <td>0.117339</td>\n",
       "      <td>-0.318171</td>\n",
       "      <td>0.999875</td>\n",
       "      <td>0.498711</td>\n",
       "      <td>...</td>\n",
       "      <td>0.153216</td>\n",
       "      <td>0.931160</td>\n",
       "      <td>0.546762</td>\n",
       "      <td>0.932658</td>\n",
       "      <td>-0.196539</td>\n",
       "      <td>0.992995</td>\n",
       "      <td>0.424324</td>\n",
       "      <td>0.885693</td>\n",
       "      <td>0.056935</td>\n",
       "      <td>0.975241</td>\n",
       "    </tr>\n",
       "  </tbody>\n",
       "</table>\n",
       "<p>5 rows × 133 columns</p>\n",
       "</div>"
      ],
      "text/plain": [
       "      class        x1        y1        z1        v1        x2        y2  \\\n",
       "9414  squat  0.484263  0.134142 -0.267725  0.999929  0.492492  0.119302   \n",
       "9415  squat  0.486561  0.131424 -0.271525  0.999934  0.494658  0.117039   \n",
       "9416  squat  0.489692  0.130711 -0.326974  0.999939  0.497350  0.116032   \n",
       "9417  squat  0.488509  0.131958 -0.315530  0.999943  0.496101  0.116450   \n",
       "9418  squat  0.487670  0.133347 -0.318573  0.999946  0.495169  0.117339   \n",
       "\n",
       "            z2        v2        x3  ...       z31       v31       x32  \\\n",
       "9414 -0.270357  0.999837  0.495813  ...  0.193261  0.941917  0.547676   \n",
       "9415 -0.271262  0.999848  0.498008  ...  0.183208  0.937746  0.547648   \n",
       "9416 -0.321205  0.999859  0.500906  ...  0.158314  0.935796  0.547650   \n",
       "9417 -0.312980  0.999869  0.499660  ...  0.149470  0.933716  0.546907   \n",
       "9418 -0.318171  0.999875  0.498711  ...  0.153216  0.931160  0.546762   \n",
       "\n",
       "           y32       z32       v32       x33       y33       z33       v33  \n",
       "9414  0.934216 -0.236308  0.992747  0.423085  0.887734  0.100183  0.974383  \n",
       "9415  0.934011 -0.233236  0.992862  0.424354  0.887136  0.099632  0.974552  \n",
       "9416  0.933598 -0.195825  0.992919  0.424372  0.886400  0.058513  0.975038  \n",
       "9417  0.932947 -0.192336  0.992985  0.424386  0.886316  0.051016  0.975375  \n",
       "9418  0.932658 -0.196539  0.992995  0.424324  0.885693  0.056935  0.975241  \n",
       "\n",
       "[5 rows x 133 columns]"
      ]
     },
     "execution_count": 12,
     "metadata": {},
     "output_type": "execute_result"
    }
   ],
   "source": [
    "df.tail()"
   ]
  },
  {
   "cell_type": "code",
   "execution_count": 13,
   "metadata": {},
   "outputs": [
    {
     "data": {
      "text/html": [
       "<div>\n",
       "<style scoped>\n",
       "    .dataframe tbody tr th:only-of-type {\n",
       "        vertical-align: middle;\n",
       "    }\n",
       "\n",
       "    .dataframe tbody tr th {\n",
       "        vertical-align: top;\n",
       "    }\n",
       "\n",
       "    .dataframe thead th {\n",
       "        text-align: right;\n",
       "    }\n",
       "</style>\n",
       "<table border=\"1\" class=\"dataframe\">\n",
       "  <thead>\n",
       "    <tr style=\"text-align: right;\">\n",
       "      <th></th>\n",
       "      <th>class</th>\n",
       "      <th>x1</th>\n",
       "      <th>y1</th>\n",
       "      <th>z1</th>\n",
       "      <th>v1</th>\n",
       "      <th>x2</th>\n",
       "      <th>y2</th>\n",
       "      <th>z2</th>\n",
       "      <th>v2</th>\n",
       "      <th>x3</th>\n",
       "      <th>...</th>\n",
       "      <th>z31</th>\n",
       "      <th>v31</th>\n",
       "      <th>x32</th>\n",
       "      <th>y32</th>\n",
       "      <th>z32</th>\n",
       "      <th>v32</th>\n",
       "      <th>x33</th>\n",
       "      <th>y33</th>\n",
       "      <th>z33</th>\n",
       "      <th>v33</th>\n",
       "    </tr>\n",
       "  </thead>\n",
       "  <tbody>\n",
       "    <tr>\n",
       "      <th>0</th>\n",
       "      <td>bicep_curls</td>\n",
       "      <td>0.531944</td>\n",
       "      <td>0.125997</td>\n",
       "      <td>-0.075084</td>\n",
       "      <td>0.999113</td>\n",
       "      <td>0.539291</td>\n",
       "      <td>0.106152</td>\n",
       "      <td>-0.100282</td>\n",
       "      <td>0.999099</td>\n",
       "      <td>0.540994</td>\n",
       "      <td>...</td>\n",
       "      <td>0.231629</td>\n",
       "      <td>0.336736</td>\n",
       "      <td>0.555624</td>\n",
       "      <td>1.062950</td>\n",
       "      <td>-0.100875</td>\n",
       "      <td>0.839879</td>\n",
       "      <td>0.562410</td>\n",
       "      <td>0.999148</td>\n",
       "      <td>0.162058</td>\n",
       "      <td>0.351249</td>\n",
       "    </tr>\n",
       "    <tr>\n",
       "      <th>1</th>\n",
       "      <td>bicep_curls</td>\n",
       "      <td>0.531942</td>\n",
       "      <td>0.127324</td>\n",
       "      <td>-0.069072</td>\n",
       "      <td>0.999107</td>\n",
       "      <td>0.539384</td>\n",
       "      <td>0.106232</td>\n",
       "      <td>-0.094050</td>\n",
       "      <td>0.999098</td>\n",
       "      <td>0.541070</td>\n",
       "      <td>...</td>\n",
       "      <td>0.228998</td>\n",
       "      <td>0.331719</td>\n",
       "      <td>0.556238</td>\n",
       "      <td>1.062967</td>\n",
       "      <td>-0.107316</td>\n",
       "      <td>0.833396</td>\n",
       "      <td>0.563534</td>\n",
       "      <td>0.997856</td>\n",
       "      <td>0.159757</td>\n",
       "      <td>0.344081</td>\n",
       "    </tr>\n",
       "    <tr>\n",
       "      <th>2</th>\n",
       "      <td>bicep_curls</td>\n",
       "      <td>0.532045</td>\n",
       "      <td>0.129340</td>\n",
       "      <td>-0.062649</td>\n",
       "      <td>0.999102</td>\n",
       "      <td>0.539496</td>\n",
       "      <td>0.107094</td>\n",
       "      <td>-0.087738</td>\n",
       "      <td>0.999099</td>\n",
       "      <td>0.541156</td>\n",
       "      <td>...</td>\n",
       "      <td>0.234676</td>\n",
       "      <td>0.327468</td>\n",
       "      <td>0.556067</td>\n",
       "      <td>1.062968</td>\n",
       "      <td>-0.110903</td>\n",
       "      <td>0.830550</td>\n",
       "      <td>0.562726</td>\n",
       "      <td>0.994263</td>\n",
       "      <td>0.168267</td>\n",
       "      <td>0.339542</td>\n",
       "    </tr>\n",
       "    <tr>\n",
       "      <th>3</th>\n",
       "      <td>bicep_curls</td>\n",
       "      <td>0.532381</td>\n",
       "      <td>0.129789</td>\n",
       "      <td>-0.061804</td>\n",
       "      <td>0.999110</td>\n",
       "      <td>0.539887</td>\n",
       "      <td>0.107451</td>\n",
       "      <td>-0.086761</td>\n",
       "      <td>0.999110</td>\n",
       "      <td>0.541492</td>\n",
       "      <td>...</td>\n",
       "      <td>0.234491</td>\n",
       "      <td>0.324001</td>\n",
       "      <td>0.555966</td>\n",
       "      <td>1.063935</td>\n",
       "      <td>-0.117595</td>\n",
       "      <td>0.828661</td>\n",
       "      <td>0.563496</td>\n",
       "      <td>0.993672</td>\n",
       "      <td>0.167972</td>\n",
       "      <td>0.336445</td>\n",
       "    </tr>\n",
       "    <tr>\n",
       "      <th>4</th>\n",
       "      <td>bicep_curls</td>\n",
       "      <td>0.532451</td>\n",
       "      <td>0.130791</td>\n",
       "      <td>-0.061895</td>\n",
       "      <td>0.999114</td>\n",
       "      <td>0.540039</td>\n",
       "      <td>0.108215</td>\n",
       "      <td>-0.086857</td>\n",
       "      <td>0.999119</td>\n",
       "      <td>0.541633</td>\n",
       "      <td>...</td>\n",
       "      <td>0.234487</td>\n",
       "      <td>0.317461</td>\n",
       "      <td>0.556003</td>\n",
       "      <td>1.064939</td>\n",
       "      <td>-0.116803</td>\n",
       "      <td>0.822463</td>\n",
       "      <td>0.563262</td>\n",
       "      <td>0.992912</td>\n",
       "      <td>0.167536</td>\n",
       "      <td>0.328649</td>\n",
       "    </tr>\n",
       "    <tr>\n",
       "      <th>...</th>\n",
       "      <td>...</td>\n",
       "      <td>...</td>\n",
       "      <td>...</td>\n",
       "      <td>...</td>\n",
       "      <td>...</td>\n",
       "      <td>...</td>\n",
       "      <td>...</td>\n",
       "      <td>...</td>\n",
       "      <td>...</td>\n",
       "      <td>...</td>\n",
       "      <td>...</td>\n",
       "      <td>...</td>\n",
       "      <td>...</td>\n",
       "      <td>...</td>\n",
       "      <td>...</td>\n",
       "      <td>...</td>\n",
       "      <td>...</td>\n",
       "      <td>...</td>\n",
       "      <td>...</td>\n",
       "      <td>...</td>\n",
       "      <td>...</td>\n",
       "    </tr>\n",
       "    <tr>\n",
       "      <th>1187</th>\n",
       "      <td>bicep_curls</td>\n",
       "      <td>0.441079</td>\n",
       "      <td>0.250937</td>\n",
       "      <td>-0.065317</td>\n",
       "      <td>0.999816</td>\n",
       "      <td>0.444755</td>\n",
       "      <td>0.223344</td>\n",
       "      <td>-0.095419</td>\n",
       "      <td>0.999882</td>\n",
       "      <td>0.447162</td>\n",
       "      <td>...</td>\n",
       "      <td>0.287848</td>\n",
       "      <td>0.094326</td>\n",
       "      <td>0.467261</td>\n",
       "      <td>1.228100</td>\n",
       "      <td>0.079317</td>\n",
       "      <td>0.150805</td>\n",
       "      <td>0.446733</td>\n",
       "      <td>1.167859</td>\n",
       "      <td>0.266849</td>\n",
       "      <td>0.041539</td>\n",
       "    </tr>\n",
       "    <tr>\n",
       "      <th>1188</th>\n",
       "      <td>bicep_curls</td>\n",
       "      <td>0.441146</td>\n",
       "      <td>0.250583</td>\n",
       "      <td>-0.065565</td>\n",
       "      <td>0.999822</td>\n",
       "      <td>0.444836</td>\n",
       "      <td>0.222948</td>\n",
       "      <td>-0.095443</td>\n",
       "      <td>0.999884</td>\n",
       "      <td>0.447265</td>\n",
       "      <td>...</td>\n",
       "      <td>0.287069</td>\n",
       "      <td>0.096355</td>\n",
       "      <td>0.467140</td>\n",
       "      <td>1.228019</td>\n",
       "      <td>0.078403</td>\n",
       "      <td>0.152558</td>\n",
       "      <td>0.446468</td>\n",
       "      <td>1.167697</td>\n",
       "      <td>0.265821</td>\n",
       "      <td>0.042626</td>\n",
       "    </tr>\n",
       "    <tr>\n",
       "      <th>1189</th>\n",
       "      <td>bicep_curls</td>\n",
       "      <td>0.441178</td>\n",
       "      <td>0.250375</td>\n",
       "      <td>-0.065351</td>\n",
       "      <td>0.999827</td>\n",
       "      <td>0.444873</td>\n",
       "      <td>0.222672</td>\n",
       "      <td>-0.095188</td>\n",
       "      <td>0.999887</td>\n",
       "      <td>0.447315</td>\n",
       "      <td>...</td>\n",
       "      <td>0.286659</td>\n",
       "      <td>0.097880</td>\n",
       "      <td>0.466980</td>\n",
       "      <td>1.228533</td>\n",
       "      <td>0.077729</td>\n",
       "      <td>0.153887</td>\n",
       "      <td>0.446157</td>\n",
       "      <td>1.168508</td>\n",
       "      <td>0.265316</td>\n",
       "      <td>0.043485</td>\n",
       "    </tr>\n",
       "    <tr>\n",
       "      <th>1190</th>\n",
       "      <td>bicep_curls</td>\n",
       "      <td>0.441173</td>\n",
       "      <td>0.250269</td>\n",
       "      <td>-0.064710</td>\n",
       "      <td>0.999830</td>\n",
       "      <td>0.444861</td>\n",
       "      <td>0.222516</td>\n",
       "      <td>-0.094599</td>\n",
       "      <td>0.999888</td>\n",
       "      <td>0.447303</td>\n",
       "      <td>...</td>\n",
       "      <td>0.286335</td>\n",
       "      <td>0.099152</td>\n",
       "      <td>0.466892</td>\n",
       "      <td>1.228917</td>\n",
       "      <td>0.077455</td>\n",
       "      <td>0.154879</td>\n",
       "      <td>0.445951</td>\n",
       "      <td>1.169174</td>\n",
       "      <td>0.264804</td>\n",
       "      <td>0.044261</td>\n",
       "    </tr>\n",
       "    <tr>\n",
       "      <th>1191</th>\n",
       "      <td>bicep_curls</td>\n",
       "      <td>0.441168</td>\n",
       "      <td>0.250195</td>\n",
       "      <td>-0.064124</td>\n",
       "      <td>0.999832</td>\n",
       "      <td>0.444847</td>\n",
       "      <td>0.222401</td>\n",
       "      <td>-0.094068</td>\n",
       "      <td>0.999889</td>\n",
       "      <td>0.447286</td>\n",
       "      <td>...</td>\n",
       "      <td>0.286457</td>\n",
       "      <td>0.100342</td>\n",
       "      <td>0.466835</td>\n",
       "      <td>1.229230</td>\n",
       "      <td>0.077557</td>\n",
       "      <td>0.155917</td>\n",
       "      <td>0.445823</td>\n",
       "      <td>1.169641</td>\n",
       "      <td>0.265019</td>\n",
       "      <td>0.045016</td>\n",
       "    </tr>\n",
       "  </tbody>\n",
       "</table>\n",
       "<p>1192 rows × 133 columns</p>\n",
       "</div>"
      ],
      "text/plain": [
       "            class        x1        y1        z1        v1        x2        y2  \\\n",
       "0     bicep_curls  0.531944  0.125997 -0.075084  0.999113  0.539291  0.106152   \n",
       "1     bicep_curls  0.531942  0.127324 -0.069072  0.999107  0.539384  0.106232   \n",
       "2     bicep_curls  0.532045  0.129340 -0.062649  0.999102  0.539496  0.107094   \n",
       "3     bicep_curls  0.532381  0.129789 -0.061804  0.999110  0.539887  0.107451   \n",
       "4     bicep_curls  0.532451  0.130791 -0.061895  0.999114  0.540039  0.108215   \n",
       "...           ...       ...       ...       ...       ...       ...       ...   \n",
       "1187  bicep_curls  0.441079  0.250937 -0.065317  0.999816  0.444755  0.223344   \n",
       "1188  bicep_curls  0.441146  0.250583 -0.065565  0.999822  0.444836  0.222948   \n",
       "1189  bicep_curls  0.441178  0.250375 -0.065351  0.999827  0.444873  0.222672   \n",
       "1190  bicep_curls  0.441173  0.250269 -0.064710  0.999830  0.444861  0.222516   \n",
       "1191  bicep_curls  0.441168  0.250195 -0.064124  0.999832  0.444847  0.222401   \n",
       "\n",
       "            z2        v2        x3  ...       z31       v31       x32  \\\n",
       "0    -0.100282  0.999099  0.540994  ...  0.231629  0.336736  0.555624   \n",
       "1    -0.094050  0.999098  0.541070  ...  0.228998  0.331719  0.556238   \n",
       "2    -0.087738  0.999099  0.541156  ...  0.234676  0.327468  0.556067   \n",
       "3    -0.086761  0.999110  0.541492  ...  0.234491  0.324001  0.555966   \n",
       "4    -0.086857  0.999119  0.541633  ...  0.234487  0.317461  0.556003   \n",
       "...        ...       ...       ...  ...       ...       ...       ...   \n",
       "1187 -0.095419  0.999882  0.447162  ...  0.287848  0.094326  0.467261   \n",
       "1188 -0.095443  0.999884  0.447265  ...  0.287069  0.096355  0.467140   \n",
       "1189 -0.095188  0.999887  0.447315  ...  0.286659  0.097880  0.466980   \n",
       "1190 -0.094599  0.999888  0.447303  ...  0.286335  0.099152  0.466892   \n",
       "1191 -0.094068  0.999889  0.447286  ...  0.286457  0.100342  0.466835   \n",
       "\n",
       "           y32       z32       v32       x33       y33       z33       v33  \n",
       "0     1.062950 -0.100875  0.839879  0.562410  0.999148  0.162058  0.351249  \n",
       "1     1.062967 -0.107316  0.833396  0.563534  0.997856  0.159757  0.344081  \n",
       "2     1.062968 -0.110903  0.830550  0.562726  0.994263  0.168267  0.339542  \n",
       "3     1.063935 -0.117595  0.828661  0.563496  0.993672  0.167972  0.336445  \n",
       "4     1.064939 -0.116803  0.822463  0.563262  0.992912  0.167536  0.328649  \n",
       "...        ...       ...       ...       ...       ...       ...       ...  \n",
       "1187  1.228100  0.079317  0.150805  0.446733  1.167859  0.266849  0.041539  \n",
       "1188  1.228019  0.078403  0.152558  0.446468  1.167697  0.265821  0.042626  \n",
       "1189  1.228533  0.077729  0.153887  0.446157  1.168508  0.265316  0.043485  \n",
       "1190  1.228917  0.077455  0.154879  0.445951  1.169174  0.264804  0.044261  \n",
       "1191  1.229230  0.077557  0.155917  0.445823  1.169641  0.265019  0.045016  \n",
       "\n",
       "[1192 rows x 133 columns]"
      ]
     },
     "execution_count": 13,
     "metadata": {},
     "output_type": "execute_result"
    }
   ],
   "source": [
    "df[df['class']=='bicep_curls']"
   ]
  },
  {
   "cell_type": "code",
   "execution_count": 9,
   "metadata": {},
   "outputs": [
    {
     "data": {
      "text/html": [
       "<div>\n",
       "<style scoped>\n",
       "    .dataframe tbody tr th:only-of-type {\n",
       "        vertical-align: middle;\n",
       "    }\n",
       "\n",
       "    .dataframe tbody tr th {\n",
       "        vertical-align: top;\n",
       "    }\n",
       "\n",
       "    .dataframe thead th {\n",
       "        text-align: right;\n",
       "    }\n",
       "</style>\n",
       "<table border=\"1\" class=\"dataframe\">\n",
       "  <thead>\n",
       "    <tr style=\"text-align: right;\">\n",
       "      <th></th>\n",
       "      <th>class</th>\n",
       "      <th>x1</th>\n",
       "      <th>y1</th>\n",
       "      <th>z1</th>\n",
       "      <th>v1</th>\n",
       "      <th>x2</th>\n",
       "      <th>y2</th>\n",
       "      <th>z2</th>\n",
       "      <th>v2</th>\n",
       "      <th>x3</th>\n",
       "      <th>...</th>\n",
       "      <th>z31</th>\n",
       "      <th>v31</th>\n",
       "      <th>x32</th>\n",
       "      <th>y32</th>\n",
       "      <th>z32</th>\n",
       "      <th>v32</th>\n",
       "      <th>x33</th>\n",
       "      <th>y33</th>\n",
       "      <th>z33</th>\n",
       "      <th>v33</th>\n",
       "    </tr>\n",
       "  </thead>\n",
       "  <tbody>\n",
       "    <tr>\n",
       "      <th>7770</th>\n",
       "      <td>squat</td>\n",
       "      <td>0.482070</td>\n",
       "      <td>0.127597</td>\n",
       "      <td>-0.175816</td>\n",
       "      <td>0.999980</td>\n",
       "      <td>0.490213</td>\n",
       "      <td>0.108994</td>\n",
       "      <td>-0.172663</td>\n",
       "      <td>0.999945</td>\n",
       "      <td>0.494402</td>\n",
       "      <td>...</td>\n",
       "      <td>0.266057</td>\n",
       "      <td>0.962689</td>\n",
       "      <td>0.541678</td>\n",
       "      <td>0.961711</td>\n",
       "      <td>-0.165043</td>\n",
       "      <td>0.995345</td>\n",
       "      <td>0.423433</td>\n",
       "      <td>0.912459</td>\n",
       "      <td>0.176381</td>\n",
       "      <td>0.990070</td>\n",
       "    </tr>\n",
       "    <tr>\n",
       "      <th>7771</th>\n",
       "      <td>squat</td>\n",
       "      <td>0.481457</td>\n",
       "      <td>0.126122</td>\n",
       "      <td>-0.194542</td>\n",
       "      <td>0.999980</td>\n",
       "      <td>0.489500</td>\n",
       "      <td>0.107854</td>\n",
       "      <td>-0.192536</td>\n",
       "      <td>0.999948</td>\n",
       "      <td>0.493769</td>\n",
       "      <td>...</td>\n",
       "      <td>0.268175</td>\n",
       "      <td>0.963086</td>\n",
       "      <td>0.543203</td>\n",
       "      <td>0.962929</td>\n",
       "      <td>-0.180666</td>\n",
       "      <td>0.995468</td>\n",
       "      <td>0.423470</td>\n",
       "      <td>0.912446</td>\n",
       "      <td>0.176434</td>\n",
       "      <td>0.990206</td>\n",
       "    </tr>\n",
       "    <tr>\n",
       "      <th>7772</th>\n",
       "      <td>squat</td>\n",
       "      <td>0.481140</td>\n",
       "      <td>0.125494</td>\n",
       "      <td>-0.191295</td>\n",
       "      <td>0.999981</td>\n",
       "      <td>0.489164</td>\n",
       "      <td>0.107404</td>\n",
       "      <td>-0.188654</td>\n",
       "      <td>0.999950</td>\n",
       "      <td>0.493516</td>\n",
       "      <td>...</td>\n",
       "      <td>0.254823</td>\n",
       "      <td>0.963100</td>\n",
       "      <td>0.543748</td>\n",
       "      <td>0.963483</td>\n",
       "      <td>-0.191937</td>\n",
       "      <td>0.995513</td>\n",
       "      <td>0.423937</td>\n",
       "      <td>0.912481</td>\n",
       "      <td>0.158302</td>\n",
       "      <td>0.990135</td>\n",
       "    </tr>\n",
       "    <tr>\n",
       "      <th>7773</th>\n",
       "      <td>squat</td>\n",
       "      <td>0.480686</td>\n",
       "      <td>0.125590</td>\n",
       "      <td>-0.242658</td>\n",
       "      <td>0.999981</td>\n",
       "      <td>0.488696</td>\n",
       "      <td>0.107591</td>\n",
       "      <td>-0.241113</td>\n",
       "      <td>0.999950</td>\n",
       "      <td>0.493126</td>\n",
       "      <td>...</td>\n",
       "      <td>0.283022</td>\n",
       "      <td>0.962945</td>\n",
       "      <td>0.543983</td>\n",
       "      <td>0.965449</td>\n",
       "      <td>-0.186467</td>\n",
       "      <td>0.995590</td>\n",
       "      <td>0.424405</td>\n",
       "      <td>0.912411</td>\n",
       "      <td>0.188495</td>\n",
       "      <td>0.989955</td>\n",
       "    </tr>\n",
       "    <tr>\n",
       "      <th>7774</th>\n",
       "      <td>squat</td>\n",
       "      <td>0.480575</td>\n",
       "      <td>0.126356</td>\n",
       "      <td>-0.276526</td>\n",
       "      <td>0.999981</td>\n",
       "      <td>0.488528</td>\n",
       "      <td>0.108701</td>\n",
       "      <td>-0.274615</td>\n",
       "      <td>0.999949</td>\n",
       "      <td>0.493001</td>\n",
       "      <td>...</td>\n",
       "      <td>0.303606</td>\n",
       "      <td>0.962477</td>\n",
       "      <td>0.544112</td>\n",
       "      <td>0.967429</td>\n",
       "      <td>-0.174570</td>\n",
       "      <td>0.995669</td>\n",
       "      <td>0.424552</td>\n",
       "      <td>0.912367</td>\n",
       "      <td>0.207388</td>\n",
       "      <td>0.989744</td>\n",
       "    </tr>\n",
       "    <tr>\n",
       "      <th>...</th>\n",
       "      <td>...</td>\n",
       "      <td>...</td>\n",
       "      <td>...</td>\n",
       "      <td>...</td>\n",
       "      <td>...</td>\n",
       "      <td>...</td>\n",
       "      <td>...</td>\n",
       "      <td>...</td>\n",
       "      <td>...</td>\n",
       "      <td>...</td>\n",
       "      <td>...</td>\n",
       "      <td>...</td>\n",
       "      <td>...</td>\n",
       "      <td>...</td>\n",
       "      <td>...</td>\n",
       "      <td>...</td>\n",
       "      <td>...</td>\n",
       "      <td>...</td>\n",
       "      <td>...</td>\n",
       "      <td>...</td>\n",
       "      <td>...</td>\n",
       "    </tr>\n",
       "    <tr>\n",
       "      <th>9414</th>\n",
       "      <td>squat</td>\n",
       "      <td>0.484263</td>\n",
       "      <td>0.134142</td>\n",
       "      <td>-0.267725</td>\n",
       "      <td>0.999929</td>\n",
       "      <td>0.492492</td>\n",
       "      <td>0.119302</td>\n",
       "      <td>-0.270357</td>\n",
       "      <td>0.999837</td>\n",
       "      <td>0.495813</td>\n",
       "      <td>...</td>\n",
       "      <td>0.193261</td>\n",
       "      <td>0.941917</td>\n",
       "      <td>0.547676</td>\n",
       "      <td>0.934216</td>\n",
       "      <td>-0.236308</td>\n",
       "      <td>0.992747</td>\n",
       "      <td>0.423085</td>\n",
       "      <td>0.887734</td>\n",
       "      <td>0.100183</td>\n",
       "      <td>0.974383</td>\n",
       "    </tr>\n",
       "    <tr>\n",
       "      <th>9415</th>\n",
       "      <td>squat</td>\n",
       "      <td>0.486561</td>\n",
       "      <td>0.131424</td>\n",
       "      <td>-0.271525</td>\n",
       "      <td>0.999934</td>\n",
       "      <td>0.494658</td>\n",
       "      <td>0.117039</td>\n",
       "      <td>-0.271262</td>\n",
       "      <td>0.999848</td>\n",
       "      <td>0.498008</td>\n",
       "      <td>...</td>\n",
       "      <td>0.183208</td>\n",
       "      <td>0.937746</td>\n",
       "      <td>0.547648</td>\n",
       "      <td>0.934011</td>\n",
       "      <td>-0.233236</td>\n",
       "      <td>0.992862</td>\n",
       "      <td>0.424354</td>\n",
       "      <td>0.887136</td>\n",
       "      <td>0.099632</td>\n",
       "      <td>0.974552</td>\n",
       "    </tr>\n",
       "    <tr>\n",
       "      <th>9416</th>\n",
       "      <td>squat</td>\n",
       "      <td>0.489692</td>\n",
       "      <td>0.130711</td>\n",
       "      <td>-0.326974</td>\n",
       "      <td>0.999939</td>\n",
       "      <td>0.497350</td>\n",
       "      <td>0.116032</td>\n",
       "      <td>-0.321205</td>\n",
       "      <td>0.999859</td>\n",
       "      <td>0.500906</td>\n",
       "      <td>...</td>\n",
       "      <td>0.158314</td>\n",
       "      <td>0.935796</td>\n",
       "      <td>0.547650</td>\n",
       "      <td>0.933598</td>\n",
       "      <td>-0.195825</td>\n",
       "      <td>0.992919</td>\n",
       "      <td>0.424372</td>\n",
       "      <td>0.886400</td>\n",
       "      <td>0.058513</td>\n",
       "      <td>0.975038</td>\n",
       "    </tr>\n",
       "    <tr>\n",
       "      <th>9417</th>\n",
       "      <td>squat</td>\n",
       "      <td>0.488509</td>\n",
       "      <td>0.131958</td>\n",
       "      <td>-0.315530</td>\n",
       "      <td>0.999943</td>\n",
       "      <td>0.496101</td>\n",
       "      <td>0.116450</td>\n",
       "      <td>-0.312980</td>\n",
       "      <td>0.999869</td>\n",
       "      <td>0.499660</td>\n",
       "      <td>...</td>\n",
       "      <td>0.149470</td>\n",
       "      <td>0.933716</td>\n",
       "      <td>0.546907</td>\n",
       "      <td>0.932947</td>\n",
       "      <td>-0.192336</td>\n",
       "      <td>0.992985</td>\n",
       "      <td>0.424386</td>\n",
       "      <td>0.886316</td>\n",
       "      <td>0.051016</td>\n",
       "      <td>0.975375</td>\n",
       "    </tr>\n",
       "    <tr>\n",
       "      <th>9418</th>\n",
       "      <td>squat</td>\n",
       "      <td>0.487670</td>\n",
       "      <td>0.133347</td>\n",
       "      <td>-0.318573</td>\n",
       "      <td>0.999946</td>\n",
       "      <td>0.495169</td>\n",
       "      <td>0.117339</td>\n",
       "      <td>-0.318171</td>\n",
       "      <td>0.999875</td>\n",
       "      <td>0.498711</td>\n",
       "      <td>...</td>\n",
       "      <td>0.153216</td>\n",
       "      <td>0.931160</td>\n",
       "      <td>0.546762</td>\n",
       "      <td>0.932658</td>\n",
       "      <td>-0.196539</td>\n",
       "      <td>0.992995</td>\n",
       "      <td>0.424324</td>\n",
       "      <td>0.885693</td>\n",
       "      <td>0.056935</td>\n",
       "      <td>0.975241</td>\n",
       "    </tr>\n",
       "  </tbody>\n",
       "</table>\n",
       "<p>1649 rows × 133 columns</p>\n",
       "</div>"
      ],
      "text/plain": [
       "      class        x1        y1        z1        v1        x2        y2  \\\n",
       "7770  squat  0.482070  0.127597 -0.175816  0.999980  0.490213  0.108994   \n",
       "7771  squat  0.481457  0.126122 -0.194542  0.999980  0.489500  0.107854   \n",
       "7772  squat  0.481140  0.125494 -0.191295  0.999981  0.489164  0.107404   \n",
       "7773  squat  0.480686  0.125590 -0.242658  0.999981  0.488696  0.107591   \n",
       "7774  squat  0.480575  0.126356 -0.276526  0.999981  0.488528  0.108701   \n",
       "...     ...       ...       ...       ...       ...       ...       ...   \n",
       "9414  squat  0.484263  0.134142 -0.267725  0.999929  0.492492  0.119302   \n",
       "9415  squat  0.486561  0.131424 -0.271525  0.999934  0.494658  0.117039   \n",
       "9416  squat  0.489692  0.130711 -0.326974  0.999939  0.497350  0.116032   \n",
       "9417  squat  0.488509  0.131958 -0.315530  0.999943  0.496101  0.116450   \n",
       "9418  squat  0.487670  0.133347 -0.318573  0.999946  0.495169  0.117339   \n",
       "\n",
       "            z2        v2        x3  ...       z31       v31       x32  \\\n",
       "7770 -0.172663  0.999945  0.494402  ...  0.266057  0.962689  0.541678   \n",
       "7771 -0.192536  0.999948  0.493769  ...  0.268175  0.963086  0.543203   \n",
       "7772 -0.188654  0.999950  0.493516  ...  0.254823  0.963100  0.543748   \n",
       "7773 -0.241113  0.999950  0.493126  ...  0.283022  0.962945  0.543983   \n",
       "7774 -0.274615  0.999949  0.493001  ...  0.303606  0.962477  0.544112   \n",
       "...        ...       ...       ...  ...       ...       ...       ...   \n",
       "9414 -0.270357  0.999837  0.495813  ...  0.193261  0.941917  0.547676   \n",
       "9415 -0.271262  0.999848  0.498008  ...  0.183208  0.937746  0.547648   \n",
       "9416 -0.321205  0.999859  0.500906  ...  0.158314  0.935796  0.547650   \n",
       "9417 -0.312980  0.999869  0.499660  ...  0.149470  0.933716  0.546907   \n",
       "9418 -0.318171  0.999875  0.498711  ...  0.153216  0.931160  0.546762   \n",
       "\n",
       "           y32       z32       v32       x33       y33       z33       v33  \n",
       "7770  0.961711 -0.165043  0.995345  0.423433  0.912459  0.176381  0.990070  \n",
       "7771  0.962929 -0.180666  0.995468  0.423470  0.912446  0.176434  0.990206  \n",
       "7772  0.963483 -0.191937  0.995513  0.423937  0.912481  0.158302  0.990135  \n",
       "7773  0.965449 -0.186467  0.995590  0.424405  0.912411  0.188495  0.989955  \n",
       "7774  0.967429 -0.174570  0.995669  0.424552  0.912367  0.207388  0.989744  \n",
       "...        ...       ...       ...       ...       ...       ...       ...  \n",
       "9414  0.934216 -0.236308  0.992747  0.423085  0.887734  0.100183  0.974383  \n",
       "9415  0.934011 -0.233236  0.992862  0.424354  0.887136  0.099632  0.974552  \n",
       "9416  0.933598 -0.195825  0.992919  0.424372  0.886400  0.058513  0.975038  \n",
       "9417  0.932947 -0.192336  0.992985  0.424386  0.886316  0.051016  0.975375  \n",
       "9418  0.932658 -0.196539  0.992995  0.424324  0.885693  0.056935  0.975241  \n",
       "\n",
       "[1649 rows x 133 columns]"
      ]
     },
     "execution_count": 9,
     "metadata": {},
     "output_type": "execute_result"
    }
   ],
   "source": [
    "df[df['class']=='squat']"
   ]
  },
  {
   "cell_type": "code",
   "execution_count": 14,
   "metadata": {},
   "outputs": [],
   "source": [
    "X = df.drop('class', axis=1) # features\n",
    "y = df['class'] # target value"
   ]
  },
  {
   "cell_type": "code",
   "execution_count": 15,
   "metadata": {},
   "outputs": [],
   "source": [
    "X_train, X_test, y_train, y_test = train_test_split(X, y, test_size=0.3, random_state=1234)"
   ]
  },
  {
   "cell_type": "code",
   "execution_count": 17,
   "metadata": {},
   "outputs": [],
   "source": [
    "from sklearn.pipeline import make_pipeline \n",
    "from sklearn.preprocessing import StandardScaler \n",
    "\n",
    "from sklearn.linear_model import LogisticRegression, RidgeClassifier\n",
    "from sklearn.ensemble import RandomForestClassifier, GradientBoostingClassifier"
   ]
  },
  {
   "cell_type": "code",
   "execution_count": 2,
   "metadata": {},
   "outputs": [],
   "source": [
    "pipelines = {\n",
    "    'lr':make_pipeline(StandardScaler(), LogisticRegression(solver='lbfgs', max_iter=1000)),\n",
    "    'rc':make_pipeline(StandardScaler(), RidgeClassifier()),\n",
    "    'rf':make_pipeline(StandardScaler(), RandomForestClassifier()),\n",
    "    'gb':make_pipeline(StandardScaler(), GradientBoostingClassifier()),\n",
    "}"
   ]
  },
  {
   "cell_type": "code",
   "execution_count": 5,
   "metadata": {},
   "outputs": [
    {
     "data": {
      "text/plain": [
       "dict_keys(['lr', 'rc', 'rf', 'gb'])"
      ]
     },
     "execution_count": 5,
     "metadata": {},
     "output_type": "execute_result"
    }
   ],
   "source": [
    "pipelines.keys()"
   ]
  },
  {
   "cell_type": "code",
   "execution_count": 9,
   "metadata": {},
   "outputs": [
    {
     "data": {
      "text/plain": [
       "[Pipeline(steps=[('standardscaler', StandardScaler()),\n",
       "                 ('logisticregression', LogisticRegression(max_iter=1000))]),\n",
       " Pipeline(steps=[('standardscaler', StandardScaler()),\n",
       "                 ('ridgeclassifier', RidgeClassifier())]),\n",
       " Pipeline(steps=[('standardscaler', StandardScaler()),\n",
       "                 ('randomforestclassifier', RandomForestClassifier())]),\n",
       " Pipeline(steps=[('standardscaler', StandardScaler()),\n",
       "                 ('gradientboostingclassifier', GradientBoostingClassifier())])]"
      ]
     },
     "execution_count": 9,
     "metadata": {},
     "output_type": "execute_result"
    }
   ],
   "source": [
    "list(pipelines.values())"
   ]
  },
  {
   "cell_type": "code",
   "execution_count": 10,
   "metadata": {
    "scrolled": true
   },
   "outputs": [
    {
     "data": {
      "text/plain": [
       "\u001b[1;31mSignature:\u001b[0m \u001b[0mmake_pipeline\u001b[0m\u001b[1;33m(\u001b[0m\u001b[1;33m*\u001b[0m\u001b[0msteps\u001b[0m\u001b[1;33m,\u001b[0m \u001b[0mmemory\u001b[0m\u001b[1;33m=\u001b[0m\u001b[1;32mNone\u001b[0m\u001b[1;33m,\u001b[0m \u001b[0mverbose\u001b[0m\u001b[1;33m=\u001b[0m\u001b[1;32mFalse\u001b[0m\u001b[1;33m)\u001b[0m\u001b[1;33m\u001b[0m\u001b[1;33m\u001b[0m\u001b[0m\n",
       "\u001b[1;31mSource:\u001b[0m   \n",
       "\u001b[1;32mdef\u001b[0m \u001b[0mmake_pipeline\u001b[0m\u001b[1;33m(\u001b[0m\u001b[1;33m*\u001b[0m\u001b[0msteps\u001b[0m\u001b[1;33m,\u001b[0m \u001b[0mmemory\u001b[0m\u001b[1;33m=\u001b[0m\u001b[1;32mNone\u001b[0m\u001b[1;33m,\u001b[0m \u001b[0mverbose\u001b[0m\u001b[1;33m=\u001b[0m\u001b[1;32mFalse\u001b[0m\u001b[1;33m)\u001b[0m\u001b[1;33m:\u001b[0m\u001b[1;33m\n",
       "\u001b[0m    \u001b[1;34m\"\"\"Construct a :class:`Pipeline` from the given estimators.\n",
       "\n",
       "    This is a shorthand for the :class:`Pipeline` constructor; it does not\n",
       "    require, and does not permit, naming the estimators. Instead, their names\n",
       "    will be set to the lowercase of their types automatically.\n",
       "\n",
       "    Parameters\n",
       "    ----------\n",
       "    *steps : list of Estimator objects\n",
       "        List of the scikit-learn estimators that are chained together.\n",
       "\n",
       "    memory : str or object with the joblib.Memory interface, default=None\n",
       "        Used to cache the fitted transformers of the pipeline. By default,\n",
       "        no caching is performed. If a string is given, it is the path to\n",
       "        the caching directory. Enabling caching triggers a clone of\n",
       "        the transformers before fitting. Therefore, the transformer\n",
       "        instance given to the pipeline cannot be inspected\n",
       "        directly. Use the attribute ``named_steps`` or ``steps`` to\n",
       "        inspect estimators within the pipeline. Caching the\n",
       "        transformers is advantageous when fitting is time consuming.\n",
       "\n",
       "    verbose : bool, default=False\n",
       "        If True, the time elapsed while fitting each step will be printed as it\n",
       "        is completed.\n",
       "\n",
       "    Returns\n",
       "    -------\n",
       "    p : Pipeline\n",
       "        Returns a scikit-learn :class:`Pipeline` object.\n",
       "\n",
       "    See Also\n",
       "    --------\n",
       "    Pipeline : Class for creating a pipeline of transforms with a final\n",
       "        estimator.\n",
       "\n",
       "    Examples\n",
       "    --------\n",
       "    >>> from sklearn.naive_bayes import GaussianNB\n",
       "    >>> from sklearn.preprocessing import StandardScaler\n",
       "    >>> from sklearn.pipeline import make_pipeline\n",
       "    >>> make_pipeline(StandardScaler(), GaussianNB(priors=None))\n",
       "    Pipeline(steps=[('standardscaler', StandardScaler()),\n",
       "                    ('gaussiannb', GaussianNB())])\n",
       "    \"\"\"\u001b[0m\u001b[1;33m\n",
       "\u001b[0m    \u001b[1;32mreturn\u001b[0m \u001b[0mPipeline\u001b[0m\u001b[1;33m(\u001b[0m\u001b[0m_name_estimators\u001b[0m\u001b[1;33m(\u001b[0m\u001b[0msteps\u001b[0m\u001b[1;33m)\u001b[0m\u001b[1;33m,\u001b[0m \u001b[0mmemory\u001b[0m\u001b[1;33m=\u001b[0m\u001b[0mmemory\u001b[0m\u001b[1;33m,\u001b[0m \u001b[0mverbose\u001b[0m\u001b[1;33m=\u001b[0m\u001b[0mverbose\u001b[0m\u001b[1;33m)\u001b[0m\u001b[1;33m\u001b[0m\u001b[1;33m\u001b[0m\u001b[0m\n",
       "\u001b[1;31mFile:\u001b[0m      c:\\users\\nkele\\.conda\\envs\\tfgpu\\lib\\site-packages\\sklearn\\pipeline.py\n",
       "\u001b[1;31mType:\u001b[0m      function\n"
      ]
     },
     "metadata": {},
     "output_type": "display_data"
    }
   ],
   "source": [
    "make_pipeline??"
   ]
  },
  {
   "cell_type": "code",
   "execution_count": 11,
   "metadata": {},
   "outputs": [
    {
     "data": {
      "text/plain": [
       "dict_items([('lr', Pipeline(steps=[('standardscaler', StandardScaler()),\n",
       "                ('logisticregression', LogisticRegression(max_iter=1000))])), ('rc', Pipeline(steps=[('standardscaler', StandardScaler()),\n",
       "                ('ridgeclassifier', RidgeClassifier())])), ('rf', Pipeline(steps=[('standardscaler', StandardScaler()),\n",
       "                ('randomforestclassifier', RandomForestClassifier())])), ('gb', Pipeline(steps=[('standardscaler', StandardScaler()),\n",
       "                ('gradientboostingclassifier', GradientBoostingClassifier())]))])"
      ]
     },
     "execution_count": 11,
     "metadata": {},
     "output_type": "execute_result"
    }
   ],
   "source": [
    "pipelines.items()"
   ]
  },
  {
   "cell_type": "code",
   "execution_count": 20,
   "metadata": {},
   "outputs": [],
   "source": [
    "fit_models = {}\n",
    "for algo, pipeline in pipelines.items():\n",
    "    model = pipeline.fit(X_train, y_train)\n",
    "    fit_models[algo] = model"
   ]
  },
  {
   "cell_type": "code",
   "execution_count": 21,
   "metadata": {},
   "outputs": [
    {
     "data": {
      "text/plain": [
       "{'lr': Pipeline(steps=[('standardscaler', StandardScaler()),\n",
       "                 ('logisticregression', LogisticRegression(max_iter=1000))]),\n",
       " 'rc': Pipeline(steps=[('standardscaler', StandardScaler()),\n",
       "                 ('ridgeclassifier', RidgeClassifier())]),\n",
       " 'rf': Pipeline(steps=[('standardscaler', StandardScaler()),\n",
       "                 ('randomforestclassifier', RandomForestClassifier())]),\n",
       " 'gb': Pipeline(steps=[('standardscaler', StandardScaler()),\n",
       "                 ('gradientboostingclassifier', GradientBoostingClassifier())])}"
      ]
     },
     "execution_count": 21,
     "metadata": {},
     "output_type": "execute_result"
    }
   ],
   "source": [
    "fit_models"
   ]
  },
  {
   "cell_type": "code",
   "execution_count": null,
   "metadata": {},
   "outputs": [],
   "source": []
  },
  {
   "cell_type": "code",
   "execution_count": 22,
   "metadata": {
    "scrolled": true
   },
   "outputs": [
    {
     "data": {
      "text/plain": [
       "array(['bicep_curls', 'dumbell_rows', 'dumbell_rows', ..., 'squat',\n",
       "       'dumbell_rows', 'knee_lift'], dtype='<U12')"
      ]
     },
     "execution_count": 22,
     "metadata": {},
     "output_type": "execute_result"
    }
   ],
   "source": [
    "fit_models['rc'].predict(X_test)"
   ]
  },
  {
   "cell_type": "code",
   "execution_count": 19,
   "metadata": {},
   "outputs": [],
   "source": [
    "from sklearn.metrics import accuracy_score # Accuracy metrics \n",
    "import pickle"
   ]
  },
  {
   "cell_type": "code",
   "execution_count": 24,
   "metadata": {},
   "outputs": [
    {
     "name": "stdout",
     "output_type": "stream",
     "text": [
      "lr 1.0\n",
      "rc 0.9996461429582448\n",
      "rf 1.0\n",
      "gb 1.0\n"
     ]
    }
   ],
   "source": [
    "for algo, model in fit_models.items():\n",
    "    yhat = model.predict(X_test)\n",
    "    print(algo, accuracy_score(y_test, yhat))"
   ]
  },
  {
   "cell_type": "code",
   "execution_count": 25,
   "metadata": {
    "scrolled": true
   },
   "outputs": [
    {
     "data": {
      "text/plain": [
       "array(['bicep_curls', 'dumbell_rows', 'dumbell_rows', ..., 'squat',\n",
       "       'dumbell_rows', 'knee_lift'], dtype=object)"
      ]
     },
     "execution_count": 25,
     "metadata": {},
     "output_type": "execute_result"
    }
   ],
   "source": [
    "fit_models['rf'].predict(X_test)"
   ]
  },
  {
   "cell_type": "code",
   "execution_count": 26,
   "metadata": {},
   "outputs": [
    {
     "data": {
      "text/plain": [
       "976      bicep_curls\n",
       "1993    dumbell_rows\n",
       "1626    dumbell_rows\n",
       "148      bicep_curls\n",
       "3562       knee_lift\n",
       "            ...     \n",
       "7737         push_up\n",
       "1220    dumbell_rows\n",
       "7983           squat\n",
       "2779    dumbell_rows\n",
       "4489       knee_lift\n",
       "Name: class, Length: 2826, dtype: object"
      ]
     },
     "execution_count": 26,
     "metadata": {},
     "output_type": "execute_result"
    }
   ],
   "source": [
    "y_test"
   ]
  },
  {
   "cell_type": "code",
   "execution_count": 27,
   "metadata": {},
   "outputs": [],
   "source": [
    "with open('body_language.pkl', 'wb') as f:\n",
    "    pickle.dump(fit_models['rf'], f)"
   ]
  },
  {
   "cell_type": "code",
   "execution_count": 20,
   "metadata": {},
   "outputs": [],
   "source": [
    "with open('body_language.pkl', 'rb') as f:\n",
    "    model = pickle.load(f)"
   ]
  },
  {
   "cell_type": "code",
   "execution_count": 21,
   "metadata": {},
   "outputs": [
    {
     "data": {
      "text/plain": [
       "Pipeline(steps=[('standardscaler', StandardScaler()),\n",
       "                ('randomforestclassifier', RandomForestClassifier())])"
      ]
     },
     "execution_count": 21,
     "metadata": {},
     "output_type": "execute_result"
    }
   ],
   "source": [
    "model"
   ]
  },
  {
   "cell_type": "code",
   "execution_count": 22,
   "metadata": {
    "scrolled": true
   },
   "outputs": [
    {
     "name": "stderr",
     "output_type": "stream",
     "text": [
      "C:\\Users\\nkele\\.conda\\envs\\tfgpu\\lib\\site-packages\\sklearn\\base.py:446: UserWarning: X does not have valid feature names, but StandardScaler was fitted with feature names\n",
      "  \"X does not have valid feature names, but\"\n",
      "C:\\Users\\nkele\\.conda\\envs\\tfgpu\\lib\\site-packages\\sklearn\\base.py:446: UserWarning: X does not have valid feature names, but StandardScaler was fitted with feature names\n",
      "  \"X does not have valid feature names, but\"\n"
     ]
    },
    {
     "name": "stdout",
     "output_type": "stream",
     "text": [
      "plank [0. 0. 0. 1. 0. 0.]\n"
     ]
    },
    {
     "name": "stderr",
     "output_type": "stream",
     "text": [
      "C:\\Users\\nkele\\.conda\\envs\\tfgpu\\lib\\site-packages\\sklearn\\base.py:446: UserWarning: X does not have valid feature names, but StandardScaler was fitted with feature names\n",
      "  \"X does not have valid feature names, but\"\n",
      "C:\\Users\\nkele\\.conda\\envs\\tfgpu\\lib\\site-packages\\sklearn\\base.py:446: UserWarning: X does not have valid feature names, but StandardScaler was fitted with feature names\n",
      "  \"X does not have valid feature names, but\"\n",
      "C:\\Users\\nkele\\.conda\\envs\\tfgpu\\lib\\site-packages\\sklearn\\base.py:446: UserWarning: X does not have valid feature names, but StandardScaler was fitted with feature names\n",
      "  \"X does not have valid feature names, but\"\n",
      "C:\\Users\\nkele\\.conda\\envs\\tfgpu\\lib\\site-packages\\sklearn\\base.py:446: UserWarning: X does not have valid feature names, but StandardScaler was fitted with feature names\n",
      "  \"X does not have valid feature names, but\"\n"
     ]
    },
    {
     "name": "stdout",
     "output_type": "stream",
     "text": [
      "plank [0. 0. 0. 1. 0. 0.]\n",
      "plank [0. 0. 0. 1. 0. 0.]\n"
     ]
    },
    {
     "name": "stderr",
     "output_type": "stream",
     "text": [
      "C:\\Users\\nkele\\.conda\\envs\\tfgpu\\lib\\site-packages\\sklearn\\base.py:446: UserWarning: X does not have valid feature names, but StandardScaler was fitted with feature names\n",
      "  \"X does not have valid feature names, but\"\n",
      "C:\\Users\\nkele\\.conda\\envs\\tfgpu\\lib\\site-packages\\sklearn\\base.py:446: UserWarning: X does not have valid feature names, but StandardScaler was fitted with feature names\n",
      "  \"X does not have valid feature names, but\"\n",
      "C:\\Users\\nkele\\.conda\\envs\\tfgpu\\lib\\site-packages\\sklearn\\base.py:446: UserWarning: X does not have valid feature names, but StandardScaler was fitted with feature names\n",
      "  \"X does not have valid feature names, but\"\n",
      "C:\\Users\\nkele\\.conda\\envs\\tfgpu\\lib\\site-packages\\sklearn\\base.py:446: UserWarning: X does not have valid feature names, but StandardScaler was fitted with feature names\n",
      "  \"X does not have valid feature names, but\"\n",
      "C:\\Users\\nkele\\.conda\\envs\\tfgpu\\lib\\site-packages\\sklearn\\base.py:446: UserWarning: X does not have valid feature names, but StandardScaler was fitted with feature names\n",
      "  \"X does not have valid feature names, but\"\n"
     ]
    },
    {
     "name": "stdout",
     "output_type": "stream",
     "text": [
      "plank [0. 0. 0. 1. 0. 0.]\n",
      "plank [0. 0. 0. 1. 0. 0.]\n"
     ]
    },
    {
     "name": "stderr",
     "output_type": "stream",
     "text": [
      "C:\\Users\\nkele\\.conda\\envs\\tfgpu\\lib\\site-packages\\sklearn\\base.py:446: UserWarning: X does not have valid feature names, but StandardScaler was fitted with feature names\n",
      "  \"X does not have valid feature names, but\"\n",
      "C:\\Users\\nkele\\.conda\\envs\\tfgpu\\lib\\site-packages\\sklearn\\base.py:446: UserWarning: X does not have valid feature names, but StandardScaler was fitted with feature names\n",
      "  \"X does not have valid feature names, but\"\n",
      "C:\\Users\\nkele\\.conda\\envs\\tfgpu\\lib\\site-packages\\sklearn\\base.py:446: UserWarning: X does not have valid feature names, but StandardScaler was fitted with feature names\n",
      "  \"X does not have valid feature names, but\"\n"
     ]
    },
    {
     "name": "stdout",
     "output_type": "stream",
     "text": [
      "plank [0. 0. 0. 1. 0. 0.]\n",
      "plank [0. 0. 0. 1. 0. 0.]\n"
     ]
    },
    {
     "name": "stderr",
     "output_type": "stream",
     "text": [
      "C:\\Users\\nkele\\.conda\\envs\\tfgpu\\lib\\site-packages\\sklearn\\base.py:446: UserWarning: X does not have valid feature names, but StandardScaler was fitted with feature names\n",
      "  \"X does not have valid feature names, but\"\n",
      "C:\\Users\\nkele\\.conda\\envs\\tfgpu\\lib\\site-packages\\sklearn\\base.py:446: UserWarning: X does not have valid feature names, but StandardScaler was fitted with feature names\n",
      "  \"X does not have valid feature names, but\"\n",
      "C:\\Users\\nkele\\.conda\\envs\\tfgpu\\lib\\site-packages\\sklearn\\base.py:446: UserWarning: X does not have valid feature names, but StandardScaler was fitted with feature names\n",
      "  \"X does not have valid feature names, but\"\n",
      "C:\\Users\\nkele\\.conda\\envs\\tfgpu\\lib\\site-packages\\sklearn\\base.py:446: UserWarning: X does not have valid feature names, but StandardScaler was fitted with feature names\n",
      "  \"X does not have valid feature names, but\"\n",
      "C:\\Users\\nkele\\.conda\\envs\\tfgpu\\lib\\site-packages\\sklearn\\base.py:446: UserWarning: X does not have valid feature names, but StandardScaler was fitted with feature names\n",
      "  \"X does not have valid feature names, but\"\n"
     ]
    },
    {
     "name": "stdout",
     "output_type": "stream",
     "text": [
      "plank [0. 0. 0. 1. 0. 0.]\n",
      "plank [0. 0. 0. 1. 0. 0.]\n",
      "plank [0. 0. 0. 1. 0. 0.]\n"
     ]
    },
    {
     "name": "stderr",
     "output_type": "stream",
     "text": [
      "C:\\Users\\nkele\\.conda\\envs\\tfgpu\\lib\\site-packages\\sklearn\\base.py:446: UserWarning: X does not have valid feature names, but StandardScaler was fitted with feature names\n",
      "  \"X does not have valid feature names, but\"\n",
      "C:\\Users\\nkele\\.conda\\envs\\tfgpu\\lib\\site-packages\\sklearn\\base.py:446: UserWarning: X does not have valid feature names, but StandardScaler was fitted with feature names\n",
      "  \"X does not have valid feature names, but\"\n",
      "C:\\Users\\nkele\\.conda\\envs\\tfgpu\\lib\\site-packages\\sklearn\\base.py:446: UserWarning: X does not have valid feature names, but StandardScaler was fitted with feature names\n",
      "  \"X does not have valid feature names, but\"\n",
      "C:\\Users\\nkele\\.conda\\envs\\tfgpu\\lib\\site-packages\\sklearn\\base.py:446: UserWarning: X does not have valid feature names, but StandardScaler was fitted with feature names\n",
      "  \"X does not have valid feature names, but\"\n",
      "C:\\Users\\nkele\\.conda\\envs\\tfgpu\\lib\\site-packages\\sklearn\\base.py:446: UserWarning: X does not have valid feature names, but StandardScaler was fitted with feature names\n",
      "  \"X does not have valid feature names, but\"\n"
     ]
    },
    {
     "name": "stdout",
     "output_type": "stream",
     "text": [
      "plank [0. 0. 0. 1. 0. 0.]\n",
      "plank [0. 0. 0. 1. 0. 0.]\n"
     ]
    },
    {
     "name": "stderr",
     "output_type": "stream",
     "text": [
      "C:\\Users\\nkele\\.conda\\envs\\tfgpu\\lib\\site-packages\\sklearn\\base.py:446: UserWarning: X does not have valid feature names, but StandardScaler was fitted with feature names\n",
      "  \"X does not have valid feature names, but\"\n",
      "C:\\Users\\nkele\\.conda\\envs\\tfgpu\\lib\\site-packages\\sklearn\\base.py:446: UserWarning: X does not have valid feature names, but StandardScaler was fitted with feature names\n",
      "  \"X does not have valid feature names, but\"\n",
      "C:\\Users\\nkele\\.conda\\envs\\tfgpu\\lib\\site-packages\\sklearn\\base.py:446: UserWarning: X does not have valid feature names, but StandardScaler was fitted with feature names\n",
      "  \"X does not have valid feature names, but\"\n",
      "C:\\Users\\nkele\\.conda\\envs\\tfgpu\\lib\\site-packages\\sklearn\\base.py:446: UserWarning: X does not have valid feature names, but StandardScaler was fitted with feature names\n",
      "  \"X does not have valid feature names, but\"\n"
     ]
    },
    {
     "name": "stdout",
     "output_type": "stream",
     "text": [
      "plank [0. 0. 0. 1. 0. 0.]\n",
      "plank [0. 0. 0. 1. 0. 0.]\n"
     ]
    },
    {
     "name": "stderr",
     "output_type": "stream",
     "text": [
      "C:\\Users\\nkele\\.conda\\envs\\tfgpu\\lib\\site-packages\\sklearn\\base.py:446: UserWarning: X does not have valid feature names, but StandardScaler was fitted with feature names\n",
      "  \"X does not have valid feature names, but\"\n",
      "C:\\Users\\nkele\\.conda\\envs\\tfgpu\\lib\\site-packages\\sklearn\\base.py:446: UserWarning: X does not have valid feature names, but StandardScaler was fitted with feature names\n",
      "  \"X does not have valid feature names, but\"\n",
      "C:\\Users\\nkele\\.conda\\envs\\tfgpu\\lib\\site-packages\\sklearn\\base.py:446: UserWarning: X does not have valid feature names, but StandardScaler was fitted with feature names\n",
      "  \"X does not have valid feature names, but\"\n",
      "C:\\Users\\nkele\\.conda\\envs\\tfgpu\\lib\\site-packages\\sklearn\\base.py:446: UserWarning: X does not have valid feature names, but StandardScaler was fitted with feature names\n",
      "  \"X does not have valid feature names, but\"\n",
      "C:\\Users\\nkele\\.conda\\envs\\tfgpu\\lib\\site-packages\\sklearn\\base.py:446: UserWarning: X does not have valid feature names, but StandardScaler was fitted with feature names\n",
      "  \"X does not have valid feature names, but\"\n",
      "C:\\Users\\nkele\\.conda\\envs\\tfgpu\\lib\\site-packages\\sklearn\\base.py:446: UserWarning: X does not have valid feature names, but StandardScaler was fitted with feature names\n",
      "  \"X does not have valid feature names, but\"\n"
     ]
    },
    {
     "name": "stdout",
     "output_type": "stream",
     "text": [
      "plank [0. 0. 0. 1. 0. 0.]\n",
      "plank [0. 0. 0. 1. 0. 0.]\n",
      "plank [0. 0. 0. 1. 0. 0.]\n"
     ]
    },
    {
     "name": "stderr",
     "output_type": "stream",
     "text": [
      "C:\\Users\\nkele\\.conda\\envs\\tfgpu\\lib\\site-packages\\sklearn\\base.py:446: UserWarning: X does not have valid feature names, but StandardScaler was fitted with feature names\n",
      "  \"X does not have valid feature names, but\"\n",
      "C:\\Users\\nkele\\.conda\\envs\\tfgpu\\lib\\site-packages\\sklearn\\base.py:446: UserWarning: X does not have valid feature names, but StandardScaler was fitted with feature names\n",
      "  \"X does not have valid feature names, but\"\n",
      "C:\\Users\\nkele\\.conda\\envs\\tfgpu\\lib\\site-packages\\sklearn\\base.py:446: UserWarning: X does not have valid feature names, but StandardScaler was fitted with feature names\n",
      "  \"X does not have valid feature names, but\"\n",
      "C:\\Users\\nkele\\.conda\\envs\\tfgpu\\lib\\site-packages\\sklearn\\base.py:446: UserWarning: X does not have valid feature names, but StandardScaler was fitted with feature names\n",
      "  \"X does not have valid feature names, but\"\n"
     ]
    },
    {
     "name": "stdout",
     "output_type": "stream",
     "text": [
      "plank [0. 0. 0. 1. 0. 0.]\n",
      "plank [0. 0. 0. 1. 0. 0.]\n"
     ]
    },
    {
     "name": "stderr",
     "output_type": "stream",
     "text": [
      "C:\\Users\\nkele\\.conda\\envs\\tfgpu\\lib\\site-packages\\sklearn\\base.py:446: UserWarning: X does not have valid feature names, but StandardScaler was fitted with feature names\n",
      "  \"X does not have valid feature names, but\"\n",
      "C:\\Users\\nkele\\.conda\\envs\\tfgpu\\lib\\site-packages\\sklearn\\base.py:446: UserWarning: X does not have valid feature names, but StandardScaler was fitted with feature names\n",
      "  \"X does not have valid feature names, but\"\n",
      "C:\\Users\\nkele\\.conda\\envs\\tfgpu\\lib\\site-packages\\sklearn\\base.py:446: UserWarning: X does not have valid feature names, but StandardScaler was fitted with feature names\n",
      "  \"X does not have valid feature names, but\"\n",
      "C:\\Users\\nkele\\.conda\\envs\\tfgpu\\lib\\site-packages\\sklearn\\base.py:446: UserWarning: X does not have valid feature names, but StandardScaler was fitted with feature names\n",
      "  \"X does not have valid feature names, but\"\n"
     ]
    },
    {
     "name": "stdout",
     "output_type": "stream",
     "text": [
      "plank [0. 0. 0. 1. 0. 0.]\n",
      "plank [0. 0. 0. 1. 0. 0.]\n"
     ]
    },
    {
     "name": "stderr",
     "output_type": "stream",
     "text": [
      "C:\\Users\\nkele\\.conda\\envs\\tfgpu\\lib\\site-packages\\sklearn\\base.py:446: UserWarning: X does not have valid feature names, but StandardScaler was fitted with feature names\n",
      "  \"X does not have valid feature names, but\"\n",
      "C:\\Users\\nkele\\.conda\\envs\\tfgpu\\lib\\site-packages\\sklearn\\base.py:446: UserWarning: X does not have valid feature names, but StandardScaler was fitted with feature names\n",
      "  \"X does not have valid feature names, but\"\n",
      "C:\\Users\\nkele\\.conda\\envs\\tfgpu\\lib\\site-packages\\sklearn\\base.py:446: UserWarning: X does not have valid feature names, but StandardScaler was fitted with feature names\n",
      "  \"X does not have valid feature names, but\"\n",
      "C:\\Users\\nkele\\.conda\\envs\\tfgpu\\lib\\site-packages\\sklearn\\base.py:446: UserWarning: X does not have valid feature names, but StandardScaler was fitted with feature names\n",
      "  \"X does not have valid feature names, but\"\n",
      "C:\\Users\\nkele\\.conda\\envs\\tfgpu\\lib\\site-packages\\sklearn\\base.py:446: UserWarning: X does not have valid feature names, but StandardScaler was fitted with feature names\n",
      "  \"X does not have valid feature names, but\"\n",
      "C:\\Users\\nkele\\.conda\\envs\\tfgpu\\lib\\site-packages\\sklearn\\base.py:446: UserWarning: X does not have valid feature names, but StandardScaler was fitted with feature names\n",
      "  \"X does not have valid feature names, but\"\n"
     ]
    },
    {
     "name": "stdout",
     "output_type": "stream",
     "text": [
      "plank [0. 0. 0. 1. 0. 0.]\n",
      "plank [0. 0. 0. 1. 0. 0.]\n"
     ]
    },
    {
     "name": "stderr",
     "output_type": "stream",
     "text": [
      "C:\\Users\\nkele\\.conda\\envs\\tfgpu\\lib\\site-packages\\sklearn\\base.py:446: UserWarning: X does not have valid feature names, but StandardScaler was fitted with feature names\n",
      "  \"X does not have valid feature names, but\"\n",
      "C:\\Users\\nkele\\.conda\\envs\\tfgpu\\lib\\site-packages\\sklearn\\base.py:446: UserWarning: X does not have valid feature names, but StandardScaler was fitted with feature names\n",
      "  \"X does not have valid feature names, but\"\n",
      "C:\\Users\\nkele\\.conda\\envs\\tfgpu\\lib\\site-packages\\sklearn\\base.py:446: UserWarning: X does not have valid feature names, but StandardScaler was fitted with feature names\n",
      "  \"X does not have valid feature names, but\"\n",
      "C:\\Users\\nkele\\.conda\\envs\\tfgpu\\lib\\site-packages\\sklearn\\base.py:446: UserWarning: X does not have valid feature names, but StandardScaler was fitted with feature names\n",
      "  \"X does not have valid feature names, but\"\n"
     ]
    },
    {
     "name": "stdout",
     "output_type": "stream",
     "text": [
      "plank [0. 0. 0. 1. 0. 0.]\n",
      "plank [0. 0. 0. 1. 0. 0.]\n",
      "plank"
     ]
    },
    {
     "name": "stderr",
     "output_type": "stream",
     "text": [
      "C:\\Users\\nkele\\.conda\\envs\\tfgpu\\lib\\site-packages\\sklearn\\base.py:446: UserWarning: X does not have valid feature names, but StandardScaler was fitted with feature names\n",
      "  \"X does not have valid feature names, but\"\n",
      "C:\\Users\\nkele\\.conda\\envs\\tfgpu\\lib\\site-packages\\sklearn\\base.py:446: UserWarning: X does not have valid feature names, but StandardScaler was fitted with feature names\n",
      "  \"X does not have valid feature names, but\"\n",
      "C:\\Users\\nkele\\.conda\\envs\\tfgpu\\lib\\site-packages\\sklearn\\base.py:446: UserWarning: X does not have valid feature names, but StandardScaler was fitted with feature names\n",
      "  \"X does not have valid feature names, but\"\n",
      "C:\\Users\\nkele\\.conda\\envs\\tfgpu\\lib\\site-packages\\sklearn\\base.py:446: UserWarning: X does not have valid feature names, but StandardScaler was fitted with feature names\n",
      "  \"X does not have valid feature names, but\"\n"
     ]
    },
    {
     "name": "stdout",
     "output_type": "stream",
     "text": [
      " [0. 0. 0. 1. 0. 0.]\n",
      "plank [0. 0. 0. 1. 0. 0.]\n",
      "plank [0. 0. 0. 1. 0. 0.]\n"
     ]
    },
    {
     "name": "stderr",
     "output_type": "stream",
     "text": [
      "C:\\Users\\nkele\\.conda\\envs\\tfgpu\\lib\\site-packages\\sklearn\\base.py:446: UserWarning: X does not have valid feature names, but StandardScaler was fitted with feature names\n",
      "  \"X does not have valid feature names, but\"\n",
      "C:\\Users\\nkele\\.conda\\envs\\tfgpu\\lib\\site-packages\\sklearn\\base.py:446: UserWarning: X does not have valid feature names, but StandardScaler was fitted with feature names\n",
      "  \"X does not have valid feature names, but\"\n",
      "C:\\Users\\nkele\\.conda\\envs\\tfgpu\\lib\\site-packages\\sklearn\\base.py:446: UserWarning: X does not have valid feature names, but StandardScaler was fitted with feature names\n",
      "  \"X does not have valid feature names, but\"\n",
      "C:\\Users\\nkele\\.conda\\envs\\tfgpu\\lib\\site-packages\\sklearn\\base.py:446: UserWarning: X does not have valid feature names, but StandardScaler was fitted with feature names\n",
      "  \"X does not have valid feature names, but\"\n"
     ]
    },
    {
     "name": "stdout",
     "output_type": "stream",
     "text": [
      "plank [0. 0. 0. 1. 0. 0.]\n",
      "plank [0. 0. 0. 1. 0. 0.]\n"
     ]
    },
    {
     "name": "stderr",
     "output_type": "stream",
     "text": [
      "C:\\Users\\nkele\\.conda\\envs\\tfgpu\\lib\\site-packages\\sklearn\\base.py:446: UserWarning: X does not have valid feature names, but StandardScaler was fitted with feature names\n",
      "  \"X does not have valid feature names, but\"\n",
      "C:\\Users\\nkele\\.conda\\envs\\tfgpu\\lib\\site-packages\\sklearn\\base.py:446: UserWarning: X does not have valid feature names, but StandardScaler was fitted with feature names\n",
      "  \"X does not have valid feature names, but\"\n",
      "C:\\Users\\nkele\\.conda\\envs\\tfgpu\\lib\\site-packages\\sklearn\\base.py:446: UserWarning: X does not have valid feature names, but StandardScaler was fitted with feature names\n",
      "  \"X does not have valid feature names, but\"\n",
      "C:\\Users\\nkele\\.conda\\envs\\tfgpu\\lib\\site-packages\\sklearn\\base.py:446: UserWarning: X does not have valid feature names, but StandardScaler was fitted with feature names\n",
      "  \"X does not have valid feature names, but\"\n"
     ]
    },
    {
     "name": "stdout",
     "output_type": "stream",
     "text": [
      "plank [0. 0. 0. 1. 0. 0.]\n",
      "plank [0. 0. 0. 1. 0. 0.]\n"
     ]
    },
    {
     "name": "stderr",
     "output_type": "stream",
     "text": [
      "C:\\Users\\nkele\\.conda\\envs\\tfgpu\\lib\\site-packages\\sklearn\\base.py:446: UserWarning: X does not have valid feature names, but StandardScaler was fitted with feature names\n",
      "  \"X does not have valid feature names, but\"\n",
      "C:\\Users\\nkele\\.conda\\envs\\tfgpu\\lib\\site-packages\\sklearn\\base.py:446: UserWarning: X does not have valid feature names, but StandardScaler was fitted with feature names\n",
      "  \"X does not have valid feature names, but\"\n",
      "C:\\Users\\nkele\\.conda\\envs\\tfgpu\\lib\\site-packages\\sklearn\\base.py:446: UserWarning: X does not have valid feature names, but StandardScaler was fitted with feature names\n",
      "  \"X does not have valid feature names, but\"\n",
      "C:\\Users\\nkele\\.conda\\envs\\tfgpu\\lib\\site-packages\\sklearn\\base.py:446: UserWarning: X does not have valid feature names, but StandardScaler was fitted with feature names\n",
      "  \"X does not have valid feature names, but\"\n",
      "C:\\Users\\nkele\\.conda\\envs\\tfgpu\\lib\\site-packages\\sklearn\\base.py:446: UserWarning: X does not have valid feature names, but StandardScaler was fitted with feature names\n",
      "  \"X does not have valid feature names, but\"\n",
      "C:\\Users\\nkele\\.conda\\envs\\tfgpu\\lib\\site-packages\\sklearn\\base.py:446: UserWarning: X does not have valid feature names, but StandardScaler was fitted with feature names\n",
      "  \"X does not have valid feature names, but\"\n"
     ]
    },
    {
     "name": "stdout",
     "output_type": "stream",
     "text": [
      "plank [0. 0. 0. 1. 0. 0.]\n",
      "plank [0. 0. 0. 1. 0. 0.]\n"
     ]
    },
    {
     "name": "stderr",
     "output_type": "stream",
     "text": [
      "C:\\Users\\nkele\\.conda\\envs\\tfgpu\\lib\\site-packages\\sklearn\\base.py:446: UserWarning: X does not have valid feature names, but StandardScaler was fitted with feature names\n",
      "  \"X does not have valid feature names, but\"\n",
      "C:\\Users\\nkele\\.conda\\envs\\tfgpu\\lib\\site-packages\\sklearn\\base.py:446: UserWarning: X does not have valid feature names, but StandardScaler was fitted with feature names\n",
      "  \"X does not have valid feature names, but\"\n",
      "C:\\Users\\nkele\\.conda\\envs\\tfgpu\\lib\\site-packages\\sklearn\\base.py:446: UserWarning: X does not have valid feature names, but StandardScaler was fitted with feature names\n",
      "  \"X does not have valid feature names, but\"\n"
     ]
    },
    {
     "name": "stdout",
     "output_type": "stream",
     "text": [
      "plank [0. 0. 0. 1. 0. 0.]\n",
      "plank [0. 0. 0. 1. 0. 0.]\n"
     ]
    },
    {
     "name": "stderr",
     "output_type": "stream",
     "text": [
      "C:\\Users\\nkele\\.conda\\envs\\tfgpu\\lib\\site-packages\\sklearn\\base.py:446: UserWarning: X does not have valid feature names, but StandardScaler was fitted with feature names\n",
      "  \"X does not have valid feature names, but\"\n",
      "C:\\Users\\nkele\\.conda\\envs\\tfgpu\\lib\\site-packages\\sklearn\\base.py:446: UserWarning: X does not have valid feature names, but StandardScaler was fitted with feature names\n",
      "  \"X does not have valid feature names, but\"\n",
      "C:\\Users\\nkele\\.conda\\envs\\tfgpu\\lib\\site-packages\\sklearn\\base.py:446: UserWarning: X does not have valid feature names, but StandardScaler was fitted with feature names\n",
      "  \"X does not have valid feature names, but\"\n"
     ]
    },
    {
     "name": "stdout",
     "output_type": "stream",
     "text": [
      "plank [0. 0. 0. 1. 0. 0.]\n",
      "plank [0. 0. 0. 1. 0. 0.]\n"
     ]
    },
    {
     "name": "stderr",
     "output_type": "stream",
     "text": [
      "C:\\Users\\nkele\\.conda\\envs\\tfgpu\\lib\\site-packages\\sklearn\\base.py:446: UserWarning: X does not have valid feature names, but StandardScaler was fitted with feature names\n",
      "  \"X does not have valid feature names, but\"\n",
      "C:\\Users\\nkele\\.conda\\envs\\tfgpu\\lib\\site-packages\\sklearn\\base.py:446: UserWarning: X does not have valid feature names, but StandardScaler was fitted with feature names\n",
      "  \"X does not have valid feature names, but\"\n",
      "C:\\Users\\nkele\\.conda\\envs\\tfgpu\\lib\\site-packages\\sklearn\\base.py:446: UserWarning: X does not have valid feature names, but StandardScaler was fitted with feature names\n",
      "  \"X does not have valid feature names, but\"\n",
      "C:\\Users\\nkele\\.conda\\envs\\tfgpu\\lib\\site-packages\\sklearn\\base.py:446: UserWarning: X does not have valid feature names, but StandardScaler was fitted with feature names\n",
      "  \"X does not have valid feature names, but\"\n"
     ]
    },
    {
     "name": "stdout",
     "output_type": "stream",
     "text": [
      "plank [0. 0. 0. 1. 0. 0.]\n",
      "plank [0. 0. 0. 1. 0. 0.]\n"
     ]
    },
    {
     "name": "stderr",
     "output_type": "stream",
     "text": [
      "C:\\Users\\nkele\\.conda\\envs\\tfgpu\\lib\\site-packages\\sklearn\\base.py:446: UserWarning: X does not have valid feature names, but StandardScaler was fitted with feature names\n",
      "  \"X does not have valid feature names, but\"\n",
      "C:\\Users\\nkele\\.conda\\envs\\tfgpu\\lib\\site-packages\\sklearn\\base.py:446: UserWarning: X does not have valid feature names, but StandardScaler was fitted with feature names\n",
      "  \"X does not have valid feature names, but\"\n",
      "C:\\Users\\nkele\\.conda\\envs\\tfgpu\\lib\\site-packages\\sklearn\\base.py:446: UserWarning: X does not have valid feature names, but StandardScaler was fitted with feature names\n",
      "  \"X does not have valid feature names, but\"\n",
      "C:\\Users\\nkele\\.conda\\envs\\tfgpu\\lib\\site-packages\\sklearn\\base.py:446: UserWarning: X does not have valid feature names, but StandardScaler was fitted with feature names\n",
      "  \"X does not have valid feature names, but\"\n"
     ]
    },
    {
     "name": "stdout",
     "output_type": "stream",
     "text": [
      "plank [0. 0. 0. 1. 0. 0.]\n",
      "plank [0. 0. 0. 1. 0. 0.]\n"
     ]
    },
    {
     "name": "stderr",
     "output_type": "stream",
     "text": [
      "C:\\Users\\nkele\\.conda\\envs\\tfgpu\\lib\\site-packages\\sklearn\\base.py:446: UserWarning: X does not have valid feature names, but StandardScaler was fitted with feature names\n",
      "  \"X does not have valid feature names, but\"\n",
      "C:\\Users\\nkele\\.conda\\envs\\tfgpu\\lib\\site-packages\\sklearn\\base.py:446: UserWarning: X does not have valid feature names, but StandardScaler was fitted with feature names\n",
      "  \"X does not have valid feature names, but\"\n",
      "C:\\Users\\nkele\\.conda\\envs\\tfgpu\\lib\\site-packages\\sklearn\\base.py:446: UserWarning: X does not have valid feature names, but StandardScaler was fitted with feature names\n",
      "  \"X does not have valid feature names, but\"\n"
     ]
    },
    {
     "name": "stdout",
     "output_type": "stream",
     "text": [
      "plank [0. 0. 0. 1. 0. 0.]\n",
      "plank [0. 0. 0. 1. 0. 0.]\n"
     ]
    },
    {
     "name": "stderr",
     "output_type": "stream",
     "text": [
      "C:\\Users\\nkele\\.conda\\envs\\tfgpu\\lib\\site-packages\\sklearn\\base.py:446: UserWarning: X does not have valid feature names, but StandardScaler was fitted with feature names\n",
      "  \"X does not have valid feature names, but\"\n",
      "C:\\Users\\nkele\\.conda\\envs\\tfgpu\\lib\\site-packages\\sklearn\\base.py:446: UserWarning: X does not have valid feature names, but StandardScaler was fitted with feature names\n",
      "  \"X does not have valid feature names, but\"\n",
      "C:\\Users\\nkele\\.conda\\envs\\tfgpu\\lib\\site-packages\\sklearn\\base.py:446: UserWarning: X does not have valid feature names, but StandardScaler was fitted with feature names\n",
      "  \"X does not have valid feature names, but\"\n"
     ]
    },
    {
     "name": "stdout",
     "output_type": "stream",
     "text": [
      "plank [0. 0. 0. 1. 0. 0.]\n",
      "plank [0. 0. 0. 1. 0. 0.]\n"
     ]
    },
    {
     "name": "stderr",
     "output_type": "stream",
     "text": [
      "C:\\Users\\nkele\\.conda\\envs\\tfgpu\\lib\\site-packages\\sklearn\\base.py:446: UserWarning: X does not have valid feature names, but StandardScaler was fitted with feature names\n",
      "  \"X does not have valid feature names, but\"\n",
      "C:\\Users\\nkele\\.conda\\envs\\tfgpu\\lib\\site-packages\\sklearn\\base.py:446: UserWarning: X does not have valid feature names, but StandardScaler was fitted with feature names\n",
      "  \"X does not have valid feature names, but\"\n",
      "C:\\Users\\nkele\\.conda\\envs\\tfgpu\\lib\\site-packages\\sklearn\\base.py:446: UserWarning: X does not have valid feature names, but StandardScaler was fitted with feature names\n",
      "  \"X does not have valid feature names, but\"\n",
      "C:\\Users\\nkele\\.conda\\envs\\tfgpu\\lib\\site-packages\\sklearn\\base.py:446: UserWarning: X does not have valid feature names, but StandardScaler was fitted with feature names\n",
      "  \"X does not have valid feature names, but\"\n"
     ]
    },
    {
     "name": "stdout",
     "output_type": "stream",
     "text": [
      "plank [0. 0. 0. 1. 0. 0.]\n",
      "plank [0. 0. 0. 1. 0. 0.]\n"
     ]
    },
    {
     "name": "stderr",
     "output_type": "stream",
     "text": [
      "C:\\Users\\nkele\\.conda\\envs\\tfgpu\\lib\\site-packages\\sklearn\\base.py:446: UserWarning: X does not have valid feature names, but StandardScaler was fitted with feature names\n",
      "  \"X does not have valid feature names, but\"\n",
      "C:\\Users\\nkele\\.conda\\envs\\tfgpu\\lib\\site-packages\\sklearn\\base.py:446: UserWarning: X does not have valid feature names, but StandardScaler was fitted with feature names\n",
      "  \"X does not have valid feature names, but\"\n",
      "C:\\Users\\nkele\\.conda\\envs\\tfgpu\\lib\\site-packages\\sklearn\\base.py:446: UserWarning: X does not have valid feature names, but StandardScaler was fitted with feature names\n",
      "  \"X does not have valid feature names, but\"\n",
      "C:\\Users\\nkele\\.conda\\envs\\tfgpu\\lib\\site-packages\\sklearn\\base.py:446: UserWarning: X does not have valid feature names, but StandardScaler was fitted with feature names\n",
      "  \"X does not have valid feature names, but\"\n"
     ]
    },
    {
     "name": "stdout",
     "output_type": "stream",
     "text": [
      "plank [0. 0. 0. 1. 0. 0.]\n"
     ]
    },
    {
     "name": "stderr",
     "output_type": "stream",
     "text": [
      "C:\\Users\\nkele\\.conda\\envs\\tfgpu\\lib\\site-packages\\sklearn\\base.py:446: UserWarning: X does not have valid feature names, but StandardScaler was fitted with feature names\n",
      "  \"X does not have valid feature names, but\"\n",
      "C:\\Users\\nkele\\.conda\\envs\\tfgpu\\lib\\site-packages\\sklearn\\base.py:446: UserWarning: X does not have valid feature names, but StandardScaler was fitted with feature names\n",
      "  \"X does not have valid feature names, but\"\n",
      "C:\\Users\\nkele\\.conda\\envs\\tfgpu\\lib\\site-packages\\sklearn\\base.py:446: UserWarning: X does not have valid feature names, but StandardScaler was fitted with feature names\n",
      "  \"X does not have valid feature names, but\"\n",
      "C:\\Users\\nkele\\.conda\\envs\\tfgpu\\lib\\site-packages\\sklearn\\base.py:446: UserWarning: X does not have valid feature names, but StandardScaler was fitted with feature names\n",
      "  \"X does not have valid feature names, but\"\n"
     ]
    },
    {
     "name": "stdout",
     "output_type": "stream",
     "text": [
      "plank [0. 0. 0. 1. 0. 0.]\n",
      "plank [0. 0. 0. 1. 0. 0.]\n"
     ]
    },
    {
     "name": "stderr",
     "output_type": "stream",
     "text": [
      "C:\\Users\\nkele\\.conda\\envs\\tfgpu\\lib\\site-packages\\sklearn\\base.py:446: UserWarning: X does not have valid feature names, but StandardScaler was fitted with feature names\n",
      "  \"X does not have valid feature names, but\"\n",
      "C:\\Users\\nkele\\.conda\\envs\\tfgpu\\lib\\site-packages\\sklearn\\base.py:446: UserWarning: X does not have valid feature names, but StandardScaler was fitted with feature names\n",
      "  \"X does not have valid feature names, but\"\n",
      "C:\\Users\\nkele\\.conda\\envs\\tfgpu\\lib\\site-packages\\sklearn\\base.py:446: UserWarning: X does not have valid feature names, but StandardScaler was fitted with feature names\n",
      "  \"X does not have valid feature names, but\"\n",
      "C:\\Users\\nkele\\.conda\\envs\\tfgpu\\lib\\site-packages\\sklearn\\base.py:446: UserWarning: X does not have valid feature names, but StandardScaler was fitted with feature names\n",
      "  \"X does not have valid feature names, but\"\n"
     ]
    },
    {
     "name": "stdout",
     "output_type": "stream",
     "text": [
      "plank [0. 0. 0. 1. 0. 0.]\n",
      "plank [0. 0. 0. 1. 0. 0.]\n"
     ]
    },
    {
     "name": "stderr",
     "output_type": "stream",
     "text": [
      "C:\\Users\\nkele\\.conda\\envs\\tfgpu\\lib\\site-packages\\sklearn\\base.py:446: UserWarning: X does not have valid feature names, but StandardScaler was fitted with feature names\n",
      "  \"X does not have valid feature names, but\"\n",
      "C:\\Users\\nkele\\.conda\\envs\\tfgpu\\lib\\site-packages\\sklearn\\base.py:446: UserWarning: X does not have valid feature names, but StandardScaler was fitted with feature names\n",
      "  \"X does not have valid feature names, but\"\n",
      "C:\\Users\\nkele\\.conda\\envs\\tfgpu\\lib\\site-packages\\sklearn\\base.py:446: UserWarning: X does not have valid feature names, but StandardScaler was fitted with feature names\n",
      "  \"X does not have valid feature names, but\"\n",
      "C:\\Users\\nkele\\.conda\\envs\\tfgpu\\lib\\site-packages\\sklearn\\base.py:446: UserWarning: X does not have valid feature names, but StandardScaler was fitted with feature names\n",
      "  \"X does not have valid feature names, but\"\n"
     ]
    },
    {
     "name": "stdout",
     "output_type": "stream",
     "text": [
      "plank [0. 0. 0. 1. 0. 0.]\n",
      "plank [0. 0. 0. 1. 0. 0.]\n"
     ]
    },
    {
     "name": "stderr",
     "output_type": "stream",
     "text": [
      "C:\\Users\\nkele\\.conda\\envs\\tfgpu\\lib\\site-packages\\sklearn\\base.py:446: UserWarning: X does not have valid feature names, but StandardScaler was fitted with feature names\n",
      "  \"X does not have valid feature names, but\"\n",
      "C:\\Users\\nkele\\.conda\\envs\\tfgpu\\lib\\site-packages\\sklearn\\base.py:446: UserWarning: X does not have valid feature names, but StandardScaler was fitted with feature names\n",
      "  \"X does not have valid feature names, but\"\n",
      "C:\\Users\\nkele\\.conda\\envs\\tfgpu\\lib\\site-packages\\sklearn\\base.py:446: UserWarning: X does not have valid feature names, but StandardScaler was fitted with feature names\n",
      "  \"X does not have valid feature names, but\"\n",
      "C:\\Users\\nkele\\.conda\\envs\\tfgpu\\lib\\site-packages\\sklearn\\base.py:446: UserWarning: X does not have valid feature names, but StandardScaler was fitted with feature names\n",
      "  \"X does not have valid feature names, but\"\n"
     ]
    },
    {
     "name": "stdout",
     "output_type": "stream",
     "text": [
      "plank [0. 0. 0. 1. 0. 0.]\n",
      "plank [0. 0. 0. 1. 0. 0.]\n"
     ]
    },
    {
     "name": "stderr",
     "output_type": "stream",
     "text": [
      "C:\\Users\\nkele\\.conda\\envs\\tfgpu\\lib\\site-packages\\sklearn\\base.py:446: UserWarning: X does not have valid feature names, but StandardScaler was fitted with feature names\n",
      "  \"X does not have valid feature names, but\"\n",
      "C:\\Users\\nkele\\.conda\\envs\\tfgpu\\lib\\site-packages\\sklearn\\base.py:446: UserWarning: X does not have valid feature names, but StandardScaler was fitted with feature names\n",
      "  \"X does not have valid feature names, but\"\n",
      "C:\\Users\\nkele\\.conda\\envs\\tfgpu\\lib\\site-packages\\sklearn\\base.py:446: UserWarning: X does not have valid feature names, but StandardScaler was fitted with feature names\n",
      "  \"X does not have valid feature names, but\"\n",
      "C:\\Users\\nkele\\.conda\\envs\\tfgpu\\lib\\site-packages\\sklearn\\base.py:446: UserWarning: X does not have valid feature names, but StandardScaler was fitted with feature names\n",
      "  \"X does not have valid feature names, but\"\n",
      "C:\\Users\\nkele\\.conda\\envs\\tfgpu\\lib\\site-packages\\sklearn\\base.py:446: UserWarning: X does not have valid feature names, but StandardScaler was fitted with feature names\n",
      "  \"X does not have valid feature names, but\"\n"
     ]
    },
    {
     "name": "stdout",
     "output_type": "stream",
     "text": [
      "plank [0. 0. 0. 1. 0. 0.]\n",
      "plank [0. 0. 0. 1. 0. 0.]\n"
     ]
    },
    {
     "name": "stderr",
     "output_type": "stream",
     "text": [
      "C:\\Users\\nkele\\.conda\\envs\\tfgpu\\lib\\site-packages\\sklearn\\base.py:446: UserWarning: X does not have valid feature names, but StandardScaler was fitted with feature names\n",
      "  \"X does not have valid feature names, but\"\n",
      "C:\\Users\\nkele\\.conda\\envs\\tfgpu\\lib\\site-packages\\sklearn\\base.py:446: UserWarning: X does not have valid feature names, but StandardScaler was fitted with feature names\n",
      "  \"X does not have valid feature names, but\"\n",
      "C:\\Users\\nkele\\.conda\\envs\\tfgpu\\lib\\site-packages\\sklearn\\base.py:446: UserWarning: X does not have valid feature names, but StandardScaler was fitted with feature names\n",
      "  \"X does not have valid feature names, but\"\n",
      "C:\\Users\\nkele\\.conda\\envs\\tfgpu\\lib\\site-packages\\sklearn\\base.py:446: UserWarning: X does not have valid feature names, but StandardScaler was fitted with feature names\n",
      "  \"X does not have valid feature names, but\"\n"
     ]
    },
    {
     "name": "stdout",
     "output_type": "stream",
     "text": [
      "plank [0. 0. 0. 1. 0. 0.]\n",
      "plank [0. 0. 0. 1. 0. 0.]\n"
     ]
    },
    {
     "name": "stderr",
     "output_type": "stream",
     "text": [
      "C:\\Users\\nkele\\.conda\\envs\\tfgpu\\lib\\site-packages\\sklearn\\base.py:446: UserWarning: X does not have valid feature names, but StandardScaler was fitted with feature names\n",
      "  \"X does not have valid feature names, but\"\n",
      "C:\\Users\\nkele\\.conda\\envs\\tfgpu\\lib\\site-packages\\sklearn\\base.py:446: UserWarning: X does not have valid feature names, but StandardScaler was fitted with feature names\n",
      "  \"X does not have valid feature names, but\"\n",
      "C:\\Users\\nkele\\.conda\\envs\\tfgpu\\lib\\site-packages\\sklearn\\base.py:446: UserWarning: X does not have valid feature names, but StandardScaler was fitted with feature names\n",
      "  \"X does not have valid feature names, but\"\n"
     ]
    },
    {
     "name": "stdout",
     "output_type": "stream",
     "text": [
      "plank [0. 0. 0. 1. 0. 0.]\n",
      "plank [0. 0. 0. 1. 0. 0.]\n"
     ]
    },
    {
     "name": "stderr",
     "output_type": "stream",
     "text": [
      "C:\\Users\\nkele\\.conda\\envs\\tfgpu\\lib\\site-packages\\sklearn\\base.py:446: UserWarning: X does not have valid feature names, but StandardScaler was fitted with feature names\n",
      "  \"X does not have valid feature names, but\"\n",
      "C:\\Users\\nkele\\.conda\\envs\\tfgpu\\lib\\site-packages\\sklearn\\base.py:446: UserWarning: X does not have valid feature names, but StandardScaler was fitted with feature names\n",
      "  \"X does not have valid feature names, but\"\n",
      "C:\\Users\\nkele\\.conda\\envs\\tfgpu\\lib\\site-packages\\sklearn\\base.py:446: UserWarning: X does not have valid feature names, but StandardScaler was fitted with feature names\n",
      "  \"X does not have valid feature names, but\"\n",
      "C:\\Users\\nkele\\.conda\\envs\\tfgpu\\lib\\site-packages\\sklearn\\base.py:446: UserWarning: X does not have valid feature names, but StandardScaler was fitted with feature names\n",
      "  \"X does not have valid feature names, but\"\n",
      "C:\\Users\\nkele\\.conda\\envs\\tfgpu\\lib\\site-packages\\sklearn\\base.py:446: UserWarning: X does not have valid feature names, but StandardScaler was fitted with feature names\n",
      "  \"X does not have valid feature names, but\"\n",
      "C:\\Users\\nkele\\.conda\\envs\\tfgpu\\lib\\site-packages\\sklearn\\base.py:446: UserWarning: X does not have valid feature names, but StandardScaler was fitted with feature names\n",
      "  \"X does not have valid feature names, but\"\n"
     ]
    },
    {
     "name": "stdout",
     "output_type": "stream",
     "text": [
      "plank [0. 0. 0. 1. 0. 0.]\n",
      "plank [0. 0. 0. 1. 0. 0.]\n",
      "plank [0. 0. 0. 1. 0. 0.]\n"
     ]
    },
    {
     "name": "stderr",
     "output_type": "stream",
     "text": [
      "C:\\Users\\nkele\\.conda\\envs\\tfgpu\\lib\\site-packages\\sklearn\\base.py:446: UserWarning: X does not have valid feature names, but StandardScaler was fitted with feature names\n",
      "  \"X does not have valid feature names, but\"\n",
      "C:\\Users\\nkele\\.conda\\envs\\tfgpu\\lib\\site-packages\\sklearn\\base.py:446: UserWarning: X does not have valid feature names, but StandardScaler was fitted with feature names\n",
      "  \"X does not have valid feature names, but\"\n",
      "C:\\Users\\nkele\\.conda\\envs\\tfgpu\\lib\\site-packages\\sklearn\\base.py:446: UserWarning: X does not have valid feature names, but StandardScaler was fitted with feature names\n",
      "  \"X does not have valid feature names, but\"\n",
      "C:\\Users\\nkele\\.conda\\envs\\tfgpu\\lib\\site-packages\\sklearn\\base.py:446: UserWarning: X does not have valid feature names, but StandardScaler was fitted with feature names\n",
      "  \"X does not have valid feature names, but\"\n"
     ]
    },
    {
     "name": "stdout",
     "output_type": "stream",
     "text": [
      "plank [0. 0. 0. 1. 0. 0.]\n",
      "plank [0. 0. 0. 1. 0. 0.]\n"
     ]
    },
    {
     "name": "stderr",
     "output_type": "stream",
     "text": [
      "C:\\Users\\nkele\\.conda\\envs\\tfgpu\\lib\\site-packages\\sklearn\\base.py:446: UserWarning: X does not have valid feature names, but StandardScaler was fitted with feature names\n",
      "  \"X does not have valid feature names, but\"\n",
      "C:\\Users\\nkele\\.conda\\envs\\tfgpu\\lib\\site-packages\\sklearn\\base.py:446: UserWarning: X does not have valid feature names, but StandardScaler was fitted with feature names\n",
      "  \"X does not have valid feature names, but\"\n",
      "C:\\Users\\nkele\\.conda\\envs\\tfgpu\\lib\\site-packages\\sklearn\\base.py:446: UserWarning: X does not have valid feature names, but StandardScaler was fitted with feature names\n",
      "  \"X does not have valid feature names, but\"\n",
      "C:\\Users\\nkele\\.conda\\envs\\tfgpu\\lib\\site-packages\\sklearn\\base.py:446: UserWarning: X does not have valid feature names, but StandardScaler was fitted with feature names\n",
      "  \"X does not have valid feature names, but\"\n",
      "C:\\Users\\nkele\\.conda\\envs\\tfgpu\\lib\\site-packages\\sklearn\\base.py:446: UserWarning: X does not have valid feature names, but StandardScaler was fitted with feature names\n",
      "  \"X does not have valid feature names, but\"\n",
      "C:\\Users\\nkele\\.conda\\envs\\tfgpu\\lib\\site-packages\\sklearn\\base.py:446: UserWarning: X does not have valid feature names, but StandardScaler was fitted with feature names\n",
      "  \"X does not have valid feature names, but\"\n"
     ]
    },
    {
     "name": "stdout",
     "output_type": "stream",
     "text": [
      "plank [0. 0. 0. 1. 0. 0.]\n",
      "plank [0. 0. 0. 1. 0. 0.]\n"
     ]
    },
    {
     "name": "stderr",
     "output_type": "stream",
     "text": [
      "C:\\Users\\nkele\\.conda\\envs\\tfgpu\\lib\\site-packages\\sklearn\\base.py:446: UserWarning: X does not have valid feature names, but StandardScaler was fitted with feature names\n",
      "  \"X does not have valid feature names, but\"\n",
      "C:\\Users\\nkele\\.conda\\envs\\tfgpu\\lib\\site-packages\\sklearn\\base.py:446: UserWarning: X does not have valid feature names, but StandardScaler was fitted with feature names\n",
      "  \"X does not have valid feature names, but\"\n",
      "C:\\Users\\nkele\\.conda\\envs\\tfgpu\\lib\\site-packages\\sklearn\\base.py:446: UserWarning: X does not have valid feature names, but StandardScaler was fitted with feature names\n",
      "  \"X does not have valid feature names, but\"\n"
     ]
    },
    {
     "name": "stdout",
     "output_type": "stream",
     "text": [
      "plank [0. 0. 0. 1. 0. 0.]\n",
      "plank [0. 0. 0. 1. 0. 0.]\n"
     ]
    },
    {
     "name": "stderr",
     "output_type": "stream",
     "text": [
      "C:\\Users\\nkele\\.conda\\envs\\tfgpu\\lib\\site-packages\\sklearn\\base.py:446: UserWarning: X does not have valid feature names, but StandardScaler was fitted with feature names\n",
      "  \"X does not have valid feature names, but\"\n",
      "C:\\Users\\nkele\\.conda\\envs\\tfgpu\\lib\\site-packages\\sklearn\\base.py:446: UserWarning: X does not have valid feature names, but StandardScaler was fitted with feature names\n",
      "  \"X does not have valid feature names, but\"\n",
      "C:\\Users\\nkele\\.conda\\envs\\tfgpu\\lib\\site-packages\\sklearn\\base.py:446: UserWarning: X does not have valid feature names, but StandardScaler was fitted with feature names\n",
      "  \"X does not have valid feature names, but\"\n",
      "C:\\Users\\nkele\\.conda\\envs\\tfgpu\\lib\\site-packages\\sklearn\\base.py:446: UserWarning: X does not have valid feature names, but StandardScaler was fitted with feature names\n",
      "  \"X does not have valid feature names, but\"\n",
      "C:\\Users\\nkele\\.conda\\envs\\tfgpu\\lib\\site-packages\\sklearn\\base.py:446: UserWarning: X does not have valid feature names, but StandardScaler was fitted with feature names\n",
      "  \"X does not have valid feature names, but\"\n"
     ]
    },
    {
     "name": "stdout",
     "output_type": "stream",
     "text": [
      "plank [0. 0. 0. 1. 0. 0.]\n",
      "plank [0. 0. 0. 1. 0. 0.]\n",
      "plank [0. 0. 0. 1. 0. 0.]\n"
     ]
    },
    {
     "name": "stderr",
     "output_type": "stream",
     "text": [
      "C:\\Users\\nkele\\.conda\\envs\\tfgpu\\lib\\site-packages\\sklearn\\base.py:446: UserWarning: X does not have valid feature names, but StandardScaler was fitted with feature names\n",
      "  \"X does not have valid feature names, but\"\n",
      "C:\\Users\\nkele\\.conda\\envs\\tfgpu\\lib\\site-packages\\sklearn\\base.py:446: UserWarning: X does not have valid feature names, but StandardScaler was fitted with feature names\n",
      "  \"X does not have valid feature names, but\"\n",
      "C:\\Users\\nkele\\.conda\\envs\\tfgpu\\lib\\site-packages\\sklearn\\base.py:446: UserWarning: X does not have valid feature names, but StandardScaler was fitted with feature names\n",
      "  \"X does not have valid feature names, but\"\n",
      "C:\\Users\\nkele\\.conda\\envs\\tfgpu\\lib\\site-packages\\sklearn\\base.py:446: UserWarning: X does not have valid feature names, but StandardScaler was fitted with feature names\n",
      "  \"X does not have valid feature names, but\"\n",
      "C:\\Users\\nkele\\.conda\\envs\\tfgpu\\lib\\site-packages\\sklearn\\base.py:446: UserWarning: X does not have valid feature names, but StandardScaler was fitted with feature names\n",
      "  \"X does not have valid feature names, but\"\n",
      "C:\\Users\\nkele\\.conda\\envs\\tfgpu\\lib\\site-packages\\sklearn\\base.py:446: UserWarning: X does not have valid feature names, but StandardScaler was fitted with feature names\n",
      "  \"X does not have valid feature names, but\"\n"
     ]
    },
    {
     "name": "stdout",
     "output_type": "stream",
     "text": [
      "plank [0. 0. 0. 1. 0. 0.]\n",
      "plank [0. 0. 0. 1. 0. 0.]\n",
      "plank [0. 0. 0. 1. 0. 0.]\n"
     ]
    },
    {
     "name": "stderr",
     "output_type": "stream",
     "text": [
      "C:\\Users\\nkele\\.conda\\envs\\tfgpu\\lib\\site-packages\\sklearn\\base.py:446: UserWarning: X does not have valid feature names, but StandardScaler was fitted with feature names\n",
      "  \"X does not have valid feature names, but\"\n",
      "C:\\Users\\nkele\\.conda\\envs\\tfgpu\\lib\\site-packages\\sklearn\\base.py:446: UserWarning: X does not have valid feature names, but StandardScaler was fitted with feature names\n",
      "  \"X does not have valid feature names, but\"\n",
      "C:\\Users\\nkele\\.conda\\envs\\tfgpu\\lib\\site-packages\\sklearn\\base.py:446: UserWarning: X does not have valid feature names, but StandardScaler was fitted with feature names\n",
      "  \"X does not have valid feature names, but\"\n",
      "C:\\Users\\nkele\\.conda\\envs\\tfgpu\\lib\\site-packages\\sklearn\\base.py:446: UserWarning: X does not have valid feature names, but StandardScaler was fitted with feature names\n",
      "  \"X does not have valid feature names, but\"\n"
     ]
    },
    {
     "name": "stdout",
     "output_type": "stream",
     "text": [
      "plank [0. 0. 0. 1. 0. 0.]\n",
      "plank [0. 0. 0. 1. 0. 0.]\n"
     ]
    },
    {
     "name": "stderr",
     "output_type": "stream",
     "text": [
      "C:\\Users\\nkele\\.conda\\envs\\tfgpu\\lib\\site-packages\\sklearn\\base.py:446: UserWarning: X does not have valid feature names, but StandardScaler was fitted with feature names\n",
      "  \"X does not have valid feature names, but\"\n",
      "C:\\Users\\nkele\\.conda\\envs\\tfgpu\\lib\\site-packages\\sklearn\\base.py:446: UserWarning: X does not have valid feature names, but StandardScaler was fitted with feature names\n",
      "  \"X does not have valid feature names, but\"\n",
      "C:\\Users\\nkele\\.conda\\envs\\tfgpu\\lib\\site-packages\\sklearn\\base.py:446: UserWarning: X does not have valid feature names, but StandardScaler was fitted with feature names\n",
      "  \"X does not have valid feature names, but\"\n",
      "C:\\Users\\nkele\\.conda\\envs\\tfgpu\\lib\\site-packages\\sklearn\\base.py:446: UserWarning: X does not have valid feature names, but StandardScaler was fitted with feature names\n",
      "  \"X does not have valid feature names, but\"\n"
     ]
    },
    {
     "name": "stdout",
     "output_type": "stream",
     "text": [
      "plank [0. 0. 0. 1. 0. 0.]\n",
      "plank [0. 0. 0. 1. 0. 0.]\n"
     ]
    },
    {
     "name": "stderr",
     "output_type": "stream",
     "text": [
      "C:\\Users\\nkele\\.conda\\envs\\tfgpu\\lib\\site-packages\\sklearn\\base.py:446: UserWarning: X does not have valid feature names, but StandardScaler was fitted with feature names\n",
      "  \"X does not have valid feature names, but\"\n",
      "C:\\Users\\nkele\\.conda\\envs\\tfgpu\\lib\\site-packages\\sklearn\\base.py:446: UserWarning: X does not have valid feature names, but StandardScaler was fitted with feature names\n",
      "  \"X does not have valid feature names, but\"\n",
      "C:\\Users\\nkele\\.conda\\envs\\tfgpu\\lib\\site-packages\\sklearn\\base.py:446: UserWarning: X does not have valid feature names, but StandardScaler was fitted with feature names\n",
      "  \"X does not have valid feature names, but\"\n",
      "C:\\Users\\nkele\\.conda\\envs\\tfgpu\\lib\\site-packages\\sklearn\\base.py:446: UserWarning: X does not have valid feature names, but StandardScaler was fitted with feature names\n",
      "  \"X does not have valid feature names, but\"\n"
     ]
    },
    {
     "name": "stdout",
     "output_type": "stream",
     "text": [
      "plank [0. 0. 0. 1. 0. 0.]\n",
      "plank [0. 0. 0. 1. 0. 0.]\n"
     ]
    },
    {
     "name": "stderr",
     "output_type": "stream",
     "text": [
      "C:\\Users\\nkele\\.conda\\envs\\tfgpu\\lib\\site-packages\\sklearn\\base.py:446: UserWarning: X does not have valid feature names, but StandardScaler was fitted with feature names\n",
      "  \"X does not have valid feature names, but\"\n",
      "C:\\Users\\nkele\\.conda\\envs\\tfgpu\\lib\\site-packages\\sklearn\\base.py:446: UserWarning: X does not have valid feature names, but StandardScaler was fitted with feature names\n",
      "  \"X does not have valid feature names, but\"\n",
      "C:\\Users\\nkele\\.conda\\envs\\tfgpu\\lib\\site-packages\\sklearn\\base.py:446: UserWarning: X does not have valid feature names, but StandardScaler was fitted with feature names\n",
      "  \"X does not have valid feature names, but\"\n",
      "C:\\Users\\nkele\\.conda\\envs\\tfgpu\\lib\\site-packages\\sklearn\\base.py:446: UserWarning: X does not have valid feature names, but StandardScaler was fitted with feature names\n",
      "  \"X does not have valid feature names, but\"\n",
      "C:\\Users\\nkele\\.conda\\envs\\tfgpu\\lib\\site-packages\\sklearn\\base.py:446: UserWarning: X does not have valid feature names, but StandardScaler was fitted with feature names\n",
      "  \"X does not have valid feature names, but\"\n",
      "C:\\Users\\nkele\\.conda\\envs\\tfgpu\\lib\\site-packages\\sklearn\\base.py:446: UserWarning: X does not have valid feature names, but StandardScaler was fitted with feature names\n",
      "  \"X does not have valid feature names, but\"\n"
     ]
    },
    {
     "name": "stdout",
     "output_type": "stream",
     "text": [
      "plank [0. 0. 0. 1. 0. 0.]\n",
      "plank [0. 0. 0. 1. 0. 0.]\n",
      "plank [0. 0. 0. 1. 0. 0.]\n"
     ]
    },
    {
     "name": "stderr",
     "output_type": "stream",
     "text": [
      "C:\\Users\\nkele\\.conda\\envs\\tfgpu\\lib\\site-packages\\sklearn\\base.py:446: UserWarning: X does not have valid feature names, but StandardScaler was fitted with feature names\n",
      "  \"X does not have valid feature names, but\"\n",
      "C:\\Users\\nkele\\.conda\\envs\\tfgpu\\lib\\site-packages\\sklearn\\base.py:446: UserWarning: X does not have valid feature names, but StandardScaler was fitted with feature names\n",
      "  \"X does not have valid feature names, but\"\n",
      "C:\\Users\\nkele\\.conda\\envs\\tfgpu\\lib\\site-packages\\sklearn\\base.py:446: UserWarning: X does not have valid feature names, but StandardScaler was fitted with feature names\n",
      "  \"X does not have valid feature names, but\"\n",
      "C:\\Users\\nkele\\.conda\\envs\\tfgpu\\lib\\site-packages\\sklearn\\base.py:446: UserWarning: X does not have valid feature names, but StandardScaler was fitted with feature names\n",
      "  \"X does not have valid feature names, but\"\n",
      "C:\\Users\\nkele\\.conda\\envs\\tfgpu\\lib\\site-packages\\sklearn\\base.py:446: UserWarning: X does not have valid feature names, but StandardScaler was fitted with feature names\n",
      "  \"X does not have valid feature names, but\"\n",
      "C:\\Users\\nkele\\.conda\\envs\\tfgpu\\lib\\site-packages\\sklearn\\base.py:446: UserWarning: X does not have valid feature names, but StandardScaler was fitted with feature names\n",
      "  \"X does not have valid feature names, but\"\n"
     ]
    },
    {
     "name": "stdout",
     "output_type": "stream",
     "text": [
      "plank [0. 0. 0. 1. 0. 0.]\n",
      "plank [0. 0. 0. 1. 0. 0.]\n",
      "plank [0. 0. 0. 1. 0. 0.]\n"
     ]
    },
    {
     "name": "stderr",
     "output_type": "stream",
     "text": [
      "C:\\Users\\nkele\\.conda\\envs\\tfgpu\\lib\\site-packages\\sklearn\\base.py:446: UserWarning: X does not have valid feature names, but StandardScaler was fitted with feature names\n",
      "  \"X does not have valid feature names, but\"\n",
      "C:\\Users\\nkele\\.conda\\envs\\tfgpu\\lib\\site-packages\\sklearn\\base.py:446: UserWarning: X does not have valid feature names, but StandardScaler was fitted with feature names\n",
      "  \"X does not have valid feature names, but\"\n",
      "C:\\Users\\nkele\\.conda\\envs\\tfgpu\\lib\\site-packages\\sklearn\\base.py:446: UserWarning: X does not have valid feature names, but StandardScaler was fitted with feature names\n",
      "  \"X does not have valid feature names, but\"\n",
      "C:\\Users\\nkele\\.conda\\envs\\tfgpu\\lib\\site-packages\\sklearn\\base.py:446: UserWarning: X does not have valid feature names, but StandardScaler was fitted with feature names\n",
      "  \"X does not have valid feature names, but\"\n",
      "C:\\Users\\nkele\\.conda\\envs\\tfgpu\\lib\\site-packages\\sklearn\\base.py:446: UserWarning: X does not have valid feature names, but StandardScaler was fitted with feature names\n",
      "  \"X does not have valid feature names, but\"\n",
      "C:\\Users\\nkele\\.conda\\envs\\tfgpu\\lib\\site-packages\\sklearn\\base.py:446: UserWarning: X does not have valid feature names, but StandardScaler was fitted with feature names\n",
      "  \"X does not have valid feature names, but\"\n"
     ]
    },
    {
     "name": "stdout",
     "output_type": "stream",
     "text": [
      "plank [0. 0. 0. 1. 0. 0.]\n",
      "plank [0. 0. 0. 1. 0. 0.]\n"
     ]
    },
    {
     "name": "stderr",
     "output_type": "stream",
     "text": [
      "C:\\Users\\nkele\\.conda\\envs\\tfgpu\\lib\\site-packages\\sklearn\\base.py:446: UserWarning: X does not have valid feature names, but StandardScaler was fitted with feature names\n",
      "  \"X does not have valid feature names, but\"\n",
      "C:\\Users\\nkele\\.conda\\envs\\tfgpu\\lib\\site-packages\\sklearn\\base.py:446: UserWarning: X does not have valid feature names, but StandardScaler was fitted with feature names\n",
      "  \"X does not have valid feature names, but\"\n"
     ]
    },
    {
     "name": "stdout",
     "output_type": "stream",
     "text": [
      "plank [0. 0. 0. 1. 0. 0.]\n",
      "plank [0. 0. 0. 1. 0. 0.]\n"
     ]
    },
    {
     "name": "stderr",
     "output_type": "stream",
     "text": [
      "C:\\Users\\nkele\\.conda\\envs\\tfgpu\\lib\\site-packages\\sklearn\\base.py:446: UserWarning: X does not have valid feature names, but StandardScaler was fitted with feature names\n",
      "  \"X does not have valid feature names, but\"\n",
      "C:\\Users\\nkele\\.conda\\envs\\tfgpu\\lib\\site-packages\\sklearn\\base.py:446: UserWarning: X does not have valid feature names, but StandardScaler was fitted with feature names\n",
      "  \"X does not have valid feature names, but\"\n",
      "C:\\Users\\nkele\\.conda\\envs\\tfgpu\\lib\\site-packages\\sklearn\\base.py:446: UserWarning: X does not have valid feature names, but StandardScaler was fitted with feature names\n",
      "  \"X does not have valid feature names, but\"\n",
      "C:\\Users\\nkele\\.conda\\envs\\tfgpu\\lib\\site-packages\\sklearn\\base.py:446: UserWarning: X does not have valid feature names, but StandardScaler was fitted with feature names\n",
      "  \"X does not have valid feature names, but\"\n"
     ]
    },
    {
     "name": "stdout",
     "output_type": "stream",
     "text": [
      "plank [0. 0. 0. 1. 0. 0.]\n",
      "plank [0. 0. 0. 1. 0. 0.]\n"
     ]
    },
    {
     "name": "stderr",
     "output_type": "stream",
     "text": [
      "C:\\Users\\nkele\\.conda\\envs\\tfgpu\\lib\\site-packages\\sklearn\\base.py:446: UserWarning: X does not have valid feature names, but StandardScaler was fitted with feature names\n",
      "  \"X does not have valid feature names, but\"\n",
      "C:\\Users\\nkele\\.conda\\envs\\tfgpu\\lib\\site-packages\\sklearn\\base.py:446: UserWarning: X does not have valid feature names, but StandardScaler was fitted with feature names\n",
      "  \"X does not have valid feature names, but\"\n",
      "C:\\Users\\nkele\\.conda\\envs\\tfgpu\\lib\\site-packages\\sklearn\\base.py:446: UserWarning: X does not have valid feature names, but StandardScaler was fitted with feature names\n",
      "  \"X does not have valid feature names, but\"\n",
      "C:\\Users\\nkele\\.conda\\envs\\tfgpu\\lib\\site-packages\\sklearn\\base.py:446: UserWarning: X does not have valid feature names, but StandardScaler was fitted with feature names\n",
      "  \"X does not have valid feature names, but\"\n"
     ]
    },
    {
     "name": "stdout",
     "output_type": "stream",
     "text": [
      "plank [0. 0. 0. 1. 0. 0.]\n",
      "plank [0. 0. 0. 1. 0. 0.]\n"
     ]
    },
    {
     "name": "stderr",
     "output_type": "stream",
     "text": [
      "C:\\Users\\nkele\\.conda\\envs\\tfgpu\\lib\\site-packages\\sklearn\\base.py:446: UserWarning: X does not have valid feature names, but StandardScaler was fitted with feature names\n",
      "  \"X does not have valid feature names, but\"\n",
      "C:\\Users\\nkele\\.conda\\envs\\tfgpu\\lib\\site-packages\\sklearn\\base.py:446: UserWarning: X does not have valid feature names, but StandardScaler was fitted with feature names\n",
      "  \"X does not have valid feature names, but\"\n",
      "C:\\Users\\nkele\\.conda\\envs\\tfgpu\\lib\\site-packages\\sklearn\\base.py:446: UserWarning: X does not have valid feature names, but StandardScaler was fitted with feature names\n",
      "  \"X does not have valid feature names, but\"\n",
      "C:\\Users\\nkele\\.conda\\envs\\tfgpu\\lib\\site-packages\\sklearn\\base.py:446: UserWarning: X does not have valid feature names, but StandardScaler was fitted with feature names\n",
      "  \"X does not have valid feature names, but\"\n"
     ]
    },
    {
     "name": "stdout",
     "output_type": "stream",
     "text": [
      "plank [0. 0. 0. 1. 0. 0.]\n",
      "plank [0. 0. 0. 1. 0. 0.]\n"
     ]
    },
    {
     "name": "stderr",
     "output_type": "stream",
     "text": [
      "C:\\Users\\nkele\\.conda\\envs\\tfgpu\\lib\\site-packages\\sklearn\\base.py:446: UserWarning: X does not have valid feature names, but StandardScaler was fitted with feature names\n",
      "  \"X does not have valid feature names, but\"\n",
      "C:\\Users\\nkele\\.conda\\envs\\tfgpu\\lib\\site-packages\\sklearn\\base.py:446: UserWarning: X does not have valid feature names, but StandardScaler was fitted with feature names\n",
      "  \"X does not have valid feature names, but\"\n",
      "C:\\Users\\nkele\\.conda\\envs\\tfgpu\\lib\\site-packages\\sklearn\\base.py:446: UserWarning: X does not have valid feature names, but StandardScaler was fitted with feature names\n",
      "  \"X does not have valid feature names, but\"\n",
      "C:\\Users\\nkele\\.conda\\envs\\tfgpu\\lib\\site-packages\\sklearn\\base.py:446: UserWarning: X does not have valid feature names, but StandardScaler was fitted with feature names\n",
      "  \"X does not have valid feature names, but\"\n",
      "C:\\Users\\nkele\\.conda\\envs\\tfgpu\\lib\\site-packages\\sklearn\\base.py:446: UserWarning: X does not have valid feature names, but StandardScaler was fitted with feature names\n",
      "  \"X does not have valid feature names, but\"\n",
      "C:\\Users\\nkele\\.conda\\envs\\tfgpu\\lib\\site-packages\\sklearn\\base.py:446: UserWarning: X does not have valid feature names, but StandardScaler was fitted with feature names\n",
      "  \"X does not have valid feature names, but\"\n"
     ]
    },
    {
     "name": "stdout",
     "output_type": "stream",
     "text": [
      "plank [0. 0. 0. 1. 0. 0.]\n",
      "plank [0. 0. 0. 1. 0. 0.]\n"
     ]
    },
    {
     "name": "stderr",
     "output_type": "stream",
     "text": [
      "C:\\Users\\nkele\\.conda\\envs\\tfgpu\\lib\\site-packages\\sklearn\\base.py:446: UserWarning: X does not have valid feature names, but StandardScaler was fitted with feature names\n",
      "  \"X does not have valid feature names, but\"\n",
      "C:\\Users\\nkele\\.conda\\envs\\tfgpu\\lib\\site-packages\\sklearn\\base.py:446: UserWarning: X does not have valid feature names, but StandardScaler was fitted with feature names\n",
      "  \"X does not have valid feature names, but\"\n"
     ]
    },
    {
     "name": "stdout",
     "output_type": "stream",
     "text": [
      "plank [0. 0. 0. 1. 0. 0.]\n",
      "plank [0. 0. 0. 1. 0. 0.]\n"
     ]
    },
    {
     "name": "stderr",
     "output_type": "stream",
     "text": [
      "C:\\Users\\nkele\\.conda\\envs\\tfgpu\\lib\\site-packages\\sklearn\\base.py:446: UserWarning: X does not have valid feature names, but StandardScaler was fitted with feature names\n",
      "  \"X does not have valid feature names, but\"\n",
      "C:\\Users\\nkele\\.conda\\envs\\tfgpu\\lib\\site-packages\\sklearn\\base.py:446: UserWarning: X does not have valid feature names, but StandardScaler was fitted with feature names\n",
      "  \"X does not have valid feature names, but\"\n",
      "C:\\Users\\nkele\\.conda\\envs\\tfgpu\\lib\\site-packages\\sklearn\\base.py:446: UserWarning: X does not have valid feature names, but StandardScaler was fitted with feature names\n",
      "  \"X does not have valid feature names, but\"\n",
      "C:\\Users\\nkele\\.conda\\envs\\tfgpu\\lib\\site-packages\\sklearn\\base.py:446: UserWarning: X does not have valid feature names, but StandardScaler was fitted with feature names\n",
      "  \"X does not have valid feature names, but\"\n"
     ]
    },
    {
     "name": "stdout",
     "output_type": "stream",
     "text": [
      "plank [0. 0. 0. 1. 0. 0.]\n",
      "plank [0. 0. 0. 1. 0. 0.]\n"
     ]
    },
    {
     "name": "stderr",
     "output_type": "stream",
     "text": [
      "C:\\Users\\nkele\\.conda\\envs\\tfgpu\\lib\\site-packages\\sklearn\\base.py:446: UserWarning: X does not have valid feature names, but StandardScaler was fitted with feature names\n",
      "  \"X does not have valid feature names, but\"\n",
      "C:\\Users\\nkele\\.conda\\envs\\tfgpu\\lib\\site-packages\\sklearn\\base.py:446: UserWarning: X does not have valid feature names, but StandardScaler was fitted with feature names\n",
      "  \"X does not have valid feature names, but\"\n",
      "C:\\Users\\nkele\\.conda\\envs\\tfgpu\\lib\\site-packages\\sklearn\\base.py:446: UserWarning: X does not have valid feature names, but StandardScaler was fitted with feature names\n",
      "  \"X does not have valid feature names, but\"\n",
      "C:\\Users\\nkele\\.conda\\envs\\tfgpu\\lib\\site-packages\\sklearn\\base.py:446: UserWarning: X does not have valid feature names, but StandardScaler was fitted with feature names\n",
      "  \"X does not have valid feature names, but\"\n",
      "C:\\Users\\nkele\\.conda\\envs\\tfgpu\\lib\\site-packages\\sklearn\\base.py:446: UserWarning: X does not have valid feature names, but StandardScaler was fitted with feature names\n",
      "  \"X does not have valid feature names, but\"\n",
      "C:\\Users\\nkele\\.conda\\envs\\tfgpu\\lib\\site-packages\\sklearn\\base.py:446: UserWarning: X does not have valid feature names, but StandardScaler was fitted with feature names\n",
      "  \"X does not have valid feature names, but\"\n"
     ]
    },
    {
     "name": "stdout",
     "output_type": "stream",
     "text": [
      "plank [0. 0. 0. 1. 0. 0.]\n",
      "plank [0. 0. 0. 1. 0. 0.]\n",
      "plank [0. 0. 0. 1. 0. 0.]\n"
     ]
    },
    {
     "name": "stderr",
     "output_type": "stream",
     "text": [
      "C:\\Users\\nkele\\.conda\\envs\\tfgpu\\lib\\site-packages\\sklearn\\base.py:446: UserWarning: X does not have valid feature names, but StandardScaler was fitted with feature names\n",
      "  \"X does not have valid feature names, but\"\n",
      "C:\\Users\\nkele\\.conda\\envs\\tfgpu\\lib\\site-packages\\sklearn\\base.py:446: UserWarning: X does not have valid feature names, but StandardScaler was fitted with feature names\n",
      "  \"X does not have valid feature names, but\"\n",
      "C:\\Users\\nkele\\.conda\\envs\\tfgpu\\lib\\site-packages\\sklearn\\base.py:446: UserWarning: X does not have valid feature names, but StandardScaler was fitted with feature names\n",
      "  \"X does not have valid feature names, but\"\n",
      "C:\\Users\\nkele\\.conda\\envs\\tfgpu\\lib\\site-packages\\sklearn\\base.py:446: UserWarning: X does not have valid feature names, but StandardScaler was fitted with feature names\n",
      "  \"X does not have valid feature names, but\"\n"
     ]
    },
    {
     "name": "stdout",
     "output_type": "stream",
     "text": [
      "plank [0. 0. 0. 1. 0. 0.]\n",
      "plank [0. 0. 0. 1. 0. 0.]\n"
     ]
    },
    {
     "name": "stderr",
     "output_type": "stream",
     "text": [
      "C:\\Users\\nkele\\.conda\\envs\\tfgpu\\lib\\site-packages\\sklearn\\base.py:446: UserWarning: X does not have valid feature names, but StandardScaler was fitted with feature names\n",
      "  \"X does not have valid feature names, but\"\n",
      "C:\\Users\\nkele\\.conda\\envs\\tfgpu\\lib\\site-packages\\sklearn\\base.py:446: UserWarning: X does not have valid feature names, but StandardScaler was fitted with feature names\n",
      "  \"X does not have valid feature names, but\"\n",
      "C:\\Users\\nkele\\.conda\\envs\\tfgpu\\lib\\site-packages\\sklearn\\base.py:446: UserWarning: X does not have valid feature names, but StandardScaler was fitted with feature names\n",
      "  \"X does not have valid feature names, but\"\n",
      "C:\\Users\\nkele\\.conda\\envs\\tfgpu\\lib\\site-packages\\sklearn\\base.py:446: UserWarning: X does not have valid feature names, but StandardScaler was fitted with feature names\n",
      "  \"X does not have valid feature names, but\"\n"
     ]
    },
    {
     "name": "stdout",
     "output_type": "stream",
     "text": [
      "plank [0. 0. 0. 1. 0. 0.]\n",
      "plank [0. 0. 0. 1. 0. 0.]\n"
     ]
    },
    {
     "name": "stderr",
     "output_type": "stream",
     "text": [
      "C:\\Users\\nkele\\.conda\\envs\\tfgpu\\lib\\site-packages\\sklearn\\base.py:446: UserWarning: X does not have valid feature names, but StandardScaler was fitted with feature names\n",
      "  \"X does not have valid feature names, but\"\n",
      "C:\\Users\\nkele\\.conda\\envs\\tfgpu\\lib\\site-packages\\sklearn\\base.py:446: UserWarning: X does not have valid feature names, but StandardScaler was fitted with feature names\n",
      "  \"X does not have valid feature names, but\"\n",
      "C:\\Users\\nkele\\.conda\\envs\\tfgpu\\lib\\site-packages\\sklearn\\base.py:446: UserWarning: X does not have valid feature names, but StandardScaler was fitted with feature names\n",
      "  \"X does not have valid feature names, but\"\n",
      "C:\\Users\\nkele\\.conda\\envs\\tfgpu\\lib\\site-packages\\sklearn\\base.py:446: UserWarning: X does not have valid feature names, but StandardScaler was fitted with feature names\n",
      "  \"X does not have valid feature names, but\"\n",
      "C:\\Users\\nkele\\.conda\\envs\\tfgpu\\lib\\site-packages\\sklearn\\base.py:446: UserWarning: X does not have valid feature names, but StandardScaler was fitted with feature names\n",
      "  \"X does not have valid feature names, but\"\n"
     ]
    },
    {
     "name": "stdout",
     "output_type": "stream",
     "text": [
      "plank [0. 0. 0. 1. 0. 0.]\n",
      "plank [0. 0. 0. 1. 0. 0.]\n"
     ]
    },
    {
     "name": "stderr",
     "output_type": "stream",
     "text": [
      "C:\\Users\\nkele\\.conda\\envs\\tfgpu\\lib\\site-packages\\sklearn\\base.py:446: UserWarning: X does not have valid feature names, but StandardScaler was fitted with feature names\n",
      "  \"X does not have valid feature names, but\"\n",
      "C:\\Users\\nkele\\.conda\\envs\\tfgpu\\lib\\site-packages\\sklearn\\base.py:446: UserWarning: X does not have valid feature names, but StandardScaler was fitted with feature names\n",
      "  \"X does not have valid feature names, but\"\n",
      "C:\\Users\\nkele\\.conda\\envs\\tfgpu\\lib\\site-packages\\sklearn\\base.py:446: UserWarning: X does not have valid feature names, but StandardScaler was fitted with feature names\n",
      "  \"X does not have valid feature names, but\"\n",
      "C:\\Users\\nkele\\.conda\\envs\\tfgpu\\lib\\site-packages\\sklearn\\base.py:446: UserWarning: X does not have valid feature names, but StandardScaler was fitted with feature names\n",
      "  \"X does not have valid feature names, but\"\n"
     ]
    },
    {
     "name": "stdout",
     "output_type": "stream",
     "text": [
      "plank [0. 0. 0. 1. 0. 0.]\n",
      "plank [0. 0. 0. 1. 0. 0.]\n"
     ]
    },
    {
     "name": "stderr",
     "output_type": "stream",
     "text": [
      "C:\\Users\\nkele\\.conda\\envs\\tfgpu\\lib\\site-packages\\sklearn\\base.py:446: UserWarning: X does not have valid feature names, but StandardScaler was fitted with feature names\n",
      "  \"X does not have valid feature names, but\"\n",
      "C:\\Users\\nkele\\.conda\\envs\\tfgpu\\lib\\site-packages\\sklearn\\base.py:446: UserWarning: X does not have valid feature names, but StandardScaler was fitted with feature names\n",
      "  \"X does not have valid feature names, but\"\n",
      "C:\\Users\\nkele\\.conda\\envs\\tfgpu\\lib\\site-packages\\sklearn\\base.py:446: UserWarning: X does not have valid feature names, but StandardScaler was fitted with feature names\n",
      "  \"X does not have valid feature names, but\"\n",
      "C:\\Users\\nkele\\.conda\\envs\\tfgpu\\lib\\site-packages\\sklearn\\base.py:446: UserWarning: X does not have valid feature names, but StandardScaler was fitted with feature names\n",
      "  \"X does not have valid feature names, but\"\n",
      "C:\\Users\\nkele\\.conda\\envs\\tfgpu\\lib\\site-packages\\sklearn\\base.py:446: UserWarning: X does not have valid feature names, but StandardScaler was fitted with feature names\n",
      "  \"X does not have valid feature names, but\"\n"
     ]
    },
    {
     "name": "stdout",
     "output_type": "stream",
     "text": [
      "plank [0. 0. 0. 1. 0. 0.]\n",
      "plank [0. 0. 0. 1. 0. 0.]\n"
     ]
    },
    {
     "name": "stderr",
     "output_type": "stream",
     "text": [
      "C:\\Users\\nkele\\.conda\\envs\\tfgpu\\lib\\site-packages\\sklearn\\base.py:446: UserWarning: X does not have valid feature names, but StandardScaler was fitted with feature names\n",
      "  \"X does not have valid feature names, but\"\n",
      "C:\\Users\\nkele\\.conda\\envs\\tfgpu\\lib\\site-packages\\sklearn\\base.py:446: UserWarning: X does not have valid feature names, but StandardScaler was fitted with feature names\n",
      "  \"X does not have valid feature names, but\"\n",
      "C:\\Users\\nkele\\.conda\\envs\\tfgpu\\lib\\site-packages\\sklearn\\base.py:446: UserWarning: X does not have valid feature names, but StandardScaler was fitted with feature names\n",
      "  \"X does not have valid feature names, but\"\n",
      "C:\\Users\\nkele\\.conda\\envs\\tfgpu\\lib\\site-packages\\sklearn\\base.py:446: UserWarning: X does not have valid feature names, but StandardScaler was fitted with feature names\n",
      "  \"X does not have valid feature names, but\"\n"
     ]
    },
    {
     "name": "stdout",
     "output_type": "stream",
     "text": [
      "plank [0. 0. 0. 1. 0. 0.]\n",
      "plank [0. 0. 0. 1. 0. 0.]\n",
      "plank [0. 0. 0. 1. 0. 0.]\n",
      "plank [0. 0. 0. 1. 0. 0.]\n"
     ]
    },
    {
     "name": "stderr",
     "output_type": "stream",
     "text": [
      "C:\\Users\\nkele\\.conda\\envs\\tfgpu\\lib\\site-packages\\sklearn\\base.py:446: UserWarning: X does not have valid feature names, but StandardScaler was fitted with feature names\n",
      "  \"X does not have valid feature names, but\"\n",
      "C:\\Users\\nkele\\.conda\\envs\\tfgpu\\lib\\site-packages\\sklearn\\base.py:446: UserWarning: X does not have valid feature names, but StandardScaler was fitted with feature names\n",
      "  \"X does not have valid feature names, but\"\n",
      "C:\\Users\\nkele\\.conda\\envs\\tfgpu\\lib\\site-packages\\sklearn\\base.py:446: UserWarning: X does not have valid feature names, but StandardScaler was fitted with feature names\n",
      "  \"X does not have valid feature names, but\"\n",
      "C:\\Users\\nkele\\.conda\\envs\\tfgpu\\lib\\site-packages\\sklearn\\base.py:446: UserWarning: X does not have valid feature names, but StandardScaler was fitted with feature names\n",
      "  \"X does not have valid feature names, but\"\n"
     ]
    },
    {
     "name": "stdout",
     "output_type": "stream",
     "text": [
      "plank [0. 0. 0. 1. 0. 0.]\n",
      "plank [0. 0. 0. 1. 0. 0.]\n"
     ]
    },
    {
     "name": "stderr",
     "output_type": "stream",
     "text": [
      "C:\\Users\\nkele\\.conda\\envs\\tfgpu\\lib\\site-packages\\sklearn\\base.py:446: UserWarning: X does not have valid feature names, but StandardScaler was fitted with feature names\n",
      "  \"X does not have valid feature names, but\"\n",
      "C:\\Users\\nkele\\.conda\\envs\\tfgpu\\lib\\site-packages\\sklearn\\base.py:446: UserWarning: X does not have valid feature names, but StandardScaler was fitted with feature names\n",
      "  \"X does not have valid feature names, but\"\n",
      "C:\\Users\\nkele\\.conda\\envs\\tfgpu\\lib\\site-packages\\sklearn\\base.py:446: UserWarning: X does not have valid feature names, but StandardScaler was fitted with feature names\n",
      "  \"X does not have valid feature names, but\"\n",
      "C:\\Users\\nkele\\.conda\\envs\\tfgpu\\lib\\site-packages\\sklearn\\base.py:446: UserWarning: X does not have valid feature names, but StandardScaler was fitted with feature names\n",
      "  \"X does not have valid feature names, but\"\n"
     ]
    },
    {
     "name": "stdout",
     "output_type": "stream",
     "text": [
      "plank [0. 0. 0. 1. 0. 0.]\n",
      "plank [0. 0. 0. 1. 0. 0.]\n",
      "plank [0. 0. 0. 1. 0. 0.]\n"
     ]
    },
    {
     "name": "stderr",
     "output_type": "stream",
     "text": [
      "C:\\Users\\nkele\\.conda\\envs\\tfgpu\\lib\\site-packages\\sklearn\\base.py:446: UserWarning: X does not have valid feature names, but StandardScaler was fitted with feature names\n",
      "  \"X does not have valid feature names, but\"\n",
      "C:\\Users\\nkele\\.conda\\envs\\tfgpu\\lib\\site-packages\\sklearn\\base.py:446: UserWarning: X does not have valid feature names, but StandardScaler was fitted with feature names\n",
      "  \"X does not have valid feature names, but\"\n",
      "C:\\Users\\nkele\\.conda\\envs\\tfgpu\\lib\\site-packages\\sklearn\\base.py:446: UserWarning: X does not have valid feature names, but StandardScaler was fitted with feature names\n",
      "  \"X does not have valid feature names, but\"\n",
      "C:\\Users\\nkele\\.conda\\envs\\tfgpu\\lib\\site-packages\\sklearn\\base.py:446: UserWarning: X does not have valid feature names, but StandardScaler was fitted with feature names\n",
      "  \"X does not have valid feature names, but\"\n",
      "C:\\Users\\nkele\\.conda\\envs\\tfgpu\\lib\\site-packages\\sklearn\\base.py:446: UserWarning: X does not have valid feature names, but StandardScaler was fitted with feature names\n",
      "  \"X does not have valid feature names, but\"\n",
      "C:\\Users\\nkele\\.conda\\envs\\tfgpu\\lib\\site-packages\\sklearn\\base.py:446: UserWarning: X does not have valid feature names, but StandardScaler was fitted with feature names\n",
      "  \"X does not have valid feature names, but\"\n"
     ]
    },
    {
     "name": "stdout",
     "output_type": "stream",
     "text": [
      "plank [0. 0. 0. 1. 0. 0.]\n",
      "plank [0. 0. 0. 1. 0. 0.]\n"
     ]
    },
    {
     "name": "stderr",
     "output_type": "stream",
     "text": [
      "C:\\Users\\nkele\\.conda\\envs\\tfgpu\\lib\\site-packages\\sklearn\\base.py:446: UserWarning: X does not have valid feature names, but StandardScaler was fitted with feature names\n",
      "  \"X does not have valid feature names, but\"\n",
      "C:\\Users\\nkele\\.conda\\envs\\tfgpu\\lib\\site-packages\\sklearn\\base.py:446: UserWarning: X does not have valid feature names, but StandardScaler was fitted with feature names\n",
      "  \"X does not have valid feature names, but\"\n",
      "C:\\Users\\nkele\\.conda\\envs\\tfgpu\\lib\\site-packages\\sklearn\\base.py:446: UserWarning: X does not have valid feature names, but StandardScaler was fitted with feature names\n",
      "  \"X does not have valid feature names, but\"\n",
      "C:\\Users\\nkele\\.conda\\envs\\tfgpu\\lib\\site-packages\\sklearn\\base.py:446: UserWarning: X does not have valid feature names, but StandardScaler was fitted with feature names\n",
      "  \"X does not have valid feature names, but\"\n",
      "C:\\Users\\nkele\\.conda\\envs\\tfgpu\\lib\\site-packages\\sklearn\\base.py:446: UserWarning: X does not have valid feature names, but StandardScaler was fitted with feature names\n",
      "  \"X does not have valid feature names, but\"\n",
      "C:\\Users\\nkele\\.conda\\envs\\tfgpu\\lib\\site-packages\\sklearn\\base.py:446: UserWarning: X does not have valid feature names, but StandardScaler was fitted with feature names\n",
      "  \"X does not have valid feature names, but\"\n"
     ]
    },
    {
     "name": "stdout",
     "output_type": "stream",
     "text": [
      "plank [0. 0. 0. 1. 0. 0.]\n",
      "plank [0. 0. 0. 1. 0. 0.]\n"
     ]
    },
    {
     "name": "stderr",
     "output_type": "stream",
     "text": [
      "C:\\Users\\nkele\\.conda\\envs\\tfgpu\\lib\\site-packages\\sklearn\\base.py:446: UserWarning: X does not have valid feature names, but StandardScaler was fitted with feature names\n",
      "  \"X does not have valid feature names, but\"\n",
      "C:\\Users\\nkele\\.conda\\envs\\tfgpu\\lib\\site-packages\\sklearn\\base.py:446: UserWarning: X does not have valid feature names, but StandardScaler was fitted with feature names\n",
      "  \"X does not have valid feature names, but\"\n",
      "C:\\Users\\nkele\\.conda\\envs\\tfgpu\\lib\\site-packages\\sklearn\\base.py:446: UserWarning: X does not have valid feature names, but StandardScaler was fitted with feature names\n",
      "  \"X does not have valid feature names, but\"\n",
      "C:\\Users\\nkele\\.conda\\envs\\tfgpu\\lib\\site-packages\\sklearn\\base.py:446: UserWarning: X does not have valid feature names, but StandardScaler was fitted with feature names\n",
      "  \"X does not have valid feature names, but\"\n",
      "C:\\Users\\nkele\\.conda\\envs\\tfgpu\\lib\\site-packages\\sklearn\\base.py:446: UserWarning: X does not have valid feature names, but StandardScaler was fitted with feature names\n",
      "  \"X does not have valid feature names, but\"\n"
     ]
    },
    {
     "name": "stdout",
     "output_type": "stream",
     "text": [
      "plank [0. 0. 0. 1. 0. 0.]\n",
      "plank [0. 0. 0. 1. 0. 0.]\n"
     ]
    },
    {
     "name": "stderr",
     "output_type": "stream",
     "text": [
      "C:\\Users\\nkele\\.conda\\envs\\tfgpu\\lib\\site-packages\\sklearn\\base.py:446: UserWarning: X does not have valid feature names, but StandardScaler was fitted with feature names\n",
      "  \"X does not have valid feature names, but\"\n",
      "C:\\Users\\nkele\\.conda\\envs\\tfgpu\\lib\\site-packages\\sklearn\\base.py:446: UserWarning: X does not have valid feature names, but StandardScaler was fitted with feature names\n",
      "  \"X does not have valid feature names, but\"\n",
      "C:\\Users\\nkele\\.conda\\envs\\tfgpu\\lib\\site-packages\\sklearn\\base.py:446: UserWarning: X does not have valid feature names, but StandardScaler was fitted with feature names\n",
      "  \"X does not have valid feature names, but\"\n"
     ]
    },
    {
     "name": "stdout",
     "output_type": "stream",
     "text": [
      "plank [0. 0. 0. 1. 0. 0.]\n",
      "plank [0. 0. 0. 1. 0. 0.]\n"
     ]
    },
    {
     "name": "stderr",
     "output_type": "stream",
     "text": [
      "C:\\Users\\nkele\\.conda\\envs\\tfgpu\\lib\\site-packages\\sklearn\\base.py:446: UserWarning: X does not have valid feature names, but StandardScaler was fitted with feature names\n",
      "  \"X does not have valid feature names, but\"\n",
      "C:\\Users\\nkele\\.conda\\envs\\tfgpu\\lib\\site-packages\\sklearn\\base.py:446: UserWarning: X does not have valid feature names, but StandardScaler was fitted with feature names\n",
      "  \"X does not have valid feature names, but\"\n",
      "C:\\Users\\nkele\\.conda\\envs\\tfgpu\\lib\\site-packages\\sklearn\\base.py:446: UserWarning: X does not have valid feature names, but StandardScaler was fitted with feature names\n",
      "  \"X does not have valid feature names, but\"\n",
      "C:\\Users\\nkele\\.conda\\envs\\tfgpu\\lib\\site-packages\\sklearn\\base.py:446: UserWarning: X does not have valid feature names, but StandardScaler was fitted with feature names\n",
      "  \"X does not have valid feature names, but\"\n",
      "C:\\Users\\nkele\\.conda\\envs\\tfgpu\\lib\\site-packages\\sklearn\\base.py:446: UserWarning: X does not have valid feature names, but StandardScaler was fitted with feature names\n",
      "  \"X does not have valid feature names, but\"\n",
      "C:\\Users\\nkele\\.conda\\envs\\tfgpu\\lib\\site-packages\\sklearn\\base.py:446: UserWarning: X does not have valid feature names, but StandardScaler was fitted with feature names\n",
      "  \"X does not have valid feature names, but\"\n"
     ]
    },
    {
     "name": "stdout",
     "output_type": "stream",
     "text": [
      "plank [0. 0. 0. 1. 0. 0.]\n",
      "plank [0. 0. 0. 1. 0. 0.]\n",
      "plank [0. 0. 0. 1. 0. 0.]\n"
     ]
    },
    {
     "name": "stderr",
     "output_type": "stream",
     "text": [
      "C:\\Users\\nkele\\.conda\\envs\\tfgpu\\lib\\site-packages\\sklearn\\base.py:446: UserWarning: X does not have valid feature names, but StandardScaler was fitted with feature names\n",
      "  \"X does not have valid feature names, but\"\n",
      "C:\\Users\\nkele\\.conda\\envs\\tfgpu\\lib\\site-packages\\sklearn\\base.py:446: UserWarning: X does not have valid feature names, but StandardScaler was fitted with feature names\n",
      "  \"X does not have valid feature names, but\"\n",
      "C:\\Users\\nkele\\.conda\\envs\\tfgpu\\lib\\site-packages\\sklearn\\base.py:446: UserWarning: X does not have valid feature names, but StandardScaler was fitted with feature names\n",
      "  \"X does not have valid feature names, but\"\n",
      "C:\\Users\\nkele\\.conda\\envs\\tfgpu\\lib\\site-packages\\sklearn\\base.py:446: UserWarning: X does not have valid feature names, but StandardScaler was fitted with feature names\n",
      "  \"X does not have valid feature names, but\"\n",
      "C:\\Users\\nkele\\.conda\\envs\\tfgpu\\lib\\site-packages\\sklearn\\base.py:446: UserWarning: X does not have valid feature names, but StandardScaler was fitted with feature names\n",
      "  \"X does not have valid feature names, but\"\n"
     ]
    },
    {
     "name": "stdout",
     "output_type": "stream",
     "text": [
      "plank [0. 0. 0. 1. 0. 0.]\n",
      "plank [0. 0. 0. 1. 0. 0.]\n"
     ]
    },
    {
     "name": "stderr",
     "output_type": "stream",
     "text": [
      "C:\\Users\\nkele\\.conda\\envs\\tfgpu\\lib\\site-packages\\sklearn\\base.py:446: UserWarning: X does not have valid feature names, but StandardScaler was fitted with feature names\n",
      "  \"X does not have valid feature names, but\"\n",
      "C:\\Users\\nkele\\.conda\\envs\\tfgpu\\lib\\site-packages\\sklearn\\base.py:446: UserWarning: X does not have valid feature names, but StandardScaler was fitted with feature names\n",
      "  \"X does not have valid feature names, but\"\n",
      "C:\\Users\\nkele\\.conda\\envs\\tfgpu\\lib\\site-packages\\sklearn\\base.py:446: UserWarning: X does not have valid feature names, but StandardScaler was fitted with feature names\n",
      "  \"X does not have valid feature names, but\"\n",
      "C:\\Users\\nkele\\.conda\\envs\\tfgpu\\lib\\site-packages\\sklearn\\base.py:446: UserWarning: X does not have valid feature names, but StandardScaler was fitted with feature names\n",
      "  \"X does not have valid feature names, but\"\n",
      "C:\\Users\\nkele\\.conda\\envs\\tfgpu\\lib\\site-packages\\sklearn\\base.py:446: UserWarning: X does not have valid feature names, but StandardScaler was fitted with feature names\n",
      "  \"X does not have valid feature names, but\"\n"
     ]
    },
    {
     "name": "stdout",
     "output_type": "stream",
     "text": [
      "plank [0. 0. 0. 1. 0. 0.]\n",
      "plank [0. 0. 0. 1. 0. 0.]\n"
     ]
    },
    {
     "name": "stderr",
     "output_type": "stream",
     "text": [
      "C:\\Users\\nkele\\.conda\\envs\\tfgpu\\lib\\site-packages\\sklearn\\base.py:446: UserWarning: X does not have valid feature names, but StandardScaler was fitted with feature names\n",
      "  \"X does not have valid feature names, but\"\n",
      "C:\\Users\\nkele\\.conda\\envs\\tfgpu\\lib\\site-packages\\sklearn\\base.py:446: UserWarning: X does not have valid feature names, but StandardScaler was fitted with feature names\n",
      "  \"X does not have valid feature names, but\"\n",
      "C:\\Users\\nkele\\.conda\\envs\\tfgpu\\lib\\site-packages\\sklearn\\base.py:446: UserWarning: X does not have valid feature names, but StandardScaler was fitted with feature names\n",
      "  \"X does not have valid feature names, but\"\n",
      "C:\\Users\\nkele\\.conda\\envs\\tfgpu\\lib\\site-packages\\sklearn\\base.py:446: UserWarning: X does not have valid feature names, but StandardScaler was fitted with feature names\n",
      "  \"X does not have valid feature names, but\"\n"
     ]
    },
    {
     "name": "stdout",
     "output_type": "stream",
     "text": [
      "plank [0. 0. 0. 1. 0. 0.]\n",
      "plank [0. 0. 0. 1. 0. 0.]\n",
      "plank [0. 0. 0. 1. 0. 0.]\n",
      "plank [0. 0. 0. 1. 0. 0.]\n"
     ]
    },
    {
     "name": "stderr",
     "output_type": "stream",
     "text": [
      "C:\\Users\\nkele\\.conda\\envs\\tfgpu\\lib\\site-packages\\sklearn\\base.py:446: UserWarning: X does not have valid feature names, but StandardScaler was fitted with feature names\n",
      "  \"X does not have valid feature names, but\"\n",
      "C:\\Users\\nkele\\.conda\\envs\\tfgpu\\lib\\site-packages\\sklearn\\base.py:446: UserWarning: X does not have valid feature names, but StandardScaler was fitted with feature names\n",
      "  \"X does not have valid feature names, but\"\n",
      "C:\\Users\\nkele\\.conda\\envs\\tfgpu\\lib\\site-packages\\sklearn\\base.py:446: UserWarning: X does not have valid feature names, but StandardScaler was fitted with feature names\n",
      "  \"X does not have valid feature names, but\"\n",
      "C:\\Users\\nkele\\.conda\\envs\\tfgpu\\lib\\site-packages\\sklearn\\base.py:446: UserWarning: X does not have valid feature names, but StandardScaler was fitted with feature names\n",
      "  \"X does not have valid feature names, but\"\n"
     ]
    },
    {
     "name": "stdout",
     "output_type": "stream",
     "text": [
      "plank [0. 0. 0. 1. 0. 0.]\n",
      "plank [0. 0. 0. 1. 0. 0.]\n",
      "plank [0. 0. 0. 1. 0. 0.]\n"
     ]
    },
    {
     "name": "stderr",
     "output_type": "stream",
     "text": [
      "C:\\Users\\nkele\\.conda\\envs\\tfgpu\\lib\\site-packages\\sklearn\\base.py:446: UserWarning: X does not have valid feature names, but StandardScaler was fitted with feature names\n",
      "  \"X does not have valid feature names, but\"\n",
      "C:\\Users\\nkele\\.conda\\envs\\tfgpu\\lib\\site-packages\\sklearn\\base.py:446: UserWarning: X does not have valid feature names, but StandardScaler was fitted with feature names\n",
      "  \"X does not have valid feature names, but\"\n",
      "C:\\Users\\nkele\\.conda\\envs\\tfgpu\\lib\\site-packages\\sklearn\\base.py:446: UserWarning: X does not have valid feature names, but StandardScaler was fitted with feature names\n",
      "  \"X does not have valid feature names, but\"\n",
      "C:\\Users\\nkele\\.conda\\envs\\tfgpu\\lib\\site-packages\\sklearn\\base.py:446: UserWarning: X does not have valid feature names, but StandardScaler was fitted with feature names\n",
      "  \"X does not have valid feature names, but\"\n",
      "C:\\Users\\nkele\\.conda\\envs\\tfgpu\\lib\\site-packages\\sklearn\\base.py:446: UserWarning: X does not have valid feature names, but StandardScaler was fitted with feature names\n",
      "  \"X does not have valid feature names, but\"\n",
      "C:\\Users\\nkele\\.conda\\envs\\tfgpu\\lib\\site-packages\\sklearn\\base.py:446: UserWarning: X does not have valid feature names, but StandardScaler was fitted with feature names\n",
      "  \"X does not have valid feature names, but\"\n"
     ]
    },
    {
     "name": "stdout",
     "output_type": "stream",
     "text": [
      "plank [0. 0. 0. 1. 0. 0.]\n",
      "plank [0. 0. 0. 1. 0. 0.]\n"
     ]
    },
    {
     "name": "stderr",
     "output_type": "stream",
     "text": [
      "C:\\Users\\nkele\\.conda\\envs\\tfgpu\\lib\\site-packages\\sklearn\\base.py:446: UserWarning: X does not have valid feature names, but StandardScaler was fitted with feature names\n",
      "  \"X does not have valid feature names, but\"\n",
      "C:\\Users\\nkele\\.conda\\envs\\tfgpu\\lib\\site-packages\\sklearn\\base.py:446: UserWarning: X does not have valid feature names, but StandardScaler was fitted with feature names\n",
      "  \"X does not have valid feature names, but\"\n",
      "C:\\Users\\nkele\\.conda\\envs\\tfgpu\\lib\\site-packages\\sklearn\\base.py:446: UserWarning: X does not have valid feature names, but StandardScaler was fitted with feature names\n",
      "  \"X does not have valid feature names, but\"\n",
      "C:\\Users\\nkele\\.conda\\envs\\tfgpu\\lib\\site-packages\\sklearn\\base.py:446: UserWarning: X does not have valid feature names, but StandardScaler was fitted with feature names\n",
      "  \"X does not have valid feature names, but\"\n",
      "C:\\Users\\nkele\\.conda\\envs\\tfgpu\\lib\\site-packages\\sklearn\\base.py:446: UserWarning: X does not have valid feature names, but StandardScaler was fitted with feature names\n",
      "  \"X does not have valid feature names, but\"\n",
      "C:\\Users\\nkele\\.conda\\envs\\tfgpu\\lib\\site-packages\\sklearn\\base.py:446: UserWarning: X does not have valid feature names, but StandardScaler was fitted with feature names\n",
      "  \"X does not have valid feature names, but\"\n"
     ]
    },
    {
     "name": "stdout",
     "output_type": "stream",
     "text": [
      "plank [0. 0. 0. 1. 0. 0.]\n",
      "plank [0. 0. 0. 1. 0. 0.]\n"
     ]
    },
    {
     "name": "stderr",
     "output_type": "stream",
     "text": [
      "C:\\Users\\nkele\\.conda\\envs\\tfgpu\\lib\\site-packages\\sklearn\\base.py:446: UserWarning: X does not have valid feature names, but StandardScaler was fitted with feature names\n",
      "  \"X does not have valid feature names, but\"\n",
      "C:\\Users\\nkele\\.conda\\envs\\tfgpu\\lib\\site-packages\\sklearn\\base.py:446: UserWarning: X does not have valid feature names, but StandardScaler was fitted with feature names\n",
      "  \"X does not have valid feature names, but\"\n",
      "C:\\Users\\nkele\\.conda\\envs\\tfgpu\\lib\\site-packages\\sklearn\\base.py:446: UserWarning: X does not have valid feature names, but StandardScaler was fitted with feature names\n",
      "  \"X does not have valid feature names, but\"\n",
      "C:\\Users\\nkele\\.conda\\envs\\tfgpu\\lib\\site-packages\\sklearn\\base.py:446: UserWarning: X does not have valid feature names, but StandardScaler was fitted with feature names\n",
      "  \"X does not have valid feature names, but\"\n",
      "C:\\Users\\nkele\\.conda\\envs\\tfgpu\\lib\\site-packages\\sklearn\\base.py:446: UserWarning: X does not have valid feature names, but StandardScaler was fitted with feature names\n",
      "  \"X does not have valid feature names, but\"\n",
      "C:\\Users\\nkele\\.conda\\envs\\tfgpu\\lib\\site-packages\\sklearn\\base.py:446: UserWarning: X does not have valid feature names, but StandardScaler was fitted with feature names\n",
      "  \"X does not have valid feature names, but\"\n"
     ]
    },
    {
     "name": "stdout",
     "output_type": "stream",
     "text": [
      "plank [0. 0. 0. 1. 0. 0.]\n",
      "plank [0. 0. 0. 1. 0. 0.]\n",
      "plank [0. 0. 0. 1. 0. 0.]\n",
      "plank [0. 0. 0. 1. 0. 0.]\n",
      "plank [0. 0. 0. 1. 0. 0.]\n"
     ]
    },
    {
     "name": "stderr",
     "output_type": "stream",
     "text": [
      "C:\\Users\\nkele\\.conda\\envs\\tfgpu\\lib\\site-packages\\sklearn\\base.py:446: UserWarning: X does not have valid feature names, but StandardScaler was fitted with feature names\n",
      "  \"X does not have valid feature names, but\"\n",
      "C:\\Users\\nkele\\.conda\\envs\\tfgpu\\lib\\site-packages\\sklearn\\base.py:446: UserWarning: X does not have valid feature names, but StandardScaler was fitted with feature names\n",
      "  \"X does not have valid feature names, but\"\n",
      "C:\\Users\\nkele\\.conda\\envs\\tfgpu\\lib\\site-packages\\sklearn\\base.py:446: UserWarning: X does not have valid feature names, but StandardScaler was fitted with feature names\n",
      "  \"X does not have valid feature names, but\"\n",
      "C:\\Users\\nkele\\.conda\\envs\\tfgpu\\lib\\site-packages\\sklearn\\base.py:446: UserWarning: X does not have valid feature names, but StandardScaler was fitted with feature names\n",
      "  \"X does not have valid feature names, but\"\n",
      "C:\\Users\\nkele\\.conda\\envs\\tfgpu\\lib\\site-packages\\sklearn\\base.py:446: UserWarning: X does not have valid feature names, but StandardScaler was fitted with feature names\n",
      "  \"X does not have valid feature names, but\"\n",
      "C:\\Users\\nkele\\.conda\\envs\\tfgpu\\lib\\site-packages\\sklearn\\base.py:446: UserWarning: X does not have valid feature names, but StandardScaler was fitted with feature names\n",
      "  \"X does not have valid feature names, but\"\n",
      "C:\\Users\\nkele\\.conda\\envs\\tfgpu\\lib\\site-packages\\sklearn\\base.py:446: UserWarning: X does not have valid feature names, but StandardScaler was fitted with feature names\n",
      "  \"X does not have valid feature names, but\"\n",
      "C:\\Users\\nkele\\.conda\\envs\\tfgpu\\lib\\site-packages\\sklearn\\base.py:446: UserWarning: X does not have valid feature names, but StandardScaler was fitted with feature names\n",
      "  \"X does not have valid feature names, but\"\n",
      "C:\\Users\\nkele\\.conda\\envs\\tfgpu\\lib\\site-packages\\sklearn\\base.py:446: UserWarning: X does not have valid feature names, but StandardScaler was fitted with feature names\n",
      "  \"X does not have valid feature names, but\"\n",
      "C:\\Users\\nkele\\.conda\\envs\\tfgpu\\lib\\site-packages\\sklearn\\base.py:446: UserWarning: X does not have valid feature names, but StandardScaler was fitted with feature names\n",
      "  \"X does not have valid feature names, but\"\n"
     ]
    },
    {
     "name": "stdout",
     "output_type": "stream",
     "text": [
      "plank [0. 0. 0. 1. 0. 0.]\n",
      "plank [0. 0. 0. 1. 0. 0.]\n",
      "plank [0. 0. 0. 1. 0. 0.]\n",
      "plank [0. 0. 0. 1. 0. 0.]\n",
      "plank"
     ]
    },
    {
     "name": "stderr",
     "output_type": "stream",
     "text": [
      "C:\\Users\\nkele\\.conda\\envs\\tfgpu\\lib\\site-packages\\sklearn\\base.py:446: UserWarning: X does not have valid feature names, but StandardScaler was fitted with feature names\n",
      "  \"X does not have valid feature names, but\"\n",
      "C:\\Users\\nkele\\.conda\\envs\\tfgpu\\lib\\site-packages\\sklearn\\base.py:446: UserWarning: X does not have valid feature names, but StandardScaler was fitted with feature names\n",
      "  \"X does not have valid feature names, but\"\n",
      "C:\\Users\\nkele\\.conda\\envs\\tfgpu\\lib\\site-packages\\sklearn\\base.py:446: UserWarning: X does not have valid feature names, but StandardScaler was fitted with feature names\n",
      "  \"X does not have valid feature names, but\"\n",
      "C:\\Users\\nkele\\.conda\\envs\\tfgpu\\lib\\site-packages\\sklearn\\base.py:446: UserWarning: X does not have valid feature names, but StandardScaler was fitted with feature names\n",
      "  \"X does not have valid feature names, but\"\n"
     ]
    },
    {
     "name": "stdout",
     "output_type": "stream",
     "text": [
      " [0. 0. 0. 1. 0. 0.]\n",
      "plank [0. 0. 0. 1. 0. 0.]\n"
     ]
    },
    {
     "name": "stderr",
     "output_type": "stream",
     "text": [
      "C:\\Users\\nkele\\.conda\\envs\\tfgpu\\lib\\site-packages\\sklearn\\base.py:446: UserWarning: X does not have valid feature names, but StandardScaler was fitted with feature names\n",
      "  \"X does not have valid feature names, but\"\n",
      "C:\\Users\\nkele\\.conda\\envs\\tfgpu\\lib\\site-packages\\sklearn\\base.py:446: UserWarning: X does not have valid feature names, but StandardScaler was fitted with feature names\n",
      "  \"X does not have valid feature names, but\"\n",
      "C:\\Users\\nkele\\.conda\\envs\\tfgpu\\lib\\site-packages\\sklearn\\base.py:446: UserWarning: X does not have valid feature names, but StandardScaler was fitted with feature names\n",
      "  \"X does not have valid feature names, but\"\n",
      "C:\\Users\\nkele\\.conda\\envs\\tfgpu\\lib\\site-packages\\sklearn\\base.py:446: UserWarning: X does not have valid feature names, but StandardScaler was fitted with feature names\n",
      "  \"X does not have valid feature names, but\"\n"
     ]
    },
    {
     "name": "stdout",
     "output_type": "stream",
     "text": [
      "plank [0. 0. 0. 1. 0. 0.]\n",
      "plank [0. 0. 0. 1. 0. 0.]\n"
     ]
    },
    {
     "name": "stderr",
     "output_type": "stream",
     "text": [
      "C:\\Users\\nkele\\.conda\\envs\\tfgpu\\lib\\site-packages\\sklearn\\base.py:446: UserWarning: X does not have valid feature names, but StandardScaler was fitted with feature names\n",
      "  \"X does not have valid feature names, but\"\n",
      "C:\\Users\\nkele\\.conda\\envs\\tfgpu\\lib\\site-packages\\sklearn\\base.py:446: UserWarning: X does not have valid feature names, but StandardScaler was fitted with feature names\n",
      "  \"X does not have valid feature names, but\"\n"
     ]
    }
   ],
   "source": [
    "cap = cv2.VideoCapture(\"PL1.mp4\")\n",
    "# Initiate holistic model\n",
    "with mp_holistic.Holistic(min_detection_confidence=0.5, min_tracking_confidence=0.5) as holistic:\n",
    "    \n",
    "    while cap.isOpened():\n",
    "        ret, frame = cap.read()\n",
    "        \n",
    "        # Recolor Feed\n",
    "        image = cv2.cvtColor(frame, cv2.COLOR_BGR2RGB)\n",
    "        image.flags.writeable = False        \n",
    "        \n",
    "        # Make Detections\n",
    "        results = holistic.process(image)\n",
    "        # print(results.face_landmarks)\n",
    "        \n",
    "        # face_landmarks, pose_landmarks, left_hand_landmarks, right_hand_landmarks\n",
    "        \n",
    "        # Recolor image back to BGR for rendering\n",
    "        image.flags.writeable = True   \n",
    "        image = cv2.cvtColor(image, cv2.COLOR_RGB2BGR)\n",
    "\n",
    "        # 4. Pose Detections\n",
    "        mp_drawing.draw_landmarks(image, results.pose_landmarks, mp_holistic.POSE_CONNECTIONS, \n",
    "                                 mp_drawing.DrawingSpec(color=(245,117,66), thickness=2, circle_radius=4),\n",
    "                                 mp_drawing.DrawingSpec(color=(245,66,230), thickness=2, circle_radius=2)\n",
    "                                 )\n",
    "        # Export coordinates\n",
    "        try:\n",
    "            # Extract Pose landmarks\n",
    "            pose = results.pose_landmarks.landmark\n",
    "            pose_row = list(np.array([[landmark.x, landmark.y, landmark.z, landmark.visibility] for landmark in pose]).flatten())\n",
    "            \n",
    "            # Extract Face landmarks\n",
    "#             face = results.face_landmarks.landmark\n",
    "#             face_row = list(np.array([[landmark.x, landmark.y, landmark.z, landmark.visibility] for landmark in face]).flatten())\n",
    "            \n",
    "            # Concate rows\n",
    "#             row = pose_row+face_row\n",
    "            row = pose_row\n",
    "            \n",
    "#             # Append class name \n",
    "#             row.insert(0, class_name)\n",
    "            \n",
    "#             # Export to CSV\n",
    "#             with open('coords.csv', mode='a', newline='') as f:\n",
    "#                 csv_writer = csv.writer(f, delimiter=',', quotechar='\"', quoting=csv.QUOTE_MINIMAL)\n",
    "#                 csv_writer.writerow(row) \n",
    "\n",
    "            # Make Detections\n",
    "            X = pd.DataFrame([row])\n",
    "            body_language_class = model.predict(X)[0]\n",
    "            body_language_prob = model.predict_proba(X)[0]\n",
    "            print(body_language_class, body_language_prob)\n",
    "            \n",
    "            # Grab ear coords\n",
    "            coords = tuple(np.multiply(\n",
    "                            np.array(\n",
    "                                (results.pose_landmarks.landmark[mp_holistic.PoseLandmark.LEFT_EAR].x, \n",
    "                                 results.pose_landmarks.landmark[mp_holistic.PoseLandmark.LEFT_EAR].y))\n",
    "                        , [640,480]).astype(int))\n",
    "            \n",
    "            cv2.rectangle(image, \n",
    "                          (coords[0], coords[1]+5), \n",
    "                          (coords[0]+len(body_language_class)*20, coords[1]-30), \n",
    "                          (245, 117, 16), -1)\n",
    "            cv2.putText(image, body_language_class, coords, \n",
    "                        cv2.FONT_HERSHEY_SIMPLEX, 1, (255, 255, 255), 2, cv2.LINE_AA)\n",
    "            \n",
    "            # Get status box\n",
    "            cv2.rectangle(image, (0,0), (250, 60), (245, 117, 16), -1)\n",
    "            \n",
    "            # Display Class\n",
    "            cv2.putText(image, 'CLASS'\n",
    "                        , (95,12), cv2.FONT_HERSHEY_SIMPLEX, 0.5, (0, 0, 0), 1, cv2.LINE_AA)\n",
    "            cv2.putText(image, body_language_class.split(' ')[0]\n",
    "                        , (90,40), cv2.FONT_HERSHEY_SIMPLEX, 1, (255, 255, 255), 2, cv2.LINE_AA)\n",
    "            \n",
    "            # Display Probability\n",
    "            cv2.putText(image, 'PROB'\n",
    "                        , (15,12), cv2.FONT_HERSHEY_SIMPLEX, 0.5, (0, 0, 0), 1, cv2.LINE_AA)\n",
    "            cv2.putText(image, str(round(body_language_prob[np.argmax(body_language_prob)],2))\n",
    "                        , (10,40), cv2.FONT_HERSHEY_SIMPLEX, 1, (255, 255, 255), 2, cv2.LINE_AA)\n",
    "            \n",
    "        except:\n",
    "            pass\n",
    "                        \n",
    "        cv2.imshow('Raw Webcam Feed', image)\n",
    "\n",
    "        if cv2.waitKey(1) & 0xFF == ord('q'):\n",
    "            break\n",
    "\n",
    "cap.release()\n",
    "cv2.destroyAllWindows()"
   ]
  },
  {
   "cell_type": "code",
   "execution_count": 81,
   "metadata": {},
   "outputs": [],
   "source": [
    "cap.release()\n",
    "cv2.destroyAllWindows()"
   ]
  },
  {
   "cell_type": "code",
   "execution_count": 15,
   "metadata": {
    "scrolled": true
   },
   "outputs": [
    {
     "ename": "NameError",
     "evalue": "name 'mp_holistic' is not defined",
     "output_type": "error",
     "traceback": [
      "\u001b[1;31m---------------------------------------------------------------------------\u001b[0m",
      "\u001b[1;31mNameError\u001b[0m                                 Traceback (most recent call last)",
      "\u001b[1;32m<ipython-input-15-cf4deaa83e05>\u001b[0m in \u001b[0;36m<module>\u001b[1;34m\u001b[0m\n\u001b[0;32m      8\u001b[0m \u001b[0moutput\u001b[0m \u001b[1;33m=\u001b[0m \u001b[0mcv2\u001b[0m\u001b[1;33m.\u001b[0m\u001b[0mVideoWriter\u001b[0m\u001b[1;33m(\u001b[0m\u001b[1;34m'bicep_curls_pred.avi'\u001b[0m\u001b[1;33m,\u001b[0m \u001b[0mcv2\u001b[0m\u001b[1;33m.\u001b[0m\u001b[0mVideoWriter_fourcc\u001b[0m\u001b[1;33m(\u001b[0m\u001b[1;33m*\u001b[0m\u001b[1;34m'MJPG'\u001b[0m\u001b[1;33m)\u001b[0m\u001b[1;33m,\u001b[0m \u001b[1;36m10\u001b[0m\u001b[1;33m,\u001b[0m \u001b[0msize\u001b[0m\u001b[1;33m)\u001b[0m\u001b[1;33m\u001b[0m\u001b[1;33m\u001b[0m\u001b[0m\n\u001b[0;32m      9\u001b[0m \u001b[1;31m# Initiate holistic model\u001b[0m\u001b[1;33m\u001b[0m\u001b[1;33m\u001b[0m\u001b[1;33m\u001b[0m\u001b[0m\n\u001b[1;32m---> 10\u001b[1;33m \u001b[1;32mwith\u001b[0m \u001b[0mmp_holistic\u001b[0m\u001b[1;33m.\u001b[0m\u001b[0mHolistic\u001b[0m\u001b[1;33m(\u001b[0m\u001b[0mmin_detection_confidence\u001b[0m\u001b[1;33m=\u001b[0m\u001b[1;36m0.5\u001b[0m\u001b[1;33m,\u001b[0m \u001b[0mmin_tracking_confidence\u001b[0m\u001b[1;33m=\u001b[0m\u001b[1;36m0.5\u001b[0m\u001b[1;33m)\u001b[0m \u001b[1;32mas\u001b[0m \u001b[0mholistic\u001b[0m\u001b[1;33m:\u001b[0m\u001b[1;33m\u001b[0m\u001b[1;33m\u001b[0m\u001b[0m\n\u001b[0m\u001b[0;32m     11\u001b[0m \u001b[1;33m\u001b[0m\u001b[0m\n\u001b[0;32m     12\u001b[0m     \u001b[1;32mwhile\u001b[0m \u001b[0mcap\u001b[0m\u001b[1;33m.\u001b[0m\u001b[0misOpened\u001b[0m\u001b[1;33m(\u001b[0m\u001b[1;33m)\u001b[0m\u001b[1;33m:\u001b[0m\u001b[1;33m\u001b[0m\u001b[1;33m\u001b[0m\u001b[0m\n",
      "\u001b[1;31mNameError\u001b[0m: name 'mp_holistic' is not defined"
     ]
    }
   ],
   "source": [
    "cap = cv2.VideoCapture(\"VIDEOS/squat_1.mp4\")\n",
    "\n",
    "frame_width = int(cap.get(3))\n",
    "frame_height = int(cap.get(4))\n",
    "   \n",
    "size = (frame_width, frame_height)\n",
    "\n",
    "output = cv2.VideoWriter('bicep_curls_pred.avi', cv2.VideoWriter_fourcc(*'MJPG'), 10, size)\n",
    "# Initiate holistic model\n",
    "with mp_holistic.Holistic(min_detection_confidence=0.5, min_tracking_confidence=0.5) as holistic:\n",
    "    \n",
    "    while cap.isOpened():\n",
    "        ret, frame = cap.read()\n",
    "        \n",
    "        # Recolor Feed\n",
    "        image = cv2.cvtColor(frame, cv2.COLOR_BGR2RGB)\n",
    "        image.flags.writeable = False        \n",
    "        \n",
    "        # Make Detections\n",
    "        results = holistic.process(image)\n",
    "        # print(results.face_landmarks)\n",
    "        \n",
    "        # face_landmarks, pose_landmarks, left_hand_landmarks, right_hand_landmarks\n",
    "        \n",
    "        # Recolor image back to BGR for rendering\n",
    "        image.flags.writeable = True   \n",
    "        image = cv2.cvtColor(image, cv2.COLOR_RGB2BGR)\n",
    "        \n",
    "        # 1. Draw face landmarks\n",
    "#         mp_drawing.draw_landmarks(image, results.face_landmarks, mp_holistic.FACE_CONNECTIONS, \n",
    "#                                  mp_drawing.DrawingSpec(color=(80,110,10), thickness=1, circle_radius=1),\n",
    "#                                  mp_drawing.DrawingSpec(color=(80,256,121), thickness=1, circle_radius=1)\n",
    "#                                  )\n",
    "        \n",
    "        # 2. Right hand\n",
    "        mp_drawing.draw_landmarks(image, results.right_hand_landmarks, mp_holistic.HAND_CONNECTIONS, \n",
    "                                 mp_drawing.DrawingSpec(color=(80,22,10), thickness=2, circle_radius=4),\n",
    "                                 mp_drawing.DrawingSpec(color=(80,44,121), thickness=2, circle_radius=2)\n",
    "                                 )\n",
    "\n",
    "        # 3. Left Hand\n",
    "        mp_drawing.draw_landmarks(image, results.left_hand_landmarks, mp_holistic.HAND_CONNECTIONS, \n",
    "                                 mp_drawing.DrawingSpec(color=(121,22,76), thickness=2, circle_radius=4),\n",
    "                                 mp_drawing.DrawingSpec(color=(121,44,250), thickness=2, circle_radius=2)\n",
    "                                 )\n",
    "\n",
    "        # 4. Pose Detections\n",
    "        mp_drawing.draw_landmarks(image, results.pose_landmarks, mp_holistic.POSE_CONNECTIONS, \n",
    "                                 mp_drawing.DrawingSpec(color=(245,117,66), thickness=2, circle_radius=4),\n",
    "                                 mp_drawing.DrawingSpec(color=(245,66,230), thickness=2, circle_radius=2)\n",
    "                                 )\n",
    "        # Export coordinates\n",
    "        try:\n",
    "            # Extract Pose landmarks\n",
    "            pose = results.pose_landmarks.landmark\n",
    "            pose_row = list(np.array([[landmark.x, landmark.y, landmark.z, landmark.visibility] for landmark in pose]).flatten())\n",
    "            \n",
    "            # Extract Face landmarks\n",
    "#             face = results.face_landmarks.landmark\n",
    "#             face_row = list(np.array([[landmark.x, landmark.y, landmark.z, landmark.visibility] for landmark in face]).flatten())\n",
    "            \n",
    "            # Concate rows\n",
    "#             row = pose_row+face_row\n",
    "            row = pose_row\n",
    "            \n",
    "#             # Append class name \n",
    "#             row.insert(0, class_name)\n",
    "            \n",
    "#             # Export to CSV\n",
    "#             with open('coords.csv', mode='a', newline='') as f:\n",
    "#                 csv_writer = csv.writer(f, delimiter=',', quotechar='\"', quoting=csv.QUOTE_MINIMAL)\n",
    "#                 csv_writer.writerow(row) \n",
    "\n",
    "            # Make Detections\n",
    "            X = pd.DataFrame([row])\n",
    "            body_language_class = model.predict(X)[0]\n",
    "            body_language_prob = model.predict_proba(X)[0]\n",
    "            print(body_language_class, body_language_prob)\n",
    "            \n",
    "            # Grab ear coords\n",
    "            coords = tuple(np.multiply(\n",
    "                            np.array(\n",
    "                                (results.pose_landmarks.landmark[mp_holistic.PoseLandmark.LEFT_EAR].x, \n",
    "                                 results.pose_landmarks.landmark[mp_holistic.PoseLandmark.LEFT_EAR].y))\n",
    "                        , [640,480]).astype(int))\n",
    "            \n",
    "            cv2.rectangle(image, \n",
    "                          (coords[0], coords[1]+5), \n",
    "                          (coords[0]+len(body_language_class)*20, coords[1]-30), \n",
    "                          (245, 117, 16), -1)\n",
    "            cv2.putText(image, body_language_class, coords, \n",
    "                        cv2.FONT_HERSHEY_SIMPLEX, 1, (255, 255, 255), 2, cv2.LINE_AA)\n",
    "            \n",
    "            # Get status box\n",
    "            cv2.rectangle(image, (0,0), (250, 60), (245, 117, 16), -1)\n",
    "            \n",
    "            # Display Class\n",
    "            cv2.putText(image, 'CLASS'\n",
    "                        , (95,12), cv2.FONT_HERSHEY_SIMPLEX, 0.5, (0, 0, 0), 1, cv2.LINE_AA)\n",
    "            cv2.putText(image, body_language_class.split(' ')[0]\n",
    "                        , (90,40), cv2.FONT_HERSHEY_SIMPLEX, 1, (255, 255, 255), 2, cv2.LINE_AA)\n",
    "            \n",
    "            # Display Probability\n",
    "            cv2.putText(image, 'PROB'\n",
    "                        , (15,12), cv2.FONT_HERSHEY_SIMPLEX, 0.5, (0, 0, 0), 1, cv2.LINE_AA)\n",
    "            cv2.putText(image, str(round(body_language_prob[np.argmax(body_language_prob)],2))\n",
    "                        , (10,40), cv2.FONT_HERSHEY_SIMPLEX, 1, (255, 255, 255), 2, cv2.LINE_AA)\n",
    "            \n",
    "        except:\n",
    "            pass\n",
    "                        \n",
    "        cv2.imshow('Raw Webcam Feed', image)\n",
    "        output.write(image)\n",
    "\n",
    "        if cv2.waitKey(1) & 0xFF == ord('q'):\n",
    "            break\n",
    "\n",
    "cap.release()\n",
    "output.release()\n",
    "print(\"The video was successfully saved\")\n",
    "cv2.destroyAllWindows()"
   ]
  },
  {
   "cell_type": "code",
   "execution_count": null,
   "metadata": {},
   "outputs": [],
   "source": [
    "bicep_curls\n",
    "dumbell_rows\n",
    "plank\n",
    "push_up\n",
    "squat\n",
    "knee_lift\n"
   ]
  },
  {
   "cell_type": "code",
   "execution_count": 23,
   "metadata": {},
   "outputs": [],
   "source": [
    "def calculateAngle(a,b,c):\n",
    "    a=np.array(a);\n",
    "    b=np.array(b);\n",
    "    c=np.array(c);\n",
    "    \n",
    "    radians= np.arctan2(c[1]-b[1], c[0]-b[0])-np.arctan2(a[1]-b[1], a[0]-b[0])\n",
    "    angle= np.abs(radians*180.0/np.pi)\n",
    "    \n",
    "    if angle> 180.0:\n",
    "        angle=360-angle\n",
    "        \n",
    "    return angle"
   ]
  },
  {
   "cell_type": "code",
   "execution_count": 40,
   "metadata": {},
   "outputs": [],
   "source": [
    "def findCords(value, coordinates):\n",
    "    if(value=='bicep_curls'):\n",
    "        shoulder=[coordinates[mp.solutions.pose.PoseLandmark.LEFT_SHOULDER.value].x, coordinates[mp.solutions.pose.PoseLandmark.LEFT_SHOULDER.value].y]\n",
    "        elbow=[coordinates[mp.solutions.pose.PoseLandmark.LEFT_ELBOW.value].x, coordinates[mp.solutions.pose.PoseLandmark.LEFT_ELBOW.value].y] \n",
    "        wrist=[coordinates[mp.solutions.pose.PoseLandmark.LEFT_WRIST.value].x, coordinates[mp.solutions.pose.PoseLandmark.LEFT_WRIST.value].y]\n",
    "        angle=calculateAngle(shoulder, elbow, wrist)\n",
    "        return str(angle)\n",
    "    elif(value):\n",
    "        return str('ab')"
   ]
  },
  {
   "cell_type": "code",
   "execution_count": 46,
   "metadata": {
    "scrolled": true
   },
   "outputs": [
    {
     "name": "stderr",
     "output_type": "stream",
     "text": [
      "C:\\Users\\nkele\\.conda\\envs\\tfgpu\\lib\\site-packages\\sklearn\\base.py:446: UserWarning: X does not have valid feature names, but StandardScaler was fitted with feature names\n",
      "  \"X does not have valid feature names, but\"\n",
      "C:\\Users\\nkele\\.conda\\envs\\tfgpu\\lib\\site-packages\\sklearn\\base.py:446: UserWarning: X does not have valid feature names, but StandardScaler was fitted with feature names\n",
      "  \"X does not have valid feature names, but\"\n"
     ]
    },
    {
     "name": "stdout",
     "output_type": "stream",
     "text": [
      "bicep_curls [1. 0. 0. 0. 0. 0.]\n"
     ]
    },
    {
     "name": "stderr",
     "output_type": "stream",
     "text": [
      "C:\\Users\\nkele\\.conda\\envs\\tfgpu\\lib\\site-packages\\sklearn\\base.py:446: UserWarning: X does not have valid feature names, but StandardScaler was fitted with feature names\n",
      "  \"X does not have valid feature names, but\"\n",
      "C:\\Users\\nkele\\.conda\\envs\\tfgpu\\lib\\site-packages\\sklearn\\base.py:446: UserWarning: X does not have valid feature names, but StandardScaler was fitted with feature names\n",
      "  \"X does not have valid feature names, but\"\n",
      "C:\\Users\\nkele\\.conda\\envs\\tfgpu\\lib\\site-packages\\sklearn\\base.py:446: UserWarning: X does not have valid feature names, but StandardScaler was fitted with feature names\n",
      "  \"X does not have valid feature names, but\"\n",
      "C:\\Users\\nkele\\.conda\\envs\\tfgpu\\lib\\site-packages\\sklearn\\base.py:446: UserWarning: X does not have valid feature names, but StandardScaler was fitted with feature names\n",
      "  \"X does not have valid feature names, but\"\n",
      "C:\\Users\\nkele\\.conda\\envs\\tfgpu\\lib\\site-packages\\sklearn\\base.py:446: UserWarning: X does not have valid feature names, but StandardScaler was fitted with feature names\n",
      "  \"X does not have valid feature names, but\"\n"
     ]
    },
    {
     "name": "stdout",
     "output_type": "stream",
     "text": [
      "bicep_curls [1. 0. 0. 0. 0. 0.]\n",
      "bicep_curls [1. 0. 0. 0. 0. 0.]\n"
     ]
    },
    {
     "name": "stderr",
     "output_type": "stream",
     "text": [
      "C:\\Users\\nkele\\.conda\\envs\\tfgpu\\lib\\site-packages\\sklearn\\base.py:446: UserWarning: X does not have valid feature names, but StandardScaler was fitted with feature names\n",
      "  \"X does not have valid feature names, but\"\n",
      "C:\\Users\\nkele\\.conda\\envs\\tfgpu\\lib\\site-packages\\sklearn\\base.py:446: UserWarning: X does not have valid feature names, but StandardScaler was fitted with feature names\n",
      "  \"X does not have valid feature names, but\"\n",
      "C:\\Users\\nkele\\.conda\\envs\\tfgpu\\lib\\site-packages\\sklearn\\base.py:446: UserWarning: X does not have valid feature names, but StandardScaler was fitted with feature names\n",
      "  \"X does not have valid feature names, but\"\n"
     ]
    },
    {
     "name": "stdout",
     "output_type": "stream",
     "text": [
      "bicep_curls [1. 0. 0. 0. 0. 0.]\n",
      "bicep_curls [1. 0. 0. 0. 0. 0.]\n"
     ]
    },
    {
     "name": "stderr",
     "output_type": "stream",
     "text": [
      "C:\\Users\\nkele\\.conda\\envs\\tfgpu\\lib\\site-packages\\sklearn\\base.py:446: UserWarning: X does not have valid feature names, but StandardScaler was fitted with feature names\n",
      "  \"X does not have valid feature names, but\"\n",
      "C:\\Users\\nkele\\.conda\\envs\\tfgpu\\lib\\site-packages\\sklearn\\base.py:446: UserWarning: X does not have valid feature names, but StandardScaler was fitted with feature names\n",
      "  \"X does not have valid feature names, but\"\n",
      "C:\\Users\\nkele\\.conda\\envs\\tfgpu\\lib\\site-packages\\sklearn\\base.py:446: UserWarning: X does not have valid feature names, but StandardScaler was fitted with feature names\n",
      "  \"X does not have valid feature names, but\"\n",
      "C:\\Users\\nkele\\.conda\\envs\\tfgpu\\lib\\site-packages\\sklearn\\base.py:446: UserWarning: X does not have valid feature names, but StandardScaler was fitted with feature names\n",
      "  \"X does not have valid feature names, but\"\n",
      "C:\\Users\\nkele\\.conda\\envs\\tfgpu\\lib\\site-packages\\sklearn\\base.py:446: UserWarning: X does not have valid feature names, but StandardScaler was fitted with feature names\n",
      "  \"X does not have valid feature names, but\"\n"
     ]
    },
    {
     "name": "stdout",
     "output_type": "stream",
     "text": [
      "bicep_curls [1. 0. 0. 0. 0. 0.]\n",
      "bicep_curls [1. 0. 0. 0. 0. 0.]\n"
     ]
    },
    {
     "name": "stderr",
     "output_type": "stream",
     "text": [
      "C:\\Users\\nkele\\.conda\\envs\\tfgpu\\lib\\site-packages\\sklearn\\base.py:446: UserWarning: X does not have valid feature names, but StandardScaler was fitted with feature names\n",
      "  \"X does not have valid feature names, but\"\n",
      "C:\\Users\\nkele\\.conda\\envs\\tfgpu\\lib\\site-packages\\sklearn\\base.py:446: UserWarning: X does not have valid feature names, but StandardScaler was fitted with feature names\n",
      "  \"X does not have valid feature names, but\"\n",
      "C:\\Users\\nkele\\.conda\\envs\\tfgpu\\lib\\site-packages\\sklearn\\base.py:446: UserWarning: X does not have valid feature names, but StandardScaler was fitted with feature names\n",
      "  \"X does not have valid feature names, but\"\n",
      "C:\\Users\\nkele\\.conda\\envs\\tfgpu\\lib\\site-packages\\sklearn\\base.py:446: UserWarning: X does not have valid feature names, but StandardScaler was fitted with feature names\n",
      "  \"X does not have valid feature names, but\"\n",
      "C:\\Users\\nkele\\.conda\\envs\\tfgpu\\lib\\site-packages\\sklearn\\base.py:446: UserWarning: X does not have valid feature names, but StandardScaler was fitted with feature names\n",
      "  \"X does not have valid feature names, but\"\n"
     ]
    },
    {
     "name": "stdout",
     "output_type": "stream",
     "text": [
      "bicep_curls [1. 0. 0. 0. 0. 0.]\n",
      "bicep_curls [1. 0. 0. 0. 0. 0.]\n"
     ]
    },
    {
     "name": "stderr",
     "output_type": "stream",
     "text": [
      "C:\\Users\\nkele\\.conda\\envs\\tfgpu\\lib\\site-packages\\sklearn\\base.py:446: UserWarning: X does not have valid feature names, but StandardScaler was fitted with feature names\n",
      "  \"X does not have valid feature names, but\"\n",
      "C:\\Users\\nkele\\.conda\\envs\\tfgpu\\lib\\site-packages\\sklearn\\base.py:446: UserWarning: X does not have valid feature names, but StandardScaler was fitted with feature names\n",
      "  \"X does not have valid feature names, but\"\n",
      "C:\\Users\\nkele\\.conda\\envs\\tfgpu\\lib\\site-packages\\sklearn\\base.py:446: UserWarning: X does not have valid feature names, but StandardScaler was fitted with feature names\n",
      "  \"X does not have valid feature names, but\"\n"
     ]
    },
    {
     "name": "stdout",
     "output_type": "stream",
     "text": [
      "bicep_curls [1. 0. 0. 0. 0. 0.]\n",
      "bicep_curls [1. 0. 0. 0. 0. 0.]\n"
     ]
    },
    {
     "name": "stderr",
     "output_type": "stream",
     "text": [
      "C:\\Users\\nkele\\.conda\\envs\\tfgpu\\lib\\site-packages\\sklearn\\base.py:446: UserWarning: X does not have valid feature names, but StandardScaler was fitted with feature names\n",
      "  \"X does not have valid feature names, but\"\n",
      "C:\\Users\\nkele\\.conda\\envs\\tfgpu\\lib\\site-packages\\sklearn\\base.py:446: UserWarning: X does not have valid feature names, but StandardScaler was fitted with feature names\n",
      "  \"X does not have valid feature names, but\"\n",
      "C:\\Users\\nkele\\.conda\\envs\\tfgpu\\lib\\site-packages\\sklearn\\base.py:446: UserWarning: X does not have valid feature names, but StandardScaler was fitted with feature names\n",
      "  \"X does not have valid feature names, but\"\n"
     ]
    },
    {
     "name": "stdout",
     "output_type": "stream",
     "text": [
      "bicep_curls [1. 0. 0. 0. 0. 0.]\n",
      "bicep_curls [1. 0. 0. 0. 0. 0.]\n"
     ]
    },
    {
     "name": "stderr",
     "output_type": "stream",
     "text": [
      "C:\\Users\\nkele\\.conda\\envs\\tfgpu\\lib\\site-packages\\sklearn\\base.py:446: UserWarning: X does not have valid feature names, but StandardScaler was fitted with feature names\n",
      "  \"X does not have valid feature names, but\"\n",
      "C:\\Users\\nkele\\.conda\\envs\\tfgpu\\lib\\site-packages\\sklearn\\base.py:446: UserWarning: X does not have valid feature names, but StandardScaler was fitted with feature names\n",
      "  \"X does not have valid feature names, but\"\n",
      "C:\\Users\\nkele\\.conda\\envs\\tfgpu\\lib\\site-packages\\sklearn\\base.py:446: UserWarning: X does not have valid feature names, but StandardScaler was fitted with feature names\n",
      "  \"X does not have valid feature names, but\"\n",
      "C:\\Users\\nkele\\.conda\\envs\\tfgpu\\lib\\site-packages\\sklearn\\base.py:446: UserWarning: X does not have valid feature names, but StandardScaler was fitted with feature names\n",
      "  \"X does not have valid feature names, but\"\n"
     ]
    },
    {
     "name": "stdout",
     "output_type": "stream",
     "text": [
      "bicep_curls [1. 0. 0. 0. 0. 0.]\n",
      "bicep_curls [1. 0. 0. 0. 0. 0.]\n"
     ]
    },
    {
     "name": "stderr",
     "output_type": "stream",
     "text": [
      "C:\\Users\\nkele\\.conda\\envs\\tfgpu\\lib\\site-packages\\sklearn\\base.py:446: UserWarning: X does not have valid feature names, but StandardScaler was fitted with feature names\n",
      "  \"X does not have valid feature names, but\"\n",
      "C:\\Users\\nkele\\.conda\\envs\\tfgpu\\lib\\site-packages\\sklearn\\base.py:446: UserWarning: X does not have valid feature names, but StandardScaler was fitted with feature names\n",
      "  \"X does not have valid feature names, but\"\n",
      "C:\\Users\\nkele\\.conda\\envs\\tfgpu\\lib\\site-packages\\sklearn\\base.py:446: UserWarning: X does not have valid feature names, but StandardScaler was fitted with feature names\n",
      "  \"X does not have valid feature names, but\"\n",
      "C:\\Users\\nkele\\.conda\\envs\\tfgpu\\lib\\site-packages\\sklearn\\base.py:446: UserWarning: X does not have valid feature names, but StandardScaler was fitted with feature names\n",
      "  \"X does not have valid feature names, but\"\n"
     ]
    },
    {
     "name": "stdout",
     "output_type": "stream",
     "text": [
      "bicep_curls [1. 0. 0. 0. 0. 0.]\n",
      "bicep_curls [1. 0. 0. 0. 0. 0.]\n"
     ]
    },
    {
     "name": "stderr",
     "output_type": "stream",
     "text": [
      "C:\\Users\\nkele\\.conda\\envs\\tfgpu\\lib\\site-packages\\sklearn\\base.py:446: UserWarning: X does not have valid feature names, but StandardScaler was fitted with feature names\n",
      "  \"X does not have valid feature names, but\"\n",
      "C:\\Users\\nkele\\.conda\\envs\\tfgpu\\lib\\site-packages\\sklearn\\base.py:446: UserWarning: X does not have valid feature names, but StandardScaler was fitted with feature names\n",
      "  \"X does not have valid feature names, but\"\n",
      "C:\\Users\\nkele\\.conda\\envs\\tfgpu\\lib\\site-packages\\sklearn\\base.py:446: UserWarning: X does not have valid feature names, but StandardScaler was fitted with feature names\n",
      "  \"X does not have valid feature names, but\"\n",
      "C:\\Users\\nkele\\.conda\\envs\\tfgpu\\lib\\site-packages\\sklearn\\base.py:446: UserWarning: X does not have valid feature names, but StandardScaler was fitted with feature names\n",
      "  \"X does not have valid feature names, but\"\n"
     ]
    },
    {
     "name": "stdout",
     "output_type": "stream",
     "text": [
      "bicep_curls [1. 0. 0. 0. 0. 0.]\n",
      "bicep_curls [1. 0. 0. 0. 0. 0.]\n"
     ]
    },
    {
     "name": "stderr",
     "output_type": "stream",
     "text": [
      "C:\\Users\\nkele\\.conda\\envs\\tfgpu\\lib\\site-packages\\sklearn\\base.py:446: UserWarning: X does not have valid feature names, but StandardScaler was fitted with feature names\n",
      "  \"X does not have valid feature names, but\"\n",
      "C:\\Users\\nkele\\.conda\\envs\\tfgpu\\lib\\site-packages\\sklearn\\base.py:446: UserWarning: X does not have valid feature names, but StandardScaler was fitted with feature names\n",
      "  \"X does not have valid feature names, but\"\n",
      "C:\\Users\\nkele\\.conda\\envs\\tfgpu\\lib\\site-packages\\sklearn\\base.py:446: UserWarning: X does not have valid feature names, but StandardScaler was fitted with feature names\n",
      "  \"X does not have valid feature names, but\"\n",
      "C:\\Users\\nkele\\.conda\\envs\\tfgpu\\lib\\site-packages\\sklearn\\base.py:446: UserWarning: X does not have valid feature names, but StandardScaler was fitted with feature names\n",
      "  \"X does not have valid feature names, but\"\n",
      "C:\\Users\\nkele\\.conda\\envs\\tfgpu\\lib\\site-packages\\sklearn\\base.py:446: UserWarning: X does not have valid feature names, but StandardScaler was fitted with feature names\n",
      "  \"X does not have valid feature names, but\"\n"
     ]
    },
    {
     "name": "stdout",
     "output_type": "stream",
     "text": [
      "bicep_curls [1. 0. 0. 0. 0. 0.]\n",
      "bicep_curls [1. 0. 0. 0. 0. 0.]\n"
     ]
    },
    {
     "name": "stderr",
     "output_type": "stream",
     "text": [
      "C:\\Users\\nkele\\.conda\\envs\\tfgpu\\lib\\site-packages\\sklearn\\base.py:446: UserWarning: X does not have valid feature names, but StandardScaler was fitted with feature names\n",
      "  \"X does not have valid feature names, but\"\n",
      "C:\\Users\\nkele\\.conda\\envs\\tfgpu\\lib\\site-packages\\sklearn\\base.py:446: UserWarning: X does not have valid feature names, but StandardScaler was fitted with feature names\n",
      "  \"X does not have valid feature names, but\"\n",
      "C:\\Users\\nkele\\.conda\\envs\\tfgpu\\lib\\site-packages\\sklearn\\base.py:446: UserWarning: X does not have valid feature names, but StandardScaler was fitted with feature names\n",
      "  \"X does not have valid feature names, but\"\n",
      "C:\\Users\\nkele\\.conda\\envs\\tfgpu\\lib\\site-packages\\sklearn\\base.py:446: UserWarning: X does not have valid feature names, but StandardScaler was fitted with feature names\n",
      "  \"X does not have valid feature names, but\"\n",
      "C:\\Users\\nkele\\.conda\\envs\\tfgpu\\lib\\site-packages\\sklearn\\base.py:446: UserWarning: X does not have valid feature names, but StandardScaler was fitted with feature names\n",
      "  \"X does not have valid feature names, but\"\n"
     ]
    },
    {
     "name": "stdout",
     "output_type": "stream",
     "text": [
      "bicep_curls [1. 0. 0. 0. 0. 0.]\n",
      "bicep_curls [1. 0. 0. 0. 0. 0.]\n"
     ]
    },
    {
     "name": "stderr",
     "output_type": "stream",
     "text": [
      "C:\\Users\\nkele\\.conda\\envs\\tfgpu\\lib\\site-packages\\sklearn\\base.py:446: UserWarning: X does not have valid feature names, but StandardScaler was fitted with feature names\n",
      "  \"X does not have valid feature names, but\"\n",
      "C:\\Users\\nkele\\.conda\\envs\\tfgpu\\lib\\site-packages\\sklearn\\base.py:446: UserWarning: X does not have valid feature names, but StandardScaler was fitted with feature names\n",
      "  \"X does not have valid feature names, but\"\n",
      "C:\\Users\\nkele\\.conda\\envs\\tfgpu\\lib\\site-packages\\sklearn\\base.py:446: UserWarning: X does not have valid feature names, but StandardScaler was fitted with feature names\n",
      "  \"X does not have valid feature names, but\"\n"
     ]
    },
    {
     "name": "stdout",
     "output_type": "stream",
     "text": [
      "bicep_curls [1. 0. 0. 0. 0. 0.]\n",
      "bicep_curls [1. 0. 0. 0. 0. 0.]\n"
     ]
    },
    {
     "name": "stderr",
     "output_type": "stream",
     "text": [
      "C:\\Users\\nkele\\.conda\\envs\\tfgpu\\lib\\site-packages\\sklearn\\base.py:446: UserWarning: X does not have valid feature names, but StandardScaler was fitted with feature names\n",
      "  \"X does not have valid feature names, but\"\n",
      "C:\\Users\\nkele\\.conda\\envs\\tfgpu\\lib\\site-packages\\sklearn\\base.py:446: UserWarning: X does not have valid feature names, but StandardScaler was fitted with feature names\n",
      "  \"X does not have valid feature names, but\"\n",
      "C:\\Users\\nkele\\.conda\\envs\\tfgpu\\lib\\site-packages\\sklearn\\base.py:446: UserWarning: X does not have valid feature names, but StandardScaler was fitted with feature names\n",
      "  \"X does not have valid feature names, but\"\n",
      "C:\\Users\\nkele\\.conda\\envs\\tfgpu\\lib\\site-packages\\sklearn\\base.py:446: UserWarning: X does not have valid feature names, but StandardScaler was fitted with feature names\n",
      "  \"X does not have valid feature names, but\"\n"
     ]
    },
    {
     "name": "stdout",
     "output_type": "stream",
     "text": [
      "bicep_curls [1. 0. 0. 0. 0. 0.]\n",
      "bicep_curls [1. 0. 0. 0. 0. 0.]\n"
     ]
    },
    {
     "name": "stderr",
     "output_type": "stream",
     "text": [
      "C:\\Users\\nkele\\.conda\\envs\\tfgpu\\lib\\site-packages\\sklearn\\base.py:446: UserWarning: X does not have valid feature names, but StandardScaler was fitted with feature names\n",
      "  \"X does not have valid feature names, but\"\n",
      "C:\\Users\\nkele\\.conda\\envs\\tfgpu\\lib\\site-packages\\sklearn\\base.py:446: UserWarning: X does not have valid feature names, but StandardScaler was fitted with feature names\n",
      "  \"X does not have valid feature names, but\"\n",
      "C:\\Users\\nkele\\.conda\\envs\\tfgpu\\lib\\site-packages\\sklearn\\base.py:446: UserWarning: X does not have valid feature names, but StandardScaler was fitted with feature names\n",
      "  \"X does not have valid feature names, but\"\n"
     ]
    },
    {
     "name": "stdout",
     "output_type": "stream",
     "text": [
      "bicep_curls [1. 0. 0. 0. 0. 0.]\n",
      "bicep_curls [1. 0. 0. 0. 0. 0.]\n"
     ]
    },
    {
     "name": "stderr",
     "output_type": "stream",
     "text": [
      "C:\\Users\\nkele\\.conda\\envs\\tfgpu\\lib\\site-packages\\sklearn\\base.py:446: UserWarning: X does not have valid feature names, but StandardScaler was fitted with feature names\n",
      "  \"X does not have valid feature names, but\"\n",
      "C:\\Users\\nkele\\.conda\\envs\\tfgpu\\lib\\site-packages\\sklearn\\base.py:446: UserWarning: X does not have valid feature names, but StandardScaler was fitted with feature names\n",
      "  \"X does not have valid feature names, but\"\n",
      "C:\\Users\\nkele\\.conda\\envs\\tfgpu\\lib\\site-packages\\sklearn\\base.py:446: UserWarning: X does not have valid feature names, but StandardScaler was fitted with feature names\n",
      "  \"X does not have valid feature names, but\"\n",
      "C:\\Users\\nkele\\.conda\\envs\\tfgpu\\lib\\site-packages\\sklearn\\base.py:446: UserWarning: X does not have valid feature names, but StandardScaler was fitted with feature names\n",
      "  \"X does not have valid feature names, but\"\n"
     ]
    },
    {
     "name": "stdout",
     "output_type": "stream",
     "text": [
      "bicep_curls [1. 0. 0. 0. 0. 0.]\n",
      "bicep_curls [1. 0. 0. 0. 0. 0.]\n"
     ]
    },
    {
     "name": "stderr",
     "output_type": "stream",
     "text": [
      "C:\\Users\\nkele\\.conda\\envs\\tfgpu\\lib\\site-packages\\sklearn\\base.py:446: UserWarning: X does not have valid feature names, but StandardScaler was fitted with feature names\n",
      "  \"X does not have valid feature names, but\"\n",
      "C:\\Users\\nkele\\.conda\\envs\\tfgpu\\lib\\site-packages\\sklearn\\base.py:446: UserWarning: X does not have valid feature names, but StandardScaler was fitted with feature names\n",
      "  \"X does not have valid feature names, but\"\n",
      "C:\\Users\\nkele\\.conda\\envs\\tfgpu\\lib\\site-packages\\sklearn\\base.py:446: UserWarning: X does not have valid feature names, but StandardScaler was fitted with feature names\n",
      "  \"X does not have valid feature names, but\"\n",
      "C:\\Users\\nkele\\.conda\\envs\\tfgpu\\lib\\site-packages\\sklearn\\base.py:446: UserWarning: X does not have valid feature names, but StandardScaler was fitted with feature names\n",
      "  \"X does not have valid feature names, but\"\n"
     ]
    },
    {
     "name": "stdout",
     "output_type": "stream",
     "text": [
      "bicep_curls [1. 0. 0. 0. 0. 0.]\n",
      "bicep_curls [1. 0. 0. 0. 0. 0.]\n"
     ]
    },
    {
     "name": "stderr",
     "output_type": "stream",
     "text": [
      "C:\\Users\\nkele\\.conda\\envs\\tfgpu\\lib\\site-packages\\sklearn\\base.py:446: UserWarning: X does not have valid feature names, but StandardScaler was fitted with feature names\n",
      "  \"X does not have valid feature names, but\"\n",
      "C:\\Users\\nkele\\.conda\\envs\\tfgpu\\lib\\site-packages\\sklearn\\base.py:446: UserWarning: X does not have valid feature names, but StandardScaler was fitted with feature names\n",
      "  \"X does not have valid feature names, but\"\n",
      "C:\\Users\\nkele\\.conda\\envs\\tfgpu\\lib\\site-packages\\sklearn\\base.py:446: UserWarning: X does not have valid feature names, but StandardScaler was fitted with feature names\n",
      "  \"X does not have valid feature names, but\"\n",
      "C:\\Users\\nkele\\.conda\\envs\\tfgpu\\lib\\site-packages\\sklearn\\base.py:446: UserWarning: X does not have valid feature names, but StandardScaler was fitted with feature names\n",
      "  \"X does not have valid feature names, but\"\n"
     ]
    },
    {
     "name": "stdout",
     "output_type": "stream",
     "text": [
      "bicep_curls [1. 0. 0. 0. 0. 0.]\n",
      "bicep_curls [1. 0. 0. 0. 0. 0.]\n"
     ]
    },
    {
     "name": "stderr",
     "output_type": "stream",
     "text": [
      "C:\\Users\\nkele\\.conda\\envs\\tfgpu\\lib\\site-packages\\sklearn\\base.py:446: UserWarning: X does not have valid feature names, but StandardScaler was fitted with feature names\n",
      "  \"X does not have valid feature names, but\"\n",
      "C:\\Users\\nkele\\.conda\\envs\\tfgpu\\lib\\site-packages\\sklearn\\base.py:446: UserWarning: X does not have valid feature names, but StandardScaler was fitted with feature names\n",
      "  \"X does not have valid feature names, but\"\n",
      "C:\\Users\\nkele\\.conda\\envs\\tfgpu\\lib\\site-packages\\sklearn\\base.py:446: UserWarning: X does not have valid feature names, but StandardScaler was fitted with feature names\n",
      "  \"X does not have valid feature names, but\"\n",
      "C:\\Users\\nkele\\.conda\\envs\\tfgpu\\lib\\site-packages\\sklearn\\base.py:446: UserWarning: X does not have valid feature names, but StandardScaler was fitted with feature names\n",
      "  \"X does not have valid feature names, but\"\n",
      "C:\\Users\\nkele\\.conda\\envs\\tfgpu\\lib\\site-packages\\sklearn\\base.py:446: UserWarning: X does not have valid feature names, but StandardScaler was fitted with feature names\n",
      "  \"X does not have valid feature names, but\"\n",
      "C:\\Users\\nkele\\.conda\\envs\\tfgpu\\lib\\site-packages\\sklearn\\base.py:446: UserWarning: X does not have valid feature names, but StandardScaler was fitted with feature names\n",
      "  \"X does not have valid feature names, but\"\n"
     ]
    },
    {
     "name": "stdout",
     "output_type": "stream",
     "text": [
      "bicep_curls [1. 0. 0. 0. 0. 0.]\n",
      "bicep_curls [1. 0. 0. 0. 0. 0.]\n"
     ]
    },
    {
     "name": "stderr",
     "output_type": "stream",
     "text": [
      "C:\\Users\\nkele\\.conda\\envs\\tfgpu\\lib\\site-packages\\sklearn\\base.py:446: UserWarning: X does not have valid feature names, but StandardScaler was fitted with feature names\n",
      "  \"X does not have valid feature names, but\"\n",
      "C:\\Users\\nkele\\.conda\\envs\\tfgpu\\lib\\site-packages\\sklearn\\base.py:446: UserWarning: X does not have valid feature names, but StandardScaler was fitted with feature names\n",
      "  \"X does not have valid feature names, but\"\n",
      "C:\\Users\\nkele\\.conda\\envs\\tfgpu\\lib\\site-packages\\sklearn\\base.py:446: UserWarning: X does not have valid feature names, but StandardScaler was fitted with feature names\n",
      "  \"X does not have valid feature names, but\"\n"
     ]
    },
    {
     "name": "stdout",
     "output_type": "stream",
     "text": [
      "bicep_curls [1. 0. 0. 0. 0. 0.]\n",
      "bicep_curls [1. 0. 0. 0. 0. 0.]\n"
     ]
    },
    {
     "name": "stderr",
     "output_type": "stream",
     "text": [
      "C:\\Users\\nkele\\.conda\\envs\\tfgpu\\lib\\site-packages\\sklearn\\base.py:446: UserWarning: X does not have valid feature names, but StandardScaler was fitted with feature names\n",
      "  \"X does not have valid feature names, but\"\n",
      "C:\\Users\\nkele\\.conda\\envs\\tfgpu\\lib\\site-packages\\sklearn\\base.py:446: UserWarning: X does not have valid feature names, but StandardScaler was fitted with feature names\n",
      "  \"X does not have valid feature names, but\"\n",
      "C:\\Users\\nkele\\.conda\\envs\\tfgpu\\lib\\site-packages\\sklearn\\base.py:446: UserWarning: X does not have valid feature names, but StandardScaler was fitted with feature names\n",
      "  \"X does not have valid feature names, but\"\n",
      "C:\\Users\\nkele\\.conda\\envs\\tfgpu\\lib\\site-packages\\sklearn\\base.py:446: UserWarning: X does not have valid feature names, but StandardScaler was fitted with feature names\n",
      "  \"X does not have valid feature names, but\"\n",
      "C:\\Users\\nkele\\.conda\\envs\\tfgpu\\lib\\site-packages\\sklearn\\base.py:446: UserWarning: X does not have valid feature names, but StandardScaler was fitted with feature names\n",
      "  \"X does not have valid feature names, but\"\n"
     ]
    },
    {
     "name": "stdout",
     "output_type": "stream",
     "text": [
      "bicep_curls [1. 0. 0. 0. 0. 0.]\n",
      "bicep_curls [1. 0. 0. 0. 0. 0.]\n",
      "bicep_curls [1. 0. 0. 0. 0. 0.]\n"
     ]
    },
    {
     "name": "stderr",
     "output_type": "stream",
     "text": [
      "C:\\Users\\nkele\\.conda\\envs\\tfgpu\\lib\\site-packages\\sklearn\\base.py:446: UserWarning: X does not have valid feature names, but StandardScaler was fitted with feature names\n",
      "  \"X does not have valid feature names, but\"\n",
      "C:\\Users\\nkele\\.conda\\envs\\tfgpu\\lib\\site-packages\\sklearn\\base.py:446: UserWarning: X does not have valid feature names, but StandardScaler was fitted with feature names\n",
      "  \"X does not have valid feature names, but\"\n",
      "C:\\Users\\nkele\\.conda\\envs\\tfgpu\\lib\\site-packages\\sklearn\\base.py:446: UserWarning: X does not have valid feature names, but StandardScaler was fitted with feature names\n",
      "  \"X does not have valid feature names, but\"\n",
      "C:\\Users\\nkele\\.conda\\envs\\tfgpu\\lib\\site-packages\\sklearn\\base.py:446: UserWarning: X does not have valid feature names, but StandardScaler was fitted with feature names\n",
      "  \"X does not have valid feature names, but\"\n"
     ]
    },
    {
     "name": "stdout",
     "output_type": "stream",
     "text": [
      "bicep_curls [1. 0. 0. 0. 0. 0.]\n",
      "bicep_curls [1. 0. 0. 0. 0. 0.]\n"
     ]
    },
    {
     "name": "stderr",
     "output_type": "stream",
     "text": [
      "C:\\Users\\nkele\\.conda\\envs\\tfgpu\\lib\\site-packages\\sklearn\\base.py:446: UserWarning: X does not have valid feature names, but StandardScaler was fitted with feature names\n",
      "  \"X does not have valid feature names, but\"\n",
      "C:\\Users\\nkele\\.conda\\envs\\tfgpu\\lib\\site-packages\\sklearn\\base.py:446: UserWarning: X does not have valid feature names, but StandardScaler was fitted with feature names\n",
      "  \"X does not have valid feature names, but\"\n",
      "C:\\Users\\nkele\\.conda\\envs\\tfgpu\\lib\\site-packages\\sklearn\\base.py:446: UserWarning: X does not have valid feature names, but StandardScaler was fitted with feature names\n",
      "  \"X does not have valid feature names, but\"\n"
     ]
    },
    {
     "name": "stdout",
     "output_type": "stream",
     "text": [
      "bicep_curls [1. 0. 0. 0. 0. 0.]\n",
      "bicep_curls [1. 0. 0. 0. 0. 0.]\n"
     ]
    },
    {
     "name": "stderr",
     "output_type": "stream",
     "text": [
      "C:\\Users\\nkele\\.conda\\envs\\tfgpu\\lib\\site-packages\\sklearn\\base.py:446: UserWarning: X does not have valid feature names, but StandardScaler was fitted with feature names\n",
      "  \"X does not have valid feature names, but\"\n",
      "C:\\Users\\nkele\\.conda\\envs\\tfgpu\\lib\\site-packages\\sklearn\\base.py:446: UserWarning: X does not have valid feature names, but StandardScaler was fitted with feature names\n",
      "  \"X does not have valid feature names, but\"\n",
      "C:\\Users\\nkele\\.conda\\envs\\tfgpu\\lib\\site-packages\\sklearn\\base.py:446: UserWarning: X does not have valid feature names, but StandardScaler was fitted with feature names\n",
      "  \"X does not have valid feature names, but\"\n",
      "C:\\Users\\nkele\\.conda\\envs\\tfgpu\\lib\\site-packages\\sklearn\\base.py:446: UserWarning: X does not have valid feature names, but StandardScaler was fitted with feature names\n",
      "  \"X does not have valid feature names, but\"\n"
     ]
    },
    {
     "name": "stdout",
     "output_type": "stream",
     "text": [
      "bicep_curls [1. 0. 0. 0. 0. 0.]\n",
      "bicep_curls [1. 0. 0. 0. 0. 0.]\n"
     ]
    },
    {
     "name": "stderr",
     "output_type": "stream",
     "text": [
      "C:\\Users\\nkele\\.conda\\envs\\tfgpu\\lib\\site-packages\\sklearn\\base.py:446: UserWarning: X does not have valid feature names, but StandardScaler was fitted with feature names\n",
      "  \"X does not have valid feature names, but\"\n",
      "C:\\Users\\nkele\\.conda\\envs\\tfgpu\\lib\\site-packages\\sklearn\\base.py:446: UserWarning: X does not have valid feature names, but StandardScaler was fitted with feature names\n",
      "  \"X does not have valid feature names, but\"\n",
      "C:\\Users\\nkele\\.conda\\envs\\tfgpu\\lib\\site-packages\\sklearn\\base.py:446: UserWarning: X does not have valid feature names, but StandardScaler was fitted with feature names\n",
      "  \"X does not have valid feature names, but\"\n"
     ]
    },
    {
     "name": "stdout",
     "output_type": "stream",
     "text": [
      "bicep_curls [1. 0. 0. 0. 0. 0.]\n",
      "bicep_curls [1. 0. 0. 0. 0. 0.]\n"
     ]
    },
    {
     "name": "stderr",
     "output_type": "stream",
     "text": [
      "C:\\Users\\nkele\\.conda\\envs\\tfgpu\\lib\\site-packages\\sklearn\\base.py:446: UserWarning: X does not have valid feature names, but StandardScaler was fitted with feature names\n",
      "  \"X does not have valid feature names, but\"\n",
      "C:\\Users\\nkele\\.conda\\envs\\tfgpu\\lib\\site-packages\\sklearn\\base.py:446: UserWarning: X does not have valid feature names, but StandardScaler was fitted with feature names\n",
      "  \"X does not have valid feature names, but\"\n",
      "C:\\Users\\nkele\\.conda\\envs\\tfgpu\\lib\\site-packages\\sklearn\\base.py:446: UserWarning: X does not have valid feature names, but StandardScaler was fitted with feature names\n",
      "  \"X does not have valid feature names, but\"\n",
      "C:\\Users\\nkele\\.conda\\envs\\tfgpu\\lib\\site-packages\\sklearn\\base.py:446: UserWarning: X does not have valid feature names, but StandardScaler was fitted with feature names\n",
      "  \"X does not have valid feature names, but\"\n"
     ]
    },
    {
     "name": "stdout",
     "output_type": "stream",
     "text": [
      "bicep_curls [1. 0. 0. 0. 0. 0.]\n",
      "bicep_curls [1. 0. 0. 0. 0. 0.]\n"
     ]
    },
    {
     "name": "stderr",
     "output_type": "stream",
     "text": [
      "C:\\Users\\nkele\\.conda\\envs\\tfgpu\\lib\\site-packages\\sklearn\\base.py:446: UserWarning: X does not have valid feature names, but StandardScaler was fitted with feature names\n",
      "  \"X does not have valid feature names, but\"\n",
      "C:\\Users\\nkele\\.conda\\envs\\tfgpu\\lib\\site-packages\\sklearn\\base.py:446: UserWarning: X does not have valid feature names, but StandardScaler was fitted with feature names\n",
      "  \"X does not have valid feature names, but\"\n",
      "C:\\Users\\nkele\\.conda\\envs\\tfgpu\\lib\\site-packages\\sklearn\\base.py:446: UserWarning: X does not have valid feature names, but StandardScaler was fitted with feature names\n",
      "  \"X does not have valid feature names, but\"\n",
      "C:\\Users\\nkele\\.conda\\envs\\tfgpu\\lib\\site-packages\\sklearn\\base.py:446: UserWarning: X does not have valid feature names, but StandardScaler was fitted with feature names\n",
      "  \"X does not have valid feature names, but\"\n",
      "C:\\Users\\nkele\\.conda\\envs\\tfgpu\\lib\\site-packages\\sklearn\\base.py:446: UserWarning: X does not have valid feature names, but StandardScaler was fitted with feature names\n",
      "  \"X does not have valid feature names, but\"\n"
     ]
    },
    {
     "name": "stdout",
     "output_type": "stream",
     "text": [
      "bicep_curls [1. 0. 0. 0. 0. 0.]\n",
      "bicep_curls [1. 0. 0. 0. 0. 0.]\n"
     ]
    },
    {
     "name": "stderr",
     "output_type": "stream",
     "text": [
      "C:\\Users\\nkele\\.conda\\envs\\tfgpu\\lib\\site-packages\\sklearn\\base.py:446: UserWarning: X does not have valid feature names, but StandardScaler was fitted with feature names\n",
      "  \"X does not have valid feature names, but\"\n",
      "C:\\Users\\nkele\\.conda\\envs\\tfgpu\\lib\\site-packages\\sklearn\\base.py:446: UserWarning: X does not have valid feature names, but StandardScaler was fitted with feature names\n",
      "  \"X does not have valid feature names, but\"\n",
      "C:\\Users\\nkele\\.conda\\envs\\tfgpu\\lib\\site-packages\\sklearn\\base.py:446: UserWarning: X does not have valid feature names, but StandardScaler was fitted with feature names\n",
      "  \"X does not have valid feature names, but\"\n",
      "C:\\Users\\nkele\\.conda\\envs\\tfgpu\\lib\\site-packages\\sklearn\\base.py:446: UserWarning: X does not have valid feature names, but StandardScaler was fitted with feature names\n",
      "  \"X does not have valid feature names, but\"\n",
      "C:\\Users\\nkele\\.conda\\envs\\tfgpu\\lib\\site-packages\\sklearn\\base.py:446: UserWarning: X does not have valid feature names, but StandardScaler was fitted with feature names\n",
      "  \"X does not have valid feature names, but\"\n"
     ]
    },
    {
     "name": "stdout",
     "output_type": "stream",
     "text": [
      "bicep_curls [1. 0. 0. 0. 0. 0.]\n",
      "bicep_curls [1. 0. 0. 0. 0. 0.]\n"
     ]
    },
    {
     "name": "stderr",
     "output_type": "stream",
     "text": [
      "C:\\Users\\nkele\\.conda\\envs\\tfgpu\\lib\\site-packages\\sklearn\\base.py:446: UserWarning: X does not have valid feature names, but StandardScaler was fitted with feature names\n",
      "  \"X does not have valid feature names, but\"\n",
      "C:\\Users\\nkele\\.conda\\envs\\tfgpu\\lib\\site-packages\\sklearn\\base.py:446: UserWarning: X does not have valid feature names, but StandardScaler was fitted with feature names\n",
      "  \"X does not have valid feature names, but\"\n",
      "C:\\Users\\nkele\\.conda\\envs\\tfgpu\\lib\\site-packages\\sklearn\\base.py:446: UserWarning: X does not have valid feature names, but StandardScaler was fitted with feature names\n",
      "  \"X does not have valid feature names, but\"\n"
     ]
    },
    {
     "name": "stdout",
     "output_type": "stream",
     "text": [
      "bicep_curls [1. 0. 0. 0. 0. 0.]\n",
      "bicep_curls [1. 0. 0. 0. 0. 0.]\n"
     ]
    },
    {
     "name": "stderr",
     "output_type": "stream",
     "text": [
      "C:\\Users\\nkele\\.conda\\envs\\tfgpu\\lib\\site-packages\\sklearn\\base.py:446: UserWarning: X does not have valid feature names, but StandardScaler was fitted with feature names\n",
      "  \"X does not have valid feature names, but\"\n",
      "C:\\Users\\nkele\\.conda\\envs\\tfgpu\\lib\\site-packages\\sklearn\\base.py:446: UserWarning: X does not have valid feature names, but StandardScaler was fitted with feature names\n",
      "  \"X does not have valid feature names, but\"\n",
      "C:\\Users\\nkele\\.conda\\envs\\tfgpu\\lib\\site-packages\\sklearn\\base.py:446: UserWarning: X does not have valid feature names, but StandardScaler was fitted with feature names\n",
      "  \"X does not have valid feature names, but\"\n",
      "C:\\Users\\nkele\\.conda\\envs\\tfgpu\\lib\\site-packages\\sklearn\\base.py:446: UserWarning: X does not have valid feature names, but StandardScaler was fitted with feature names\n",
      "  \"X does not have valid feature names, but\"\n",
      "C:\\Users\\nkele\\.conda\\envs\\tfgpu\\lib\\site-packages\\sklearn\\base.py:446: UserWarning: X does not have valid feature names, but StandardScaler was fitted with feature names\n",
      "  \"X does not have valid feature names, but\"\n"
     ]
    },
    {
     "name": "stdout",
     "output_type": "stream",
     "text": [
      "bicep_curls [1. 0. 0. 0. 0. 0.]\n",
      "bicep_curls [1. 0. 0. 0. 0. 0.]\n"
     ]
    },
    {
     "name": "stderr",
     "output_type": "stream",
     "text": [
      "C:\\Users\\nkele\\.conda\\envs\\tfgpu\\lib\\site-packages\\sklearn\\base.py:446: UserWarning: X does not have valid feature names, but StandardScaler was fitted with feature names\n",
      "  \"X does not have valid feature names, but\"\n",
      "C:\\Users\\nkele\\.conda\\envs\\tfgpu\\lib\\site-packages\\sklearn\\base.py:446: UserWarning: X does not have valid feature names, but StandardScaler was fitted with feature names\n",
      "  \"X does not have valid feature names, but\"\n",
      "C:\\Users\\nkele\\.conda\\envs\\tfgpu\\lib\\site-packages\\sklearn\\base.py:446: UserWarning: X does not have valid feature names, but StandardScaler was fitted with feature names\n",
      "  \"X does not have valid feature names, but\"\n",
      "C:\\Users\\nkele\\.conda\\envs\\tfgpu\\lib\\site-packages\\sklearn\\base.py:446: UserWarning: X does not have valid feature names, but StandardScaler was fitted with feature names\n",
      "  \"X does not have valid feature names, but\"\n"
     ]
    },
    {
     "name": "stdout",
     "output_type": "stream",
     "text": [
      "bicep_curls [1. 0. 0. 0. 0. 0.]\n",
      "bicep_curls [1. 0. 0. 0. 0. 0.]\n"
     ]
    },
    {
     "name": "stderr",
     "output_type": "stream",
     "text": [
      "C:\\Users\\nkele\\.conda\\envs\\tfgpu\\lib\\site-packages\\sklearn\\base.py:446: UserWarning: X does not have valid feature names, but StandardScaler was fitted with feature names\n",
      "  \"X does not have valid feature names, but\"\n",
      "C:\\Users\\nkele\\.conda\\envs\\tfgpu\\lib\\site-packages\\sklearn\\base.py:446: UserWarning: X does not have valid feature names, but StandardScaler was fitted with feature names\n",
      "  \"X does not have valid feature names, but\"\n",
      "C:\\Users\\nkele\\.conda\\envs\\tfgpu\\lib\\site-packages\\sklearn\\base.py:446: UserWarning: X does not have valid feature names, but StandardScaler was fitted with feature names\n",
      "  \"X does not have valid feature names, but\"\n"
     ]
    },
    {
     "name": "stdout",
     "output_type": "stream",
     "text": [
      "bicep_curls [1. 0. 0. 0. 0. 0.]\n",
      "bicep_curls [1. 0. 0. 0. 0. 0.]\n"
     ]
    },
    {
     "name": "stderr",
     "output_type": "stream",
     "text": [
      "C:\\Users\\nkele\\.conda\\envs\\tfgpu\\lib\\site-packages\\sklearn\\base.py:446: UserWarning: X does not have valid feature names, but StandardScaler was fitted with feature names\n",
      "  \"X does not have valid feature names, but\"\n",
      "C:\\Users\\nkele\\.conda\\envs\\tfgpu\\lib\\site-packages\\sklearn\\base.py:446: UserWarning: X does not have valid feature names, but StandardScaler was fitted with feature names\n",
      "  \"X does not have valid feature names, but\"\n",
      "C:\\Users\\nkele\\.conda\\envs\\tfgpu\\lib\\site-packages\\sklearn\\base.py:446: UserWarning: X does not have valid feature names, but StandardScaler was fitted with feature names\n",
      "  \"X does not have valid feature names, but\"\n",
      "C:\\Users\\nkele\\.conda\\envs\\tfgpu\\lib\\site-packages\\sklearn\\base.py:446: UserWarning: X does not have valid feature names, but StandardScaler was fitted with feature names\n",
      "  \"X does not have valid feature names, but\"\n",
      "C:\\Users\\nkele\\.conda\\envs\\tfgpu\\lib\\site-packages\\sklearn\\base.py:446: UserWarning: X does not have valid feature names, but StandardScaler was fitted with feature names\n",
      "  \"X does not have valid feature names, but\"\n"
     ]
    },
    {
     "name": "stdout",
     "output_type": "stream",
     "text": [
      "bicep_curls [1. 0. 0. 0. 0. 0.]\n",
      "bicep_curls [1. 0. 0. 0. 0. 0.]\n"
     ]
    },
    {
     "name": "stderr",
     "output_type": "stream",
     "text": [
      "C:\\Users\\nkele\\.conda\\envs\\tfgpu\\lib\\site-packages\\sklearn\\base.py:446: UserWarning: X does not have valid feature names, but StandardScaler was fitted with feature names\n",
      "  \"X does not have valid feature names, but\"\n",
      "C:\\Users\\nkele\\.conda\\envs\\tfgpu\\lib\\site-packages\\sklearn\\base.py:446: UserWarning: X does not have valid feature names, but StandardScaler was fitted with feature names\n",
      "  \"X does not have valid feature names, but\"\n",
      "C:\\Users\\nkele\\.conda\\envs\\tfgpu\\lib\\site-packages\\sklearn\\base.py:446: UserWarning: X does not have valid feature names, but StandardScaler was fitted with feature names\n",
      "  \"X does not have valid feature names, but\"\n"
     ]
    },
    {
     "name": "stdout",
     "output_type": "stream",
     "text": [
      "bicep_curls [1. 0. 0. 0. 0. 0.]\n",
      "bicep_curls [1. 0. 0. 0. 0. 0.]\n"
     ]
    },
    {
     "name": "stderr",
     "output_type": "stream",
     "text": [
      "C:\\Users\\nkele\\.conda\\envs\\tfgpu\\lib\\site-packages\\sklearn\\base.py:446: UserWarning: X does not have valid feature names, but StandardScaler was fitted with feature names\n",
      "  \"X does not have valid feature names, but\"\n",
      "C:\\Users\\nkele\\.conda\\envs\\tfgpu\\lib\\site-packages\\sklearn\\base.py:446: UserWarning: X does not have valid feature names, but StandardScaler was fitted with feature names\n",
      "  \"X does not have valid feature names, but\"\n",
      "C:\\Users\\nkele\\.conda\\envs\\tfgpu\\lib\\site-packages\\sklearn\\base.py:446: UserWarning: X does not have valid feature names, but StandardScaler was fitted with feature names\n",
      "  \"X does not have valid feature names, but\"\n",
      "C:\\Users\\nkele\\.conda\\envs\\tfgpu\\lib\\site-packages\\sklearn\\base.py:446: UserWarning: X does not have valid feature names, but StandardScaler was fitted with feature names\n",
      "  \"X does not have valid feature names, but\"\n",
      "C:\\Users\\nkele\\.conda\\envs\\tfgpu\\lib\\site-packages\\sklearn\\base.py:446: UserWarning: X does not have valid feature names, but StandardScaler was fitted with feature names\n",
      "  \"X does not have valid feature names, but\"\n"
     ]
    },
    {
     "name": "stdout",
     "output_type": "stream",
     "text": [
      "bicep_curls [1. 0. 0. 0. 0. 0.]\n",
      "bicep_curls [1. 0. 0. 0. 0. 0.]\n"
     ]
    },
    {
     "name": "stderr",
     "output_type": "stream",
     "text": [
      "C:\\Users\\nkele\\.conda\\envs\\tfgpu\\lib\\site-packages\\sklearn\\base.py:446: UserWarning: X does not have valid feature names, but StandardScaler was fitted with feature names\n",
      "  \"X does not have valid feature names, but\"\n",
      "C:\\Users\\nkele\\.conda\\envs\\tfgpu\\lib\\site-packages\\sklearn\\base.py:446: UserWarning: X does not have valid feature names, but StandardScaler was fitted with feature names\n",
      "  \"X does not have valid feature names, but\"\n",
      "C:\\Users\\nkele\\.conda\\envs\\tfgpu\\lib\\site-packages\\sklearn\\base.py:446: UserWarning: X does not have valid feature names, but StandardScaler was fitted with feature names\n",
      "  \"X does not have valid feature names, but\"\n"
     ]
    },
    {
     "name": "stdout",
     "output_type": "stream",
     "text": [
      "bicep_curls [1. 0. 0. 0. 0. 0.]\n",
      "bicep_curls [1. 0. 0. 0. 0. 0.]\n"
     ]
    },
    {
     "name": "stderr",
     "output_type": "stream",
     "text": [
      "C:\\Users\\nkele\\.conda\\envs\\tfgpu\\lib\\site-packages\\sklearn\\base.py:446: UserWarning: X does not have valid feature names, but StandardScaler was fitted with feature names\n",
      "  \"X does not have valid feature names, but\"\n",
      "C:\\Users\\nkele\\.conda\\envs\\tfgpu\\lib\\site-packages\\sklearn\\base.py:446: UserWarning: X does not have valid feature names, but StandardScaler was fitted with feature names\n",
      "  \"X does not have valid feature names, but\"\n",
      "C:\\Users\\nkele\\.conda\\envs\\tfgpu\\lib\\site-packages\\sklearn\\base.py:446: UserWarning: X does not have valid feature names, but StandardScaler was fitted with feature names\n",
      "  \"X does not have valid feature names, but\"\n",
      "C:\\Users\\nkele\\.conda\\envs\\tfgpu\\lib\\site-packages\\sklearn\\base.py:446: UserWarning: X does not have valid feature names, but StandardScaler was fitted with feature names\n",
      "  \"X does not have valid feature names, but\"\n"
     ]
    },
    {
     "name": "stdout",
     "output_type": "stream",
     "text": [
      "bicep_curls [1. 0. 0. 0. 0. 0.]\n",
      "bicep_curls [1. 0. 0. 0. 0. 0.]\n"
     ]
    },
    {
     "name": "stderr",
     "output_type": "stream",
     "text": [
      "C:\\Users\\nkele\\.conda\\envs\\tfgpu\\lib\\site-packages\\sklearn\\base.py:446: UserWarning: X does not have valid feature names, but StandardScaler was fitted with feature names\n",
      "  \"X does not have valid feature names, but\"\n",
      "C:\\Users\\nkele\\.conda\\envs\\tfgpu\\lib\\site-packages\\sklearn\\base.py:446: UserWarning: X does not have valid feature names, but StandardScaler was fitted with feature names\n",
      "  \"X does not have valid feature names, but\"\n",
      "C:\\Users\\nkele\\.conda\\envs\\tfgpu\\lib\\site-packages\\sklearn\\base.py:446: UserWarning: X does not have valid feature names, but StandardScaler was fitted with feature names\n",
      "  \"X does not have valid feature names, but\"\n",
      "C:\\Users\\nkele\\.conda\\envs\\tfgpu\\lib\\site-packages\\sklearn\\base.py:446: UserWarning: X does not have valid feature names, but StandardScaler was fitted with feature names\n",
      "  \"X does not have valid feature names, but\"\n"
     ]
    },
    {
     "name": "stdout",
     "output_type": "stream",
     "text": [
      "bicep_curls [1. 0. 0. 0. 0. 0.]\n",
      "bicep_curls [1. 0. 0. 0. 0. 0.]\n"
     ]
    },
    {
     "name": "stderr",
     "output_type": "stream",
     "text": [
      "C:\\Users\\nkele\\.conda\\envs\\tfgpu\\lib\\site-packages\\sklearn\\base.py:446: UserWarning: X does not have valid feature names, but StandardScaler was fitted with feature names\n",
      "  \"X does not have valid feature names, but\"\n",
      "C:\\Users\\nkele\\.conda\\envs\\tfgpu\\lib\\site-packages\\sklearn\\base.py:446: UserWarning: X does not have valid feature names, but StandardScaler was fitted with feature names\n",
      "  \"X does not have valid feature names, but\"\n",
      "C:\\Users\\nkele\\.conda\\envs\\tfgpu\\lib\\site-packages\\sklearn\\base.py:446: UserWarning: X does not have valid feature names, but StandardScaler was fitted with feature names\n",
      "  \"X does not have valid feature names, but\"\n",
      "C:\\Users\\nkele\\.conda\\envs\\tfgpu\\lib\\site-packages\\sklearn\\base.py:446: UserWarning: X does not have valid feature names, but StandardScaler was fitted with feature names\n",
      "  \"X does not have valid feature names, but\"\n"
     ]
    },
    {
     "name": "stdout",
     "output_type": "stream",
     "text": [
      "bicep_curls [1. 0. 0. 0. 0. 0.]\n",
      "bicep_curls [1. 0. 0. 0. 0. 0.]\n"
     ]
    },
    {
     "name": "stderr",
     "output_type": "stream",
     "text": [
      "C:\\Users\\nkele\\.conda\\envs\\tfgpu\\lib\\site-packages\\sklearn\\base.py:446: UserWarning: X does not have valid feature names, but StandardScaler was fitted with feature names\n",
      "  \"X does not have valid feature names, but\"\n",
      "C:\\Users\\nkele\\.conda\\envs\\tfgpu\\lib\\site-packages\\sklearn\\base.py:446: UserWarning: X does not have valid feature names, but StandardScaler was fitted with feature names\n",
      "  \"X does not have valid feature names, but\"\n",
      "C:\\Users\\nkele\\.conda\\envs\\tfgpu\\lib\\site-packages\\sklearn\\base.py:446: UserWarning: X does not have valid feature names, but StandardScaler was fitted with feature names\n",
      "  \"X does not have valid feature names, but\"\n"
     ]
    },
    {
     "name": "stdout",
     "output_type": "stream",
     "text": [
      "bicep_curls [1. 0. 0. 0. 0. 0.]\n",
      "bicep_curls [1. 0. 0. 0. 0. 0.]\n"
     ]
    },
    {
     "name": "stderr",
     "output_type": "stream",
     "text": [
      "C:\\Users\\nkele\\.conda\\envs\\tfgpu\\lib\\site-packages\\sklearn\\base.py:446: UserWarning: X does not have valid feature names, but StandardScaler was fitted with feature names\n",
      "  \"X does not have valid feature names, but\"\n",
      "C:\\Users\\nkele\\.conda\\envs\\tfgpu\\lib\\site-packages\\sklearn\\base.py:446: UserWarning: X does not have valid feature names, but StandardScaler was fitted with feature names\n",
      "  \"X does not have valid feature names, but\"\n",
      "C:\\Users\\nkele\\.conda\\envs\\tfgpu\\lib\\site-packages\\sklearn\\base.py:446: UserWarning: X does not have valid feature names, but StandardScaler was fitted with feature names\n",
      "  \"X does not have valid feature names, but\"\n",
      "C:\\Users\\nkele\\.conda\\envs\\tfgpu\\lib\\site-packages\\sklearn\\base.py:446: UserWarning: X does not have valid feature names, but StandardScaler was fitted with feature names\n",
      "  \"X does not have valid feature names, but\"\n",
      "C:\\Users\\nkele\\.conda\\envs\\tfgpu\\lib\\site-packages\\sklearn\\base.py:446: UserWarning: X does not have valid feature names, but StandardScaler was fitted with feature names\n",
      "  \"X does not have valid feature names, but\"\n",
      "C:\\Users\\nkele\\.conda\\envs\\tfgpu\\lib\\site-packages\\sklearn\\base.py:446: UserWarning: X does not have valid feature names, but StandardScaler was fitted with feature names\n",
      "  \"X does not have valid feature names, but\"\n"
     ]
    },
    {
     "name": "stdout",
     "output_type": "stream",
     "text": [
      "bicep_curls [1. 0. 0. 0. 0. 0.]\n",
      "bicep_curls [1. 0. 0. 0. 0. 0.]\n"
     ]
    },
    {
     "name": "stderr",
     "output_type": "stream",
     "text": [
      "C:\\Users\\nkele\\.conda\\envs\\tfgpu\\lib\\site-packages\\sklearn\\base.py:446: UserWarning: X does not have valid feature names, but StandardScaler was fitted with feature names\n",
      "  \"X does not have valid feature names, but\"\n",
      "C:\\Users\\nkele\\.conda\\envs\\tfgpu\\lib\\site-packages\\sklearn\\base.py:446: UserWarning: X does not have valid feature names, but StandardScaler was fitted with feature names\n",
      "  \"X does not have valid feature names, but\"\n",
      "C:\\Users\\nkele\\.conda\\envs\\tfgpu\\lib\\site-packages\\sklearn\\base.py:446: UserWarning: X does not have valid feature names, but StandardScaler was fitted with feature names\n",
      "  \"X does not have valid feature names, but\"\n",
      "C:\\Users\\nkele\\.conda\\envs\\tfgpu\\lib\\site-packages\\sklearn\\base.py:446: UserWarning: X does not have valid feature names, but StandardScaler was fitted with feature names\n",
      "  \"X does not have valid feature names, but\"\n"
     ]
    },
    {
     "name": "stdout",
     "output_type": "stream",
     "text": [
      "bicep_curls [1. 0. 0. 0. 0. 0.]\n",
      "bicep_curls [1. 0. 0. 0. 0. 0.]\n"
     ]
    },
    {
     "name": "stderr",
     "output_type": "stream",
     "text": [
      "C:\\Users\\nkele\\.conda\\envs\\tfgpu\\lib\\site-packages\\sklearn\\base.py:446: UserWarning: X does not have valid feature names, but StandardScaler was fitted with feature names\n",
      "  \"X does not have valid feature names, but\"\n",
      "C:\\Users\\nkele\\.conda\\envs\\tfgpu\\lib\\site-packages\\sklearn\\base.py:446: UserWarning: X does not have valid feature names, but StandardScaler was fitted with feature names\n",
      "  \"X does not have valid feature names, but\"\n",
      "C:\\Users\\nkele\\.conda\\envs\\tfgpu\\lib\\site-packages\\sklearn\\base.py:446: UserWarning: X does not have valid feature names, but StandardScaler was fitted with feature names\n",
      "  \"X does not have valid feature names, but\"\n",
      "C:\\Users\\nkele\\.conda\\envs\\tfgpu\\lib\\site-packages\\sklearn\\base.py:446: UserWarning: X does not have valid feature names, but StandardScaler was fitted with feature names\n",
      "  \"X does not have valid feature names, but\"\n"
     ]
    },
    {
     "name": "stdout",
     "output_type": "stream",
     "text": [
      "bicep_curls [1. 0. 0. 0. 0. 0.]\n",
      "bicep_curls [1. 0. 0. 0. 0. 0.]\n"
     ]
    },
    {
     "name": "stderr",
     "output_type": "stream",
     "text": [
      "C:\\Users\\nkele\\.conda\\envs\\tfgpu\\lib\\site-packages\\sklearn\\base.py:446: UserWarning: X does not have valid feature names, but StandardScaler was fitted with feature names\n",
      "  \"X does not have valid feature names, but\"\n",
      "C:\\Users\\nkele\\.conda\\envs\\tfgpu\\lib\\site-packages\\sklearn\\base.py:446: UserWarning: X does not have valid feature names, but StandardScaler was fitted with feature names\n",
      "  \"X does not have valid feature names, but\"\n",
      "C:\\Users\\nkele\\.conda\\envs\\tfgpu\\lib\\site-packages\\sklearn\\base.py:446: UserWarning: X does not have valid feature names, but StandardScaler was fitted with feature names\n",
      "  \"X does not have valid feature names, but\"\n"
     ]
    },
    {
     "name": "stdout",
     "output_type": "stream",
     "text": [
      "bicep_curls [0.98 0.02 0.   0.   0.   0.  ]\n",
      "bicep_curls [1. 0. 0. 0. 0. 0.]\n"
     ]
    },
    {
     "name": "stderr",
     "output_type": "stream",
     "text": [
      "C:\\Users\\nkele\\.conda\\envs\\tfgpu\\lib\\site-packages\\sklearn\\base.py:446: UserWarning: X does not have valid feature names, but StandardScaler was fitted with feature names\n",
      "  \"X does not have valid feature names, but\"\n",
      "C:\\Users\\nkele\\.conda\\envs\\tfgpu\\lib\\site-packages\\sklearn\\base.py:446: UserWarning: X does not have valid feature names, but StandardScaler was fitted with feature names\n",
      "  \"X does not have valid feature names, but\"\n",
      "C:\\Users\\nkele\\.conda\\envs\\tfgpu\\lib\\site-packages\\sklearn\\base.py:446: UserWarning: X does not have valid feature names, but StandardScaler was fitted with feature names\n",
      "  \"X does not have valid feature names, but\"\n",
      "C:\\Users\\nkele\\.conda\\envs\\tfgpu\\lib\\site-packages\\sklearn\\base.py:446: UserWarning: X does not have valid feature names, but StandardScaler was fitted with feature names\n",
      "  \"X does not have valid feature names, but\"\n"
     ]
    },
    {
     "name": "stdout",
     "output_type": "stream",
     "text": [
      "bicep_curls [1. 0. 0. 0. 0. 0.]\n",
      "bicep_curls [1. 0. 0. 0. 0. 0.]\n"
     ]
    },
    {
     "name": "stderr",
     "output_type": "stream",
     "text": [
      "C:\\Users\\nkele\\.conda\\envs\\tfgpu\\lib\\site-packages\\sklearn\\base.py:446: UserWarning: X does not have valid feature names, but StandardScaler was fitted with feature names\n",
      "  \"X does not have valid feature names, but\"\n",
      "C:\\Users\\nkele\\.conda\\envs\\tfgpu\\lib\\site-packages\\sklearn\\base.py:446: UserWarning: X does not have valid feature names, but StandardScaler was fitted with feature names\n",
      "  \"X does not have valid feature names, but\"\n",
      "C:\\Users\\nkele\\.conda\\envs\\tfgpu\\lib\\site-packages\\sklearn\\base.py:446: UserWarning: X does not have valid feature names, but StandardScaler was fitted with feature names\n",
      "  \"X does not have valid feature names, but\"\n",
      "C:\\Users\\nkele\\.conda\\envs\\tfgpu\\lib\\site-packages\\sklearn\\base.py:446: UserWarning: X does not have valid feature names, but StandardScaler was fitted with feature names\n",
      "  \"X does not have valid feature names, but\"\n",
      "C:\\Users\\nkele\\.conda\\envs\\tfgpu\\lib\\site-packages\\sklearn\\base.py:446: UserWarning: X does not have valid feature names, but StandardScaler was fitted with feature names\n",
      "  \"X does not have valid feature names, but\"\n"
     ]
    },
    {
     "name": "stdout",
     "output_type": "stream",
     "text": [
      "bicep_curls [1. 0. 0. 0. 0. 0.]\n",
      "bicep_curls [1. 0. 0. 0. 0. 0.]\n"
     ]
    },
    {
     "name": "stderr",
     "output_type": "stream",
     "text": [
      "C:\\Users\\nkele\\.conda\\envs\\tfgpu\\lib\\site-packages\\sklearn\\base.py:446: UserWarning: X does not have valid feature names, but StandardScaler was fitted with feature names\n",
      "  \"X does not have valid feature names, but\"\n",
      "C:\\Users\\nkele\\.conda\\envs\\tfgpu\\lib\\site-packages\\sklearn\\base.py:446: UserWarning: X does not have valid feature names, but StandardScaler was fitted with feature names\n",
      "  \"X does not have valid feature names, but\"\n",
      "C:\\Users\\nkele\\.conda\\envs\\tfgpu\\lib\\site-packages\\sklearn\\base.py:446: UserWarning: X does not have valid feature names, but StandardScaler was fitted with feature names\n",
      "  \"X does not have valid feature names, but\"\n",
      "C:\\Users\\nkele\\.conda\\envs\\tfgpu\\lib\\site-packages\\sklearn\\base.py:446: UserWarning: X does not have valid feature names, but StandardScaler was fitted with feature names\n",
      "  \"X does not have valid feature names, but\"\n"
     ]
    },
    {
     "name": "stdout",
     "output_type": "stream",
     "text": [
      "bicep_curls [1. 0. 0. 0. 0. 0.]\n",
      "bicep_curls [1. 0. 0. 0. 0. 0.]\n"
     ]
    },
    {
     "name": "stderr",
     "output_type": "stream",
     "text": [
      "C:\\Users\\nkele\\.conda\\envs\\tfgpu\\lib\\site-packages\\sklearn\\base.py:446: UserWarning: X does not have valid feature names, but StandardScaler was fitted with feature names\n",
      "  \"X does not have valid feature names, but\"\n",
      "C:\\Users\\nkele\\.conda\\envs\\tfgpu\\lib\\site-packages\\sklearn\\base.py:446: UserWarning: X does not have valid feature names, but StandardScaler was fitted with feature names\n",
      "  \"X does not have valid feature names, but\"\n",
      "C:\\Users\\nkele\\.conda\\envs\\tfgpu\\lib\\site-packages\\sklearn\\base.py:446: UserWarning: X does not have valid feature names, but StandardScaler was fitted with feature names\n",
      "  \"X does not have valid feature names, but\"\n"
     ]
    },
    {
     "name": "stdout",
     "output_type": "stream",
     "text": [
      "bicep_curls [1. 0. 0. 0. 0. 0.]\n",
      "bicep_curls [1. 0. 0. 0. 0. 0.]\n"
     ]
    },
    {
     "name": "stderr",
     "output_type": "stream",
     "text": [
      "C:\\Users\\nkele\\.conda\\envs\\tfgpu\\lib\\site-packages\\sklearn\\base.py:446: UserWarning: X does not have valid feature names, but StandardScaler was fitted with feature names\n",
      "  \"X does not have valid feature names, but\"\n",
      "C:\\Users\\nkele\\.conda\\envs\\tfgpu\\lib\\site-packages\\sklearn\\base.py:446: UserWarning: X does not have valid feature names, but StandardScaler was fitted with feature names\n",
      "  \"X does not have valid feature names, but\"\n",
      "C:\\Users\\nkele\\.conda\\envs\\tfgpu\\lib\\site-packages\\sklearn\\base.py:446: UserWarning: X does not have valid feature names, but StandardScaler was fitted with feature names\n",
      "  \"X does not have valid feature names, but\"\n",
      "C:\\Users\\nkele\\.conda\\envs\\tfgpu\\lib\\site-packages\\sklearn\\base.py:446: UserWarning: X does not have valid feature names, but StandardScaler was fitted with feature names\n",
      "  \"X does not have valid feature names, but\"\n",
      "C:\\Users\\nkele\\.conda\\envs\\tfgpu\\lib\\site-packages\\sklearn\\base.py:446: UserWarning: X does not have valid feature names, but StandardScaler was fitted with feature names\n",
      "  \"X does not have valid feature names, but\"\n"
     ]
    },
    {
     "name": "stdout",
     "output_type": "stream",
     "text": [
      "bicep_curls [1. 0. 0. 0. 0. 0.]\n",
      "bicep_curls [1. 0. 0. 0. 0. 0.]\n"
     ]
    },
    {
     "name": "stderr",
     "output_type": "stream",
     "text": [
      "C:\\Users\\nkele\\.conda\\envs\\tfgpu\\lib\\site-packages\\sklearn\\base.py:446: UserWarning: X does not have valid feature names, but StandardScaler was fitted with feature names\n",
      "  \"X does not have valid feature names, but\"\n",
      "C:\\Users\\nkele\\.conda\\envs\\tfgpu\\lib\\site-packages\\sklearn\\base.py:446: UserWarning: X does not have valid feature names, but StandardScaler was fitted with feature names\n",
      "  \"X does not have valid feature names, but\"\n",
      "C:\\Users\\nkele\\.conda\\envs\\tfgpu\\lib\\site-packages\\sklearn\\base.py:446: UserWarning: X does not have valid feature names, but StandardScaler was fitted with feature names\n",
      "  \"X does not have valid feature names, but\"\n"
     ]
    },
    {
     "name": "stdout",
     "output_type": "stream",
     "text": [
      "bicep_curls [1. 0. 0. 0. 0. 0.]\n",
      "bicep_curls [1. 0. 0. 0. 0. 0.]\n"
     ]
    },
    {
     "name": "stderr",
     "output_type": "stream",
     "text": [
      "C:\\Users\\nkele\\.conda\\envs\\tfgpu\\lib\\site-packages\\sklearn\\base.py:446: UserWarning: X does not have valid feature names, but StandardScaler was fitted with feature names\n",
      "  \"X does not have valid feature names, but\"\n",
      "C:\\Users\\nkele\\.conda\\envs\\tfgpu\\lib\\site-packages\\sklearn\\base.py:446: UserWarning: X does not have valid feature names, but StandardScaler was fitted with feature names\n",
      "  \"X does not have valid feature names, but\"\n",
      "C:\\Users\\nkele\\.conda\\envs\\tfgpu\\lib\\site-packages\\sklearn\\base.py:446: UserWarning: X does not have valid feature names, but StandardScaler was fitted with feature names\n",
      "  \"X does not have valid feature names, but\"\n",
      "C:\\Users\\nkele\\.conda\\envs\\tfgpu\\lib\\site-packages\\sklearn\\base.py:446: UserWarning: X does not have valid feature names, but StandardScaler was fitted with feature names\n",
      "  \"X does not have valid feature names, but\"\n",
      "C:\\Users\\nkele\\.conda\\envs\\tfgpu\\lib\\site-packages\\sklearn\\base.py:446: UserWarning: X does not have valid feature names, but StandardScaler was fitted with feature names\n",
      "  \"X does not have valid feature names, but\"\n"
     ]
    },
    {
     "name": "stdout",
     "output_type": "stream",
     "text": [
      "bicep_curls [1. 0. 0. 0. 0. 0.]\n",
      "bicep_curls [1. 0. 0. 0. 0. 0.]\n"
     ]
    },
    {
     "name": "stderr",
     "output_type": "stream",
     "text": [
      "C:\\Users\\nkele\\.conda\\envs\\tfgpu\\lib\\site-packages\\sklearn\\base.py:446: UserWarning: X does not have valid feature names, but StandardScaler was fitted with feature names\n",
      "  \"X does not have valid feature names, but\"\n",
      "C:\\Users\\nkele\\.conda\\envs\\tfgpu\\lib\\site-packages\\sklearn\\base.py:446: UserWarning: X does not have valid feature names, but StandardScaler was fitted with feature names\n",
      "  \"X does not have valid feature names, but\"\n"
     ]
    },
    {
     "name": "stdout",
     "output_type": "stream",
     "text": [
      "bicep_curls [1. 0. 0. 0. 0. 0.]\n",
      "bicep_curls [1. 0. 0. 0. 0. 0.]\n"
     ]
    },
    {
     "name": "stderr",
     "output_type": "stream",
     "text": [
      "C:\\Users\\nkele\\.conda\\envs\\tfgpu\\lib\\site-packages\\sklearn\\base.py:446: UserWarning: X does not have valid feature names, but StandardScaler was fitted with feature names\n",
      "  \"X does not have valid feature names, but\"\n",
      "C:\\Users\\nkele\\.conda\\envs\\tfgpu\\lib\\site-packages\\sklearn\\base.py:446: UserWarning: X does not have valid feature names, but StandardScaler was fitted with feature names\n",
      "  \"X does not have valid feature names, but\"\n",
      "C:\\Users\\nkele\\.conda\\envs\\tfgpu\\lib\\site-packages\\sklearn\\base.py:446: UserWarning: X does not have valid feature names, but StandardScaler was fitted with feature names\n",
      "  \"X does not have valid feature names, but\"\n",
      "C:\\Users\\nkele\\.conda\\envs\\tfgpu\\lib\\site-packages\\sklearn\\base.py:446: UserWarning: X does not have valid feature names, but StandardScaler was fitted with feature names\n",
      "  \"X does not have valid feature names, but\"\n",
      "C:\\Users\\nkele\\.conda\\envs\\tfgpu\\lib\\site-packages\\sklearn\\base.py:446: UserWarning: X does not have valid feature names, but StandardScaler was fitted with feature names\n",
      "  \"X does not have valid feature names, but\"\n",
      "C:\\Users\\nkele\\.conda\\envs\\tfgpu\\lib\\site-packages\\sklearn\\base.py:446: UserWarning: X does not have valid feature names, but StandardScaler was fitted with feature names\n",
      "  \"X does not have valid feature names, but\"\n"
     ]
    },
    {
     "name": "stdout",
     "output_type": "stream",
     "text": [
      "bicep_curls [1. 0. 0. 0. 0. 0.]\n",
      "bicep_curls [1. 0. 0. 0. 0. 0.]\n"
     ]
    },
    {
     "name": "stderr",
     "output_type": "stream",
     "text": [
      "C:\\Users\\nkele\\.conda\\envs\\tfgpu\\lib\\site-packages\\sklearn\\base.py:446: UserWarning: X does not have valid feature names, but StandardScaler was fitted with feature names\n",
      "  \"X does not have valid feature names, but\"\n",
      "C:\\Users\\nkele\\.conda\\envs\\tfgpu\\lib\\site-packages\\sklearn\\base.py:446: UserWarning: X does not have valid feature names, but StandardScaler was fitted with feature names\n",
      "  \"X does not have valid feature names, but\"\n",
      "C:\\Users\\nkele\\.conda\\envs\\tfgpu\\lib\\site-packages\\sklearn\\base.py:446: UserWarning: X does not have valid feature names, but StandardScaler was fitted with feature names\n",
      "  \"X does not have valid feature names, but\"\n",
      "C:\\Users\\nkele\\.conda\\envs\\tfgpu\\lib\\site-packages\\sklearn\\base.py:446: UserWarning: X does not have valid feature names, but StandardScaler was fitted with feature names\n",
      "  \"X does not have valid feature names, but\"\n"
     ]
    },
    {
     "name": "stdout",
     "output_type": "stream",
     "text": [
      "bicep_curls [1. 0. 0. 0. 0. 0.]\n",
      "bicep_curls [1. 0. 0. 0. 0. 0.]\n"
     ]
    },
    {
     "name": "stderr",
     "output_type": "stream",
     "text": [
      "C:\\Users\\nkele\\.conda\\envs\\tfgpu\\lib\\site-packages\\sklearn\\base.py:446: UserWarning: X does not have valid feature names, but StandardScaler was fitted with feature names\n",
      "  \"X does not have valid feature names, but\"\n",
      "C:\\Users\\nkele\\.conda\\envs\\tfgpu\\lib\\site-packages\\sklearn\\base.py:446: UserWarning: X does not have valid feature names, but StandardScaler was fitted with feature names\n",
      "  \"X does not have valid feature names, but\"\n",
      "C:\\Users\\nkele\\.conda\\envs\\tfgpu\\lib\\site-packages\\sklearn\\base.py:446: UserWarning: X does not have valid feature names, but StandardScaler was fitted with feature names\n",
      "  \"X does not have valid feature names, but\"\n"
     ]
    },
    {
     "name": "stdout",
     "output_type": "stream",
     "text": [
      "bicep_curls [1. 0. 0. 0. 0. 0.]\n",
      "bicep_curls [1. 0. 0. 0. 0. 0.]\n"
     ]
    },
    {
     "name": "stderr",
     "output_type": "stream",
     "text": [
      "C:\\Users\\nkele\\.conda\\envs\\tfgpu\\lib\\site-packages\\sklearn\\base.py:446: UserWarning: X does not have valid feature names, but StandardScaler was fitted with feature names\n",
      "  \"X does not have valid feature names, but\"\n",
      "C:\\Users\\nkele\\.conda\\envs\\tfgpu\\lib\\site-packages\\sklearn\\base.py:446: UserWarning: X does not have valid feature names, but StandardScaler was fitted with feature names\n",
      "  \"X does not have valid feature names, but\"\n",
      "C:\\Users\\nkele\\.conda\\envs\\tfgpu\\lib\\site-packages\\sklearn\\base.py:446: UserWarning: X does not have valid feature names, but StandardScaler was fitted with feature names\n",
      "  \"X does not have valid feature names, but\"\n",
      "C:\\Users\\nkele\\.conda\\envs\\tfgpu\\lib\\site-packages\\sklearn\\base.py:446: UserWarning: X does not have valid feature names, but StandardScaler was fitted with feature names\n",
      "  \"X does not have valid feature names, but\"\n"
     ]
    },
    {
     "name": "stdout",
     "output_type": "stream",
     "text": [
      "bicep_curls [1. 0. 0. 0. 0. 0.]\n",
      "bicep_curls [1. 0. 0. 0. 0. 0.]\n"
     ]
    },
    {
     "name": "stderr",
     "output_type": "stream",
     "text": [
      "C:\\Users\\nkele\\.conda\\envs\\tfgpu\\lib\\site-packages\\sklearn\\base.py:446: UserWarning: X does not have valid feature names, but StandardScaler was fitted with feature names\n",
      "  \"X does not have valid feature names, but\"\n",
      "C:\\Users\\nkele\\.conda\\envs\\tfgpu\\lib\\site-packages\\sklearn\\base.py:446: UserWarning: X does not have valid feature names, but StandardScaler was fitted with feature names\n",
      "  \"X does not have valid feature names, but\"\n",
      "C:\\Users\\nkele\\.conda\\envs\\tfgpu\\lib\\site-packages\\sklearn\\base.py:446: UserWarning: X does not have valid feature names, but StandardScaler was fitted with feature names\n",
      "  \"X does not have valid feature names, but\"\n",
      "C:\\Users\\nkele\\.conda\\envs\\tfgpu\\lib\\site-packages\\sklearn\\base.py:446: UserWarning: X does not have valid feature names, but StandardScaler was fitted with feature names\n",
      "  \"X does not have valid feature names, but\"\n",
      "C:\\Users\\nkele\\.conda\\envs\\tfgpu\\lib\\site-packages\\sklearn\\base.py:446: UserWarning: X does not have valid feature names, but StandardScaler was fitted with feature names\n",
      "  \"X does not have valid feature names, but\"\n"
     ]
    },
    {
     "name": "stdout",
     "output_type": "stream",
     "text": [
      "bicep_curls [1. 0. 0. 0. 0. 0.]\n",
      "bicep_curls [1. 0. 0. 0. 0. 0.]\n"
     ]
    },
    {
     "name": "stderr",
     "output_type": "stream",
     "text": [
      "C:\\Users\\nkele\\.conda\\envs\\tfgpu\\lib\\site-packages\\sklearn\\base.py:446: UserWarning: X does not have valid feature names, but StandardScaler was fitted with feature names\n",
      "  \"X does not have valid feature names, but\"\n",
      "C:\\Users\\nkele\\.conda\\envs\\tfgpu\\lib\\site-packages\\sklearn\\base.py:446: UserWarning: X does not have valid feature names, but StandardScaler was fitted with feature names\n",
      "  \"X does not have valid feature names, but\"\n",
      "C:\\Users\\nkele\\.conda\\envs\\tfgpu\\lib\\site-packages\\sklearn\\base.py:446: UserWarning: X does not have valid feature names, but StandardScaler was fitted with feature names\n",
      "  \"X does not have valid feature names, but\"\n"
     ]
    },
    {
     "name": "stdout",
     "output_type": "stream",
     "text": [
      "bicep_curls [1. 0. 0. 0. 0. 0.]\n",
      "bicep_curls [1. 0. 0. 0. 0. 0.]\n"
     ]
    },
    {
     "name": "stderr",
     "output_type": "stream",
     "text": [
      "C:\\Users\\nkele\\.conda\\envs\\tfgpu\\lib\\site-packages\\sklearn\\base.py:446: UserWarning: X does not have valid feature names, but StandardScaler was fitted with feature names\n",
      "  \"X does not have valid feature names, but\"\n",
      "C:\\Users\\nkele\\.conda\\envs\\tfgpu\\lib\\site-packages\\sklearn\\base.py:446: UserWarning: X does not have valid feature names, but StandardScaler was fitted with feature names\n",
      "  \"X does not have valid feature names, but\"\n",
      "C:\\Users\\nkele\\.conda\\envs\\tfgpu\\lib\\site-packages\\sklearn\\base.py:446: UserWarning: X does not have valid feature names, but StandardScaler was fitted with feature names\n",
      "  \"X does not have valid feature names, but\"\n",
      "C:\\Users\\nkele\\.conda\\envs\\tfgpu\\lib\\site-packages\\sklearn\\base.py:446: UserWarning: X does not have valid feature names, but StandardScaler was fitted with feature names\n",
      "  \"X does not have valid feature names, but\"\n"
     ]
    },
    {
     "name": "stdout",
     "output_type": "stream",
     "text": [
      "bicep_curls [1. 0. 0. 0. 0. 0.]\n",
      "bicep_curls [1. 0. 0. 0. 0. 0.]\n"
     ]
    },
    {
     "name": "stderr",
     "output_type": "stream",
     "text": [
      "C:\\Users\\nkele\\.conda\\envs\\tfgpu\\lib\\site-packages\\sklearn\\base.py:446: UserWarning: X does not have valid feature names, but StandardScaler was fitted with feature names\n",
      "  \"X does not have valid feature names, but\"\n",
      "C:\\Users\\nkele\\.conda\\envs\\tfgpu\\lib\\site-packages\\sklearn\\base.py:446: UserWarning: X does not have valid feature names, but StandardScaler was fitted with feature names\n",
      "  \"X does not have valid feature names, but\"\n",
      "C:\\Users\\nkele\\.conda\\envs\\tfgpu\\lib\\site-packages\\sklearn\\base.py:446: UserWarning: X does not have valid feature names, but StandardScaler was fitted with feature names\n",
      "  \"X does not have valid feature names, but\"\n",
      "C:\\Users\\nkele\\.conda\\envs\\tfgpu\\lib\\site-packages\\sklearn\\base.py:446: UserWarning: X does not have valid feature names, but StandardScaler was fitted with feature names\n",
      "  \"X does not have valid feature names, but\"\n"
     ]
    },
    {
     "name": "stdout",
     "output_type": "stream",
     "text": [
      "bicep_curls [1. 0. 0. 0. 0. 0.]\n",
      "bicep_curls [1. 0. 0. 0. 0. 0.]\n"
     ]
    },
    {
     "name": "stderr",
     "output_type": "stream",
     "text": [
      "C:\\Users\\nkele\\.conda\\envs\\tfgpu\\lib\\site-packages\\sklearn\\base.py:446: UserWarning: X does not have valid feature names, but StandardScaler was fitted with feature names\n",
      "  \"X does not have valid feature names, but\"\n",
      "C:\\Users\\nkele\\.conda\\envs\\tfgpu\\lib\\site-packages\\sklearn\\base.py:446: UserWarning: X does not have valid feature names, but StandardScaler was fitted with feature names\n",
      "  \"X does not have valid feature names, but\"\n",
      "C:\\Users\\nkele\\.conda\\envs\\tfgpu\\lib\\site-packages\\sklearn\\base.py:446: UserWarning: X does not have valid feature names, but StandardScaler was fitted with feature names\n",
      "  \"X does not have valid feature names, but\"\n",
      "C:\\Users\\nkele\\.conda\\envs\\tfgpu\\lib\\site-packages\\sklearn\\base.py:446: UserWarning: X does not have valid feature names, but StandardScaler was fitted with feature names\n",
      "  \"X does not have valid feature names, but\"\n"
     ]
    },
    {
     "name": "stdout",
     "output_type": "stream",
     "text": [
      "bicep_curls [1. 0. 0. 0. 0. 0.]\n",
      "bicep_curls [1. 0. 0. 0. 0. 0.]\n"
     ]
    },
    {
     "name": "stderr",
     "output_type": "stream",
     "text": [
      "C:\\Users\\nkele\\.conda\\envs\\tfgpu\\lib\\site-packages\\sklearn\\base.py:446: UserWarning: X does not have valid feature names, but StandardScaler was fitted with feature names\n",
      "  \"X does not have valid feature names, but\"\n",
      "C:\\Users\\nkele\\.conda\\envs\\tfgpu\\lib\\site-packages\\sklearn\\base.py:446: UserWarning: X does not have valid feature names, but StandardScaler was fitted with feature names\n",
      "  \"X does not have valid feature names, but\"\n",
      "C:\\Users\\nkele\\.conda\\envs\\tfgpu\\lib\\site-packages\\sklearn\\base.py:446: UserWarning: X does not have valid feature names, but StandardScaler was fitted with feature names\n",
      "  \"X does not have valid feature names, but\"\n",
      "C:\\Users\\nkele\\.conda\\envs\\tfgpu\\lib\\site-packages\\sklearn\\base.py:446: UserWarning: X does not have valid feature names, but StandardScaler was fitted with feature names\n",
      "  \"X does not have valid feature names, but\"\n"
     ]
    },
    {
     "name": "stdout",
     "output_type": "stream",
     "text": [
      "bicep_curls [1. 0. 0. 0. 0. 0.]\n",
      "bicep_curls [1. 0. 0. 0. 0. 0.]\n"
     ]
    },
    {
     "name": "stderr",
     "output_type": "stream",
     "text": [
      "C:\\Users\\nkele\\.conda\\envs\\tfgpu\\lib\\site-packages\\sklearn\\base.py:446: UserWarning: X does not have valid feature names, but StandardScaler was fitted with feature names\n",
      "  \"X does not have valid feature names, but\"\n",
      "C:\\Users\\nkele\\.conda\\envs\\tfgpu\\lib\\site-packages\\sklearn\\base.py:446: UserWarning: X does not have valid feature names, but StandardScaler was fitted with feature names\n",
      "  \"X does not have valid feature names, but\"\n",
      "C:\\Users\\nkele\\.conda\\envs\\tfgpu\\lib\\site-packages\\sklearn\\base.py:446: UserWarning: X does not have valid feature names, but StandardScaler was fitted with feature names\n",
      "  \"X does not have valid feature names, but\"\n",
      "C:\\Users\\nkele\\.conda\\envs\\tfgpu\\lib\\site-packages\\sklearn\\base.py:446: UserWarning: X does not have valid feature names, but StandardScaler was fitted with feature names\n",
      "  \"X does not have valid feature names, but\"\n",
      "C:\\Users\\nkele\\.conda\\envs\\tfgpu\\lib\\site-packages\\sklearn\\base.py:446: UserWarning: X does not have valid feature names, but StandardScaler was fitted with feature names\n",
      "  \"X does not have valid feature names, but\"\n"
     ]
    },
    {
     "name": "stdout",
     "output_type": "stream",
     "text": [
      "bicep_curls [1. 0. 0. 0. 0. 0.]\n",
      "bicep_curls [1. 0. 0. 0. 0. 0.]\n",
      "bicep_curls [1. 0. 0. 0. 0. 0.]\n"
     ]
    },
    {
     "name": "stderr",
     "output_type": "stream",
     "text": [
      "C:\\Users\\nkele\\.conda\\envs\\tfgpu\\lib\\site-packages\\sklearn\\base.py:446: UserWarning: X does not have valid feature names, but StandardScaler was fitted with feature names\n",
      "  \"X does not have valid feature names, but\"\n",
      "C:\\Users\\nkele\\.conda\\envs\\tfgpu\\lib\\site-packages\\sklearn\\base.py:446: UserWarning: X does not have valid feature names, but StandardScaler was fitted with feature names\n",
      "  \"X does not have valid feature names, but\"\n",
      "C:\\Users\\nkele\\.conda\\envs\\tfgpu\\lib\\site-packages\\sklearn\\base.py:446: UserWarning: X does not have valid feature names, but StandardScaler was fitted with feature names\n",
      "  \"X does not have valid feature names, but\"\n",
      "C:\\Users\\nkele\\.conda\\envs\\tfgpu\\lib\\site-packages\\sklearn\\base.py:446: UserWarning: X does not have valid feature names, but StandardScaler was fitted with feature names\n",
      "  \"X does not have valid feature names, but\"\n",
      "C:\\Users\\nkele\\.conda\\envs\\tfgpu\\lib\\site-packages\\sklearn\\base.py:446: UserWarning: X does not have valid feature names, but StandardScaler was fitted with feature names\n",
      "  \"X does not have valid feature names, but\"\n",
      "C:\\Users\\nkele\\.conda\\envs\\tfgpu\\lib\\site-packages\\sklearn\\base.py:446: UserWarning: X does not have valid feature names, but StandardScaler was fitted with feature names\n",
      "  \"X does not have valid feature names, but\"\n",
      "C:\\Users\\nkele\\.conda\\envs\\tfgpu\\lib\\site-packages\\sklearn\\base.py:446: UserWarning: X does not have valid feature names, but StandardScaler was fitted with feature names\n",
      "  \"X does not have valid feature names, but\"\n"
     ]
    },
    {
     "name": "stdout",
     "output_type": "stream",
     "text": [
      "bicep_curls [1. 0. 0. 0. 0. 0.]\n",
      "bicep_curls [1. 0. 0. 0. 0. 0.]\n"
     ]
    },
    {
     "name": "stderr",
     "output_type": "stream",
     "text": [
      "C:\\Users\\nkele\\.conda\\envs\\tfgpu\\lib\\site-packages\\sklearn\\base.py:446: UserWarning: X does not have valid feature names, but StandardScaler was fitted with feature names\n",
      "  \"X does not have valid feature names, but\"\n",
      "C:\\Users\\nkele\\.conda\\envs\\tfgpu\\lib\\site-packages\\sklearn\\base.py:446: UserWarning: X does not have valid feature names, but StandardScaler was fitted with feature names\n",
      "  \"X does not have valid feature names, but\"\n",
      "C:\\Users\\nkele\\.conda\\envs\\tfgpu\\lib\\site-packages\\sklearn\\base.py:446: UserWarning: X does not have valid feature names, but StandardScaler was fitted with feature names\n",
      "  \"X does not have valid feature names, but\"\n",
      "C:\\Users\\nkele\\.conda\\envs\\tfgpu\\lib\\site-packages\\sklearn\\base.py:446: UserWarning: X does not have valid feature names, but StandardScaler was fitted with feature names\n",
      "  \"X does not have valid feature names, but\"\n",
      "C:\\Users\\nkele\\.conda\\envs\\tfgpu\\lib\\site-packages\\sklearn\\base.py:446: UserWarning: X does not have valid feature names, but StandardScaler was fitted with feature names\n",
      "  \"X does not have valid feature names, but\"\n"
     ]
    },
    {
     "name": "stdout",
     "output_type": "stream",
     "text": [
      "bicep_curls [1. 0. 0. 0. 0. 0.]\n",
      "bicep_curls [1. 0. 0. 0. 0. 0.]\n"
     ]
    },
    {
     "name": "stderr",
     "output_type": "stream",
     "text": [
      "C:\\Users\\nkele\\.conda\\envs\\tfgpu\\lib\\site-packages\\sklearn\\base.py:446: UserWarning: X does not have valid feature names, but StandardScaler was fitted with feature names\n",
      "  \"X does not have valid feature names, but\"\n",
      "C:\\Users\\nkele\\.conda\\envs\\tfgpu\\lib\\site-packages\\sklearn\\base.py:446: UserWarning: X does not have valid feature names, but StandardScaler was fitted with feature names\n",
      "  \"X does not have valid feature names, but\"\n",
      "C:\\Users\\nkele\\.conda\\envs\\tfgpu\\lib\\site-packages\\sklearn\\base.py:446: UserWarning: X does not have valid feature names, but StandardScaler was fitted with feature names\n",
      "  \"X does not have valid feature names, but\"\n",
      "C:\\Users\\nkele\\.conda\\envs\\tfgpu\\lib\\site-packages\\sklearn\\base.py:446: UserWarning: X does not have valid feature names, but StandardScaler was fitted with feature names\n",
      "  \"X does not have valid feature names, but\"\n"
     ]
    },
    {
     "name": "stdout",
     "output_type": "stream",
     "text": [
      "bicep_curls [1. 0. 0. 0. 0. 0.]\n",
      "bicep_curls [1. 0. 0. 0. 0. 0.]\n"
     ]
    },
    {
     "name": "stderr",
     "output_type": "stream",
     "text": [
      "C:\\Users\\nkele\\.conda\\envs\\tfgpu\\lib\\site-packages\\sklearn\\base.py:446: UserWarning: X does not have valid feature names, but StandardScaler was fitted with feature names\n",
      "  \"X does not have valid feature names, but\"\n",
      "C:\\Users\\nkele\\.conda\\envs\\tfgpu\\lib\\site-packages\\sklearn\\base.py:446: UserWarning: X does not have valid feature names, but StandardScaler was fitted with feature names\n",
      "  \"X does not have valid feature names, but\"\n",
      "C:\\Users\\nkele\\.conda\\envs\\tfgpu\\lib\\site-packages\\sklearn\\base.py:446: UserWarning: X does not have valid feature names, but StandardScaler was fitted with feature names\n",
      "  \"X does not have valid feature names, but\"\n",
      "C:\\Users\\nkele\\.conda\\envs\\tfgpu\\lib\\site-packages\\sklearn\\base.py:446: UserWarning: X does not have valid feature names, but StandardScaler was fitted with feature names\n",
      "  \"X does not have valid feature names, but\"\n"
     ]
    },
    {
     "name": "stdout",
     "output_type": "stream",
     "text": [
      "bicep_curls [1. 0. 0. 0. 0. 0.]\n",
      "bicep_curls [1. 0. 0. 0. 0. 0.]\n"
     ]
    },
    {
     "name": "stderr",
     "output_type": "stream",
     "text": [
      "C:\\Users\\nkele\\.conda\\envs\\tfgpu\\lib\\site-packages\\sklearn\\base.py:446: UserWarning: X does not have valid feature names, but StandardScaler was fitted with feature names\n",
      "  \"X does not have valid feature names, but\"\n",
      "C:\\Users\\nkele\\.conda\\envs\\tfgpu\\lib\\site-packages\\sklearn\\base.py:446: UserWarning: X does not have valid feature names, but StandardScaler was fitted with feature names\n",
      "  \"X does not have valid feature names, but\"\n",
      "C:\\Users\\nkele\\.conda\\envs\\tfgpu\\lib\\site-packages\\sklearn\\base.py:446: UserWarning: X does not have valid feature names, but StandardScaler was fitted with feature names\n",
      "  \"X does not have valid feature names, but\"\n"
     ]
    },
    {
     "name": "stdout",
     "output_type": "stream",
     "text": [
      "bicep_curls [1. 0. 0. 0. 0. 0.]\n",
      "bicep_curls [1. 0. 0. 0. 0. 0.]\n",
      "bicep_curls"
     ]
    },
    {
     "name": "stderr",
     "output_type": "stream",
     "text": [
      "C:\\Users\\nkele\\.conda\\envs\\tfgpu\\lib\\site-packages\\sklearn\\base.py:446: UserWarning: X does not have valid feature names, but StandardScaler was fitted with feature names\n",
      "  \"X does not have valid feature names, but\"\n",
      "C:\\Users\\nkele\\.conda\\envs\\tfgpu\\lib\\site-packages\\sklearn\\base.py:446: UserWarning: X does not have valid feature names, but StandardScaler was fitted with feature names\n",
      "  \"X does not have valid feature names, but\"\n",
      "C:\\Users\\nkele\\.conda\\envs\\tfgpu\\lib\\site-packages\\sklearn\\base.py:446: UserWarning: X does not have valid feature names, but StandardScaler was fitted with feature names\n",
      "  \"X does not have valid feature names, but\"\n",
      "C:\\Users\\nkele\\.conda\\envs\\tfgpu\\lib\\site-packages\\sklearn\\base.py:446: UserWarning: X does not have valid feature names, but StandardScaler was fitted with feature names\n",
      "  \"X does not have valid feature names, but\"\n"
     ]
    },
    {
     "name": "stdout",
     "output_type": "stream",
     "text": [
      " [1. 0. 0. 0. 0. 0.]\n",
      "bicep_curls [1. 0. 0. 0. 0. 0.]\n",
      "bicep_curls [1. 0. 0. 0. 0. 0.]\n"
     ]
    },
    {
     "name": "stderr",
     "output_type": "stream",
     "text": [
      "C:\\Users\\nkele\\.conda\\envs\\tfgpu\\lib\\site-packages\\sklearn\\base.py:446: UserWarning: X does not have valid feature names, but StandardScaler was fitted with feature names\n",
      "  \"X does not have valid feature names, but\"\n",
      "C:\\Users\\nkele\\.conda\\envs\\tfgpu\\lib\\site-packages\\sklearn\\base.py:446: UserWarning: X does not have valid feature names, but StandardScaler was fitted with feature names\n",
      "  \"X does not have valid feature names, but\"\n",
      "C:\\Users\\nkele\\.conda\\envs\\tfgpu\\lib\\site-packages\\sklearn\\base.py:446: UserWarning: X does not have valid feature names, but StandardScaler was fitted with feature names\n",
      "  \"X does not have valid feature names, but\"\n",
      "C:\\Users\\nkele\\.conda\\envs\\tfgpu\\lib\\site-packages\\sklearn\\base.py:446: UserWarning: X does not have valid feature names, but StandardScaler was fitted with feature names\n",
      "  \"X does not have valid feature names, but\"\n",
      "C:\\Users\\nkele\\.conda\\envs\\tfgpu\\lib\\site-packages\\sklearn\\base.py:446: UserWarning: X does not have valid feature names, but StandardScaler was fitted with feature names\n",
      "  \"X does not have valid feature names, but\"\n"
     ]
    },
    {
     "name": "stdout",
     "output_type": "stream",
     "text": [
      "bicep_curls [1. 0. 0. 0. 0. 0.]\n",
      "bicep_curls [1. 0. 0. 0. 0. 0.]\n"
     ]
    },
    {
     "name": "stderr",
     "output_type": "stream",
     "text": [
      "C:\\Users\\nkele\\.conda\\envs\\tfgpu\\lib\\site-packages\\sklearn\\base.py:446: UserWarning: X does not have valid feature names, but StandardScaler was fitted with feature names\n",
      "  \"X does not have valid feature names, but\"\n",
      "C:\\Users\\nkele\\.conda\\envs\\tfgpu\\lib\\site-packages\\sklearn\\base.py:446: UserWarning: X does not have valid feature names, but StandardScaler was fitted with feature names\n",
      "  \"X does not have valid feature names, but\"\n",
      "C:\\Users\\nkele\\.conda\\envs\\tfgpu\\lib\\site-packages\\sklearn\\base.py:446: UserWarning: X does not have valid feature names, but StandardScaler was fitted with feature names\n",
      "  \"X does not have valid feature names, but\"\n",
      "C:\\Users\\nkele\\.conda\\envs\\tfgpu\\lib\\site-packages\\sklearn\\base.py:446: UserWarning: X does not have valid feature names, but StandardScaler was fitted with feature names\n",
      "  \"X does not have valid feature names, but\"\n",
      "C:\\Users\\nkele\\.conda\\envs\\tfgpu\\lib\\site-packages\\sklearn\\base.py:446: UserWarning: X does not have valid feature names, but StandardScaler was fitted with feature names\n",
      "  \"X does not have valid feature names, but\"\n",
      "C:\\Users\\nkele\\.conda\\envs\\tfgpu\\lib\\site-packages\\sklearn\\base.py:446: UserWarning: X does not have valid feature names, but StandardScaler was fitted with feature names\n",
      "  \"X does not have valid feature names, but\"\n"
     ]
    },
    {
     "name": "stdout",
     "output_type": "stream",
     "text": [
      "bicep_curls [1. 0. 0. 0. 0. 0.]\n",
      "bicep_curls [1. 0. 0. 0. 0. 0.]\n"
     ]
    },
    {
     "name": "stderr",
     "output_type": "stream",
     "text": [
      "C:\\Users\\nkele\\.conda\\envs\\tfgpu\\lib\\site-packages\\sklearn\\base.py:446: UserWarning: X does not have valid feature names, but StandardScaler was fitted with feature names\n",
      "  \"X does not have valid feature names, but\"\n",
      "C:\\Users\\nkele\\.conda\\envs\\tfgpu\\lib\\site-packages\\sklearn\\base.py:446: UserWarning: X does not have valid feature names, but StandardScaler was fitted with feature names\n",
      "  \"X does not have valid feature names, but\"\n",
      "C:\\Users\\nkele\\.conda\\envs\\tfgpu\\lib\\site-packages\\sklearn\\base.py:446: UserWarning: X does not have valid feature names, but StandardScaler was fitted with feature names\n",
      "  \"X does not have valid feature names, but\"\n"
     ]
    },
    {
     "name": "stdout",
     "output_type": "stream",
     "text": [
      "bicep_curls [1. 0. 0. 0. 0. 0.]\n",
      "bicep_curls [1. 0. 0. 0. 0. 0.]\n"
     ]
    },
    {
     "name": "stderr",
     "output_type": "stream",
     "text": [
      "C:\\Users\\nkele\\.conda\\envs\\tfgpu\\lib\\site-packages\\sklearn\\base.py:446: UserWarning: X does not have valid feature names, but StandardScaler was fitted with feature names\n",
      "  \"X does not have valid feature names, but\"\n",
      "C:\\Users\\nkele\\.conda\\envs\\tfgpu\\lib\\site-packages\\sklearn\\base.py:446: UserWarning: X does not have valid feature names, but StandardScaler was fitted with feature names\n",
      "  \"X does not have valid feature names, but\"\n",
      "C:\\Users\\nkele\\.conda\\envs\\tfgpu\\lib\\site-packages\\sklearn\\base.py:446: UserWarning: X does not have valid feature names, but StandardScaler was fitted with feature names\n",
      "  \"X does not have valid feature names, but\"\n",
      "C:\\Users\\nkele\\.conda\\envs\\tfgpu\\lib\\site-packages\\sklearn\\base.py:446: UserWarning: X does not have valid feature names, but StandardScaler was fitted with feature names\n",
      "  \"X does not have valid feature names, but\"\n"
     ]
    },
    {
     "name": "stdout",
     "output_type": "stream",
     "text": [
      "bicep_curls [1. 0. 0. 0. 0. 0.]\n",
      "bicep_curls [1. 0. 0. 0. 0. 0.]\n"
     ]
    },
    {
     "name": "stderr",
     "output_type": "stream",
     "text": [
      "C:\\Users\\nkele\\.conda\\envs\\tfgpu\\lib\\site-packages\\sklearn\\base.py:446: UserWarning: X does not have valid feature names, but StandardScaler was fitted with feature names\n",
      "  \"X does not have valid feature names, but\"\n",
      "C:\\Users\\nkele\\.conda\\envs\\tfgpu\\lib\\site-packages\\sklearn\\base.py:446: UserWarning: X does not have valid feature names, but StandardScaler was fitted with feature names\n",
      "  \"X does not have valid feature names, but\"\n",
      "C:\\Users\\nkele\\.conda\\envs\\tfgpu\\lib\\site-packages\\sklearn\\base.py:446: UserWarning: X does not have valid feature names, but StandardScaler was fitted with feature names\n",
      "  \"X does not have valid feature names, but\"\n",
      "C:\\Users\\nkele\\.conda\\envs\\tfgpu\\lib\\site-packages\\sklearn\\base.py:446: UserWarning: X does not have valid feature names, but StandardScaler was fitted with feature names\n",
      "  \"X does not have valid feature names, but\"\n"
     ]
    },
    {
     "name": "stdout",
     "output_type": "stream",
     "text": [
      "bicep_curls [0.99 0.   0.   0.   0.01 0.  ]\n",
      "bicep_curls [1. 0. 0. 0. 0. 0.]\n"
     ]
    },
    {
     "name": "stderr",
     "output_type": "stream",
     "text": [
      "C:\\Users\\nkele\\.conda\\envs\\tfgpu\\lib\\site-packages\\sklearn\\base.py:446: UserWarning: X does not have valid feature names, but StandardScaler was fitted with feature names\n",
      "  \"X does not have valid feature names, but\"\n",
      "C:\\Users\\nkele\\.conda\\envs\\tfgpu\\lib\\site-packages\\sklearn\\base.py:446: UserWarning: X does not have valid feature names, but StandardScaler was fitted with feature names\n",
      "  \"X does not have valid feature names, but\"\n",
      "C:\\Users\\nkele\\.conda\\envs\\tfgpu\\lib\\site-packages\\sklearn\\base.py:446: UserWarning: X does not have valid feature names, but StandardScaler was fitted with feature names\n",
      "  \"X does not have valid feature names, but\"\n",
      "C:\\Users\\nkele\\.conda\\envs\\tfgpu\\lib\\site-packages\\sklearn\\base.py:446: UserWarning: X does not have valid feature names, but StandardScaler was fitted with feature names\n",
      "  \"X does not have valid feature names, but\"\n"
     ]
    },
    {
     "name": "stdout",
     "output_type": "stream",
     "text": [
      "bicep_curls [1. 0. 0. 0. 0. 0.]\n",
      "bicep_curls [1. 0. 0. 0. 0. 0.]\n"
     ]
    },
    {
     "name": "stderr",
     "output_type": "stream",
     "text": [
      "C:\\Users\\nkele\\.conda\\envs\\tfgpu\\lib\\site-packages\\sklearn\\base.py:446: UserWarning: X does not have valid feature names, but StandardScaler was fitted with feature names\n",
      "  \"X does not have valid feature names, but\"\n",
      "C:\\Users\\nkele\\.conda\\envs\\tfgpu\\lib\\site-packages\\sklearn\\base.py:446: UserWarning: X does not have valid feature names, but StandardScaler was fitted with feature names\n",
      "  \"X does not have valid feature names, but\"\n",
      "C:\\Users\\nkele\\.conda\\envs\\tfgpu\\lib\\site-packages\\sklearn\\base.py:446: UserWarning: X does not have valid feature names, but StandardScaler was fitted with feature names\n",
      "  \"X does not have valid feature names, but\"\n"
     ]
    },
    {
     "name": "stdout",
     "output_type": "stream",
     "text": [
      "bicep_curls [0.99 0.   0.   0.   0.01 0.  ]\n",
      "bicep_curls [0.99 0.   0.   0.   0.01 0.  ]\n"
     ]
    },
    {
     "name": "stderr",
     "output_type": "stream",
     "text": [
      "C:\\Users\\nkele\\.conda\\envs\\tfgpu\\lib\\site-packages\\sklearn\\base.py:446: UserWarning: X does not have valid feature names, but StandardScaler was fitted with feature names\n",
      "  \"X does not have valid feature names, but\"\n",
      "C:\\Users\\nkele\\.conda\\envs\\tfgpu\\lib\\site-packages\\sklearn\\base.py:446: UserWarning: X does not have valid feature names, but StandardScaler was fitted with feature names\n",
      "  \"X does not have valid feature names, but\"\n",
      "C:\\Users\\nkele\\.conda\\envs\\tfgpu\\lib\\site-packages\\sklearn\\base.py:446: UserWarning: X does not have valid feature names, but StandardScaler was fitted with feature names\n",
      "  \"X does not have valid feature names, but\"\n",
      "C:\\Users\\nkele\\.conda\\envs\\tfgpu\\lib\\site-packages\\sklearn\\base.py:446: UserWarning: X does not have valid feature names, but StandardScaler was fitted with feature names\n",
      "  \"X does not have valid feature names, but\"\n",
      "C:\\Users\\nkele\\.conda\\envs\\tfgpu\\lib\\site-packages\\sklearn\\base.py:446: UserWarning: X does not have valid feature names, but StandardScaler was fitted with feature names\n",
      "  \"X does not have valid feature names, but\"\n",
      "C:\\Users\\nkele\\.conda\\envs\\tfgpu\\lib\\site-packages\\sklearn\\base.py:446: UserWarning: X does not have valid feature names, but StandardScaler was fitted with feature names\n",
      "  \"X does not have valid feature names, but\"\n"
     ]
    },
    {
     "name": "stdout",
     "output_type": "stream",
     "text": [
      "bicep_curls [1. 0. 0. 0. 0. 0.]\n",
      "bicep_curls [1. 0. 0. 0. 0. 0.]\n"
     ]
    },
    {
     "name": "stderr",
     "output_type": "stream",
     "text": [
      "C:\\Users\\nkele\\.conda\\envs\\tfgpu\\lib\\site-packages\\sklearn\\base.py:446: UserWarning: X does not have valid feature names, but StandardScaler was fitted with feature names\n",
      "  \"X does not have valid feature names, but\"\n",
      "C:\\Users\\nkele\\.conda\\envs\\tfgpu\\lib\\site-packages\\sklearn\\base.py:446: UserWarning: X does not have valid feature names, but StandardScaler was fitted with feature names\n",
      "  \"X does not have valid feature names, but\"\n",
      "C:\\Users\\nkele\\.conda\\envs\\tfgpu\\lib\\site-packages\\sklearn\\base.py:446: UserWarning: X does not have valid feature names, but StandardScaler was fitted with feature names\n",
      "  \"X does not have valid feature names, but\"\n"
     ]
    },
    {
     "name": "stdout",
     "output_type": "stream",
     "text": [
      "bicep_curls [1. 0. 0. 0. 0. 0.]\n",
      "bicep_curls [1. 0. 0. 0. 0. 0.]\n"
     ]
    },
    {
     "name": "stderr",
     "output_type": "stream",
     "text": [
      "C:\\Users\\nkele\\.conda\\envs\\tfgpu\\lib\\site-packages\\sklearn\\base.py:446: UserWarning: X does not have valid feature names, but StandardScaler was fitted with feature names\n",
      "  \"X does not have valid feature names, but\"\n",
      "C:\\Users\\nkele\\.conda\\envs\\tfgpu\\lib\\site-packages\\sklearn\\base.py:446: UserWarning: X does not have valid feature names, but StandardScaler was fitted with feature names\n",
      "  \"X does not have valid feature names, but\"\n",
      "C:\\Users\\nkele\\.conda\\envs\\tfgpu\\lib\\site-packages\\sklearn\\base.py:446: UserWarning: X does not have valid feature names, but StandardScaler was fitted with feature names\n",
      "  \"X does not have valid feature names, but\"\n",
      "C:\\Users\\nkele\\.conda\\envs\\tfgpu\\lib\\site-packages\\sklearn\\base.py:446: UserWarning: X does not have valid feature names, but StandardScaler was fitted with feature names\n",
      "  \"X does not have valid feature names, but\"\n",
      "C:\\Users\\nkele\\.conda\\envs\\tfgpu\\lib\\site-packages\\sklearn\\base.py:446: UserWarning: X does not have valid feature names, but StandardScaler was fitted with feature names\n",
      "  \"X does not have valid feature names, but\"\n"
     ]
    },
    {
     "name": "stdout",
     "output_type": "stream",
     "text": [
      "bicep_curls [1. 0. 0. 0. 0. 0.]\n",
      "bicep_curls [1. 0. 0. 0. 0. 0.]\n"
     ]
    },
    {
     "name": "stderr",
     "output_type": "stream",
     "text": [
      "C:\\Users\\nkele\\.conda\\envs\\tfgpu\\lib\\site-packages\\sklearn\\base.py:446: UserWarning: X does not have valid feature names, but StandardScaler was fitted with feature names\n",
      "  \"X does not have valid feature names, but\"\n",
      "C:\\Users\\nkele\\.conda\\envs\\tfgpu\\lib\\site-packages\\sklearn\\base.py:446: UserWarning: X does not have valid feature names, but StandardScaler was fitted with feature names\n",
      "  \"X does not have valid feature names, but\"\n",
      "C:\\Users\\nkele\\.conda\\envs\\tfgpu\\lib\\site-packages\\sklearn\\base.py:446: UserWarning: X does not have valid feature names, but StandardScaler was fitted with feature names\n",
      "  \"X does not have valid feature names, but\"\n",
      "C:\\Users\\nkele\\.conda\\envs\\tfgpu\\lib\\site-packages\\sklearn\\base.py:446: UserWarning: X does not have valid feature names, but StandardScaler was fitted with feature names\n",
      "  \"X does not have valid feature names, but\"\n"
     ]
    },
    {
     "name": "stdout",
     "output_type": "stream",
     "text": [
      "bicep_curls [1. 0. 0. 0. 0. 0.]\n",
      "bicep_curls [1. 0. 0. 0. 0. 0.]\n"
     ]
    },
    {
     "name": "stderr",
     "output_type": "stream",
     "text": [
      "C:\\Users\\nkele\\.conda\\envs\\tfgpu\\lib\\site-packages\\sklearn\\base.py:446: UserWarning: X does not have valid feature names, but StandardScaler was fitted with feature names\n",
      "  \"X does not have valid feature names, but\"\n",
      "C:\\Users\\nkele\\.conda\\envs\\tfgpu\\lib\\site-packages\\sklearn\\base.py:446: UserWarning: X does not have valid feature names, but StandardScaler was fitted with feature names\n",
      "  \"X does not have valid feature names, but\"\n",
      "C:\\Users\\nkele\\.conda\\envs\\tfgpu\\lib\\site-packages\\sklearn\\base.py:446: UserWarning: X does not have valid feature names, but StandardScaler was fitted with feature names\n",
      "  \"X does not have valid feature names, but\"\n",
      "C:\\Users\\nkele\\.conda\\envs\\tfgpu\\lib\\site-packages\\sklearn\\base.py:446: UserWarning: X does not have valid feature names, but StandardScaler was fitted with feature names\n",
      "  \"X does not have valid feature names, but\"\n"
     ]
    },
    {
     "name": "stdout",
     "output_type": "stream",
     "text": [
      "bicep_curls [1. 0. 0. 0. 0. 0.]\n",
      "bicep_curls [1. 0. 0. 0. 0. 0.]\n"
     ]
    },
    {
     "name": "stderr",
     "output_type": "stream",
     "text": [
      "C:\\Users\\nkele\\.conda\\envs\\tfgpu\\lib\\site-packages\\sklearn\\base.py:446: UserWarning: X does not have valid feature names, but StandardScaler was fitted with feature names\n",
      "  \"X does not have valid feature names, but\"\n",
      "C:\\Users\\nkele\\.conda\\envs\\tfgpu\\lib\\site-packages\\sklearn\\base.py:446: UserWarning: X does not have valid feature names, but StandardScaler was fitted with feature names\n",
      "  \"X does not have valid feature names, but\"\n",
      "C:\\Users\\nkele\\.conda\\envs\\tfgpu\\lib\\site-packages\\sklearn\\base.py:446: UserWarning: X does not have valid feature names, but StandardScaler was fitted with feature names\n",
      "  \"X does not have valid feature names, but\"\n",
      "C:\\Users\\nkele\\.conda\\envs\\tfgpu\\lib\\site-packages\\sklearn\\base.py:446: UserWarning: X does not have valid feature names, but StandardScaler was fitted with feature names\n",
      "  \"X does not have valid feature names, but\"\n"
     ]
    },
    {
     "name": "stdout",
     "output_type": "stream",
     "text": [
      "bicep_curls [1. 0. 0. 0. 0. 0.]\n",
      "bicep_curls [1. 0. 0. 0. 0. 0.]\n"
     ]
    },
    {
     "name": "stderr",
     "output_type": "stream",
     "text": [
      "C:\\Users\\nkele\\.conda\\envs\\tfgpu\\lib\\site-packages\\sklearn\\base.py:446: UserWarning: X does not have valid feature names, but StandardScaler was fitted with feature names\n",
      "  \"X does not have valid feature names, but\"\n",
      "C:\\Users\\nkele\\.conda\\envs\\tfgpu\\lib\\site-packages\\sklearn\\base.py:446: UserWarning: X does not have valid feature names, but StandardScaler was fitted with feature names\n",
      "  \"X does not have valid feature names, but\"\n",
      "C:\\Users\\nkele\\.conda\\envs\\tfgpu\\lib\\site-packages\\sklearn\\base.py:446: UserWarning: X does not have valid feature names, but StandardScaler was fitted with feature names\n",
      "  \"X does not have valid feature names, but\"\n"
     ]
    },
    {
     "name": "stdout",
     "output_type": "stream",
     "text": [
      "bicep_curls [1. 0. 0. 0. 0. 0.]\n",
      "bicep_curls [1. 0. 0. 0. 0. 0.]\n"
     ]
    },
    {
     "name": "stderr",
     "output_type": "stream",
     "text": [
      "C:\\Users\\nkele\\.conda\\envs\\tfgpu\\lib\\site-packages\\sklearn\\base.py:446: UserWarning: X does not have valid feature names, but StandardScaler was fitted with feature names\n",
      "  \"X does not have valid feature names, but\"\n",
      "C:\\Users\\nkele\\.conda\\envs\\tfgpu\\lib\\site-packages\\sklearn\\base.py:446: UserWarning: X does not have valid feature names, but StandardScaler was fitted with feature names\n",
      "  \"X does not have valid feature names, but\"\n",
      "C:\\Users\\nkele\\.conda\\envs\\tfgpu\\lib\\site-packages\\sklearn\\base.py:446: UserWarning: X does not have valid feature names, but StandardScaler was fitted with feature names\n",
      "  \"X does not have valid feature names, but\"\n",
      "C:\\Users\\nkele\\.conda\\envs\\tfgpu\\lib\\site-packages\\sklearn\\base.py:446: UserWarning: X does not have valid feature names, but StandardScaler was fitted with feature names\n",
      "  \"X does not have valid feature names, but\"\n"
     ]
    },
    {
     "name": "stdout",
     "output_type": "stream",
     "text": [
      "bicep_curls [1. 0. 0. 0. 0. 0.]\n",
      "bicep_curls [1. 0. 0. 0. 0. 0.]\n"
     ]
    },
    {
     "name": "stderr",
     "output_type": "stream",
     "text": [
      "C:\\Users\\nkele\\.conda\\envs\\tfgpu\\lib\\site-packages\\sklearn\\base.py:446: UserWarning: X does not have valid feature names, but StandardScaler was fitted with feature names\n",
      "  \"X does not have valid feature names, but\"\n",
      "C:\\Users\\nkele\\.conda\\envs\\tfgpu\\lib\\site-packages\\sklearn\\base.py:446: UserWarning: X does not have valid feature names, but StandardScaler was fitted with feature names\n",
      "  \"X does not have valid feature names, but\"\n",
      "C:\\Users\\nkele\\.conda\\envs\\tfgpu\\lib\\site-packages\\sklearn\\base.py:446: UserWarning: X does not have valid feature names, but StandardScaler was fitted with feature names\n",
      "  \"X does not have valid feature names, but\"\n",
      "C:\\Users\\nkele\\.conda\\envs\\tfgpu\\lib\\site-packages\\sklearn\\base.py:446: UserWarning: X does not have valid feature names, but StandardScaler was fitted with feature names\n",
      "  \"X does not have valid feature names, but\"\n",
      "C:\\Users\\nkele\\.conda\\envs\\tfgpu\\lib\\site-packages\\sklearn\\base.py:446: UserWarning: X does not have valid feature names, but StandardScaler was fitted with feature names\n",
      "  \"X does not have valid feature names, but\"\n"
     ]
    },
    {
     "name": "stdout",
     "output_type": "stream",
     "text": [
      "bicep_curls [1. 0. 0. 0. 0. 0.]\n",
      "bicep_curls [1. 0. 0. 0. 0. 0.]\n"
     ]
    },
    {
     "name": "stderr",
     "output_type": "stream",
     "text": [
      "C:\\Users\\nkele\\.conda\\envs\\tfgpu\\lib\\site-packages\\sklearn\\base.py:446: UserWarning: X does not have valid feature names, but StandardScaler was fitted with feature names\n",
      "  \"X does not have valid feature names, but\"\n",
      "C:\\Users\\nkele\\.conda\\envs\\tfgpu\\lib\\site-packages\\sklearn\\base.py:446: UserWarning: X does not have valid feature names, but StandardScaler was fitted with feature names\n",
      "  \"X does not have valid feature names, but\"\n",
      "C:\\Users\\nkele\\.conda\\envs\\tfgpu\\lib\\site-packages\\sklearn\\base.py:446: UserWarning: X does not have valid feature names, but StandardScaler was fitted with feature names\n",
      "  \"X does not have valid feature names, but\"\n"
     ]
    },
    {
     "name": "stdout",
     "output_type": "stream",
     "text": [
      "bicep_curls [1. 0. 0. 0. 0. 0.]\n",
      "bicep_curls [1. 0. 0. 0. 0. 0.]\n"
     ]
    },
    {
     "name": "stderr",
     "output_type": "stream",
     "text": [
      "C:\\Users\\nkele\\.conda\\envs\\tfgpu\\lib\\site-packages\\sklearn\\base.py:446: UserWarning: X does not have valid feature names, but StandardScaler was fitted with feature names\n",
      "  \"X does not have valid feature names, but\"\n",
      "C:\\Users\\nkele\\.conda\\envs\\tfgpu\\lib\\site-packages\\sklearn\\base.py:446: UserWarning: X does not have valid feature names, but StandardScaler was fitted with feature names\n",
      "  \"X does not have valid feature names, but\"\n",
      "C:\\Users\\nkele\\.conda\\envs\\tfgpu\\lib\\site-packages\\sklearn\\base.py:446: UserWarning: X does not have valid feature names, but StandardScaler was fitted with feature names\n",
      "  \"X does not have valid feature names, but\"\n",
      "C:\\Users\\nkele\\.conda\\envs\\tfgpu\\lib\\site-packages\\sklearn\\base.py:446: UserWarning: X does not have valid feature names, but StandardScaler was fitted with feature names\n",
      "  \"X does not have valid feature names, but\"\n",
      "C:\\Users\\nkele\\.conda\\envs\\tfgpu\\lib\\site-packages\\sklearn\\base.py:446: UserWarning: X does not have valid feature names, but StandardScaler was fitted with feature names\n",
      "  \"X does not have valid feature names, but\"\n"
     ]
    },
    {
     "name": "stdout",
     "output_type": "stream",
     "text": [
      "bicep_curls [1. 0. 0. 0. 0. 0.]\n",
      "bicep_curls [1. 0. 0. 0. 0. 0.]\n"
     ]
    },
    {
     "name": "stderr",
     "output_type": "stream",
     "text": [
      "C:\\Users\\nkele\\.conda\\envs\\tfgpu\\lib\\site-packages\\sklearn\\base.py:446: UserWarning: X does not have valid feature names, but StandardScaler was fitted with feature names\n",
      "  \"X does not have valid feature names, but\"\n",
      "C:\\Users\\nkele\\.conda\\envs\\tfgpu\\lib\\site-packages\\sklearn\\base.py:446: UserWarning: X does not have valid feature names, but StandardScaler was fitted with feature names\n",
      "  \"X does not have valid feature names, but\"\n",
      "C:\\Users\\nkele\\.conda\\envs\\tfgpu\\lib\\site-packages\\sklearn\\base.py:446: UserWarning: X does not have valid feature names, but StandardScaler was fitted with feature names\n",
      "  \"X does not have valid feature names, but\"\n",
      "C:\\Users\\nkele\\.conda\\envs\\tfgpu\\lib\\site-packages\\sklearn\\base.py:446: UserWarning: X does not have valid feature names, but StandardScaler was fitted with feature names\n",
      "  \"X does not have valid feature names, but\"\n"
     ]
    },
    {
     "name": "stdout",
     "output_type": "stream",
     "text": [
      "bicep_curls [1. 0. 0. 0. 0. 0.]\n",
      "bicep_curls [1. 0. 0. 0. 0. 0.]\n"
     ]
    },
    {
     "name": "stderr",
     "output_type": "stream",
     "text": [
      "C:\\Users\\nkele\\.conda\\envs\\tfgpu\\lib\\site-packages\\sklearn\\base.py:446: UserWarning: X does not have valid feature names, but StandardScaler was fitted with feature names\n",
      "  \"X does not have valid feature names, but\"\n",
      "C:\\Users\\nkele\\.conda\\envs\\tfgpu\\lib\\site-packages\\sklearn\\base.py:446: UserWarning: X does not have valid feature names, but StandardScaler was fitted with feature names\n",
      "  \"X does not have valid feature names, but\"\n",
      "C:\\Users\\nkele\\.conda\\envs\\tfgpu\\lib\\site-packages\\sklearn\\base.py:446: UserWarning: X does not have valid feature names, but StandardScaler was fitted with feature names\n",
      "  \"X does not have valid feature names, but\"\n"
     ]
    },
    {
     "name": "stdout",
     "output_type": "stream",
     "text": [
      "bicep_curls [1. 0. 0. 0. 0. 0.]\n",
      "bicep_curls [1. 0. 0. 0. 0. 0.]\n"
     ]
    },
    {
     "name": "stderr",
     "output_type": "stream",
     "text": [
      "C:\\Users\\nkele\\.conda\\envs\\tfgpu\\lib\\site-packages\\sklearn\\base.py:446: UserWarning: X does not have valid feature names, but StandardScaler was fitted with feature names\n",
      "  \"X does not have valid feature names, but\"\n",
      "C:\\Users\\nkele\\.conda\\envs\\tfgpu\\lib\\site-packages\\sklearn\\base.py:446: UserWarning: X does not have valid feature names, but StandardScaler was fitted with feature names\n",
      "  \"X does not have valid feature names, but\"\n",
      "C:\\Users\\nkele\\.conda\\envs\\tfgpu\\lib\\site-packages\\sklearn\\base.py:446: UserWarning: X does not have valid feature names, but StandardScaler was fitted with feature names\n",
      "  \"X does not have valid feature names, but\"\n",
      "C:\\Users\\nkele\\.conda\\envs\\tfgpu\\lib\\site-packages\\sklearn\\base.py:446: UserWarning: X does not have valid feature names, but StandardScaler was fitted with feature names\n",
      "  \"X does not have valid feature names, but\"\n",
      "C:\\Users\\nkele\\.conda\\envs\\tfgpu\\lib\\site-packages\\sklearn\\base.py:446: UserWarning: X does not have valid feature names, but StandardScaler was fitted with feature names\n",
      "  \"X does not have valid feature names, but\"\n"
     ]
    },
    {
     "name": "stdout",
     "output_type": "stream",
     "text": [
      "bicep_curls [1. 0. 0. 0. 0. 0.]\n",
      "bicep_curls [1. 0. 0. 0. 0. 0.]\n",
      "bicep_curls [1. 0. 0. 0. 0. 0.]\n"
     ]
    },
    {
     "name": "stderr",
     "output_type": "stream",
     "text": [
      "C:\\Users\\nkele\\.conda\\envs\\tfgpu\\lib\\site-packages\\sklearn\\base.py:446: UserWarning: X does not have valid feature names, but StandardScaler was fitted with feature names\n",
      "  \"X does not have valid feature names, but\"\n",
      "C:\\Users\\nkele\\.conda\\envs\\tfgpu\\lib\\site-packages\\sklearn\\base.py:446: UserWarning: X does not have valid feature names, but StandardScaler was fitted with feature names\n",
      "  \"X does not have valid feature names, but\"\n",
      "C:\\Users\\nkele\\.conda\\envs\\tfgpu\\lib\\site-packages\\sklearn\\base.py:446: UserWarning: X does not have valid feature names, but StandardScaler was fitted with feature names\n",
      "  \"X does not have valid feature names, but\"\n",
      "C:\\Users\\nkele\\.conda\\envs\\tfgpu\\lib\\site-packages\\sklearn\\base.py:446: UserWarning: X does not have valid feature names, but StandardScaler was fitted with feature names\n",
      "  \"X does not have valid feature names, but\"\n"
     ]
    },
    {
     "name": "stdout",
     "output_type": "stream",
     "text": [
      "bicep_curls [1. 0. 0. 0. 0. 0.]\n",
      "bicep_curls [1. 0. 0. 0. 0. 0.]\n"
     ]
    },
    {
     "name": "stderr",
     "output_type": "stream",
     "text": [
      "C:\\Users\\nkele\\.conda\\envs\\tfgpu\\lib\\site-packages\\sklearn\\base.py:446: UserWarning: X does not have valid feature names, but StandardScaler was fitted with feature names\n",
      "  \"X does not have valid feature names, but\"\n",
      "C:\\Users\\nkele\\.conda\\envs\\tfgpu\\lib\\site-packages\\sklearn\\base.py:446: UserWarning: X does not have valid feature names, but StandardScaler was fitted with feature names\n",
      "  \"X does not have valid feature names, but\"\n",
      "C:\\Users\\nkele\\.conda\\envs\\tfgpu\\lib\\site-packages\\sklearn\\base.py:446: UserWarning: X does not have valid feature names, but StandardScaler was fitted with feature names\n",
      "  \"X does not have valid feature names, but\"\n",
      "C:\\Users\\nkele\\.conda\\envs\\tfgpu\\lib\\site-packages\\sklearn\\base.py:446: UserWarning: X does not have valid feature names, but StandardScaler was fitted with feature names\n",
      "  \"X does not have valid feature names, but\"\n"
     ]
    },
    {
     "name": "stdout",
     "output_type": "stream",
     "text": [
      "bicep_curls [1. 0. 0. 0. 0. 0.]\n",
      "bicep_curls [1. 0. 0. 0. 0. 0.]\n"
     ]
    },
    {
     "name": "stderr",
     "output_type": "stream",
     "text": [
      "C:\\Users\\nkele\\.conda\\envs\\tfgpu\\lib\\site-packages\\sklearn\\base.py:446: UserWarning: X does not have valid feature names, but StandardScaler was fitted with feature names\n",
      "  \"X does not have valid feature names, but\"\n",
      "C:\\Users\\nkele\\.conda\\envs\\tfgpu\\lib\\site-packages\\sklearn\\base.py:446: UserWarning: X does not have valid feature names, but StandardScaler was fitted with feature names\n",
      "  \"X does not have valid feature names, but\"\n",
      "C:\\Users\\nkele\\.conda\\envs\\tfgpu\\lib\\site-packages\\sklearn\\base.py:446: UserWarning: X does not have valid feature names, but StandardScaler was fitted with feature names\n",
      "  \"X does not have valid feature names, but\"\n",
      "C:\\Users\\nkele\\.conda\\envs\\tfgpu\\lib\\site-packages\\sklearn\\base.py:446: UserWarning: X does not have valid feature names, but StandardScaler was fitted with feature names\n",
      "  \"X does not have valid feature names, but\"\n",
      "C:\\Users\\nkele\\.conda\\envs\\tfgpu\\lib\\site-packages\\sklearn\\base.py:446: UserWarning: X does not have valid feature names, but StandardScaler was fitted with feature names\n",
      "  \"X does not have valid feature names, but\"\n"
     ]
    },
    {
     "name": "stdout",
     "output_type": "stream",
     "text": [
      "bicep_curls [1. 0. 0. 0. 0. 0.]\n",
      "bicep_curls [1. 0. 0. 0. 0. 0.]\n"
     ]
    },
    {
     "name": "stderr",
     "output_type": "stream",
     "text": [
      "C:\\Users\\nkele\\.conda\\envs\\tfgpu\\lib\\site-packages\\sklearn\\base.py:446: UserWarning: X does not have valid feature names, but StandardScaler was fitted with feature names\n",
      "  \"X does not have valid feature names, but\"\n",
      "C:\\Users\\nkele\\.conda\\envs\\tfgpu\\lib\\site-packages\\sklearn\\base.py:446: UserWarning: X does not have valid feature names, but StandardScaler was fitted with feature names\n",
      "  \"X does not have valid feature names, but\"\n",
      "C:\\Users\\nkele\\.conda\\envs\\tfgpu\\lib\\site-packages\\sklearn\\base.py:446: UserWarning: X does not have valid feature names, but StandardScaler was fitted with feature names\n",
      "  \"X does not have valid feature names, but\"\n"
     ]
    },
    {
     "name": "stdout",
     "output_type": "stream",
     "text": [
      "bicep_curls [1. 0. 0. 0. 0. 0.]\n",
      "bicep_curls [1. 0. 0. 0. 0. 0.]\n"
     ]
    },
    {
     "name": "stderr",
     "output_type": "stream",
     "text": [
      "C:\\Users\\nkele\\.conda\\envs\\tfgpu\\lib\\site-packages\\sklearn\\base.py:446: UserWarning: X does not have valid feature names, but StandardScaler was fitted with feature names\n",
      "  \"X does not have valid feature names, but\"\n",
      "C:\\Users\\nkele\\.conda\\envs\\tfgpu\\lib\\site-packages\\sklearn\\base.py:446: UserWarning: X does not have valid feature names, but StandardScaler was fitted with feature names\n",
      "  \"X does not have valid feature names, but\"\n",
      "C:\\Users\\nkele\\.conda\\envs\\tfgpu\\lib\\site-packages\\sklearn\\base.py:446: UserWarning: X does not have valid feature names, but StandardScaler was fitted with feature names\n",
      "  \"X does not have valid feature names, but\"\n",
      "C:\\Users\\nkele\\.conda\\envs\\tfgpu\\lib\\site-packages\\sklearn\\base.py:446: UserWarning: X does not have valid feature names, but StandardScaler was fitted with feature names\n",
      "  \"X does not have valid feature names, but\"\n",
      "C:\\Users\\nkele\\.conda\\envs\\tfgpu\\lib\\site-packages\\sklearn\\base.py:446: UserWarning: X does not have valid feature names, but StandardScaler was fitted with feature names\n",
      "  \"X does not have valid feature names, but\"\n"
     ]
    },
    {
     "name": "stdout",
     "output_type": "stream",
     "text": [
      "bicep_curls [1. 0. 0. 0. 0. 0.]\n",
      "bicep_curls [1. 0. 0. 0. 0. 0.]\n"
     ]
    },
    {
     "name": "stderr",
     "output_type": "stream",
     "text": [
      "C:\\Users\\nkele\\.conda\\envs\\tfgpu\\lib\\site-packages\\sklearn\\base.py:446: UserWarning: X does not have valid feature names, but StandardScaler was fitted with feature names\n",
      "  \"X does not have valid feature names, but\"\n",
      "C:\\Users\\nkele\\.conda\\envs\\tfgpu\\lib\\site-packages\\sklearn\\base.py:446: UserWarning: X does not have valid feature names, but StandardScaler was fitted with feature names\n",
      "  \"X does not have valid feature names, but\"\n",
      "C:\\Users\\nkele\\.conda\\envs\\tfgpu\\lib\\site-packages\\sklearn\\base.py:446: UserWarning: X does not have valid feature names, but StandardScaler was fitted with feature names\n",
      "  \"X does not have valid feature names, but\"\n",
      "C:\\Users\\nkele\\.conda\\envs\\tfgpu\\lib\\site-packages\\sklearn\\base.py:446: UserWarning: X does not have valid feature names, but StandardScaler was fitted with feature names\n",
      "  \"X does not have valid feature names, but\"\n",
      "C:\\Users\\nkele\\.conda\\envs\\tfgpu\\lib\\site-packages\\sklearn\\base.py:446: UserWarning: X does not have valid feature names, but StandardScaler was fitted with feature names\n",
      "  \"X does not have valid feature names, but\"\n"
     ]
    },
    {
     "name": "stdout",
     "output_type": "stream",
     "text": [
      "bicep_curls [1. 0. 0. 0. 0. 0.]\n",
      "bicep_curls [1. 0. 0. 0. 0. 0.]\n"
     ]
    },
    {
     "name": "stderr",
     "output_type": "stream",
     "text": [
      "C:\\Users\\nkele\\.conda\\envs\\tfgpu\\lib\\site-packages\\sklearn\\base.py:446: UserWarning: X does not have valid feature names, but StandardScaler was fitted with feature names\n",
      "  \"X does not have valid feature names, but\"\n",
      "C:\\Users\\nkele\\.conda\\envs\\tfgpu\\lib\\site-packages\\sklearn\\base.py:446: UserWarning: X does not have valid feature names, but StandardScaler was fitted with feature names\n",
      "  \"X does not have valid feature names, but\"\n",
      "C:\\Users\\nkele\\.conda\\envs\\tfgpu\\lib\\site-packages\\sklearn\\base.py:446: UserWarning: X does not have valid feature names, but StandardScaler was fitted with feature names\n",
      "  \"X does not have valid feature names, but\"\n"
     ]
    },
    {
     "name": "stdout",
     "output_type": "stream",
     "text": [
      "bicep_curls [1. 0. 0. 0. 0. 0.]\n",
      "bicep_curls [1. 0. 0. 0. 0. 0.]\n"
     ]
    },
    {
     "name": "stderr",
     "output_type": "stream",
     "text": [
      "C:\\Users\\nkele\\.conda\\envs\\tfgpu\\lib\\site-packages\\sklearn\\base.py:446: UserWarning: X does not have valid feature names, but StandardScaler was fitted with feature names\n",
      "  \"X does not have valid feature names, but\"\n",
      "C:\\Users\\nkele\\.conda\\envs\\tfgpu\\lib\\site-packages\\sklearn\\base.py:446: UserWarning: X does not have valid feature names, but StandardScaler was fitted with feature names\n",
      "  \"X does not have valid feature names, but\"\n",
      "C:\\Users\\nkele\\.conda\\envs\\tfgpu\\lib\\site-packages\\sklearn\\base.py:446: UserWarning: X does not have valid feature names, but StandardScaler was fitted with feature names\n",
      "  \"X does not have valid feature names, but\"\n",
      "C:\\Users\\nkele\\.conda\\envs\\tfgpu\\lib\\site-packages\\sklearn\\base.py:446: UserWarning: X does not have valid feature names, but StandardScaler was fitted with feature names\n",
      "  \"X does not have valid feature names, but\"\n",
      "C:\\Users\\nkele\\.conda\\envs\\tfgpu\\lib\\site-packages\\sklearn\\base.py:446: UserWarning: X does not have valid feature names, but StandardScaler was fitted with feature names\n",
      "  \"X does not have valid feature names, but\"\n"
     ]
    },
    {
     "name": "stdout",
     "output_type": "stream",
     "text": [
      "bicep_curls [1. 0. 0. 0. 0. 0.]\n",
      "bicep_curls [1. 0. 0. 0. 0. 0.]\n"
     ]
    },
    {
     "name": "stderr",
     "output_type": "stream",
     "text": [
      "C:\\Users\\nkele\\.conda\\envs\\tfgpu\\lib\\site-packages\\sklearn\\base.py:446: UserWarning: X does not have valid feature names, but StandardScaler was fitted with feature names\n",
      "  \"X does not have valid feature names, but\"\n",
      "C:\\Users\\nkele\\.conda\\envs\\tfgpu\\lib\\site-packages\\sklearn\\base.py:446: UserWarning: X does not have valid feature names, but StandardScaler was fitted with feature names\n",
      "  \"X does not have valid feature names, but\"\n",
      "C:\\Users\\nkele\\.conda\\envs\\tfgpu\\lib\\site-packages\\sklearn\\base.py:446: UserWarning: X does not have valid feature names, but StandardScaler was fitted with feature names\n",
      "  \"X does not have valid feature names, but\"\n"
     ]
    },
    {
     "name": "stdout",
     "output_type": "stream",
     "text": [
      "bicep_curls [1. 0. 0. 0. 0. 0.]\n",
      "bicep_curls [1. 0. 0. 0. 0. 0.]\n"
     ]
    },
    {
     "name": "stderr",
     "output_type": "stream",
     "text": [
      "C:\\Users\\nkele\\.conda\\envs\\tfgpu\\lib\\site-packages\\sklearn\\base.py:446: UserWarning: X does not have valid feature names, but StandardScaler was fitted with feature names\n",
      "  \"X does not have valid feature names, but\"\n",
      "C:\\Users\\nkele\\.conda\\envs\\tfgpu\\lib\\site-packages\\sklearn\\base.py:446: UserWarning: X does not have valid feature names, but StandardScaler was fitted with feature names\n",
      "  \"X does not have valid feature names, but\"\n",
      "C:\\Users\\nkele\\.conda\\envs\\tfgpu\\lib\\site-packages\\sklearn\\base.py:446: UserWarning: X does not have valid feature names, but StandardScaler was fitted with feature names\n",
      "  \"X does not have valid feature names, but\"\n",
      "C:\\Users\\nkele\\.conda\\envs\\tfgpu\\lib\\site-packages\\sklearn\\base.py:446: UserWarning: X does not have valid feature names, but StandardScaler was fitted with feature names\n",
      "  \"X does not have valid feature names, but\"\n"
     ]
    },
    {
     "name": "stdout",
     "output_type": "stream",
     "text": [
      "bicep_curls [1. 0. 0. 0. 0. 0.]\n",
      "bicep_curls [1. 0. 0. 0. 0. 0.]\n"
     ]
    },
    {
     "name": "stderr",
     "output_type": "stream",
     "text": [
      "C:\\Users\\nkele\\.conda\\envs\\tfgpu\\lib\\site-packages\\sklearn\\base.py:446: UserWarning: X does not have valid feature names, but StandardScaler was fitted with feature names\n",
      "  \"X does not have valid feature names, but\"\n",
      "C:\\Users\\nkele\\.conda\\envs\\tfgpu\\lib\\site-packages\\sklearn\\base.py:446: UserWarning: X does not have valid feature names, but StandardScaler was fitted with feature names\n",
      "  \"X does not have valid feature names, but\"\n",
      "C:\\Users\\nkele\\.conda\\envs\\tfgpu\\lib\\site-packages\\sklearn\\base.py:446: UserWarning: X does not have valid feature names, but StandardScaler was fitted with feature names\n",
      "  \"X does not have valid feature names, but\"\n",
      "C:\\Users\\nkele\\.conda\\envs\\tfgpu\\lib\\site-packages\\sklearn\\base.py:446: UserWarning: X does not have valid feature names, but StandardScaler was fitted with feature names\n",
      "  \"X does not have valid feature names, but\"\n",
      "C:\\Users\\nkele\\.conda\\envs\\tfgpu\\lib\\site-packages\\sklearn\\base.py:446: UserWarning: X does not have valid feature names, but StandardScaler was fitted with feature names\n",
      "  \"X does not have valid feature names, but\"\n"
     ]
    },
    {
     "name": "stdout",
     "output_type": "stream",
     "text": [
      "bicep_curls [1. 0. 0. 0. 0. 0.]\n",
      "bicep_curls [1. 0. 0. 0. 0. 0.]\n"
     ]
    },
    {
     "name": "stderr",
     "output_type": "stream",
     "text": [
      "C:\\Users\\nkele\\.conda\\envs\\tfgpu\\lib\\site-packages\\sklearn\\base.py:446: UserWarning: X does not have valid feature names, but StandardScaler was fitted with feature names\n",
      "  \"X does not have valid feature names, but\"\n",
      "C:\\Users\\nkele\\.conda\\envs\\tfgpu\\lib\\site-packages\\sklearn\\base.py:446: UserWarning: X does not have valid feature names, but StandardScaler was fitted with feature names\n",
      "  \"X does not have valid feature names, but\"\n",
      "C:\\Users\\nkele\\.conda\\envs\\tfgpu\\lib\\site-packages\\sklearn\\base.py:446: UserWarning: X does not have valid feature names, but StandardScaler was fitted with feature names\n",
      "  \"X does not have valid feature names, but\"\n"
     ]
    },
    {
     "name": "stdout",
     "output_type": "stream",
     "text": [
      "bicep_curls [1. 0. 0. 0. 0. 0.]\n",
      "bicep_curls [1. 0. 0. 0. 0. 0.]\n"
     ]
    },
    {
     "name": "stderr",
     "output_type": "stream",
     "text": [
      "C:\\Users\\nkele\\.conda\\envs\\tfgpu\\lib\\site-packages\\sklearn\\base.py:446: UserWarning: X does not have valid feature names, but StandardScaler was fitted with feature names\n",
      "  \"X does not have valid feature names, but\"\n",
      "C:\\Users\\nkele\\.conda\\envs\\tfgpu\\lib\\site-packages\\sklearn\\base.py:446: UserWarning: X does not have valid feature names, but StandardScaler was fitted with feature names\n",
      "  \"X does not have valid feature names, but\"\n",
      "C:\\Users\\nkele\\.conda\\envs\\tfgpu\\lib\\site-packages\\sklearn\\base.py:446: UserWarning: X does not have valid feature names, but StandardScaler was fitted with feature names\n",
      "  \"X does not have valid feature names, but\"\n",
      "C:\\Users\\nkele\\.conda\\envs\\tfgpu\\lib\\site-packages\\sklearn\\base.py:446: UserWarning: X does not have valid feature names, but StandardScaler was fitted with feature names\n",
      "  \"X does not have valid feature names, but\"\n",
      "C:\\Users\\nkele\\.conda\\envs\\tfgpu\\lib\\site-packages\\sklearn\\base.py:446: UserWarning: X does not have valid feature names, but StandardScaler was fitted with feature names\n",
      "  \"X does not have valid feature names, but\"\n"
     ]
    },
    {
     "name": "stdout",
     "output_type": "stream",
     "text": [
      "bicep_curls [1. 0. 0. 0. 0. 0.]\n",
      "bicep_curls [1. 0. 0. 0. 0. 0.]\n"
     ]
    },
    {
     "name": "stderr",
     "output_type": "stream",
     "text": [
      "C:\\Users\\nkele\\.conda\\envs\\tfgpu\\lib\\site-packages\\sklearn\\base.py:446: UserWarning: X does not have valid feature names, but StandardScaler was fitted with feature names\n",
      "  \"X does not have valid feature names, but\"\n",
      "C:\\Users\\nkele\\.conda\\envs\\tfgpu\\lib\\site-packages\\sklearn\\base.py:446: UserWarning: X does not have valid feature names, but StandardScaler was fitted with feature names\n",
      "  \"X does not have valid feature names, but\"\n"
     ]
    },
    {
     "name": "stdout",
     "output_type": "stream",
     "text": [
      "bicep_curls [1. 0. 0. 0. 0. 0.]\n",
      "bicep_curls [1. 0. 0. 0. 0. 0.]\n",
      "bicep_curls [1. 0. 0. 0. 0. 0.]\n"
     ]
    },
    {
     "name": "stderr",
     "output_type": "stream",
     "text": [
      "C:\\Users\\nkele\\.conda\\envs\\tfgpu\\lib\\site-packages\\sklearn\\base.py:446: UserWarning: X does not have valid feature names, but StandardScaler was fitted with feature names\n",
      "  \"X does not have valid feature names, but\"\n",
      "C:\\Users\\nkele\\.conda\\envs\\tfgpu\\lib\\site-packages\\sklearn\\base.py:446: UserWarning: X does not have valid feature names, but StandardScaler was fitted with feature names\n",
      "  \"X does not have valid feature names, but\"\n"
     ]
    },
    {
     "ename": "error",
     "evalue": "OpenCV(4.5.4-dev) D:\\a\\opencv-python\\opencv-python\\opencv\\modules\\imgproc\\src\\color.cpp:182: error: (-215:Assertion failed) !_src.empty() in function 'cv::cvtColor'\n",
     "output_type": "error",
     "traceback": [
      "\u001b[1;31m---------------------------------------------------------------------------\u001b[0m",
      "\u001b[1;31merror\u001b[0m                                     Traceback (most recent call last)",
      "\u001b[1;32m<ipython-input-46-ff065bc94ba8>\u001b[0m in \u001b[0;36m<module>\u001b[1;34m\u001b[0m\n\u001b[0;32m     14\u001b[0m \u001b[1;33m\u001b[0m\u001b[0m\n\u001b[0;32m     15\u001b[0m         \u001b[1;31m# Recolor Feed\u001b[0m\u001b[1;33m\u001b[0m\u001b[1;33m\u001b[0m\u001b[1;33m\u001b[0m\u001b[0m\n\u001b[1;32m---> 16\u001b[1;33m         \u001b[0mimage\u001b[0m \u001b[1;33m=\u001b[0m \u001b[0mcv2\u001b[0m\u001b[1;33m.\u001b[0m\u001b[0mcvtColor\u001b[0m\u001b[1;33m(\u001b[0m\u001b[0mframe\u001b[0m\u001b[1;33m,\u001b[0m \u001b[0mcv2\u001b[0m\u001b[1;33m.\u001b[0m\u001b[0mCOLOR_BGR2RGB\u001b[0m\u001b[1;33m)\u001b[0m\u001b[1;33m\u001b[0m\u001b[1;33m\u001b[0m\u001b[0m\n\u001b[0m\u001b[0;32m     17\u001b[0m         \u001b[0mimage\u001b[0m\u001b[1;33m.\u001b[0m\u001b[0mflags\u001b[0m\u001b[1;33m.\u001b[0m\u001b[0mwriteable\u001b[0m \u001b[1;33m=\u001b[0m \u001b[1;32mFalse\u001b[0m\u001b[1;33m\u001b[0m\u001b[1;33m\u001b[0m\u001b[0m\n\u001b[0;32m     18\u001b[0m \u001b[1;33m\u001b[0m\u001b[0m\n",
      "\u001b[1;31merror\u001b[0m: OpenCV(4.5.4-dev) D:\\a\\opencv-python\\opencv-python\\opencv\\modules\\imgproc\\src\\color.cpp:182: error: (-215:Assertion failed) !_src.empty() in function 'cv::cvtColor'\n"
     ]
    }
   ],
   "source": [
    "cap = cv2.VideoCapture(\"BC2.mp4\")\n",
    "\n",
    "frame_width = int(cap.get(3))\n",
    "frame_height = int(cap.get(4))\n",
    "   \n",
    "size = (frame_width, frame_height)\n",
    "\n",
    "output = cv2.VideoWriter('bicep_curls_pred.avi', cv2.VideoWriter_fourcc(*'MJPG'), 10, size)\n",
    "# Initiate holistic model\n",
    "with mp_holistic.Holistic(min_detection_confidence=0.5, min_tracking_confidence=0.5) as holistic:\n",
    "    \n",
    "    while cap.isOpened():\n",
    "        ret, frame = cap.read()\n",
    "        \n",
    "        # Recolor Feed\n",
    "        image = cv2.cvtColor(frame, cv2.COLOR_BGR2RGB)\n",
    "        image.flags.writeable = False        \n",
    "        \n",
    "        # Make Detections\n",
    "        results = holistic.process(image)\n",
    "        # print(results.face_landmarks)\n",
    "        \n",
    "        # face_landmarks, pose_landmarks, left_hand_landmarks, right_hand_landmarks\n",
    "        \n",
    "        # Recolor image back to BGR for rendering\n",
    "        image.flags.writeable = True   \n",
    "        image = cv2.cvtColor(image, cv2.COLOR_RGB2BGR)\n",
    "        \n",
    "        # 1. Draw face landmarks\n",
    "#         mp_drawing.draw_landmarks(image, results.face_landmarks, mp_holistic.FACE_CONNECTIONS, \n",
    "#                                  mp_drawing.DrawingSpec(color=(80,110,10), thickness=1, circle_radius=1),\n",
    "#                                  mp_drawing.DrawingSpec(color=(80,256,121), thickness=1, circle_radius=1)\n",
    "#                                  )\n",
    "        \n",
    "        # 2. Right hand\n",
    "        mp_drawing.draw_landmarks(image, results.right_hand_landmarks, mp_holistic.HAND_CONNECTIONS, \n",
    "                                 mp_drawing.DrawingSpec(color=(80,22,10), thickness=2, circle_radius=4),\n",
    "                                 mp_drawing.DrawingSpec(color=(80,44,121), thickness=2, circle_radius=2)\n",
    "                                 )\n",
    "\n",
    "        # 3. Left Hand\n",
    "        mp_drawing.draw_landmarks(image, results.left_hand_landmarks, mp_holistic.HAND_CONNECTIONS, \n",
    "                                 mp_drawing.DrawingSpec(color=(121,22,76), thickness=2, circle_radius=4),\n",
    "                                 mp_drawing.DrawingSpec(color=(121,44,250), thickness=2, circle_radius=2)\n",
    "                                 )\n",
    "\n",
    "        # 4. Pose Detections\n",
    "        mp_drawing.draw_landmarks(image, results.pose_landmarks, mp_holistic.POSE_CONNECTIONS, \n",
    "                                 mp_drawing.DrawingSpec(color=(245,117,66), thickness=2, circle_radius=4),\n",
    "                                 mp_drawing.DrawingSpec(color=(245,66,230), thickness=2, circle_radius=2)\n",
    "                                 )\n",
    "        # Export coordinates\n",
    "        try:\n",
    "            # Extract Pose landmarks\n",
    "            pose = results.pose_landmarks.landmark\n",
    "            pose_row = list(np.array([[landmark.x, landmark.y, landmark.z, landmark.visibility] for landmark in pose]).flatten())\n",
    "            \n",
    "            # Extract Face landmarks\n",
    "#             face = results.face_landmarks.landmark\n",
    "#             face_row = list(np.array([[landmark.x, landmark.y, landmark.z, landmark.visibility] for landmark in face]).flatten())\n",
    "            \n",
    "            # Concate rows\n",
    "#             row = pose_row+face_row\n",
    "            row = pose_row\n",
    "            \n",
    "#             # Append class name \n",
    "#             row.insert(0, class_name)\n",
    "            \n",
    "#             # Export to CSV\n",
    "#             with open('coords.csv', mode='a', newline='') as f:\n",
    "#                 csv_writer = csv.writer(f, delimiter=',', quotechar='\"', quoting=csv.QUOTE_MINIMAL)\n",
    "#                 csv_writer.writerow(row) \n",
    "\n",
    "            # Make Detections\n",
    "            X = pd.DataFrame([row])\n",
    "            body_language_class = model.predict(X)[0]\n",
    "            body_language_prob = model.predict_proba(X)[0]\n",
    "            print(body_language_class, body_language_prob)\n",
    "            \n",
    "            # Grab ear coords\n",
    "            coords = tuple(np.multiply(\n",
    "                            np.array(\n",
    "                                (results.pose_landmarks.landmark[mp_holistic.PoseLandmark.LEFT_EAR].x, \n",
    "                                 results.pose_landmarks.landmark[mp_holistic.PoseLandmark.LEFT_EAR].y))\n",
    "                        , [640,480]).astype(int))\n",
    "            \n",
    "            cv2.rectangle(image, \n",
    "                          (coords[0], coords[1]+5), \n",
    "                          (coords[0]+len(body_language_class)*20, coords[1]-30), \n",
    "                          (245, 117, 16), -1)\n",
    "            \n",
    "            calcAngle = findCords(body_language_class, results.pose_landmarks.landmark)\n",
    "            \n",
    "            \n",
    "            cv2.putText(image, body_language_class, coords, \n",
    "                        cv2.FONT_HERSHEY_SIMPLEX, 1, (255, 255, 255), 2, cv2.LINE_AA)\n",
    "            cv2.putText(image, calcAngle, (95,200), \n",
    "                        cv2.FONT_HERSHEY_SIMPLEX, 1, (255, 255, 255), 2, cv2.LINE_AA)\n",
    "#             cv2.putText(image, str(calcAngle),\n",
    "#                        tuple(np.multiply(elbow,[640,480]).astype(int)),\n",
    "#                             cv2.FONT_HERSHEY_SIMPLEX,0.5,(255,255,255),2,cv2.LINE_AA\n",
    "#                        )\n",
    "#             print(coordinates)\n",
    "            \n",
    "            \n",
    "            # Get status box\n",
    "            cv2.rectangle(image, (0,0), (250, 60), (245, 117, 16), -1)\n",
    "            \n",
    "            # Display Class\n",
    "            cv2.putText(image, 'CLASS'\n",
    "                        , (95,12), cv2.FONT_HERSHEY_SIMPLEX, 0.5, (0, 0, 0), 1, cv2.LINE_AA)\n",
    "            cv2.putText(image, body_language_class.split(' ')[0]\n",
    "                        , (90,40), cv2.FONT_HERSHEY_SIMPLEX, 1, (255, 255, 255), 2, cv2.LINE_AA)\n",
    "            \n",
    "            # Display Probability\n",
    "            cv2.putText(image, 'PROB'\n",
    "                        , (15,12), cv2.FONT_HERSHEY_SIMPLEX, 0.5, (0, 0, 0), 1, cv2.LINE_AA)\n",
    "            cv2.putText(image, str(round(body_language_prob[np.argmax(body_language_prob)],2))\n",
    "                        , (10,40), cv2.FONT_HERSHEY_SIMPLEX, 1, (255, 255, 255), 2, cv2.LINE_AA)\n",
    "            \n",
    "        except:\n",
    "            pass\n",
    "                        \n",
    "        cv2.imshow('Raw Webcam Feed', image)\n",
    "        output.write(image)\n",
    "\n",
    "        if cv2.waitKey(1) & 0xFF == ord('q'):\n",
    "            break\n",
    "\n",
    "cap.release()\n",
    "output.release()\n",
    "print(\"The video was successfully saved\")\n",
    "cv2.destroyAllWindows()"
   ]
  },
  {
   "cell_type": "code",
   "execution_count": 47,
   "metadata": {},
   "outputs": [],
   "source": [
    "cv2.destroyAllWindows()"
   ]
  },
  {
   "cell_type": "code",
   "execution_count": 36,
   "metadata": {},
   "outputs": [
    {
     "data": {
      "text/plain": [
       "'bicep_curls'"
      ]
     },
     "execution_count": 36,
     "metadata": {},
     "output_type": "execute_result"
    }
   ],
   "source": [
    "body_language_class"
   ]
  },
  {
   "cell_type": "code",
   "execution_count": 42,
   "metadata": {},
   "outputs": [
    {
     "data": {
      "text/plain": [
       "'35.67443361173251'"
      ]
     },
     "execution_count": 42,
     "metadata": {},
     "output_type": "execute_result"
    }
   ],
   "source": [
    "calcAngle"
   ]
  },
  {
   "cell_type": "code",
   "execution_count": 43,
   "metadata": {},
   "outputs": [
    {
     "data": {
      "text/plain": [
       "\u001b[1;31mDocstring:\u001b[0m\n",
       "putText(img, text, org, fontFace, fontScale, color[, thickness[, lineType[, bottomLeftOrigin]]]) -> img\n",
       ".   @brief Draws a text string.\n",
       ".   \n",
       ".   The function cv::putText renders the specified text string in the image. Symbols that cannot be rendered\n",
       ".   using the specified font are replaced by question marks. See #getTextSize for a text rendering code\n",
       ".   example.\n",
       ".   \n",
       ".   @param img Image.\n",
       ".   @param text Text string to be drawn.\n",
       ".   @param org Bottom-left corner of the text string in the image.\n",
       ".   @param fontFace Font type, see #HersheyFonts.\n",
       ".   @param fontScale Font scale factor that is multiplied by the font-specific base size.\n",
       ".   @param color Text color.\n",
       ".   @param thickness Thickness of the lines used to draw a text.\n",
       ".   @param lineType Line type. See #LineTypes\n",
       ".   @param bottomLeftOrigin When true, the image data origin is at the bottom-left corner. Otherwise,\n",
       ".   it is at the top-left corner.\n",
       "\u001b[1;31mType:\u001b[0m      builtin_function_or_method\n"
      ]
     },
     "metadata": {},
     "output_type": "display_data"
    }
   ],
   "source": [
    "cv2.putText??"
   ]
  },
  {
   "cell_type": "code",
   "execution_count": 48,
   "metadata": {},
   "outputs": [
    {
     "ename": "NameError",
     "evalue": "name 'sklearn' is not defined",
     "output_type": "error",
     "traceback": [
      "\u001b[1;31m---------------------------------------------------------------------------\u001b[0m",
      "\u001b[1;31mNameError\u001b[0m                                 Traceback (most recent call last)",
      "\u001b[1;32m<ipython-input-48-2c9e2e7ba1f4>\u001b[0m in \u001b[0;36m<module>\u001b[1;34m\u001b[0m\n\u001b[1;32m----> 1\u001b[1;33m \u001b[0msklearn\u001b[0m\u001b[1;33m.\u001b[0m\u001b[0m__version__\u001b[0m\u001b[1;33m\u001b[0m\u001b[1;33m\u001b[0m\u001b[0m\n\u001b[0m",
      "\u001b[1;31mNameError\u001b[0m: name 'sklearn' is not defined"
     ]
    }
   ],
   "source": [
    "sklearn.__version__"
   ]
  },
  {
   "cell_type": "code",
   "execution_count": null,
   "metadata": {},
   "outputs": [],
   "source": []
  }
 ],
 "metadata": {
  "kernelspec": {
   "display_name": "tfgpu",
   "language": "python",
   "name": "tfgpu"
  },
  "language_info": {
   "codemirror_mode": {
    "name": "ipython",
    "version": 3
   },
   "file_extension": ".py",
   "mimetype": "text/x-python",
   "name": "python",
   "nbconvert_exporter": "python",
   "pygments_lexer": "ipython3",
   "version": "3.7.11"
  }
 },
 "nbformat": 4,
 "nbformat_minor": 4
}
